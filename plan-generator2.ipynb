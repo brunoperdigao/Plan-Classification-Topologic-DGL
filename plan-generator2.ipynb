{
 "cells": [
  {
   "cell_type": "code",
   "execution_count": 1,
   "id": "39ebbdcd-2fd1-4418-b87e-00ed0abc24b7",
   "metadata": {},
   "outputs": [
    {
     "name": "stdout",
     "output_type": "stream",
     "text": [
      "The history saving thread hit an unexpected error (OperationalError('attempt to write a readonly database')).History will not be written to the database.\n"
     ]
    }
   ],
   "source": [
    "from topologicpy.Vertex import Vertex\n",
    "from topologicpy.Face import Face\n",
    "from topologicpy.Cell import Cell\n",
    "from topologicpy.CellComplex import CellComplex\n",
    "from topologicpy.Cluster import Cluster\n",
    "from topologicpy.Topology import Topology\n",
    "from topologicpy.Dictionary import Dictionary\n",
    "from topologicpy.Color import Color\n",
    "from topologicpy.Plotly import Plotly\n",
    "from topologicpy.Graph import Graph\n",
    "from topologicpy.Vector import Vector\n",
    "\n",
    "from topologicpy.Helper import Helper"
   ]
  },
  {
   "cell_type": "code",
   "execution_count": 2,
   "id": "b3774401-b249-49f4-b0cf-cab06beebccb",
   "metadata": {},
   "outputs": [],
   "source": [
    "def getSelectors(cell, keys, values):\n",
    "    if not cell:\n",
    "        return None\n",
    "    # selectors = []\n",
    "    s = Topology.InternalVertex(cell)\n",
    "    d = Dictionary.ByKeysValues(keys, values)\n",
    "    s = Topology.SetDictionary(s, d)\n",
    "    # selectors.append(s)\n",
    "    return s\n",
    "\n",
    "def createPrism(dimension, location):\n",
    "    w, l, h = dimension\n",
    "    x, y, z = location\n",
    "    prism = Cell.Prism(width=w, length=l, height=h, placement=\"lowerleft\")\n",
    "    prism = Topology.Translate(prism, x, y, z)\n",
    "    return prism\n",
    "\n",
    "def createAperture(room1, room2, is_full=True):\n",
    "    names = [room1, room2]\n",
    "    names_sel = []\n",
    "    for sel in selectors:\n",
    "        if sel.GetDictionary().ValueAtKey('title').StringValue() == room1:\n",
    "            names_sel.append(sel)\n",
    "    for sel in selectors:\n",
    "        if sel.GetDictionary().ValueAtKey('title').StringValue() == room2:\n",
    "            names_sel.append(sel)\n",
    "    names_sel\n",
    "\n",
    "    if not names_sel:\n",
    "        return\n",
    "\n",
    "    sub1 = Topology.SelectSubTopology(house, names_sel[0], subTopologyType=\"cell\")\n",
    "    sub2 = Topology.SelectSubTopology(house, names_sel[1], subTopologyType=\"cell\")\n",
    "    # print(f'{room1} has {len(Cell.Faces(sub1))} faces   |   {room2} has {len(Cell.Faces(sub2))} faces')\n",
    "    shared = Topology.SharedFaces(sub1, sub2)\n",
    "    aperture = Topology.Copy(shared[0])\n",
    "    aperture = shared[0]\n",
    "    # print(aperture)\n",
    "\n",
    "    if is_full:\n",
    "        return aperture\n",
    "    else:\n",
    "        bottom_edge = Face.Edges(aperture)[0]\n",
    "        for edge in Face.Edges(aperture):\n",
    "            if Topology.Centroid(edge).Z() < Topology.Centroid(bottom_edge).Z():\n",
    "                bottom_edge = edge\n",
    "            \n",
    "        return Topology.Scale(aperture, x=0.5, z=0.8, origin=Topology.Centroid(bottom_edge))\n",
    "\n",
    "def getCellFloorArea(cell):\n",
    "    bottom_face = Cell.Faces(cell)[0]\n",
    "    for face in Topology.SubTopologies(cell, subTopologyType=\"face\"):\n",
    "        if Topology.Centroid(face).Z() < Topology.Centroid(bottom_face).Z():\n",
    "            bottom_face = face\n",
    "        return Face.Area(bottom_face)"
   ]
  },
  {
   "cell_type": "code",
   "execution_count": 3,
   "id": "d116fcc3-161e-499a-88ab-37a1a530cbaf",
   "metadata": {},
   "outputs": [],
   "source": [
    "class Space():\n",
    "    def __init__(self, name,label, dimension, location):\n",
    "        self.name = name\n",
    "        self.label = label\n",
    "        self.dim = dimension\n",
    "        self.w = dimension[0]\n",
    "        self.l = dimension[1]\n",
    "        self.h = dimension[2]\n",
    "        self.loc = location\n",
    "        self.x = location[0]\n",
    "        self.y = location[1]\n",
    "        self.z = location[2]\n",
    "        self.topo = createPrism(dimension, location)\n",
    "        self.selector = getSelectors(self.topo, [\"label\", \"title\", \"area\", \"volume\"], [self.label, self.name, getCellFloorArea(self.topo), Cell.Volume(self.topo)])\n",
    "        "
   ]
  },
  {
   "cell_type": "code",
   "execution_count": 4,
   "id": "98dcee47-6da4-4338-ab59-3042fb7802aa",
   "metadata": {},
   "outputs": [],
   "source": [
    "houses = []"
   ]
  },
  {
   "cell_type": "code",
   "execution_count": 28,
   "id": "7430b9ba-2924-4f51-850c-fbf4ca793200",
   "metadata": {},
   "outputs": [],
   "source": [
    "general_width = 6.1\n",
    "general_height = 3.2\n",
    "corridor_width = 1.1\n",
    "\n",
    "has_patio = False\n",
    "has_bedroom1 = True\n",
    "has_bedroom2 = False\n",
    "\n"
   ]
  },
  {
   "cell_type": "code",
   "execution_count": 29,
   "id": "bc27318d-007d-4728-87df-01b51f1d5f30",
   "metadata": {},
   "outputs": [],
   "source": [
    "selectors = []\n",
    "cells = []\n",
    "apertures = []\n",
    "keys = [\"label\", \"title\", \"area\", \"volume\"]\n",
    "\n",
    "parking = Space(\n",
    "    \"Parking\",\n",
    "    0,\n",
    "    [general_width, 5.0, general_height],\n",
    "    [0, 0, 0]\n",
    ")\n",
    "\n",
    "living = Space(\n",
    "    \"Living Room\",\n",
    "    1,\n",
    "    [general_width, 4.5, general_height],\n",
    "    [0,parking.l,0]\n",
    ")\n",
    "\n",
    "house = Topology.Boolean(parking.topo, living.topo, operation=\"merge\")\n",
    "\n",
    "stairs = Space(\n",
    "    \"Stairs\",\n",
    "    2,\n",
    "    [1.5, 5.0, general_height*2],\n",
    "    [0,(living.y + living.l),0]\n",
    ")\n",
    "\n",
    "\n",
    "\n",
    "cells.extend([\n",
    "    parking.topo,\n",
    "    living.topo,\n",
    "    stairs.topo,  \n",
    "])\n",
    "\n",
    "selectors.extend([\n",
    "    parking.selector,\n",
    "    living.selector,\n",
    "    stairs.selector,\n",
    "])\n",
    "\n",
    "if has_patio:\n",
    "    corridor1 = Space(\n",
    "        \"Corridor 1\",\n",
    "        3,\n",
    "        [corridor_width, stairs.l, general_height],\n",
    "        [stairs.w,(living.y + living.l),0]\n",
    "    )\n",
    "    \n",
    "    wc1 = Space(\n",
    "        \"WC 1\",\n",
    "        4,\n",
    "        [stairs.w, 1.2, general_height],\n",
    "        [0, (stairs.y + stairs.l - 1.2),0]\n",
    "    )\n",
    "\n",
    "    wc2 = Space(\n",
    "        \"WC 2\",\n",
    "        4,\n",
    "        [stairs.w, 1.2, general_height],\n",
    "        [0, (wc1.y + wc1.l),0]\n",
    "    )\n",
    "\n",
    "    service = Space(\n",
    "        \"Service\",\n",
    "        5,\n",
    "        [stairs.w, 3.0, general_height],\n",
    "        [0, (wc2.y + wc2.l),0]\n",
    "    )\n",
    "\n",
    "    patio = Space(\n",
    "        \"Patio\",\n",
    "        6,\n",
    "        [(general_width - stairs.w - corridor1.w), stairs.l, general_height*2],\n",
    "        [(corridor1.x + corridor1.w), (living.y + living.l),0]\n",
    "    )\n",
    "    \n",
    "    kitchen = Space(\n",
    "        \"Kitchen\",\n",
    "        7,\n",
    "        [1.8, (wc2.l + service.l), general_height],\n",
    "        [(general_width - 1.8), (patio.y + patio.l),0]\n",
    "    )\n",
    "\n",
    "    dining = Space(\n",
    "        \"Dining Room\",\n",
    "        8,\n",
    "        [(general_width - wc1.w - kitchen.w), kitchen.l, general_height],\n",
    "        [(wc1.x + wc1.w), (patio.y + patio.l),0]\n",
    "    )\n",
    "\n",
    "    backyard = Space(\n",
    "        \"Backyard\",\n",
    "        9,\n",
    "        [general_width, 3.6, general_height],\n",
    "        [0, (kitchen.y + kitchen.l),0]\n",
    "    )    \n",
    "\n",
    "    cells.extend([\n",
    "        corridor1.topo,\n",
    "        wc1.topo,\n",
    "        wc2.topo,\n",
    "        service.topo,\n",
    "        patio.topo,\n",
    "        kitchen.topo,\n",
    "        dining.topo,\n",
    "        backyard.topo,\n",
    "    ])\n",
    "\n",
    "    selectors.extend([\n",
    "        corridor1.selector,\n",
    "        wc1.selector,\n",
    "        wc2.selector,\n",
    "        service.selector,\n",
    "        patio.selector,\n",
    "        kitchen.selector,\n",
    "        dining.selector,\n",
    "        backyard.selector\n",
    "    ])\n",
    "\n",
    "else:\n",
    "    wc1 = Space(\n",
    "        \"WC 1\",\n",
    "        4,\n",
    "        [stairs.w, 1.2, general_height],\n",
    "        [0, (stairs.y + stairs.l - 1.2),0]\n",
    "    )\n",
    "\n",
    "    service = Space(\n",
    "        \"Service\",\n",
    "        5,\n",
    "        [stairs.w, 3.0, general_height],\n",
    "        [0, (wc1.y + wc1.l),0]\n",
    "    )\n",
    "    \n",
    "    kitchen = Space(\n",
    "        \"Kitchen\",\n",
    "        7,\n",
    "        [1.8, stairs.l, general_height],\n",
    "        [(general_width - 1.8), (living.y + living.l),0]\n",
    "    )\n",
    "\n",
    "    dining = Space(\n",
    "        \"Dining Room\",\n",
    "        8,\n",
    "        [(general_width - wc1.w - kitchen.w), kitchen.l, general_height],\n",
    "        [(wc1.x + wc1.w), (living.y + living.l),0]\n",
    "    )\n",
    "\n",
    "    backyard = Space(\n",
    "        \"Backyard\",\n",
    "        9,\n",
    "        [general_width, service.l, general_height],\n",
    "        [0, (kitchen.y + kitchen.l),0]\n",
    "    )    \n",
    "\n",
    "    cells.extend([\n",
    "        wc1.topo,\n",
    "        service.topo,\n",
    "        kitchen.topo,\n",
    "        dining.topo,\n",
    "        backyard.topo,\n",
    "    ])\n",
    "\n",
    "    selectors.extend([\n",
    "        wc1.selector,\n",
    "        service.selector,\n",
    "        kitchen.selector,\n",
    "        dining.selector,\n",
    "        backyard.selector\n",
    "    ])\n",
    "\n",
    "corridor2 = Space(\n",
    "    \"Corridor 2\",\n",
    "    3,\n",
    "    [corridor_width, stairs.l, general_height],\n",
    "    [stairs.w, (living.y + living.l), general_height]\n",
    ")\n",
    "\n",
    "cells.extend([corridor2.topo])\n",
    "selectors.extend([corridor2.selector])\n",
    "\n",
    "if has_bedroom1:\n",
    "    wc3 = Space(\n",
    "        \"WC 3\",\n",
    "        4,\n",
    "        [stairs.w, living.l, general_height],\n",
    "        [0, (parking.y + parking.l), general_height]\n",
    "    )\n",
    "    \n",
    "    bedroom1 = Space(\n",
    "        \"Bedroom 1\",\n",
    "        10,\n",
    "        [(general_width - wc3.w), living.l, general_height],\n",
    "        [wc3.w, (parking.y + parking.l), general_height]\n",
    "    )\n",
    "\n",
    "    cells.extend([\n",
    "        wc3.topo,\n",
    "        bedroom1.topo,\n",
    "    ])\n",
    "\n",
    "    selectors.extend([\n",
    "        wc3.selector,\n",
    "        bedroom1.selector,\n",
    "    ])\n",
    "    \n",
    "if has_bedroom2:\n",
    "    if has_patio:\n",
    "        wc4 = Space(\n",
    "            \"WC 4\",\n",
    "            4,\n",
    "            [stairs.w, dining.l, general_height],\n",
    "            [0, (stairs.y + stairs.l), general_height]\n",
    "        )\n",
    "        \n",
    "        bedroom2 = Space(\n",
    "            \"Bedroom 2\",\n",
    "            10,\n",
    "            [general_width - wc4.w, dining.l, general_height],\n",
    "            [wc4.w, (patio.y + patio.l), general_height]\n",
    "        )\n",
    "\n",
    "        cells.extend([\n",
    "            wc4.topo,\n",
    "            bedroom2.topo,\n",
    "        ])\n",
    "    \n",
    "        selectors.extend([\n",
    "            wc4.selector,\n",
    "            bedroom2.selector,\n",
    "        ])\n",
    "\n",
    "    else:\n",
    "        bedroom2 = Space(\n",
    "            \"Bedroom 2\",\n",
    "            10,\n",
    "            [(general_width - stairs.w - corridor2.w), dining.l, general_height],\n",
    "            [(corridor2.x + corridor2.w), (living.y + living.l), general_height]\n",
    "        )\n",
    "\n",
    "        cells.extend([\n",
    "            bedroom2.topo,\n",
    "        ])\n",
    "    \n",
    "        selectors.extend([\n",
    "            bedroom2.selector,\n",
    "        ])\n",
    "        \n",
    "    \n",
    "\n",
    "for cell in cells:\n",
    "    house = Topology.Boolean(house, cell, operation=\"merge\")"
   ]
  },
  {
   "cell_type": "code",
   "execution_count": 30,
   "id": "3fc8d550-159e-45af-a632-3430ccaf4248",
   "metadata": {},
   "outputs": [],
   "source": [
    "aperture = createAperture(\"Parking\", \"Living Room\", False)\n",
    "apertures.append(aperture)\n",
    "\n",
    "aperture = createAperture(\"Living Room\", \"Stairs\", True)\n",
    "apertures.append(aperture)\n",
    "\n",
    "if has_patio:\n",
    "    aperture = createAperture(\"Living Room\", \"Corridor 1\", True)\n",
    "    apertures.append(aperture)\n",
    "    \n",
    "    aperture = createAperture(\"Living Room\", \"Patio\", False)\n",
    "    apertures.append(aperture)\n",
    "\n",
    "    aperture = createAperture(\"Patio\", \"Dining Room\", False)\n",
    "    apertures.append(aperture)\n",
    "\n",
    "    aperture = createAperture(\"Patio\", \"Kitchen\", False)\n",
    "    apertures.append(aperture)\n",
    "\n",
    "    aperture = createAperture(\"Dining Room\", \"Kitchen\", True)\n",
    "    apertures.append(aperture)\n",
    "\n",
    "    aperture = createAperture(\"Corridor 1\", \"WC 1\", False)\n",
    "    apertures.append(aperture)\n",
    "    \n",
    "    aperture = createAperture(\"Corridor 1\", \"Dining Room\", True)\n",
    "    apertures.append(aperture)\n",
    "\n",
    "    aperture = createAperture(\"WC 2\", \"Service\", False)\n",
    "    apertures.append(aperture)\n",
    "\n",
    "    aperture = createAperture(\"Service\", \"Backyard\", False)\n",
    "    apertures.append(aperture)\n",
    "\n",
    "    aperture = createAperture(\"Kitchen\", \"Backyard\", False)\n",
    "    apertures.append(aperture)\n",
    "\n",
    "    aperture = createAperture(\"Dining Room\", \"Backyard\", False)\n",
    "    apertures.append(aperture)\n",
    "\n",
    "else:\n",
    "    aperture = createAperture(\"Living Room\", \"Dining Room\", False)\n",
    "    apertures.append(aperture)\n",
    "\n",
    "    aperture = createAperture(\"Living Room\", \"Kitchen\", False)\n",
    "    apertures.append(aperture)\n",
    "\n",
    "    aperture = createAperture(\"Dining Room\", \"Kitchen\", True)\n",
    "    apertures.append(aperture)\n",
    "\n",
    "    aperture = createAperture(\"Dining Room\", \"WC 1\", False)\n",
    "    apertures.append(aperture)\n",
    "\n",
    "    aperture = createAperture(\"Service\", \"Backyard\", False)\n",
    "    apertures.append(aperture)\n",
    "\n",
    "    aperture = createAperture(\"Kitchen\", \"Backyard\", False)\n",
    "    apertures.append(aperture)\n",
    "\n",
    "    aperture = createAperture(\"Dining Room\", \"Backyard\", False)\n",
    "    apertures.append(aperture)\n",
    "\n",
    "aperture = createAperture(\"Stairs\", \"Corridor 2\", False)\n",
    "apertures.append(aperture)\n",
    "\n",
    "if has_bedroom1:\n",
    "    aperture = createAperture(\"Corridor 2\", \"Bedroom 1\", False)\n",
    "    apertures.append(aperture)\n",
    "\n",
    "    aperture = createAperture(\"Bedroom 1\", \"WC 3\", False)\n",
    "    apertures.append(aperture)\n",
    "\n",
    "if has_bedroom2:\n",
    "    aperture = createAperture(\"Corridor 2\", \"Bedroom 2\", False)\n",
    "    apertures.append(aperture)\n",
    "    if has_patio:        \n",
    "        aperture = createAperture(\"Bedroom 2\", \"WC 4\", False)\n",
    "        apertures.append(aperture)\n",
    "        \n",
    "\n",
    "\n"
   ]
  },
  {
   "cell_type": "code",
   "execution_count": 31,
   "id": "dc0f7bd1-5e0a-4748-b068-7c2c3f3d516a",
   "metadata": {},
   "outputs": [
    {
     "name": "stdout",
     "output_type": "stream",
     "text": [
      "Transfering Dictionaries to Cells\n"
     ]
    }
   ],
   "source": [
    "selectors = Helper.Flatten(selectors)\n",
    "cells = Helper.Flatten(cells)\n",
    "house = CellComplex.ByCells(cells)\n",
    "house = Topology.TransferDictionariesBySelectors(house, selectors, tranCells=True)\n",
    "house = Topology.AddApertures(house, apertures, subTopologyType=\"face\", exclusive=True)\n"
   ]
  },
  {
   "cell_type": "code",
   "execution_count": 12,
   "id": "4318d712-1f34-49b0-9494-2df5cba695e1",
   "metadata": {},
   "outputs": [
    {
     "data": {
      "text/plain": [
       "[<topologic_core.CellComplex at 0x7f36f276d770>]"
      ]
     },
     "execution_count": 12,
     "metadata": {},
     "output_type": "execute_result"
    }
   ],
   "source": [
    "houses.append(house)\n",
    "houses"
   ]
  },
  {
   "cell_type": "code",
   "execution_count": 32,
   "id": "1464bbee-6104-4539-be90-4dd2d99347a4",
   "metadata": {},
   "outputs": [
    {
     "data": {
      "application/vnd.plotly.v1+json": {
       "config": {
        "plotlyServerURL": "https://plot.ly"
       },
       "data": [
        {
         "hoverinfo": "text",
         "legendgroup": "4",
         "legendrank": 4,
         "marker": {
          "color": [
           5,
           4,
           4,
           0,
           2,
           3,
           9,
           10,
           7,
           1,
           8
          ],
          "colorscale": [
           [
            0,
            "#440154"
           ],
           [
            0.1111111111111111,
            "#482878"
           ],
           [
            0.2222222222222222,
            "#3e4989"
           ],
           [
            0.3333333333333333,
            "#31688e"
           ],
           [
            0.4444444444444444,
            "#26828e"
           ],
           [
            0.5555555555555556,
            "#1f9e89"
           ],
           [
            0.6666666666666666,
            "#35b779"
           ],
           [
            0.7777777777777778,
            "#6ece58"
           ],
           [
            0.8888888888888888,
            "#b5de2b"
           ],
           [
            1,
            "#fde725"
           ]
          ],
          "line": {
           "color": "black",
           "width": 0.5
          },
          "size": 4,
          "symbol": "circle"
         },
         "mode": "markers",
         "name": "Graph Vertices",
         "showlegend": false,
         "text": [
          "Service (5)",
          "WC 1 (4)",
          "WC 3 (4)",
          "Parking (0)",
          "Stairs (2)",
          "Corridor 2 (3)",
          "Backyard (9)",
          "Bedroom 1 (10)",
          "Kitchen (7)",
          "Living Room (1)",
          "Dining Room (8)"
         ],
         "type": "scatter3d",
         "x": [
          0.75,
          0.75,
          0.75,
          3.05,
          0.75,
          2.05,
          3.8,
          3.8,
          5.2,
          3.05,
          2.9
         ],
         "y": [
          16,
          13.9,
          7.25,
          2.5,
          11.740909,
          12,
          16,
          7.25,
          12,
          7.25,
          12
         ],
         "z": [
          1.6,
          1.6,
          4.8,
          1.6,
          3.418182,
          4.8,
          1.6,
          4.8,
          1.6,
          1.6,
          1.6
         ]
        },
        {
         "hoverinfo": "text",
         "legendgroup": "5",
         "legendrank": 5,
         "line": {
          "color": "black",
          "width": 1
         },
         "mode": "lines",
         "name": "Graph Edges",
         "showlegend": false,
         "text": "",
         "type": "scatter3d",
         "x": [
          3.8,
          0.75,
          null,
          2.9,
          0.75,
          null,
          3.8,
          0.75,
          null,
          3.05,
          3.05,
          null,
          0.75,
          2.05,
          null,
          3.05,
          0.75,
          null,
          3.8,
          2.05,
          null,
          5.2,
          3.8,
          null,
          2.9,
          3.8,
          null,
          2.9,
          5.2,
          null,
          3.05,
          5.2,
          null,
          3.05,
          2.9,
          null
         ],
         "y": [
          16,
          16,
          null,
          12,
          13.9,
          null,
          7.25,
          7.25,
          null,
          2.5,
          7.25,
          null,
          11.740909,
          12,
          null,
          7.25,
          11.740909,
          null,
          7.25,
          12,
          null,
          12,
          16,
          null,
          12,
          16,
          null,
          12,
          12,
          null,
          7.25,
          12,
          null,
          7.25,
          12,
          null
         ],
         "z": [
          1.6,
          1.6,
          null,
          1.6,
          1.6,
          null,
          4.8,
          4.8,
          null,
          1.6,
          1.6,
          null,
          3.418182,
          4.8,
          null,
          1.6,
          3.418182,
          null,
          4.8,
          4.8,
          null,
          1.6,
          1.6,
          null,
          1.6,
          1.6,
          null,
          1.6,
          1.6,
          null,
          1.6,
          1.6,
          null,
          1.6,
          1.6,
          null
         ]
        },
        {
         "hoverinfo": "text",
         "hovertext": "",
         "legendgroup": "1",
         "legendrank": 1,
         "marker": {
          "color": "lightgrey",
          "size": 1.1
         },
         "mode": "markers",
         "name": "Topology Vertices",
         "showlegend": false,
         "text": "",
         "type": "scatter3d",
         "x": [
          0,
          6.1,
          6.1,
          0,
          0,
          6.1,
          1.5,
          6.1,
          0,
          0,
          1.5,
          4.3,
          6.1,
          1.5,
          0,
          4.3,
          2.6,
          6.1,
          0,
          1.5,
          0,
          0,
          0,
          0,
          1.5,
          1.5,
          1.5,
          1.5,
          1.5,
          4.3,
          4.3,
          2.6,
          6.1,
          6.1,
          2.6,
          6.1,
          6.1,
          1.5,
          0,
          0,
          2.6,
          1.5,
          6.1,
          1.5,
          6.1,
          0,
          0
         ],
         "y": [
          5,
          5,
          0,
          0,
          5,
          5,
          5,
          0,
          0,
          9.5,
          9.5,
          9.5,
          9.5,
          9.5,
          9.5,
          9.5,
          9.5,
          9.5,
          13.3,
          13.3,
          13.3,
          14.5,
          14.5,
          9.5,
          13.3,
          14.5,
          14.5,
          9.5,
          14.5,
          14.5,
          14.5,
          14.5,
          14.5,
          14.5,
          9.5,
          9.5,
          5,
          5,
          5,
          14.5,
          14.5,
          17.5,
          17.5,
          17.5,
          17.5,
          17.5,
          17.5
         ],
         "z": [
          0,
          0,
          0,
          0,
          3.2,
          3.2,
          3.2,
          3.2,
          3.2,
          0,
          0,
          0,
          0,
          3.2,
          3.2,
          3.2,
          3.2,
          3.2,
          0,
          0,
          3.2,
          3.2,
          6.4,
          6.4,
          3.2,
          3.2,
          6.4,
          6.4,
          0,
          0,
          3.2,
          3.2,
          0,
          3.2,
          6.4,
          6.4,
          6.4,
          6.4,
          6.4,
          0,
          6.4,
          0,
          0,
          3.2,
          3.2,
          0,
          3.2
         ]
        },
        {
         "hoverinfo": "text",
         "legendgroup": "2",
         "legendrank": 2,
         "line": {
          "color": "lightgrey",
          "width": 1
         },
         "marker": {
          "size": 0
         },
         "mode": "lines",
         "name": "Topology Edges",
         "showlegend": false,
         "text": "",
         "type": "scatter3d",
         "x": [
          0,
          6.1,
          null,
          6.1,
          6.1,
          null,
          6.1,
          0,
          null,
          0,
          0,
          null,
          0,
          0,
          null,
          1.5,
          6.1,
          null,
          0,
          1.5,
          null,
          6.1,
          6.1,
          null,
          6.1,
          6.1,
          null,
          6.1,
          6.1,
          null,
          6.1,
          0,
          null,
          0,
          0,
          null,
          0,
          0,
          null,
          0,
          1.5,
          null,
          1.5,
          4.3,
          null,
          4.3,
          6.1,
          null,
          6.1,
          6.1,
          null,
          0,
          0,
          null,
          1.5,
          1.5,
          null,
          0,
          1.5,
          null,
          0,
          0,
          null,
          4.3,
          4.3,
          null,
          2.6,
          4.3,
          null,
          1.5,
          2.6,
          null,
          6.1,
          6.1,
          null,
          4.3,
          6.1,
          null,
          6.1,
          6.1,
          null,
          0,
          0,
          null,
          1.5,
          1.5,
          null,
          0,
          0,
          null,
          1.5,
          1.5,
          null,
          0,
          1.5,
          null,
          0,
          0,
          null,
          0,
          0,
          null,
          0,
          0,
          null,
          0,
          0,
          null,
          0,
          0,
          null,
          1.5,
          1.5,
          null,
          1.5,
          1.5,
          null,
          0,
          1.5,
          null,
          1.5,
          1.5,
          null,
          0,
          1.5,
          null,
          1.5,
          1.5,
          null,
          0,
          1.5,
          null,
          0,
          1.5,
          null,
          1.5,
          1.5,
          null,
          1.5,
          1.5,
          null,
          1.5,
          4.3,
          null,
          4.3,
          4.3,
          null,
          1.5,
          1.5,
          null,
          1.5,
          1.5,
          null,
          2.6,
          4.3,
          null,
          1.5,
          2.6,
          null,
          4.3,
          4.3,
          null,
          4.3,
          4.3,
          null,
          2.6,
          2.6,
          null,
          4.3,
          6.1,
          null,
          6.1,
          6.1,
          null,
          4.3,
          6.1,
          null,
          6.1,
          6.1,
          null,
          6.1,
          6.1,
          null,
          2.6,
          2.6,
          null,
          1.5,
          2.6,
          null,
          6.1,
          6.1,
          null,
          2.6,
          6.1,
          null,
          6.1,
          6.1,
          null,
          6.1,
          6.1,
          null,
          6.1,
          1.5,
          null,
          1.5,
          1.5,
          null,
          1.5,
          1.5,
          null,
          1.5,
          0,
          null,
          0,
          0,
          null,
          0,
          0,
          null,
          0,
          0,
          null,
          0,
          1.5,
          null,
          0,
          0,
          null,
          1.5,
          2.6,
          null,
          2.6,
          2.6,
          null,
          2.6,
          2.6,
          null,
          1.5,
          1.5,
          null,
          6.1,
          6.1,
          null,
          1.5,
          6.1,
          null,
          1.5,
          1.5,
          null,
          1.5,
          1.5,
          null,
          6.1,
          6.1,
          null,
          6.1,
          6.1,
          null,
          1.5,
          6.1,
          null,
          0,
          1.5,
          null,
          0,
          0,
          null,
          0,
          0,
          null,
          0,
          1.5,
          null,
          0,
          0,
          null
         ],
         "y": [
          5,
          5,
          null,
          5,
          0,
          null,
          0,
          0,
          null,
          0,
          5,
          null,
          5,
          5,
          null,
          5,
          5,
          null,
          5,
          5,
          null,
          5,
          5,
          null,
          5,
          0,
          null,
          0,
          0,
          null,
          0,
          0,
          null,
          0,
          0,
          null,
          0,
          5,
          null,
          9.5,
          9.5,
          null,
          9.5,
          9.5,
          null,
          9.5,
          9.5,
          null,
          9.5,
          5,
          null,
          5,
          9.5,
          null,
          9.5,
          9.5,
          null,
          9.5,
          9.5,
          null,
          9.5,
          9.5,
          null,
          9.5,
          9.5,
          null,
          9.5,
          9.5,
          null,
          9.5,
          9.5,
          null,
          9.5,
          9.5,
          null,
          9.5,
          9.5,
          null,
          9.5,
          5,
          null,
          5,
          9.5,
          null,
          9.5,
          5,
          null,
          9.5,
          13.3,
          null,
          13.3,
          9.5,
          null,
          13.3,
          13.3,
          null,
          13.3,
          13.3,
          null,
          14.5,
          13.3,
          null,
          14.5,
          14.5,
          null,
          9.5,
          14.5,
          null,
          9.5,
          9.5,
          null,
          13.3,
          9.5,
          null,
          13.3,
          13.3,
          null,
          13.3,
          13.3,
          null,
          14.5,
          13.3,
          null,
          14.5,
          14.5,
          null,
          14.5,
          14.5,
          null,
          14.5,
          14.5,
          null,
          9.5,
          9.5,
          null,
          9.5,
          14.5,
          null,
          9.5,
          9.5,
          null,
          14.5,
          14.5,
          null,
          14.5,
          9.5,
          null,
          13.3,
          14.5,
          null,
          14.5,
          14.5,
          null,
          14.5,
          14.5,
          null,
          14.5,
          14.5,
          null,
          14.5,
          14.5,
          null,
          14.5,
          9.5,
          null,
          14.5,
          9.5,
          null,
          14.5,
          14.5,
          null,
          14.5,
          9.5,
          null,
          14.5,
          14.5,
          null,
          14.5,
          14.5,
          null,
          14.5,
          9.5,
          null,
          9.5,
          9.5,
          null,
          9.5,
          9.5,
          null,
          9.5,
          9.5,
          null,
          9.5,
          9.5,
          null,
          9.5,
          5,
          null,
          5,
          5,
          null,
          5,
          5,
          null,
          5,
          5,
          null,
          5,
          9.5,
          null,
          5,
          5,
          null,
          5,
          5,
          null,
          5,
          9.5,
          null,
          13.3,
          14.5,
          null,
          14.5,
          14.5,
          null,
          14.5,
          14.5,
          null,
          14.5,
          14.5,
          null,
          14.5,
          14.5,
          null,
          14.5,
          9.5,
          null,
          14.5,
          17.5,
          null,
          17.5,
          14.5,
          null,
          17.5,
          17.5,
          null,
          17.5,
          17.5,
          null,
          14.5,
          17.5,
          null,
          17.5,
          17.5,
          null,
          17.5,
          14.5,
          null,
          17.5,
          17.5,
          null,
          17.5,
          17.5,
          null,
          14.5,
          17.5,
          null,
          17.5,
          17.5,
          null,
          17.5,
          17.5,
          null,
          14.5,
          17.5,
          null
         ],
         "z": [
          0,
          0,
          null,
          0,
          0,
          null,
          0,
          0,
          null,
          0,
          0,
          null,
          0,
          3.2,
          null,
          3.2,
          3.2,
          null,
          3.2,
          3.2,
          null,
          3.2,
          0,
          null,
          3.2,
          3.2,
          null,
          3.2,
          0,
          null,
          3.2,
          3.2,
          null,
          3.2,
          0,
          null,
          3.2,
          3.2,
          null,
          0,
          0,
          null,
          0,
          0,
          null,
          0,
          0,
          null,
          0,
          0,
          null,
          0,
          0,
          null,
          3.2,
          0,
          null,
          3.2,
          3.2,
          null,
          0,
          3.2,
          null,
          3.2,
          0,
          null,
          3.2,
          3.2,
          null,
          3.2,
          3.2,
          null,
          3.2,
          0,
          null,
          3.2,
          3.2,
          null,
          3.2,
          3.2,
          null,
          3.2,
          3.2,
          null,
          3.2,
          3.2,
          null,
          0,
          0,
          null,
          0,
          0,
          null,
          0,
          0,
          null,
          3.2,
          0,
          null,
          3.2,
          3.2,
          null,
          6.4,
          3.2,
          null,
          6.4,
          6.4,
          null,
          3.2,
          6.4,
          null,
          3.2,
          3.2,
          null,
          0,
          3.2,
          null,
          3.2,
          3.2,
          null,
          3.2,
          3.2,
          null,
          3.2,
          3.2,
          null,
          6.4,
          3.2,
          null,
          6.4,
          6.4,
          null,
          6.4,
          6.4,
          null,
          6.4,
          6.4,
          null,
          3.2,
          6.4,
          null,
          0,
          0,
          null,
          0,
          0,
          null,
          0,
          0,
          null,
          0,
          3.2,
          null,
          3.2,
          3.2,
          null,
          3.2,
          3.2,
          null,
          3.2,
          0,
          null,
          3.2,
          3.2,
          null,
          3.2,
          3.2,
          null,
          0,
          0,
          null,
          0,
          0,
          null,
          3.2,
          3.2,
          null,
          3.2,
          0,
          null,
          3.2,
          3.2,
          null,
          6.4,
          3.2,
          null,
          6.4,
          6.4,
          null,
          6.4,
          3.2,
          null,
          6.4,
          6.4,
          null,
          6.4,
          6.4,
          null,
          6.4,
          3.2,
          null,
          6.4,
          6.4,
          null,
          6.4,
          3.2,
          null,
          6.4,
          6.4,
          null,
          6.4,
          6.4,
          null,
          6.4,
          3.2,
          null,
          6.4,
          6.4,
          null,
          0,
          0,
          null,
          0,
          0,
          null,
          0,
          3.2,
          null,
          6.4,
          6.4,
          null,
          6.4,
          3.2,
          null,
          6.4,
          6.4,
          null,
          0,
          0,
          null,
          0,
          0,
          null,
          0,
          0,
          null,
          3.2,
          0,
          null,
          3.2,
          3.2,
          null,
          0,
          3.2,
          null,
          3.2,
          3.2,
          null,
          3.2,
          3.2,
          null,
          0,
          0,
          null,
          0,
          0,
          null,
          0,
          3.2,
          null,
          3.2,
          3.2,
          null,
          3.2,
          3.2,
          null
         ]
        },
        {
         "cmax": 1,
         "cmin": 0,
         "color": "#FAFAFA",
         "colorscale": [
          [
           0,
           "#440154"
          ],
          [
           0.1111111111111111,
           "#482878"
          ],
          [
           0.2222222222222222,
           "#3e4989"
          ],
          [
           0.3333333333333333,
           "#31688e"
          ],
          [
           0.4444444444444444,
           "#26828e"
          ],
          [
           0.5555555555555556,
           "#1f9e89"
          ],
          [
           0.6666666666666666,
           "#35b779"
          ],
          [
           0.7777777777777778,
           "#6ece58"
          ],
          [
           0.8888888888888888,
           "#b5de2b"
          ],
          [
           1,
           "#fde725"
          ]
         ],
         "flatshading": true,
         "hoverinfo": "text",
         "hovertext": "",
         "i": [
          0,
          0,
          4,
          1,
          6,
          7,
          7,
          7,
          2,
          3,
          3,
          4,
          4,
          6,
          9,
          9,
          11,
          12,
          13,
          13,
          15,
          15,
          16,
          17,
          17,
          6,
          6,
          0,
          0,
          15,
          16,
          16,
          17,
          13,
          13,
          18,
          18,
          20,
          23,
          14,
          12,
          12,
          13,
          13,
          20,
          18,
          24,
          20,
          26,
          26,
          26,
          26,
          13,
          13,
          26,
          27,
          27,
          19,
          19,
          29,
          30,
          30,
          31,
          31,
          28,
          29,
          25,
          31,
          31,
          24,
          30,
          30,
          28,
          28,
          33,
          33,
          17,
          17,
          33,
          33,
          27,
          13,
          34,
          35,
          35,
          36,
          36,
          6,
          6,
          13,
          27,
          34,
          34,
          35,
          4,
          4,
          5,
          5,
          27,
          27,
          39,
          39,
          25,
          25,
          18,
          18,
          40,
          40,
          34,
          34,
          40,
          40,
          41,
          42,
          42,
          42,
          43,
          33,
          33,
          44,
          44,
          43,
          43,
          44,
          44,
          45,
          45,
          43,
          43,
          39,
          39,
          43,
          43
         ],
         "j": [
          1,
          2,
          0,
          0,
          1,
          2,
          1,
          8,
          7,
          8,
          5,
          8,
          5,
          4,
          10,
          1,
          9,
          11,
          11,
          12,
          9,
          11,
          9,
          10,
          9,
          1,
          10,
          5,
          14,
          13,
          4,
          15,
          16,
          5,
          14,
          19,
          11,
          21,
          21,
          23,
          20,
          14,
          11,
          19,
          24,
          20,
          20,
          22,
          25,
          22,
          23,
          21,
          23,
          27,
          24,
          13,
          24,
          28,
          9,
          28,
          28,
          29,
          28,
          16,
          31,
          19,
          29,
          30,
          15,
          13,
          25,
          24,
          32,
          10,
          32,
          28,
          10,
          32,
          16,
          31,
          34,
          27,
          16,
          17,
          16,
          6,
          17,
          36,
          37,
          4,
          13,
          37,
          27,
          34,
          37,
          38,
          38,
          23,
          38,
          23,
          29,
          19,
          29,
          39,
          20,
          22,
          30,
          25,
          15,
          30,
          27,
          26,
          32,
          28,
          41,
          29,
          42,
          32,
          41,
          41,
          42,
          25,
          30,
          31,
          43,
          42,
          29,
          42,
          45,
          22,
          46,
          22,
          46
         ],
         "k": [
          2,
          3,
          5,
          4,
          4,
          1,
          6,
          3,
          3,
          5,
          0,
          7,
          8,
          7,
          1,
          0,
          0,
          0,
          12,
          14,
          11,
          13,
          15,
          9,
          16,
          10,
          17,
          14,
          12,
          4,
          6,
          4,
          6,
          4,
          5,
          11,
          12,
          22,
          20,
          20,
          18,
          20,
          19,
          24,
          19,
          19,
          25,
          25,
          22,
          21,
          27,
          23,
          14,
          23,
          25,
          24,
          26,
          9,
          11,
          19,
          29,
          25,
          30,
          9,
          9,
          24,
          24,
          15,
          16,
          15,
          24,
          15,
          10,
          9,
          28,
          31,
          32,
          33,
          17,
          16,
          15,
          15,
          15,
          16,
          34,
          17,
          35,
          37,
          4,
          37,
          37,
          36,
          37,
          36,
          38,
          5,
          23,
          14,
          37,
          38,
          19,
          18,
          39,
          22,
          22,
          39,
          25,
          26,
          30,
          40,
          34,
          27,
          28,
          29,
          28,
          25,
          25,
          41,
          44,
          42,
          43,
          30,
          31,
          33,
          31,
          29,
          39,
          45,
          46,
          46,
          45,
          25,
          22
         ],
         "legendgroup": "3",
         "legendrank": 3,
         "lighting": {
          "facenormalsepsilon": 0
         },
         "name": "Topology Faces",
         "opacity": 0.5,
         "showlegend": false,
         "showscale": false,
         "text": "",
         "type": "mesh3d",
         "x": [
          0,
          6.1,
          6.1,
          0,
          1.5,
          0,
          6.1,
          6.1,
          0,
          4.3,
          6.1,
          1.5,
          0,
          1.5,
          0,
          2.6,
          4.3,
          6.1,
          0,
          1.5,
          0,
          0,
          0,
          0,
          1.5,
          1.5,
          1.5,
          1.5,
          4.3,
          1.5,
          2.6,
          4.3,
          6.1,
          6.1,
          2.6,
          6.1,
          6.1,
          1.5,
          0,
          0,
          2.6,
          6.1,
          1.5,
          1.5,
          6.1,
          0,
          0
         ],
         "y": [
          5,
          5,
          0,
          0,
          5,
          5,
          5,
          0,
          0,
          9.5,
          9.5,
          9.5,
          9.5,
          9.5,
          9.5,
          9.5,
          9.5,
          9.5,
          13.3,
          13.3,
          13.3,
          14.5,
          14.5,
          9.5,
          13.3,
          14.5,
          14.5,
          9.5,
          14.5,
          14.5,
          14.5,
          14.5,
          14.5,
          14.5,
          9.5,
          9.5,
          5,
          5,
          5,
          14.5,
          14.5,
          17.5,
          17.5,
          17.5,
          17.5,
          17.5,
          17.5
         ],
         "z": [
          0,
          0,
          0,
          0,
          3.2,
          3.2,
          3.2,
          3.2,
          3.2,
          0,
          0,
          0,
          0,
          3.2,
          3.2,
          3.2,
          3.2,
          3.2,
          0,
          0,
          3.2,
          6.4,
          3.2,
          6.4,
          3.2,
          3.2,
          6.4,
          6.4,
          0,
          0,
          3.2,
          3.2,
          0,
          3.2,
          6.4,
          6.4,
          6.4,
          6.4,
          6.4,
          0,
          6.4,
          0,
          0,
          3.2,
          3.2,
          0,
          3.2
         ]
        }
       ],
       "layout": {
        "autosize": true,
        "height": 500,
        "margin": {
         "b": 40,
         "l": 40,
         "r": 40,
         "t": 40
        },
        "paper_bgcolor": "rgba(0, 0, 0, 0)",
        "plot_bgcolor": "rgba(0, 0, 0, 0)",
        "scene": {
         "aspectmode": "data",
         "aspectratio": {
          "x": 0.6925969091881773,
          "y": 1.9869583460316564,
          "z": 0.7266590522630058
         },
         "camera": {
          "center": {
           "x": 0,
           "y": 0,
           "z": 0
          },
          "eye": {
           "x": 1.6784016638501167,
           "y": 0.656360662234762,
           "z": 1.1998577148378493
          },
          "projection": {
           "type": "perspective"
          },
          "up": {
           "x": 0,
           "y": 0,
           "z": 1
          }
         },
         "xaxis": {
          "type": "linear",
          "visible": false
         },
         "yaxis": {
          "type": "linear",
          "visible": false
         },
         "zaxis": {
          "type": "linear",
          "visible": false
         }
        },
        "showlegend": true,
        "template": {
         "data": {
          "bar": [
           {
            "error_x": {
             "color": "#2a3f5f"
            },
            "error_y": {
             "color": "#2a3f5f"
            },
            "marker": {
             "line": {
              "color": "#E5ECF6",
              "width": 0.5
             },
             "pattern": {
              "fillmode": "overlay",
              "size": 10,
              "solidity": 0.2
             }
            },
            "type": "bar"
           }
          ],
          "barpolar": [
           {
            "marker": {
             "line": {
              "color": "#E5ECF6",
              "width": 0.5
             },
             "pattern": {
              "fillmode": "overlay",
              "size": 10,
              "solidity": 0.2
             }
            },
            "type": "barpolar"
           }
          ],
          "carpet": [
           {
            "aaxis": {
             "endlinecolor": "#2a3f5f",
             "gridcolor": "white",
             "linecolor": "white",
             "minorgridcolor": "white",
             "startlinecolor": "#2a3f5f"
            },
            "baxis": {
             "endlinecolor": "#2a3f5f",
             "gridcolor": "white",
             "linecolor": "white",
             "minorgridcolor": "white",
             "startlinecolor": "#2a3f5f"
            },
            "type": "carpet"
           }
          ],
          "choropleth": [
           {
            "colorbar": {
             "outlinewidth": 0,
             "ticks": ""
            },
            "type": "choropleth"
           }
          ],
          "contour": [
           {
            "colorbar": {
             "outlinewidth": 0,
             "ticks": ""
            },
            "colorscale": [
             [
              0,
              "#0d0887"
             ],
             [
              0.1111111111111111,
              "#46039f"
             ],
             [
              0.2222222222222222,
              "#7201a8"
             ],
             [
              0.3333333333333333,
              "#9c179e"
             ],
             [
              0.4444444444444444,
              "#bd3786"
             ],
             [
              0.5555555555555556,
              "#d8576b"
             ],
             [
              0.6666666666666666,
              "#ed7953"
             ],
             [
              0.7777777777777778,
              "#fb9f3a"
             ],
             [
              0.8888888888888888,
              "#fdca26"
             ],
             [
              1,
              "#f0f921"
             ]
            ],
            "type": "contour"
           }
          ],
          "contourcarpet": [
           {
            "colorbar": {
             "outlinewidth": 0,
             "ticks": ""
            },
            "type": "contourcarpet"
           }
          ],
          "heatmap": [
           {
            "colorbar": {
             "outlinewidth": 0,
             "ticks": ""
            },
            "colorscale": [
             [
              0,
              "#0d0887"
             ],
             [
              0.1111111111111111,
              "#46039f"
             ],
             [
              0.2222222222222222,
              "#7201a8"
             ],
             [
              0.3333333333333333,
              "#9c179e"
             ],
             [
              0.4444444444444444,
              "#bd3786"
             ],
             [
              0.5555555555555556,
              "#d8576b"
             ],
             [
              0.6666666666666666,
              "#ed7953"
             ],
             [
              0.7777777777777778,
              "#fb9f3a"
             ],
             [
              0.8888888888888888,
              "#fdca26"
             ],
             [
              1,
              "#f0f921"
             ]
            ],
            "type": "heatmap"
           }
          ],
          "heatmapgl": [
           {
            "colorbar": {
             "outlinewidth": 0,
             "ticks": ""
            },
            "colorscale": [
             [
              0,
              "#0d0887"
             ],
             [
              0.1111111111111111,
              "#46039f"
             ],
             [
              0.2222222222222222,
              "#7201a8"
             ],
             [
              0.3333333333333333,
              "#9c179e"
             ],
             [
              0.4444444444444444,
              "#bd3786"
             ],
             [
              0.5555555555555556,
              "#d8576b"
             ],
             [
              0.6666666666666666,
              "#ed7953"
             ],
             [
              0.7777777777777778,
              "#fb9f3a"
             ],
             [
              0.8888888888888888,
              "#fdca26"
             ],
             [
              1,
              "#f0f921"
             ]
            ],
            "type": "heatmapgl"
           }
          ],
          "histogram": [
           {
            "marker": {
             "pattern": {
              "fillmode": "overlay",
              "size": 10,
              "solidity": 0.2
             }
            },
            "type": "histogram"
           }
          ],
          "histogram2d": [
           {
            "colorbar": {
             "outlinewidth": 0,
             "ticks": ""
            },
            "colorscale": [
             [
              0,
              "#0d0887"
             ],
             [
              0.1111111111111111,
              "#46039f"
             ],
             [
              0.2222222222222222,
              "#7201a8"
             ],
             [
              0.3333333333333333,
              "#9c179e"
             ],
             [
              0.4444444444444444,
              "#bd3786"
             ],
             [
              0.5555555555555556,
              "#d8576b"
             ],
             [
              0.6666666666666666,
              "#ed7953"
             ],
             [
              0.7777777777777778,
              "#fb9f3a"
             ],
             [
              0.8888888888888888,
              "#fdca26"
             ],
             [
              1,
              "#f0f921"
             ]
            ],
            "type": "histogram2d"
           }
          ],
          "histogram2dcontour": [
           {
            "colorbar": {
             "outlinewidth": 0,
             "ticks": ""
            },
            "colorscale": [
             [
              0,
              "#0d0887"
             ],
             [
              0.1111111111111111,
              "#46039f"
             ],
             [
              0.2222222222222222,
              "#7201a8"
             ],
             [
              0.3333333333333333,
              "#9c179e"
             ],
             [
              0.4444444444444444,
              "#bd3786"
             ],
             [
              0.5555555555555556,
              "#d8576b"
             ],
             [
              0.6666666666666666,
              "#ed7953"
             ],
             [
              0.7777777777777778,
              "#fb9f3a"
             ],
             [
              0.8888888888888888,
              "#fdca26"
             ],
             [
              1,
              "#f0f921"
             ]
            ],
            "type": "histogram2dcontour"
           }
          ],
          "mesh3d": [
           {
            "colorbar": {
             "outlinewidth": 0,
             "ticks": ""
            },
            "type": "mesh3d"
           }
          ],
          "parcoords": [
           {
            "line": {
             "colorbar": {
              "outlinewidth": 0,
              "ticks": ""
             }
            },
            "type": "parcoords"
           }
          ],
          "pie": [
           {
            "automargin": true,
            "type": "pie"
           }
          ],
          "scatter": [
           {
            "fillpattern": {
             "fillmode": "overlay",
             "size": 10,
             "solidity": 0.2
            },
            "type": "scatter"
           }
          ],
          "scatter3d": [
           {
            "line": {
             "colorbar": {
              "outlinewidth": 0,
              "ticks": ""
             }
            },
            "marker": {
             "colorbar": {
              "outlinewidth": 0,
              "ticks": ""
             }
            },
            "type": "scatter3d"
           }
          ],
          "scattercarpet": [
           {
            "marker": {
             "colorbar": {
              "outlinewidth": 0,
              "ticks": ""
             }
            },
            "type": "scattercarpet"
           }
          ],
          "scattergeo": [
           {
            "marker": {
             "colorbar": {
              "outlinewidth": 0,
              "ticks": ""
             }
            },
            "type": "scattergeo"
           }
          ],
          "scattergl": [
           {
            "marker": {
             "colorbar": {
              "outlinewidth": 0,
              "ticks": ""
             }
            },
            "type": "scattergl"
           }
          ],
          "scattermapbox": [
           {
            "marker": {
             "colorbar": {
              "outlinewidth": 0,
              "ticks": ""
             }
            },
            "type": "scattermapbox"
           }
          ],
          "scatterpolar": [
           {
            "marker": {
             "colorbar": {
              "outlinewidth": 0,
              "ticks": ""
             }
            },
            "type": "scatterpolar"
           }
          ],
          "scatterpolargl": [
           {
            "marker": {
             "colorbar": {
              "outlinewidth": 0,
              "ticks": ""
             }
            },
            "type": "scatterpolargl"
           }
          ],
          "scatterternary": [
           {
            "marker": {
             "colorbar": {
              "outlinewidth": 0,
              "ticks": ""
             }
            },
            "type": "scatterternary"
           }
          ],
          "surface": [
           {
            "colorbar": {
             "outlinewidth": 0,
             "ticks": ""
            },
            "colorscale": [
             [
              0,
              "#0d0887"
             ],
             [
              0.1111111111111111,
              "#46039f"
             ],
             [
              0.2222222222222222,
              "#7201a8"
             ],
             [
              0.3333333333333333,
              "#9c179e"
             ],
             [
              0.4444444444444444,
              "#bd3786"
             ],
             [
              0.5555555555555556,
              "#d8576b"
             ],
             [
              0.6666666666666666,
              "#ed7953"
             ],
             [
              0.7777777777777778,
              "#fb9f3a"
             ],
             [
              0.8888888888888888,
              "#fdca26"
             ],
             [
              1,
              "#f0f921"
             ]
            ],
            "type": "surface"
           }
          ],
          "table": [
           {
            "cells": {
             "fill": {
              "color": "#EBF0F8"
             },
             "line": {
              "color": "white"
             }
            },
            "header": {
             "fill": {
              "color": "#C8D4E3"
             },
             "line": {
              "color": "white"
             }
            },
            "type": "table"
           }
          ]
         },
         "layout": {
          "annotationdefaults": {
           "arrowcolor": "#2a3f5f",
           "arrowhead": 0,
           "arrowwidth": 1
          },
          "autotypenumbers": "strict",
          "coloraxis": {
           "colorbar": {
            "outlinewidth": 0,
            "ticks": ""
           }
          },
          "colorscale": {
           "diverging": [
            [
             0,
             "#8e0152"
            ],
            [
             0.1,
             "#c51b7d"
            ],
            [
             0.2,
             "#de77ae"
            ],
            [
             0.3,
             "#f1b6da"
            ],
            [
             0.4,
             "#fde0ef"
            ],
            [
             0.5,
             "#f7f7f7"
            ],
            [
             0.6,
             "#e6f5d0"
            ],
            [
             0.7,
             "#b8e186"
            ],
            [
             0.8,
             "#7fbc41"
            ],
            [
             0.9,
             "#4d9221"
            ],
            [
             1,
             "#276419"
            ]
           ],
           "sequential": [
            [
             0,
             "#0d0887"
            ],
            [
             0.1111111111111111,
             "#46039f"
            ],
            [
             0.2222222222222222,
             "#7201a8"
            ],
            [
             0.3333333333333333,
             "#9c179e"
            ],
            [
             0.4444444444444444,
             "#bd3786"
            ],
            [
             0.5555555555555556,
             "#d8576b"
            ],
            [
             0.6666666666666666,
             "#ed7953"
            ],
            [
             0.7777777777777778,
             "#fb9f3a"
            ],
            [
             0.8888888888888888,
             "#fdca26"
            ],
            [
             1,
             "#f0f921"
            ]
           ],
           "sequentialminus": [
            [
             0,
             "#0d0887"
            ],
            [
             0.1111111111111111,
             "#46039f"
            ],
            [
             0.2222222222222222,
             "#7201a8"
            ],
            [
             0.3333333333333333,
             "#9c179e"
            ],
            [
             0.4444444444444444,
             "#bd3786"
            ],
            [
             0.5555555555555556,
             "#d8576b"
            ],
            [
             0.6666666666666666,
             "#ed7953"
            ],
            [
             0.7777777777777778,
             "#fb9f3a"
            ],
            [
             0.8888888888888888,
             "#fdca26"
            ],
            [
             1,
             "#f0f921"
            ]
           ]
          },
          "colorway": [
           "#636efa",
           "#EF553B",
           "#00cc96",
           "#ab63fa",
           "#FFA15A",
           "#19d3f3",
           "#FF6692",
           "#B6E880",
           "#FF97FF",
           "#FECB52"
          ],
          "font": {
           "color": "#2a3f5f"
          },
          "geo": {
           "bgcolor": "white",
           "lakecolor": "white",
           "landcolor": "#E5ECF6",
           "showlakes": true,
           "showland": true,
           "subunitcolor": "white"
          },
          "hoverlabel": {
           "align": "left"
          },
          "hovermode": "closest",
          "mapbox": {
           "style": "light"
          },
          "paper_bgcolor": "white",
          "plot_bgcolor": "#E5ECF6",
          "polar": {
           "angularaxis": {
            "gridcolor": "white",
            "linecolor": "white",
            "ticks": ""
           },
           "bgcolor": "#E5ECF6",
           "radialaxis": {
            "gridcolor": "white",
            "linecolor": "white",
            "ticks": ""
           }
          },
          "scene": {
           "xaxis": {
            "backgroundcolor": "#E5ECF6",
            "gridcolor": "white",
            "gridwidth": 2,
            "linecolor": "white",
            "showbackground": true,
            "ticks": "",
            "zerolinecolor": "white"
           },
           "yaxis": {
            "backgroundcolor": "#E5ECF6",
            "gridcolor": "white",
            "gridwidth": 2,
            "linecolor": "white",
            "showbackground": true,
            "ticks": "",
            "zerolinecolor": "white"
           },
           "zaxis": {
            "backgroundcolor": "#E5ECF6",
            "gridcolor": "white",
            "gridwidth": 2,
            "linecolor": "white",
            "showbackground": true,
            "ticks": "",
            "zerolinecolor": "white"
           }
          },
          "shapedefaults": {
           "line": {
            "color": "#2a3f5f"
           }
          },
          "ternary": {
           "aaxis": {
            "gridcolor": "white",
            "linecolor": "white",
            "ticks": ""
           },
           "baxis": {
            "gridcolor": "white",
            "linecolor": "white",
            "ticks": ""
           },
           "bgcolor": "#E5ECF6",
           "caxis": {
            "gridcolor": "white",
            "linecolor": "white",
            "ticks": ""
           }
          },
          "title": {
           "x": 0.05
          },
          "xaxis": {
           "automargin": true,
           "gridcolor": "white",
           "linecolor": "white",
           "ticks": "",
           "title": {
            "standoff": 15
           },
           "zerolinecolor": "white",
           "zerolinewidth": 2
          },
          "yaxis": {
           "automargin": true,
           "gridcolor": "white",
           "linecolor": "white",
           "ticks": "",
           "title": {
            "standoff": 15
           },
           "zerolinecolor": "white",
           "zerolinewidth": 2
          }
         }
        },
        "width": 950,
        "xaxis": {
         "showgrid": false,
         "visible": false,
         "zeroline": false
        },
        "yaxis": {
         "showgrid": false,
         "visible": false,
         "zeroline": false
        }
       }
      },
      "image/png": "[encoded data removed]"
     },
     "metadata": {},
     "output_type": "display_data"
    }
   ],
   "source": [
    "g = Graph.ByTopology(house, direct=False, directApertures=True)\n",
    "graph_data = Plotly.DataByGraph(g, vertexSize=4, vertexGroupKey=\"label\", vertexLabelKey=\"title\", vertexGroups=[0,1,2,3,4,5,6,7,8,9])\n",
    "bldg_data = Plotly.DataByTopology(house, faceOpacity=0.5, edgeColor=\"lightgrey\", vertexColor=\"lightgrey\")\n",
    "# bldg_data = []\n",
    "# graph_data = []\n",
    "fig = Plotly.FigureByData(graph_data+bldg_data)\n",
    "Plotly.Show(fig, renderer='jupyterlab')"
   ]
  },
  {
   "cell_type": "code",
   "execution_count": 11,
   "id": "c4dcd819-7b75-4703-98c7-0057c33fe8b9",
   "metadata": {},
   "outputs": [
    {
     "ename": "NameError",
     "evalue": "name 'graphs' is not defined",
     "output_type": "error",
     "traceback": [
      "\u001b[0;31m---------------------------------------------------------------------------\u001b[0m",
      "\u001b[0;31mNameError\u001b[0m                                 Traceback (most recent call last)",
      "Cell \u001b[0;32mIn[11], line 1\u001b[0m\n\u001b[0;32m----> 1\u001b[0m \u001b[43mgraphs\u001b[49m\n",
      "\u001b[0;31mNameError\u001b[0m: name 'graphs' is not defined"
     ]
    }
   ],
   "source": [
    "graphs"
   ]
  },
  {
   "cell_type": "code",
   "execution_count": 48,
   "id": "66f42e26-a585-470a-bce9-b892674f88b1",
   "metadata": {},
   "outputs": [
    {
     "name": "stdout",
     "output_type": "stream",
     "text": [
      "Graph.ExportToCSV - Error: The input graph parameter is not a valid topologic graph. Returning None.\n"
     ]
    }
   ],
   "source": [
    "Graph.ExportToCSV(graphs, \"./data\", 0, overwrite=True, nodeFeaturesKeys=['area', 'volume'], nodeFeaturesHeader=['area', 'volume'])"
   ]
  },
  {
   "cell_type": "code",
   "execution_count": 7,
   "id": "1981ca5c-1c6f-441d-be18-b873b647cedd",
   "metadata": {},
   "outputs": [
    {
     "ename": "AttributeError",
     "evalue": "'NoneType' object has no attribute 'StringValue'",
     "output_type": "error",
     "traceback": [
      "\u001b[0;31m---------------------------------------------------------------------------\u001b[0m",
      "\u001b[0;31mAttributeError\u001b[0m                            Traceback (most recent call last)",
      "Cell \u001b[0;32mIn[7], line 4\u001b[0m\n\u001b[1;32m      2\u001b[0m selected_cell \u001b[38;5;241m=\u001b[39m []\n\u001b[1;32m      3\u001b[0m \u001b[38;5;28;01mfor\u001b[39;00m cell \u001b[38;5;129;01min\u001b[39;00m Topology\u001b[38;5;241m.\u001b[39mSubTopologies(house, subTopologyType\u001b[38;5;241m=\u001b[39m\u001b[38;5;124m\"\u001b[39m\u001b[38;5;124mcell\u001b[39m\u001b[38;5;124m\"\u001b[39m):\n\u001b[0;32m----> 4\u001b[0m     \u001b[38;5;28;01mif\u001b[39;00m \u001b[43mcell\u001b[49m\u001b[38;5;241;43m.\u001b[39;49m\u001b[43mGetDictionary\u001b[49m\u001b[43m(\u001b[49m\u001b[43m)\u001b[49m\u001b[38;5;241;43m.\u001b[39;49m\u001b[43mValueAtKey\u001b[49m\u001b[43m(\u001b[49m\u001b[38;5;124;43m\"\u001b[39;49m\u001b[38;5;124;43mtitle\u001b[39;49m\u001b[38;5;124;43m\"\u001b[39;49m\u001b[43m)\u001b[49m\u001b[38;5;241;43m.\u001b[39;49m\u001b[43mStringValue\u001b[49m() \u001b[38;5;129;01min\u001b[39;00m title:\n\u001b[1;32m      5\u001b[0m         selected_cell\u001b[38;5;241m.\u001b[39mappend(cell)\n\u001b[1;32m      6\u001b[0m \u001b[38;5;28mprint\u001b[39m(selected_cell)\n",
      "\u001b[0;31mAttributeError\u001b[0m: 'NoneType' object has no attribute 'StringValue'"
     ]
    }
   ],
   "source": [
    "title = [\"Backyard\", \"Service\"]\n",
    "selected_cell = []\n",
    "for cell in Topology.SubTopologies(house, subTopologyType=\"cell\"):\n",
    "    if cell.GetDictionary().ValueAtKey(\"title\").StringValue() in title:\n",
    "        selected_cell.append(cell)\n",
    "print(selected_cell)"
   ]
  },
  {
   "cell_type": "code",
   "execution_count": 38,
   "id": "7b6d845b-cbc0-48d4-a10f-191c1fe50d10",
   "metadata": {
    "scrolled": true
   },
   "outputs": [],
   "source": [
    "# Topology.Show(selected_cell, renderer='jupyterlab', showVertices=True, faceColor=\"#FFFFFF\", backgroundColor=\"#777777\")"
   ]
  }
 ],
 "metadata": {
  "kernelspec": {
   "display_name": "Python 3 (ipykernel)",
   "language": "python",
   "name": "python3"
  },
  "language_info": {
   "codemirror_mode": {
    "name": "ipython",
    "version": 3
   },
   "file_extension": ".py",
   "mimetype": "text/x-python",
   "name": "python",
   "nbconvert_exporter": "python",
   "pygments_lexer": "ipython3",
   "version": "3.12.4"
  }
 },
 "nbformat": 4,
 "nbformat_minor": 5
}
