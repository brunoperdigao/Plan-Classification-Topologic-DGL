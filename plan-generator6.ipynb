{
 "cells": [
  {
   "cell_type": "code",
   "execution_count": 4,
   "id": "39ebbdcd-2fd1-4418-b87e-00ed0abc24b7",
   "metadata": {},
   "outputs": [],
   "source": [
    "from topologicpy.Vertex import Vertex\n",
    "from topologicpy.Face import Face\n",
    "from topologicpy.Cell import Cell\n",
    "from topologicpy.CellComplex import CellComplex\n",
    "from topologicpy.Cluster import Cluster\n",
    "from topologicpy.Topology import Topology\n",
    "from topologicpy.Dictionary import Dictionary\n",
    "from topologicpy.Color import Color\n",
    "from topologicpy.Plotly import Plotly\n",
    "from topologicpy.Graph import Graph\n",
    "from topologicpy.Vector import Vector\n",
    "\n",
    "from topologicpy.Helper import Helper"
   ]
  },
  {
   "cell_type": "code",
   "execution_count": 5,
   "id": "b3774401-b249-49f4-b0cf-cab06beebccb",
   "metadata": {},
   "outputs": [],
   "source": [
    "def getSelectors(cell, keys, values):\n",
    "    if not cell:\n",
    "        return None\n",
    "    # selectors = []\n",
    "    s = Topology.InternalVertex(cell)\n",
    "    d = Dictionary.ByKeysValues(keys, values)\n",
    "    s = Topology.SetDictionary(s, d)\n",
    "    # selectors.append(s)\n",
    "    return s\n",
    "\n",
    "def createPrism(dimension, location):\n",
    "    w, l, h = dimension\n",
    "    x, y, z = location\n",
    "    prism = Cell.Prism(width=w, length=l, height=h, placement=\"lowerleft\")\n",
    "    prism = Topology.Translate(prism, x, y, z)\n",
    "    return prism\n",
    "\n",
    "def createAperture(room1, room2, is_full=True):\n",
    "    names = [room1, room2]\n",
    "    names_sel = []\n",
    "    for sel in selectors:\n",
    "        if sel.GetDictionary().ValueAtKey('title').StringValue() == room1:\n",
    "            names_sel.append(sel)\n",
    "    for sel in selectors:\n",
    "        if sel.GetDictionary().ValueAtKey('title').StringValue() == room2:\n",
    "            names_sel.append(sel)\n",
    "    names_sel\n",
    "\n",
    "    if not names_sel:\n",
    "        return\n",
    "\n",
    "    sub1 = Topology.SelectSubTopology(house, names_sel[0], subTopologyType=\"cell\")\n",
    "    sub2 = Topology.SelectSubTopology(house, names_sel[1], subTopologyType=\"cell\")\n",
    "    # print(f'{room1} has {len(Cell.Faces(sub1))} faces   |   {room2} has {len(Cell.Faces(sub2))} faces')\n",
    "    shared = Topology.SharedFaces(sub1, sub2)\n",
    "    aperture = Topology.Copy(shared[0])\n",
    "    aperture = shared[0]\n",
    "    # print(aperture)\n",
    "\n",
    "    if is_full:\n",
    "        return aperture\n",
    "    else:\n",
    "        bottom_edge = Face.Edges(aperture)[0]\n",
    "        for edge in Face.Edges(aperture):\n",
    "            if Topology.Centroid(edge).Z() < Topology.Centroid(bottom_edge).Z():\n",
    "                bottom_edge = edge\n",
    "            \n",
    "        return Topology.Scale(aperture, x=0.5, z=0.8, origin=Topology.Centroid(bottom_edge))\n",
    "\n",
    "def getCellFloorArea(cell):\n",
    "    bottom_face = Cell.Faces(cell)[0]\n",
    "    for face in Topology.SubTopologies(cell, subTopologyType=\"face\"):\n",
    "        if Topology.Centroid(face).Z() < Topology.Centroid(bottom_face).Z():\n",
    "            bottom_face = face\n",
    "        return Face.Area(bottom_face)"
   ]
  },
  {
   "cell_type": "code",
   "execution_count": 6,
   "id": "d116fcc3-161e-499a-88ab-37a1a530cbaf",
   "metadata": {},
   "outputs": [],
   "source": [
    "class Space():\n",
    "    def __init__(self, name,label, dimension, location):\n",
    "        self.name = name\n",
    "        self.label = label\n",
    "        self.dim = dimension\n",
    "        self.w = dimension[0]\n",
    "        self.l = dimension[1]\n",
    "        self.h = dimension[2]\n",
    "        self.loc = location\n",
    "        self.x = location[0]\n",
    "        self.y = location[1]\n",
    "        self.z = location[2]\n",
    "        self.topo = createPrism(dimension, location)\n",
    "        self.selector = getSelectors(self.topo, [\"label\", \"title\", \"area\", \"volume\"], [self.label, self.name, getCellFloorArea(self.topo), Cell.Volume(self.topo)])\n",
    "        "
   ]
  },
  {
   "cell_type": "code",
   "execution_count": 7,
   "id": "98dcee47-6da4-4338-ab59-3042fb7802aa",
   "metadata": {},
   "outputs": [],
   "source": [
    "houses = []"
   ]
  },
  {
   "cell_type": "code",
   "execution_count": 157,
   "id": "7430b9ba-2924-4f51-850c-fbf4ca793200",
   "metadata": {},
   "outputs": [],
   "source": [
    "general_width = 3.5\n",
    "corridor_width = 0.9\n",
    "terrace_width = 1.8\n",
    "\n",
    "general_height = 3.0\n",
    "three_bedrooms = False"
   ]
  },
  {
   "cell_type": "code",
   "execution_count": 158,
   "id": "bc27318d-007d-4728-87df-01b51f1d5f30",
   "metadata": {},
   "outputs": [],
   "source": [
    "selectors = []\n",
    "cells = []\n",
    "apertures = []\n",
    "keys = [\"label\", \"title\", \"area\", \"volume\"]\n",
    "\n",
    "living = Space(\n",
    "    \"Living Room\",\n",
    "    1,\n",
    "    [general_width, 5, general_height],\n",
    "    [0, 0, 0]\n",
    ")\n",
    "\n",
    "dining = Space(\n",
    "    \"Dining Room\",\n",
    "    8,\n",
    "    [general_width, 5, general_height],\n",
    "    [0, living.l, 0] \n",
    ")\n",
    "\n",
    "kitchen = Space(\n",
    "    \"Kitchen\",\n",
    "    7,\n",
    "    [general_width, 6, general_height],\n",
    "    [0, living.l + dining.l, 0] \n",
    ")\n",
    "\n",
    "service = Space(\n",
    "    \"Service\",\n",
    "    5,\n",
    "    [general_width, 2.5, general_height],\n",
    "    [0, living.l + dining.l + kitchen.l, 0] \n",
    ")\n",
    "\n",
    "\n",
    "\n",
    "bedroom1_position = [dining.w, living.l + dining.l - general_width, 0]\n",
    "corridor_length = 0\n",
    "if three_bedrooms:\n",
    "    bedroom3 = Space(\n",
    "        \"Bedroom 3\",\n",
    "        10,\n",
    "        [3.5, general_width, general_height],\n",
    "        [dining.w, living.l + dining.l - general_width, 0]\n",
    "    )\n",
    "    \n",
    "    bedroom1_position = [bedroom3.x + bedroom3.w, living.l + dining.l - general_width, 0]\n",
    "    corridor_length += bedroom3.w\n",
    "    \n",
    "    cells.extend([\n",
    "        bedroom3.topo,\n",
    "    ])\n",
    "    selectors.extend([\n",
    "        bedroom3.selector,\n",
    "    ])\n",
    "    \n",
    "    \n",
    "\n",
    "bedroom1 = Space(\n",
    "    \"Bedroom 1\",\n",
    "    10,\n",
    "    [3.5, general_width, general_height],\n",
    "    bedroom1_position\n",
    ")\n",
    "\n",
    "bedroom2 = Space(\n",
    "    \"Bedroom 2\",\n",
    "    10,\n",
    "    [3.5, general_width + corridor_width, general_height],\n",
    "    [bedroom1.x + bedroom1.w, bedroom1.y, 0]\n",
    ")\n",
    "\n",
    "corridor_length += bedroom1.w\n",
    "\n",
    "corridor = Space(\n",
    "    \"Corridor\",\n",
    "    3,\n",
    "    [corridor_length, corridor_width, general_height], # Mudar o primeiro valor\n",
    "    [dining.w, living.l + dining.l, 0]\n",
    ")\n",
    "\n",
    "wc1 = Space(\n",
    "    \"WC 1\",\n",
    "    4,\n",
    "    [2.4, 2.4, general_height],\n",
    "    [bedroom2.x - 2.4, corridor.y + corridor_width, 0] # Make 2.4 parametric\n",
    ")\n",
    "\n",
    "wc2 = Space(\n",
    "    \"WC 2\",\n",
    "    4,\n",
    "    [2.4, 2.4, general_height],\n",
    "    [bedroom2.x, corridor.y + corridor_width, 0] # Make 2.4 parametric\n",
    ")\n",
    "\n",
    "# terrace_topo1 = createPrism(\n",
    "#     [terrace_width, kitchen.y - bedroom1.l - terrace_width, general_height],\n",
    "#     [general_width, 0, 0]\n",
    "# )\n",
    "# terrace_topo2 = createPrism(\n",
    "#     [bedroom2.x + bedroom2.w - general_width, terrace_width, general_height],\n",
    "#     [general_width, bedroom1.y - terrace_width, 0]\n",
    "# )\n",
    "\n",
    "# terrace_topo = Topology.Boolean(terrace_topo1, terrace_topo2, operation=\"union\")\n",
    "\n",
    "\n",
    "terrace1 = Space(\n",
    "    \"Terrace 1\",\n",
    "    6,\n",
    "    [terrace_width, kitchen.y - bedroom1.l, general_height],\n",
    "    [general_width, 0, 0]\n",
    ")\n",
    "\n",
    "terrace2 = Space(\n",
    "    \"Terrace 2\",\n",
    "    6,\n",
    "    [bedroom2.x + bedroom2.w - general_width, terrace_width, general_height],\n",
    "    [general_width + terrace_width, bedroom1.y - terrace_width, 0]\n",
    ")\n",
    "\n",
    "\n",
    "house = Topology.Boolean(living.topo, dining.topo, operation=\"merge\")\n",
    "\n",
    "cells.extend([\n",
    "    living.topo,\n",
    "    dining.topo,\n",
    "    kitchen.topo,\n",
    "    service.topo,\n",
    "    corridor.topo,\n",
    "    bedroom1.topo,\n",
    "    bedroom2.topo,\n",
    "    wc1.topo,\n",
    "    wc2.topo,\n",
    "    terrace1.topo,\n",
    "    terrace2.topo,\n",
    "])\n",
    "selectors.extend([\n",
    "    living.selector,\n",
    "    dining.selector,\n",
    "    kitchen.selector,\n",
    "    service.selector,\n",
    "    corridor.selector,\n",
    "    bedroom1.selector,\n",
    "    bedroom2.selector,\n",
    "    wc1.selector,\n",
    "    wc2.selector,\n",
    "    terrace1.selector,\n",
    "    terrace2.selector,\n",
    "])\n",
    "\n",
    "\n",
    "for cell in cells:    \n",
    "    house = Topology.Boolean(house, cell, operation=\"merge\")\n"
   ]
  },
  {
   "cell_type": "code",
   "execution_count": 160,
   "id": "3fc8d550-159e-45af-a632-3430ccaf4248",
   "metadata": {
    "scrolled": true
   },
   "outputs": [],
   "source": [
    "aperture = createAperture(\"Living Room\", \"Dining Room\", True)\n",
    "apertures.append(aperture)\n",
    "\n",
    "aperture = createAperture(\"Living Room\", \"Terrace 1\", False)\n",
    "apertures.append(aperture)\n",
    "\n",
    "aperture = createAperture(\"Dining Room\", \"Terrace 1\", False)\n",
    "apertures.append(aperture)\n",
    "\n",
    "aperture = createAperture(\"Dining Room\", \"Kitchen\", True)\n",
    "apertures.append(aperture)\n",
    "\n",
    "aperture = createAperture(\"Kitchen\", \"Service\", False)\n",
    "apertures.append(aperture)\n",
    "\n",
    "aperture = createAperture(\"Kitchen\", \"Corridor\", True)\n",
    "apertures.append(aperture)\n",
    "\n",
    "aperture = createAperture(\"Corridor\", \"Bedroom 1\", False)\n",
    "apertures.append(aperture)\n",
    "\n",
    "aperture = createAperture(\"Corridor\", \"WC 1\", False)\n",
    "apertures.append(aperture)\n",
    "\n",
    "aperture = createAperture(\"Corridor\", \"Bedroom 2\", False)\n",
    "apertures.append(aperture)\n",
    "\n",
    "aperture = createAperture(\"Bedroom 2\", \"WC 2\", False)\n",
    "apertures.append(aperture)\n",
    "\n",
    "aperture = createAperture(\"Bedroom 1\", \"Terrace 2\", False)\n",
    "apertures.append(aperture)\n",
    "\n",
    "aperture = createAperture(\"Bedroom 2\", \"Terrace 2\", False)\n",
    "apertures.append(aperture)\n",
    "\n",
    "if three_bedrooms:\n",
    "    aperture = createAperture(\"Corridor\", \"Bedroom 3\", False)\n",
    "    apertures.append(aperture)\n",
    "\n",
    "    aperture = createAperture(\"Bedroom 3\", \"Terrace 2\", False)\n",
    "    apertures.append(aperture)\n",
    "\n",
    "aperture = createAperture(\"Terrace 1\", \"Terrace 2\", True)\n",
    "apertures.append(aperture)\n",
    "\n"
   ]
  },
  {
   "cell_type": "code",
   "execution_count": 161,
   "id": "dc0f7bd1-5e0a-4748-b068-7c2c3f3d516a",
   "metadata": {},
   "outputs": [
    {
     "name": "stdout",
     "output_type": "stream",
     "text": [
      "Transfering Dictionaries to Cells\n"
     ]
    }
   ],
   "source": [
    "selectors = Helper.Flatten(selectors)\n",
    "cells = Helper.Flatten(cells)\n",
    "house = CellComplex.ByCells(cells)\n",
    "house = Topology.TransferDictionariesBySelectors(house, selectors, tranCells=True)\n",
    "house = Topology.AddApertures(house, apertures, subTopologyType=\"face\", exclusive=True)\n"
   ]
  },
  {
   "cell_type": "code",
   "execution_count": null,
   "id": "4318d712-1f34-49b0-9494-2df5cba695e1",
   "metadata": {},
   "outputs": [],
   "source": [
    "houses.append(house)\n",
    "houses"
   ]
  },
  {
   "cell_type": "code",
   "execution_count": 162,
   "id": "1464bbee-6104-4539-be90-4dd2d99347a4",
   "metadata": {},
   "outputs": [
    {
     "data": {
      "application/vnd.plotly.v1+json": {
       "config": {
        "plotlyServerURL": "https://plot.ly"
       },
       "data": [
        {
         "hoverinfo": "text",
         "legendgroup": "4",
         "legendrank": 4,
         "marker": {
          "color": [
           5,
           8,
           6,
           1,
           6,
           10,
           4,
           10,
           3,
           4,
           7
          ],
          "colorscale": [
           [
            0,
            "#440154"
           ],
           [
            0.1111111111111111,
            "#482878"
           ],
           [
            0.2222222222222222,
            "#3e4989"
           ],
           [
            0.3333333333333333,
            "#31688e"
           ],
           [
            0.4444444444444444,
            "#26828e"
           ],
           [
            0.5555555555555556,
            "#1f9e89"
           ],
           [
            0.6666666666666666,
            "#35b779"
           ],
           [
            0.7777777777777778,
            "#6ece58"
           ],
           [
            0.8888888888888888,
            "#b5de2b"
           ],
           [
            1,
            "#fde725"
           ]
          ],
          "line": {
           "color": "black",
           "width": 0.5
          },
          "size": 4,
          "symbol": "circle"
         },
         "mode": "markers",
         "name": "Graph Vertices",
         "showlegend": false,
         "text": [
          "Service (5)",
          "Dining Room (8)",
          "Terrace 1 (6)",
          "Living Room (1)",
          "Terrace 2 (6)",
          "Bedroom 1 (10)",
          "WC 2 (4)",
          "Bedroom 2 (10)",
          "Corridor (3)",
          "WC 1 (4)",
          "Kitchen (7)"
         ],
         "type": "scatter3d",
         "x": [
          1.75,
          1.75,
          4.4,
          1.75,
          8.8,
          5.25,
          8.2,
          8.75,
          5.25,
          5.8,
          1.75
         ],
         "y": [
          17.25,
          7.5,
          3.25,
          2.5,
          5.6,
          8.25,
          12.1,
          8.7,
          10.45,
          12.1,
          13
         ],
         "z": [
          1.5,
          1.5,
          1.5,
          1.5,
          1.5,
          1.5,
          1.5,
          1.5,
          1.5,
          1.5,
          1.5
         ]
        },
        {
         "hoverinfo": "text",
         "legendgroup": "5",
         "legendrank": 5,
         "line": {
          "color": "black",
          "width": 1
         },
         "mode": "lines",
         "name": "Graph Edges",
         "showlegend": false,
         "text": "",
         "type": "scatter3d",
         "x": [
          1.75,
          1.75,
          null,
          1.75,
          4.4,
          null,
          1.75,
          1.75,
          null,
          1.75,
          1.75,
          null,
          4.4,
          8.8,
          null,
          1.75,
          4.4,
          null,
          5.25,
          8.8,
          null,
          8.8,
          8.75,
          null,
          5.25,
          5.25,
          null,
          8.75,
          8.2,
          null,
          5.25,
          8.75,
          null,
          5.25,
          5.8,
          null,
          1.75,
          5.25,
          null
         ],
         "y": [
          13,
          17.25,
          null,
          7.5,
          3.25,
          null,
          2.5,
          7.5,
          null,
          7.5,
          13,
          null,
          3.25,
          5.6,
          null,
          2.5,
          3.25,
          null,
          8.25,
          5.6,
          null,
          5.6,
          8.7,
          null,
          8.25,
          10.45,
          null,
          8.7,
          12.1,
          null,
          10.45,
          8.7,
          null,
          10.45,
          12.1,
          null,
          13,
          10.45,
          null
         ],
         "z": [
          1.5,
          1.5,
          null,
          1.5,
          1.5,
          null,
          1.5,
          1.5,
          null,
          1.5,
          1.5,
          null,
          1.5,
          1.5,
          null,
          1.5,
          1.5,
          null,
          1.5,
          1.5,
          null,
          1.5,
          1.5,
          null,
          1.5,
          1.5,
          null,
          1.5,
          1.5,
          null,
          1.5,
          1.5,
          null,
          1.5,
          1.5,
          null,
          1.5,
          1.5,
          null
         ]
        },
        {
         "hoverinfo": "text",
         "hovertext": "",
         "legendgroup": "1",
         "legendrank": 1,
         "marker": {
          "color": "lightgrey",
          "size": 1.1
         },
         "mode": "markers",
         "name": "Topology Vertices",
         "showlegend": false,
         "text": "",
         "type": "scatter3d",
         "x": [
          0,
          3.5,
          3.5,
          0,
          0,
          3.5,
          3.5,
          0,
          0,
          3.5,
          3.5,
          0,
          3.5,
          3.5,
          5.3,
          5.3,
          5.3,
          5.3,
          5.3,
          5.3,
          0,
          3.5,
          3.5,
          0,
          3.5,
          3.5,
          7,
          7,
          7,
          7,
          10.5,
          12.3,
          12.3,
          10.5,
          12.3,
          12.3,
          0,
          3.5,
          0,
          3.5,
          4.6,
          7,
          4.6,
          7,
          9.4,
          10.5,
          9.4,
          10.5,
          4.6,
          7,
          4.6,
          7,
          9.4,
          9.4
         ],
         "y": [
          5,
          5,
          0,
          0,
          5,
          5,
          0,
          0,
          10,
          10,
          6.5,
          10,
          10,
          6.5,
          6.5,
          4.7,
          0,
          6.5,
          4.7,
          0,
          16,
          16,
          10.9,
          16,
          16,
          10.9,
          10,
          6.5,
          10,
          6.5,
          6.5,
          6.5,
          4.7,
          6.5,
          6.5,
          4.7,
          18.5,
          18.5,
          18.5,
          18.5,
          10.9,
          10.9,
          10.9,
          10.9,
          10.9,
          10.9,
          10.9,
          10.9,
          13.3,
          13.3,
          13.3,
          13.3,
          13.3,
          13.3
         ],
         "z": [
          0,
          0,
          0,
          0,
          3,
          3,
          3,
          3,
          0,
          0,
          0,
          3,
          3,
          3,
          0,
          0,
          0,
          3,
          3,
          3,
          0,
          0,
          0,
          3,
          3,
          3,
          0,
          0,
          3,
          3,
          0,
          0,
          0,
          3,
          3,
          3,
          0,
          0,
          3,
          3,
          0,
          0,
          3,
          3,
          0,
          0,
          3,
          3,
          0,
          0,
          3,
          3,
          0,
          3
         ]
        },
        {
         "hoverinfo": "text",
         "legendgroup": "2",
         "legendrank": 2,
         "line": {
          "color": "lightgrey",
          "width": 1
         },
         "marker": {
          "size": 0
         },
         "mode": "lines",
         "name": "Topology Edges",
         "showlegend": false,
         "text": "",
         "type": "scatter3d",
         "x": [
          0,
          3.5,
          null,
          3.5,
          3.5,
          null,
          3.5,
          0,
          null,
          0,
          0,
          null,
          0,
          0,
          null,
          0,
          3.5,
          null,
          3.5,
          3.5,
          null,
          3.5,
          3.5,
          null,
          3.5,
          3.5,
          null,
          3.5,
          0,
          null,
          0,
          0,
          null,
          0,
          0,
          null,
          0,
          3.5,
          null,
          3.5,
          3.5,
          null,
          3.5,
          3.5,
          null,
          0,
          0,
          null,
          0,
          0,
          null,
          0,
          3.5,
          null,
          3.5,
          3.5,
          null,
          3.5,
          3.5,
          null,
          3.5,
          3.5,
          null,
          3.5,
          3.5,
          null,
          0,
          0,
          null,
          3.5,
          5.3,
          null,
          5.3,
          5.3,
          null,
          5.3,
          5.3,
          null,
          5.3,
          3.5,
          null,
          3.5,
          5.3,
          null,
          5.3,
          5.3,
          null,
          5.3,
          5.3,
          null,
          5.3,
          5.3,
          null,
          5.3,
          5.3,
          null,
          5.3,
          5.3,
          null,
          5.3,
          3.5,
          null,
          0,
          3.5,
          null,
          3.5,
          3.5,
          null,
          3.5,
          3.5,
          null,
          0,
          0,
          null,
          0,
          0,
          null,
          0,
          3.5,
          null,
          3.5,
          3.5,
          null,
          3.5,
          3.5,
          null,
          3.5,
          3.5,
          null,
          3.5,
          3.5,
          null,
          0,
          0,
          null,
          3.5,
          7,
          null,
          7,
          7,
          null,
          7,
          5.3,
          null,
          7,
          7,
          null,
          3.5,
          7,
          null,
          7,
          7,
          null,
          7,
          7,
          null,
          7,
          5.3,
          null,
          7,
          10.5,
          null,
          10.5,
          12.3,
          null,
          12.3,
          12.3,
          null,
          12.3,
          5.3,
          null,
          10.5,
          10.5,
          null,
          7,
          10.5,
          null,
          12.3,
          12.3,
          null,
          10.5,
          12.3,
          null,
          12.3,
          12.3,
          null,
          12.3,
          12.3,
          null,
          12.3,
          5.3,
          null,
          0,
          3.5,
          null,
          3.5,
          3.5,
          null,
          0,
          0,
          null,
          0,
          0,
          null,
          0,
          3.5,
          null,
          3.5,
          3.5,
          null,
          3.5,
          3.5,
          null,
          0,
          0,
          null,
          3.5,
          4.6,
          null,
          4.6,
          7,
          null,
          7,
          7,
          null,
          4.6,
          4.6,
          null,
          3.5,
          4.6,
          null,
          7,
          7,
          null,
          4.6,
          7,
          null,
          7,
          7,
          null,
          7,
          9.4,
          null,
          9.4,
          10.5,
          null,
          10.5,
          10.5,
          null,
          9.4,
          9.4,
          null,
          7,
          9.4,
          null,
          10.5,
          10.5,
          null,
          9.4,
          10.5,
          null,
          10.5,
          10.5,
          null,
          4.6,
          7,
          null,
          7,
          7,
          null,
          4.6,
          4.6,
          null,
          4.6,
          4.6,
          null,
          4.6,
          7,
          null,
          7,
          7,
          null,
          7,
          7,
          null,
          4.6,
          4.6,
          null,
          7,
          9.4,
          null,
          9.4,
          9.4,
          null,
          7,
          9.4,
          null,
          9.4,
          9.4,
          null,
          9.4,
          9.4,
          null
         ],
         "y": [
          5,
          5,
          null,
          5,
          0,
          null,
          0,
          0,
          null,
          0,
          5,
          null,
          5,
          5,
          null,
          5,
          5,
          null,
          5,
          5,
          null,
          5,
          0,
          null,
          0,
          0,
          null,
          0,
          0,
          null,
          0,
          0,
          null,
          0,
          5,
          null,
          10,
          10,
          null,
          10,
          6.5,
          null,
          6.5,
          5,
          null,
          5,
          10,
          null,
          10,
          10,
          null,
          10,
          10,
          null,
          10,
          10,
          null,
          6.5,
          6.5,
          null,
          10,
          6.5,
          null,
          6.5,
          5,
          null,
          5,
          10,
          null,
          6.5,
          6.5,
          null,
          6.5,
          4.7,
          null,
          4.7,
          0,
          null,
          0,
          0,
          null,
          6.5,
          6.5,
          null,
          6.5,
          6.5,
          null,
          4.7,
          4.7,
          null,
          6.5,
          4.7,
          null,
          0,
          0,
          null,
          4.7,
          0,
          null,
          0,
          0,
          null,
          16,
          16,
          null,
          16,
          10.9,
          null,
          10.9,
          10,
          null,
          10,
          16,
          null,
          16,
          16,
          null,
          16,
          16,
          null,
          16,
          16,
          null,
          10.9,
          10.9,
          null,
          16,
          10.9,
          null,
          10.9,
          10,
          null,
          10,
          16,
          null,
          10,
          10,
          null,
          10,
          6.5,
          null,
          6.5,
          6.5,
          null,
          10,
          10,
          null,
          10,
          10,
          null,
          10,
          6.5,
          null,
          6.5,
          6.5,
          null,
          6.5,
          6.5,
          null,
          6.5,
          6.5,
          null,
          6.5,
          6.5,
          null,
          6.5,
          4.7,
          null,
          4.7,
          4.7,
          null,
          6.5,
          6.5,
          null,
          6.5,
          6.5,
          null,
          6.5,
          6.5,
          null,
          6.5,
          6.5,
          null,
          6.5,
          4.7,
          null,
          4.7,
          4.7,
          null,
          4.7,
          4.7,
          null,
          18.5,
          18.5,
          null,
          18.5,
          16,
          null,
          16,
          18.5,
          null,
          18.5,
          18.5,
          null,
          18.5,
          18.5,
          null,
          18.5,
          18.5,
          null,
          18.5,
          16,
          null,
          16,
          18.5,
          null,
          10.9,
          10.9,
          null,
          10.9,
          10.9,
          null,
          10.9,
          10,
          null,
          10.9,
          10.9,
          null,
          10.9,
          10.9,
          null,
          10.9,
          10.9,
          null,
          10.9,
          10.9,
          null,
          10.9,
          10,
          null,
          10.9,
          10.9,
          null,
          10.9,
          10.9,
          null,
          10.9,
          6.5,
          null,
          10.9,
          10.9,
          null,
          10.9,
          10.9,
          null,
          10.9,
          10.9,
          null,
          10.9,
          10.9,
          null,
          10.9,
          6.5,
          null,
          13.3,
          13.3,
          null,
          13.3,
          10.9,
          null,
          10.9,
          13.3,
          null,
          13.3,
          13.3,
          null,
          13.3,
          13.3,
          null,
          13.3,
          13.3,
          null,
          13.3,
          10.9,
          null,
          10.9,
          13.3,
          null,
          13.3,
          13.3,
          null,
          13.3,
          10.9,
          null,
          13.3,
          13.3,
          null,
          13.3,
          13.3,
          null,
          13.3,
          10.9,
          null
         ],
         "z": [
          0,
          0,
          null,
          0,
          0,
          null,
          0,
          0,
          null,
          0,
          0,
          null,
          0,
          3,
          null,
          3,
          3,
          null,
          3,
          0,
          null,
          3,
          3,
          null,
          3,
          0,
          null,
          3,
          3,
          null,
          3,
          0,
          null,
          3,
          3,
          null,
          0,
          0,
          null,
          0,
          0,
          null,
          0,
          0,
          null,
          0,
          0,
          null,
          0,
          3,
          null,
          3,
          3,
          null,
          3,
          0,
          null,
          3,
          0,
          null,
          3,
          3,
          null,
          3,
          3,
          null,
          3,
          3,
          null,
          0,
          0,
          null,
          0,
          0,
          null,
          0,
          0,
          null,
          0,
          0,
          null,
          3,
          3,
          null,
          3,
          0,
          null,
          3,
          0,
          null,
          3,
          3,
          null,
          3,
          0,
          null,
          3,
          3,
          null,
          3,
          3,
          null,
          0,
          0,
          null,
          0,
          0,
          null,
          0,
          0,
          null,
          0,
          0,
          null,
          0,
          3,
          null,
          3,
          3,
          null,
          3,
          0,
          null,
          3,
          0,
          null,
          3,
          3,
          null,
          3,
          3,
          null,
          3,
          3,
          null,
          0,
          0,
          null,
          0,
          0,
          null,
          0,
          0,
          null,
          3,
          0,
          null,
          3,
          3,
          null,
          3,
          3,
          null,
          3,
          0,
          null,
          3,
          3,
          null,
          0,
          0,
          null,
          0,
          0,
          null,
          0,
          0,
          null,
          0,
          0,
          null,
          3,
          0,
          null,
          3,
          3,
          null,
          3,
          0,
          null,
          3,
          3,
          null,
          3,
          3,
          null,
          3,
          0,
          null,
          3,
          3,
          null,
          0,
          0,
          null,
          0,
          0,
          null,
          0,
          0,
          null,
          0,
          3,
          null,
          3,
          3,
          null,
          3,
          0,
          null,
          3,
          3,
          null,
          3,
          3,
          null,
          0,
          0,
          null,
          0,
          0,
          null,
          0,
          0,
          null,
          3,
          0,
          null,
          3,
          3,
          null,
          3,
          0,
          null,
          3,
          3,
          null,
          3,
          3,
          null,
          0,
          0,
          null,
          0,
          0,
          null,
          0,
          0,
          null,
          3,
          0,
          null,
          3,
          3,
          null,
          3,
          0,
          null,
          3,
          3,
          null,
          3,
          3,
          null,
          0,
          0,
          null,
          0,
          0,
          null,
          0,
          0,
          null,
          0,
          3,
          null,
          3,
          3,
          null,
          3,
          0,
          null,
          3,
          3,
          null,
          3,
          3,
          null,
          0,
          0,
          null,
          0,
          0,
          null,
          3,
          3,
          null,
          3,
          0,
          null,
          3,
          3,
          null
         ]
        },
        {
         "cmax": 1,
         "cmin": 0,
         "color": "#FAFAFA",
         "colorscale": [
          [
           0,
           "#440154"
          ],
          [
           0.1111111111111111,
           "#482878"
          ],
          [
           0.2222222222222222,
           "#3e4989"
          ],
          [
           0.3333333333333333,
           "#31688e"
          ],
          [
           0.4444444444444444,
           "#26828e"
          ],
          [
           0.5555555555555556,
           "#1f9e89"
          ],
          [
           0.6666666666666666,
           "#35b779"
          ],
          [
           0.7777777777777778,
           "#6ece58"
          ],
          [
           0.8888888888888888,
           "#b5de2b"
          ],
          [
           1,
           "#fde725"
          ]
         ],
         "flatshading": true,
         "hoverinfo": "text",
         "hovertext": "",
         "i": [
          0,
          0,
          4,
          4,
          6,
          6,
          2,
          2,
          3,
          3,
          4,
          4,
          0,
          9,
          9,
          11,
          11,
          13,
          13,
          4,
          4,
          0,
          0,
          13,
          13,
          11,
          14,
          1,
          1,
          8,
          13,
          8,
          18,
          18,
          15,
          19,
          15,
          15,
          18,
          18,
          17,
          17,
          9,
          21,
          21,
          23,
          23,
          25,
          25,
          11,
          11,
          9,
          9,
          25,
          24,
          23,
          26,
          10,
          10,
          11,
          10,
          29,
          29,
          27,
          27,
          11,
          28,
          28,
          30,
          14,
          27,
          16,
          29,
          27,
          34,
          34,
          35,
          35,
          32,
          32,
          29,
          33,
          35,
          34,
          36,
          36,
          38,
          38,
          23,
          23,
          21,
          21,
          38,
          38,
          40,
          10,
          20,
          42,
          42,
          43,
          43,
          28,
          28,
          42,
          28,
          43,
          44,
          26,
          26,
          41,
          46,
          46,
          47,
          47,
          33,
          33,
          33,
          46,
          46,
          47,
          48,
          48,
          50,
          50,
          43,
          43,
          40,
          40,
          43,
          50,
          41,
          49,
          53,
          53,
          46,
          46,
          53,
          53
         ],
         "j": [
          1,
          2,
          1,
          0,
          2,
          1,
          6,
          7,
          7,
          5,
          7,
          5,
          8,
          10,
          8,
          10,
          9,
          8,
          10,
          1,
          8,
          5,
          12,
          5,
          12,
          12,
          15,
          16,
          14,
          16,
          17,
          13,
          14,
          16,
          14,
          15,
          19,
          6,
          6,
          4,
          13,
          4,
          20,
          22,
          20,
          22,
          21,
          20,
          22,
          10,
          20,
          12,
          24,
          12,
          12,
          24,
          27,
          16,
          26,
          28,
          11,
          27,
          26,
          29,
          17,
          13,
          17,
          11,
          31,
          30,
          30,
          27,
          33,
          29,
          31,
          30,
          32,
          31,
          35,
          18,
          17,
          29,
          33,
          33,
          37,
          22,
          37,
          36,
          22,
          37,
          24,
          39,
          24,
          39,
          41,
          40,
          40,
          40,
          20,
          41,
          40,
          26,
          41,
          25,
          42,
          42,
          45,
          30,
          44,
          44,
          44,
          41,
          45,
          44,
          30,
          45,
          28,
          43,
          28,
          46,
          49,
          41,
          49,
          48,
          41,
          49,
          42,
          51,
          51,
          51,
          52,
          52,
          52,
          49,
          44,
          52,
          43,
          50
         ],
         "k": [
          2,
          3,
          0,
          5,
          1,
          4,
          7,
          3,
          5,
          0,
          6,
          7,
          1,
          8,
          0,
          9,
          12,
          10,
          11,
          8,
          13,
          12,
          9,
          4,
          5,
          13,
          2,
          14,
          2,
          1,
          16,
          16,
          16,
          17,
          18,
          18,
          6,
          2,
          19,
          6,
          4,
          18,
          10,
          20,
          9,
          21,
          24,
          22,
          23,
          20,
          25,
          24,
          21,
          11,
          25,
          25,
          16,
          8,
          16,
          26,
          26,
          26,
          28,
          17,
          16,
          17,
          29,
          17,
          32,
          32,
          14,
          14,
          30,
          30,
          30,
          33,
          31,
          34,
          18,
          14,
          18,
          18,
          18,
          35,
          22,
          21,
          36,
          39,
          37,
          38,
          39,
          36,
          23,
          24,
          26,
          26,
          10,
          20,
          25,
          40,
          42,
          41,
          43,
          11,
          11,
          28,
          30,
          27,
          30,
          26,
          41,
          43,
          44,
          46,
          45,
          47,
          29,
          28,
          33,
          33,
          41,
          40,
          48,
          51,
          49,
          50,
          51,
          48,
          42,
          43,
          44,
          41,
          49,
          50,
          52,
          53,
          46,
          43
         ],
         "legendgroup": "3",
         "legendrank": 3,
         "lighting": {
          "facenormalsepsilon": 0
         },
         "name": "Topology Faces",
         "opacity": 0.5,
         "showlegend": false,
         "showscale": false,
         "text": "",
         "type": "mesh3d",
         "x": [
          0,
          3.5,
          3.5,
          0,
          3.5,
          0,
          3.5,
          0,
          3.5,
          0,
          3.5,
          3.5,
          0,
          3.5,
          5.3,
          5.3,
          5.3,
          5.3,
          5.3,
          5.3,
          3.5,
          0,
          3.5,
          3.5,
          0,
          3.5,
          7,
          7,
          7,
          7,
          10.5,
          12.3,
          12.3,
          10.5,
          12.3,
          12.3,
          0,
          3.5,
          3.5,
          0,
          4.6,
          7,
          4.6,
          7,
          9.4,
          10.5,
          9.4,
          10.5,
          4.6,
          7,
          7,
          4.6,
          9.4,
          9.4
         ],
         "y": [
          5,
          5,
          0,
          0,
          5,
          5,
          0,
          0,
          6.5,
          10,
          10,
          10,
          10,
          6.5,
          4.7,
          0,
          6.5,
          6.5,
          4.7,
          0,
          10.9,
          16,
          16,
          16,
          16,
          10.9,
          10,
          6.5,
          10,
          6.5,
          6.5,
          6.5,
          4.7,
          6.5,
          6.5,
          4.7,
          18.5,
          18.5,
          18.5,
          18.5,
          10.9,
          10.9,
          10.9,
          10.9,
          10.9,
          10.9,
          10.9,
          10.9,
          13.3,
          13.3,
          13.3,
          13.3,
          13.3,
          13.3
         ],
         "z": [
          0,
          0,
          0,
          0,
          3,
          3,
          3,
          3,
          0,
          0,
          0,
          3,
          3,
          3,
          0,
          0,
          0,
          3,
          3,
          3,
          0,
          0,
          0,
          3,
          3,
          3,
          0,
          0,
          3,
          3,
          0,
          0,
          0,
          3,
          3,
          3,
          0,
          0,
          3,
          3,
          0,
          0,
          3,
          3,
          0,
          0,
          3,
          3,
          0,
          0,
          3,
          3,
          0,
          3
         ]
        }
       ],
       "layout": {
        "autosize": true,
        "height": 500,
        "margin": {
         "b": 40,
         "l": 40,
         "r": 40,
         "t": 40
        },
        "paper_bgcolor": "rgba(0, 0, 0, 0)",
        "plot_bgcolor": "rgba(0, 0, 0, 0)",
        "scene": {
         "aspectmode": "data",
         "aspectratio": {
          "x": 1.3969228240192677,
          "y": 2.1010627840940206,
          "z": 0.3407128839071385
         },
         "camera": {
          "center": {
           "x": 0,
           "y": 0,
           "z": 0
          },
          "eye": {
           "x": -0.21439052610780404,
           "y": -0.0052604944225469715,
           "z": 2.7730238863819348
          },
          "projection": {
           "type": "perspective"
          },
          "up": {
           "x": 0,
           "y": 0,
           "z": 1
          }
         },
         "xaxis": {
          "type": "linear",
          "visible": false
         },
         "yaxis": {
          "type": "linear",
          "visible": false
         },
         "zaxis": {
          "type": "linear",
          "visible": false
         }
        },
        "showlegend": true,
        "template": {
         "data": {
          "bar": [
           {
            "error_x": {
             "color": "#2a3f5f"
            },
            "error_y": {
             "color": "#2a3f5f"
            },
            "marker": {
             "line": {
              "color": "#E5ECF6",
              "width": 0.5
             },
             "pattern": {
              "fillmode": "overlay",
              "size": 10,
              "solidity": 0.2
             }
            },
            "type": "bar"
           }
          ],
          "barpolar": [
           {
            "marker": {
             "line": {
              "color": "#E5ECF6",
              "width": 0.5
             },
             "pattern": {
              "fillmode": "overlay",
              "size": 10,
              "solidity": 0.2
             }
            },
            "type": "barpolar"
           }
          ],
          "carpet": [
           {
            "aaxis": {
             "endlinecolor": "#2a3f5f",
             "gridcolor": "white",
             "linecolor": "white",
             "minorgridcolor": "white",
             "startlinecolor": "#2a3f5f"
            },
            "baxis": {
             "endlinecolor": "#2a3f5f",
             "gridcolor": "white",
             "linecolor": "white",
             "minorgridcolor": "white",
             "startlinecolor": "#2a3f5f"
            },
            "type": "carpet"
           }
          ],
          "choropleth": [
           {
            "colorbar": {
             "outlinewidth": 0,
             "ticks": ""
            },
            "type": "choropleth"
           }
          ],
          "contour": [
           {
            "colorbar": {
             "outlinewidth": 0,
             "ticks": ""
            },
            "colorscale": [
             [
              0,
              "#0d0887"
             ],
             [
              0.1111111111111111,
              "#46039f"
             ],
             [
              0.2222222222222222,
              "#7201a8"
             ],
             [
              0.3333333333333333,
              "#9c179e"
             ],
             [
              0.4444444444444444,
              "#bd3786"
             ],
             [
              0.5555555555555556,
              "#d8576b"
             ],
             [
              0.6666666666666666,
              "#ed7953"
             ],
             [
              0.7777777777777778,
              "#fb9f3a"
             ],
             [
              0.8888888888888888,
              "#fdca26"
             ],
             [
              1,
              "#f0f921"
             ]
            ],
            "type": "contour"
           }
          ],
          "contourcarpet": [
           {
            "colorbar": {
             "outlinewidth": 0,
             "ticks": ""
            },
            "type": "contourcarpet"
           }
          ],
          "heatmap": [
           {
            "colorbar": {
             "outlinewidth": 0,
             "ticks": ""
            },
            "colorscale": [
             [
              0,
              "#0d0887"
             ],
             [
              0.1111111111111111,
              "#46039f"
             ],
             [
              0.2222222222222222,
              "#7201a8"
             ],
             [
              0.3333333333333333,
              "#9c179e"
             ],
             [
              0.4444444444444444,
              "#bd3786"
             ],
             [
              0.5555555555555556,
              "#d8576b"
             ],
             [
              0.6666666666666666,
              "#ed7953"
             ],
             [
              0.7777777777777778,
              "#fb9f3a"
             ],
             [
              0.8888888888888888,
              "#fdca26"
             ],
             [
              1,
              "#f0f921"
             ]
            ],
            "type": "heatmap"
           }
          ],
          "heatmapgl": [
           {
            "colorbar": {
             "outlinewidth": 0,
             "ticks": ""
            },
            "colorscale": [
             [
              0,
              "#0d0887"
             ],
             [
              0.1111111111111111,
              "#46039f"
             ],
             [
              0.2222222222222222,
              "#7201a8"
             ],
             [
              0.3333333333333333,
              "#9c179e"
             ],
             [
              0.4444444444444444,
              "#bd3786"
             ],
             [
              0.5555555555555556,
              "#d8576b"
             ],
             [
              0.6666666666666666,
              "#ed7953"
             ],
             [
              0.7777777777777778,
              "#fb9f3a"
             ],
             [
              0.8888888888888888,
              "#fdca26"
             ],
             [
              1,
              "#f0f921"
             ]
            ],
            "type": "heatmapgl"
           }
          ],
          "histogram": [
           {
            "marker": {
             "pattern": {
              "fillmode": "overlay",
              "size": 10,
              "solidity": 0.2
             }
            },
            "type": "histogram"
           }
          ],
          "histogram2d": [
           {
            "colorbar": {
             "outlinewidth": 0,
             "ticks": ""
            },
            "colorscale": [
             [
              0,
              "#0d0887"
             ],
             [
              0.1111111111111111,
              "#46039f"
             ],
             [
              0.2222222222222222,
              "#7201a8"
             ],
             [
              0.3333333333333333,
              "#9c179e"
             ],
             [
              0.4444444444444444,
              "#bd3786"
             ],
             [
              0.5555555555555556,
              "#d8576b"
             ],
             [
              0.6666666666666666,
              "#ed7953"
             ],
             [
              0.7777777777777778,
              "#fb9f3a"
             ],
             [
              0.8888888888888888,
              "#fdca26"
             ],
             [
              1,
              "#f0f921"
             ]
            ],
            "type": "histogram2d"
           }
          ],
          "histogram2dcontour": [
           {
            "colorbar": {
             "outlinewidth": 0,
             "ticks": ""
            },
            "colorscale": [
             [
              0,
              "#0d0887"
             ],
             [
              0.1111111111111111,
              "#46039f"
             ],
             [
              0.2222222222222222,
              "#7201a8"
             ],
             [
              0.3333333333333333,
              "#9c179e"
             ],
             [
              0.4444444444444444,
              "#bd3786"
             ],
             [
              0.5555555555555556,
              "#d8576b"
             ],
             [
              0.6666666666666666,
              "#ed7953"
             ],
             [
              0.7777777777777778,
              "#fb9f3a"
             ],
             [
              0.8888888888888888,
              "#fdca26"
             ],
             [
              1,
              "#f0f921"
             ]
            ],
            "type": "histogram2dcontour"
           }
          ],
          "mesh3d": [
           {
            "colorbar": {
             "outlinewidth": 0,
             "ticks": ""
            },
            "type": "mesh3d"
           }
          ],
          "parcoords": [
           {
            "line": {
             "colorbar": {
              "outlinewidth": 0,
              "ticks": ""
             }
            },
            "type": "parcoords"
           }
          ],
          "pie": [
           {
            "automargin": true,
            "type": "pie"
           }
          ],
          "scatter": [
           {
            "fillpattern": {
             "fillmode": "overlay",
             "size": 10,
             "solidity": 0.2
            },
            "type": "scatter"
           }
          ],
          "scatter3d": [
           {
            "line": {
             "colorbar": {
              "outlinewidth": 0,
              "ticks": ""
             }
            },
            "marker": {
             "colorbar": {
              "outlinewidth": 0,
              "ticks": ""
             }
            },
            "type": "scatter3d"
           }
          ],
          "scattercarpet": [
           {
            "marker": {
             "colorbar": {
              "outlinewidth": 0,
              "ticks": ""
             }
            },
            "type": "scattercarpet"
           }
          ],
          "scattergeo": [
           {
            "marker": {
             "colorbar": {
              "outlinewidth": 0,
              "ticks": ""
             }
            },
            "type": "scattergeo"
           }
          ],
          "scattergl": [
           {
            "marker": {
             "colorbar": {
              "outlinewidth": 0,
              "ticks": ""
             }
            },
            "type": "scattergl"
           }
          ],
          "scattermapbox": [
           {
            "marker": {
             "colorbar": {
              "outlinewidth": 0,
              "ticks": ""
             }
            },
            "type": "scattermapbox"
           }
          ],
          "scatterpolar": [
           {
            "marker": {
             "colorbar": {
              "outlinewidth": 0,
              "ticks": ""
             }
            },
            "type": "scatterpolar"
           }
          ],
          "scatterpolargl": [
           {
            "marker": {
             "colorbar": {
              "outlinewidth": 0,
              "ticks": ""
             }
            },
            "type": "scatterpolargl"
           }
          ],
          "scatterternary": [
           {
            "marker": {
             "colorbar": {
              "outlinewidth": 0,
              "ticks": ""
             }
            },
            "type": "scatterternary"
           }
          ],
          "surface": [
           {
            "colorbar": {
             "outlinewidth": 0,
             "ticks": ""
            },
            "colorscale": [
             [
              0,
              "#0d0887"
             ],
             [
              0.1111111111111111,
              "#46039f"
             ],
             [
              0.2222222222222222,
              "#7201a8"
             ],
             [
              0.3333333333333333,
              "#9c179e"
             ],
             [
              0.4444444444444444,
              "#bd3786"
             ],
             [
              0.5555555555555556,
              "#d8576b"
             ],
             [
              0.6666666666666666,
              "#ed7953"
             ],
             [
              0.7777777777777778,
              "#fb9f3a"
             ],
             [
              0.8888888888888888,
              "#fdca26"
             ],
             [
              1,
              "#f0f921"
             ]
            ],
            "type": "surface"
           }
          ],
          "table": [
           {
            "cells": {
             "fill": {
              "color": "#EBF0F8"
             },
             "line": {
              "color": "white"
             }
            },
            "header": {
             "fill": {
              "color": "#C8D4E3"
             },
             "line": {
              "color": "white"
             }
            },
            "type": "table"
           }
          ]
         },
         "layout": {
          "annotationdefaults": {
           "arrowcolor": "#2a3f5f",
           "arrowhead": 0,
           "arrowwidth": 1
          },
          "autotypenumbers": "strict",
          "coloraxis": {
           "colorbar": {
            "outlinewidth": 0,
            "ticks": ""
           }
          },
          "colorscale": {
           "diverging": [
            [
             0,
             "#8e0152"
            ],
            [
             0.1,
             "#c51b7d"
            ],
            [
             0.2,
             "#de77ae"
            ],
            [
             0.3,
             "#f1b6da"
            ],
            [
             0.4,
             "#fde0ef"
            ],
            [
             0.5,
             "#f7f7f7"
            ],
            [
             0.6,
             "#e6f5d0"
            ],
            [
             0.7,
             "#b8e186"
            ],
            [
             0.8,
             "#7fbc41"
            ],
            [
             0.9,
             "#4d9221"
            ],
            [
             1,
             "#276419"
            ]
           ],
           "sequential": [
            [
             0,
             "#0d0887"
            ],
            [
             0.1111111111111111,
             "#46039f"
            ],
            [
             0.2222222222222222,
             "#7201a8"
            ],
            [
             0.3333333333333333,
             "#9c179e"
            ],
            [
             0.4444444444444444,
             "#bd3786"
            ],
            [
             0.5555555555555556,
             "#d8576b"
            ],
            [
             0.6666666666666666,
             "#ed7953"
            ],
            [
             0.7777777777777778,
             "#fb9f3a"
            ],
            [
             0.8888888888888888,
             "#fdca26"
            ],
            [
             1,
             "#f0f921"
            ]
           ],
           "sequentialminus": [
            [
             0,
             "#0d0887"
            ],
            [
             0.1111111111111111,
             "#46039f"
            ],
            [
             0.2222222222222222,
             "#7201a8"
            ],
            [
             0.3333333333333333,
             "#9c179e"
            ],
            [
             0.4444444444444444,
             "#bd3786"
            ],
            [
             0.5555555555555556,
             "#d8576b"
            ],
            [
             0.6666666666666666,
             "#ed7953"
            ],
            [
             0.7777777777777778,
             "#fb9f3a"
            ],
            [
             0.8888888888888888,
             "#fdca26"
            ],
            [
             1,
             "#f0f921"
            ]
           ]
          },
          "colorway": [
           "#636efa",
           "#EF553B",
           "#00cc96",
           "#ab63fa",
           "#FFA15A",
           "#19d3f3",
           "#FF6692",
           "#B6E880",
           "#FF97FF",
           "#FECB52"
          ],
          "font": {
           "color": "#2a3f5f"
          },
          "geo": {
           "bgcolor": "white",
           "lakecolor": "white",
           "landcolor": "#E5ECF6",
           "showlakes": true,
           "showland": true,
           "subunitcolor": "white"
          },
          "hoverlabel": {
           "align": "left"
          },
          "hovermode": "closest",
          "mapbox": {
           "style": "light"
          },
          "paper_bgcolor": "white",
          "plot_bgcolor": "#E5ECF6",
          "polar": {
           "angularaxis": {
            "gridcolor": "white",
            "linecolor": "white",
            "ticks": ""
           },
           "bgcolor": "#E5ECF6",
           "radialaxis": {
            "gridcolor": "white",
            "linecolor": "white",
            "ticks": ""
           }
          },
          "scene": {
           "xaxis": {
            "backgroundcolor": "#E5ECF6",
            "gridcolor": "white",
            "gridwidth": 2,
            "linecolor": "white",
            "showbackground": true,
            "ticks": "",
            "zerolinecolor": "white"
           },
           "yaxis": {
            "backgroundcolor": "#E5ECF6",
            "gridcolor": "white",
            "gridwidth": 2,
            "linecolor": "white",
            "showbackground": true,
            "ticks": "",
            "zerolinecolor": "white"
           },
           "zaxis": {
            "backgroundcolor": "#E5ECF6",
            "gridcolor": "white",
            "gridwidth": 2,
            "linecolor": "white",
            "showbackground": true,
            "ticks": "",
            "zerolinecolor": "white"
           }
          },
          "shapedefaults": {
           "line": {
            "color": "#2a3f5f"
           }
          },
          "ternary": {
           "aaxis": {
            "gridcolor": "white",
            "linecolor": "white",
            "ticks": ""
           },
           "baxis": {
            "gridcolor": "white",
            "linecolor": "white",
            "ticks": ""
           },
           "bgcolor": "#E5ECF6",
           "caxis": {
            "gridcolor": "white",
            "linecolor": "white",
            "ticks": ""
           }
          },
          "title": {
           "x": 0.05
          },
          "xaxis": {
           "automargin": true,
           "gridcolor": "white",
           "linecolor": "white",
           "ticks": "",
           "title": {
            "standoff": 15
           },
           "zerolinecolor": "white",
           "zerolinewidth": 2
          },
          "yaxis": {
           "automargin": true,
           "gridcolor": "white",
           "linecolor": "white",
           "ticks": "",
           "title": {
            "standoff": 15
           },
           "zerolinecolor": "white",
           "zerolinewidth": 2
          }
         }
        },
        "width": 950,
        "xaxis": {
         "showgrid": false,
         "visible": false,
         "zeroline": false
        },
        "yaxis": {
         "showgrid": false,
         "visible": false,
         "zeroline": false
        }
       }
      },
      "image/png": "[encoded data removed]"
     },
     "metadata": {},
     "output_type": "display_data"
    }
   ],
   "source": [
    "g = Graph.ByTopology(house, direct=False, directApertures=True)\n",
    "graph_data = Plotly.DataByGraph(g, vertexSize=4, vertexGroupKey=\"label\", vertexLabelKey=\"title\", vertexGroups=[0,1,2,3,4,5,6,7,8,9,10])\n",
    "bldg_data = Plotly.DataByTopology(house, faceOpacity=0.5, edgeColor=\"lightgrey\", vertexColor=\"lightgrey\")\n",
    "# bldg_data = []\n",
    "# graph_data = []\n",
    "fig = Plotly.FigureByData(graph_data+bldg_data)\n",
    "Plotly.Show(fig, renderer='jupyterlab')"
   ]
  },
  {
   "cell_type": "code",
   "execution_count": null,
   "id": "c4dcd819-7b75-4703-98c7-0057c33fe8b9",
   "metadata": {},
   "outputs": [],
   "source": [
    "graphs"
   ]
  },
  {
   "cell_type": "code",
   "execution_count": null,
   "id": "66f42e26-a585-470a-bce9-b892674f88b1",
   "metadata": {},
   "outputs": [],
   "source": [
    "Graph.ExportToCSV(graphs, \"./data\", 0, overwrite=True, nodeFeaturesKeys=['area', 'volume'], nodeFeaturesHeader=['area', 'volume'])"
   ]
  },
  {
   "cell_type": "code",
   "execution_count": 7,
   "id": "1981ca5c-1c6f-441d-be18-b873b647cedd",
   "metadata": {
    "jupyter": {
     "source_hidden": true
    }
   },
   "outputs": [
    {
     "ename": "AttributeError",
     "evalue": "'NoneType' object has no attribute 'StringValue'",
     "output_type": "error",
     "traceback": [
      "\u001b[0;31m---------------------------------------------------------------------------\u001b[0m",
      "\u001b[0;31mAttributeError\u001b[0m                            Traceback (most recent call last)",
      "Cell \u001b[0;32mIn[7], line 4\u001b[0m\n\u001b[1;32m      2\u001b[0m selected_cell \u001b[38;5;241m=\u001b[39m []\n\u001b[1;32m      3\u001b[0m \u001b[38;5;28;01mfor\u001b[39;00m cell \u001b[38;5;129;01min\u001b[39;00m Topology\u001b[38;5;241m.\u001b[39mSubTopologies(house, subTopologyType\u001b[38;5;241m=\u001b[39m\u001b[38;5;124m\"\u001b[39m\u001b[38;5;124mcell\u001b[39m\u001b[38;5;124m\"\u001b[39m):\n\u001b[0;32m----> 4\u001b[0m     \u001b[38;5;28;01mif\u001b[39;00m \u001b[43mcell\u001b[49m\u001b[38;5;241;43m.\u001b[39;49m\u001b[43mGetDictionary\u001b[49m\u001b[43m(\u001b[49m\u001b[43m)\u001b[49m\u001b[38;5;241;43m.\u001b[39;49m\u001b[43mValueAtKey\u001b[49m\u001b[43m(\u001b[49m\u001b[38;5;124;43m\"\u001b[39;49m\u001b[38;5;124;43mtitle\u001b[39;49m\u001b[38;5;124;43m\"\u001b[39;49m\u001b[43m)\u001b[49m\u001b[38;5;241;43m.\u001b[39;49m\u001b[43mStringValue\u001b[49m() \u001b[38;5;129;01min\u001b[39;00m title:\n\u001b[1;32m      5\u001b[0m         selected_cell\u001b[38;5;241m.\u001b[39mappend(cell)\n\u001b[1;32m      6\u001b[0m \u001b[38;5;28mprint\u001b[39m(selected_cell)\n",
      "\u001b[0;31mAttributeError\u001b[0m: 'NoneType' object has no attribute 'StringValue'"
     ]
    }
   ],
   "source": [
    "title = [\"Backyard\", \"Service\"]\n",
    "selected_cell = []\n",
    "for cell in Topology.SubTopologies(house, subTopologyType=\"cell\"):\n",
    "    if cell.GetDictionary().ValueAtKey(\"title\").StringValue() in title:\n",
    "        selected_cell.append(cell)\n",
    "print(selected_cell)"
   ]
  },
  {
   "cell_type": "code",
   "execution_count": 38,
   "id": "7b6d845b-cbc0-48d4-a10f-191c1fe50d10",
   "metadata": {
    "scrolled": true
   },
   "outputs": [],
   "source": [
    "# Topology.Show(selected_cell, renderer='jupyterlab', showVertices=True, faceColor=\"#FFFFFF\", backgroundColor=\"#777777\")"
   ]
  }
 ],
 "metadata": {
  "kernelspec": {
   "display_name": "Python 3 (ipykernel)",
   "language": "python",
   "name": "python3"
  },
  "language_info": {
   "codemirror_mode": {
    "name": "ipython",
    "version": 3
   },
   "file_extension": ".py",
   "mimetype": "text/x-python",
   "name": "python",
   "nbconvert_exporter": "python",
   "pygments_lexer": "ipython3",
   "version": "3.12.4"
  }
 },
 "nbformat": 4,
 "nbformat_minor": 5
}
