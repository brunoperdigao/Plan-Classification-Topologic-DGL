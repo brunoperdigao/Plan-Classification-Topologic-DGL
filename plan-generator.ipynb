{
 "cells": [
  {
   "cell_type": "code",
   "execution_count": 4,
   "id": "d0e641a4-4db7-4c0b-a99f-0a511c79d941",
   "metadata": {},
   "outputs": [],
   "source": [
    "from topologicpy.Vertex import Vertex\n",
    "from topologicpy.Face import Face\n",
    "from topologicpy.Cell import Cell\n",
    "from topologicpy.CellComplex import CellComplex\n",
    "from topologicpy.Cluster import Cluster\n",
    "from topologicpy.Topology import Topology\n",
    "from topologicpy.Dictionary import Dictionary\n",
    "from topologicpy.Color import Color\n",
    "from topologicpy.Plotly import Plotly\n",
    "from topologicpy.Graph import Graph\n",
    "from topologicpy.Vector import Vector\n",
    "\n",
    "from topologicpy.Helper import Helper"
   ]
  },
  {
   "cell_type": "code",
   "execution_count": 5,
   "id": "ded0e273-6189-41f2-acfc-73393575a02e",
   "metadata": {},
   "outputs": [],
   "source": [
    "class Space():\n",
    "    def __init__(self, name, w, l, h):\n",
    "        self.name = name\n",
    "        self.w = w\n",
    "        self.l = l\n",
    "        self.h = h\n",
    "\n",
    "\n",
    "    "
   ]
  },
  {
   "cell_type": "code",
   "execution_count": 198,
   "id": "abf269b7-d12e-48ac-b7b2-1a5d01e9bfae",
   "metadata": {},
   "outputs": [],
   "source": [
    "general_width = 6.5\n",
    "general_height = 3.0\n",
    "corridor_width = 1.0\n",
    "\n",
    "parking = Space(\"Parking\", general_width, 6, general_height)\n",
    "living = Space(\"Living Room\", general_width, 7, general_height)\n",
    "stairs = Space(\"Stairs\", 1.5, 5.5, general_height * 2)\n",
    "corridor1 = Space(\"Corridor 1\", corridor_width, 5.5, general_height)\n",
    "patio = Space(\"Patio\", general_width - stairs.w - corridor1.w, stairs.l, general_height*2)\n",
    "wc1 = Space(\"WC1\", stairs.w, 1.2, general_height)\n",
    "wc2 = Space(\"WC2\", stairs.w, 1.2, general_height)\n",
    "service = Space(\"Service\", stairs.w, 2.5, general_height)\n",
    "dining = Space(\"Dinning Room\", general_width - wc1.w, wc1.l+wc2.l+service.l, general_height)\n",
    "kitchen = Space(\"Kitche\", 1.8, dining.l, general_height)\n",
    "\n",
    "corridor2 = Space(\"Corridor 2\", corridor_width, 5.5, general_height)\n",
    "corridor3 = Space(\"Corridor 3\", general_width, corridor_width, general_height)\n",
    "corridor4 = Space(\"Corridor 4\", general_width, corridor_width, general_height)\n",
    "bedroom1 = Space(\"Room 1\", general_width, living.l - corridor3.l, general_height)\n",
    "bedroom2 = Space(\"Room 2\", general_width, dining.l - corridor3.l, general_height)\n"
   ]
  },
  {
   "cell_type": "code",
   "execution_count": 155,
   "id": "85f73078-d839-49a8-b62b-d4b36c40c85d",
   "metadata": {},
   "outputs": [],
   "source": [
    "has_patio = True\n",
    "has_bedroom1 = True\n",
    "has_bedroom2 = False"
   ]
  },
  {
   "cell_type": "code",
   "execution_count": 214,
   "id": "309c8776-c037-4adc-812c-3994454682b2",
   "metadata": {},
   "outputs": [],
   "source": [
    "def getSelectors(cell, keys, values):\n",
    "    if not cell:\n",
    "        return None\n",
    "    # selectors = []\n",
    "    s = Topology.InternalVertex(cell)\n",
    "    d = Dictionary.ByKeysValues(keys, values)\n",
    "    s = Topology.SetDictionary(s, d)\n",
    "    # selectors.append(s)\n",
    "    return s\n",
    "\n",
    "def createAperture(room1, room2, is_full=True):\n",
    "    names = [room1, room2]\n",
    "    names_sel = []\n",
    "    for sel in selectors:\n",
    "        if sel.GetDictionary().Values()[1].StringValue() == room1:\n",
    "            names_sel.append(sel)\n",
    "    for sel in selectors:\n",
    "        if sel.GetDictionary().Values()[1].StringValue() == room2:\n",
    "            names_sel.append(sel)\n",
    "    names_sel\n",
    "    print(names_sel)\n",
    "\n",
    "    if not names_sel:\n",
    "        return\n",
    "\n",
    "    sub1 = Topology.SelectSubTopology(house, names_sel[0], subTopologyType=\"cell\")\n",
    "    sub2 = Topology.SelectSubTopology(house, names_sel[1], subTopologyType=\"cell\")\n",
    "    print(f'{room1} has {len(Cell.Faces(sub1))} faces   |   {room2} has {len(Cell.Faces(sub2))} faces')\n",
    "    shared = Topology.SharedFaces(sub1, sub2)\n",
    "    # aperture = Topology.Copy(shared[0])\n",
    "    aperture = shared[0]\n",
    "    print(aperture)\n",
    "\n",
    "    if is_full:\n",
    "        return aperture\n",
    "    else:\n",
    "        bottom_edge = Face.Edges(aperture)[0]\n",
    "        for edge in Face.Edges(aperture):\n",
    "            if Topology.Centroid(edge).Z() < Topology.Centroid(bottom_edge).Z():\n",
    "                bottom_edge = edge\n",
    "            \n",
    "        return Topology.Scale(aperture, x=0.5, z=0.8, origin=Topology.Centroid(bottom_edge))"
   ]
  },
  {
   "cell_type": "code",
   "execution_count": 215,
   "id": "ba968b72-64fd-476b-a1b3-d9d113d4d044",
   "metadata": {},
   "outputs": [
    {
     "name": "stdout",
     "output_type": "stream",
     "text": [
      "[<topologic_core.Vertex object at 0x7f2acdebb9b0>, <topologic_core.Vertex object at 0x7f2acded08f0>]\n",
      "Parking has 6 faces   |   Living Room has 9 faces\n",
      "<topologic_core.Face object at 0x7f2acdf69d70>\n",
      "[<topologic_core.Vertex object at 0x7f2acded08f0>, <topologic_core.Vertex object at 0x7f2acdeb7b70>]\n",
      "Living Room has 9 faces   |   Stairs has 9 faces\n",
      "<topologic_core.Face object at 0x7f2acdf68530>\n",
      "[<topologic_core.Vertex object at 0x7f2acded08f0>, <topologic_core.Vertex object at 0x7f2acded2570>]\n",
      "Living Room has 9 faces   |   Corridor 1 has 6 faces\n",
      "<topologic_core.Face object at 0x7f2acdf6a170>\n",
      "[<topologic_core.Vertex object at 0x7f2acdeb7b70>, <topologic_core.Vertex object at 0x7f2acdf61730>]\n",
      "Stairs has 9 faces   |   Corridor 2 has 6 faces\n",
      "<topologic_core.Face object at 0x7f2acdf6bd70>\n",
      "[<topologic_core.Vertex object at 0x7f2acdf61730>, <topologic_core.Vertex object at 0x7f2acdf60c70>]\n",
      "Corridor 2 has 6 faces   |   Corridor 3 has 8 faces\n",
      "<topologic_core.Face object at 0x7f2acdf68f70>\n",
      "[<topologic_core.Vertex object at 0x7f2acdf60c70>, <topologic_core.Vertex object at 0x7f2acdf60d70>]\n",
      "Corridor 3 has 8 faces   |   Room 1 has 6 faces\n",
      "<topologic_core.Face object at 0x7f2acdf6adf0>\n"
     ]
    }
   ],
   "source": [
    "selectors = []\n",
    "cells = []\n",
    "apertures = []\n",
    "\n",
    "parking_tp = Cell.Prism(width=parking.w, length=parking.l, height=parking.h, placement=\"lowerleft\")\n",
    "selectors.append(getSelectors(parking_tp, [\"label\", \"title\"], [0, parking.name]))\n",
    "cells.append(parking_tp)\n",
    "\n",
    "living_tp = Cell.Prism(width=living.w, length=living.l, height=living.h, placement=\"lowerleft\")\n",
    "living_tp = Topology.Translate(living_tp, 0, parking.l, 0)\n",
    "selectors.append(getSelectors(living_tp, [\"label\", \"title\"], [1, living.name]))\n",
    "cells.append(living_tp)\n",
    "\n",
    "house = Topology.Boolean(parking_tp, living_tp, operation=\"merge\")\n",
    "\n",
    "stairs_tp = Cell.Prism(width=stairs.w, length=stairs.l, height=stairs.h, placement=\"lowerleft\")\n",
    "stairs_tp = Topology.Translate(stairs_tp, 0, parking.l + living.l, 0)\n",
    "selectors.append(getSelectors(stairs_tp, [\"label\", \"title\"], [2, stairs.name]))\n",
    "cells.append(stairs_tp)\n",
    "\n",
    "house = Topology.Boolean(house, stairs_tp, operation=\"merge\")\n",
    "\n",
    "corridor1_tp = Cell.Prism(width=corridor1.w, length=corridor1.l, height=corridor1.h, placement=\"lowerleft\")\n",
    "corridor1_tp = Topology.Translate(corridor1_tp, stairs.w, parking.l + living.l, 0)\n",
    "selectors.append(getSelectors(corridor1_tp, [\"label\", \"title\"], [3, corridor1.name]))\n",
    "cells.append(corridor1_tp)\n",
    "\n",
    "house = Topology.Boolean(house, corridor1_tp, operation=\"merge\")\n",
    "\n",
    "if has_patio:\n",
    "    wc1_tp = Cell.Prism(width=wc1.w, length=wc1.l, height=wc1.h, placement=\"lowerleft\")\n",
    "    wc1_tp = Topology.Translate(wc1_tp, 0, parking.l + living.l + stairs.l, 0)\n",
    "    selectors.append(getSelectors(wc1_tp, [\"label\", \"title\"], [4, wc1.name]))\n",
    "    cells.append(wc1_tp)\n",
    "    house = Topology.Boolean(house, wc1_tp, operation=\"merge\")\n",
    "    \n",
    "    wc2_tp = Cell.Prism(width=wc2.w, length=wc2.l, height=wc2.h, placement=\"lowerleft\")\n",
    "    wc2_tp = Topology.Translate(wc2_tp, 0, parking.l + living.l + stairs.l + wc1.l, 0)\n",
    "    selectors.append(getSelectors(wc2_tp, [\"label\", \"title\"], [4, wc2.name]))\n",
    "    cells.append(wc2_tp)\n",
    "    \n",
    "    house = Topology.Boolean(house, wc2_tp, operation=\"merge\")\n",
    "    \n",
    "    service_tp = Cell.Prism(width=service.w, length=service.l, height=service.h, placement=\"lowerleft\")\n",
    "    service_tp = Topology.Translate(service_tp, 0, parking.l + living.l + stairs.l + wc1.l + wc2.l, 0)\n",
    "    selectors.append(getSelectors(service_tp, [\"label\", \"title\"], [5, service.name]))\n",
    "    cells.append(service_tp)\n",
    "    house = Topology.Boolean(house, service_tp, operation=\"merge\")\n",
    "\n",
    "    patio_tp = Cell.Prism(width=patio.w, length=patio.l, height=patio.h, placement=\"lowerleft\")\n",
    "    patio_tp = Topology.Translate(patio_tp, stairs.w + corridor1.w, parking.l + living.l, 0)\n",
    "    selectors.append(getSelectors(patio_tp, [\"label\", \"title\"], [6, patio.name]))\n",
    "    cells.append(patio_tp)\n",
    "    house = Topology.Boolean(house, patio_tp, operation=\"merge\")\n",
    "    \n",
    "    dining_tp = Cell.Prism(width=dining.w, length=dining.l, height=dining.h, placement=\"lowerleft\")\n",
    "    dining_tp = Topology.Translate(dining_tp, wc1.w, parking.l + living.l + stairs.l, 0)\n",
    "    selectors.append(getSelectors(dining_tp, [\"label\", \"title\"], [7, dining.name]))\n",
    "    cells.append(dining_tp)\n",
    "    house = Topology.Boolean(house, dining_tp, operation=\"merge\")\n",
    "\n",
    "    kitchen_tp = Cell.Prism(width=kitchen.w, length=kitchen.l, height=kitchen.h, placement=\"lowerleft\")\n",
    "    kitchen_tp = Topology.Translate(kitchen_tp, general_width - kitchen.w, parking.l + living.l + stairs.l, 0)\n",
    "    selectors.append(getSelectors(kitchen_tp, [\"label\", \"title\"], [8, kitchen.name]))\n",
    "    cells.append(kitchen_tp)\n",
    "    house = Topology.Boolean(house, kitchen_tp, operation=\"merge\")\n",
    "else:\n",
    "    dining_tp = Cell.Prism(width=general_width - (stairs.w + corridor1.w), length=stairs.l, height=dining.h, placement=\"lowerleft\")\n",
    "    dining_tp = Topology.Translate(dining_tp, stairs.w + corridor1.w, parking.l + living.l, 0)\n",
    "    selectors.append(getSelectors(dining_tp, [\"label\", \"title\"], [7, dining.name]))\n",
    "    cells.append(dining_tp)\n",
    "    house = Topology.Boolean(house, dining_tp, operation=\"merge\")\n",
    "\n",
    "    kitchen_tp = Cell.Prism(width=kitchen.w, length=stairs.l, height=kitchen.h, placement=\"lowerleft\")\n",
    "    kitchen_tp = Topology.Translate(kitchen_tp, general_width - kitchen.w, parking.l + living.l, 0)\n",
    "    selectors.append(getSelectors(kitchen_tp, [\"label\", \"title\"], [8, kitchen.name]))\n",
    "    cells.append(kitchen_tp)\n",
    "    house = Topology.Boolean(house, kitchen_tp, operation=\"merge\")\n",
    "\n",
    "# Second Floor\n",
    "\n",
    "corridor2_tp = Cell.Prism(width=corridor2.w, length=corridor2.l, height=corridor2.h, placement=\"lowerleft\")\n",
    "corridor2_tp = Topology.Translate(corridor2_tp, stairs.w, parking.l + living.l, general_height)\n",
    "selectors.append(getSelectors(corridor2_tp, [\"label\", \"title\"], [3, corridor2.name]))\n",
    "cells.append(corridor2_tp)\n",
    "\n",
    "house = Topology.Boolean(house, corridor2_tp, operation=\"merge\")\n",
    "\n",
    "if has_bedroom1:\n",
    "    corridor3_tp = Cell.Prism(width=corridor3.w, length=corridor3.l, height=corridor3.h, placement=\"lowerleft\")\n",
    "    corridor3_tp = Topology.Translate(corridor3_tp, 0, parking.l + living.l - corridor3.l, general_height)\n",
    "    selectors.append(getSelectors(corridor3_tp, [\"label\", \"title\"], [3, corridor3.name]))\n",
    "    cells.append(corridor3_tp)\n",
    "    \n",
    "    house = Topology.Boolean(house, corridor3_tp, operation=\"merge\")\n",
    "    \n",
    "    bedroom1_tp = Cell.Prism(width=bedroom1.w, length=bedroom1.l, height=bedroom1.h, placement=\"lowerleft\")\n",
    "    bedroom1_tp = Topology.Translate(bedroom1_tp, 0, parking.l, general_height)\n",
    "    selectors.append(getSelectors(bedroom1_tp, [\"label\", \"title\"], [9, bedroom1.name]))\n",
    "    cells.append(bedroom1_tp)\n",
    "    \n",
    "    house = Topology.Boolean(house, bedroom1_tp, operation=\"merge\")\n",
    "\n",
    "if has_bedroom2:\n",
    "    if has_patio:\n",
    "        corridor4_tp = Cell.Prism(width=corridor4.w, length=corridor4.l, height=corridor4.h, placement=\"lowerleft\")\n",
    "        corridor4_tp = Topology.Translate(corridor4_tp, 0, parking.l + living.l + corridor2.l, general_height)\n",
    "        selectors.append(getSelectors(corridor4_tp, [\"label\", \"title\"], [3, corridor4.name]))\n",
    "        cells.append(corridor4_tp)\n",
    "    \n",
    "        house = Topology.Boolean(house, corridor4_tp, operation=\"merge\")\n",
    "    \n",
    "        bedroom2_tp = Cell.Prism(width=bedroom2.w, length=bedroom2.l, height=bedroom2.h, placement=\"lowerleft\")\n",
    "        bedroom2_tp = Topology.Translate(bedroom2_tp, 0, parking.l + living.l + patio.l + corridor4.l, general_height)\n",
    "        selectors.append(getSelectors(bedroom2_tp, [\"label\", \"title\"], [9, bedroom2.name]))\n",
    "        cells.append(bedroom2_tp)\n",
    "    \n",
    "        house = Topology.Boolean(house, bedroom2_tp, operation=\"merge\")\n",
    "\n",
    "# Apertures\n",
    "apertureA = createAperture(\"Parking\", \"Living Room\", False)\n",
    "apertures.append(apertureA)\n",
    "\n",
    "apertureB = createAperture(\"Living Room\", \"Stairs\", True)\n",
    "apertures.append(apertureB)\n",
    "\n",
    "apertureC = createAperture(\"Living Room\", \"Corridor 1\", True)\n",
    "apertures.append(apertureC)\n",
    "\n",
    "apertureD = createAperture(\"Stairs\", \"Corridor 2\", True)\n",
    "apertures.append(apertureD)\n",
    "\n",
    "apertureE = createAperture(\"Corridor 2\", \"Corridor 3\", True)\n",
    "apertures.append(apertureE)\n",
    "\n",
    "apertureF = createAperture(\"Corridor 3\", \"Room 1\", False)\n",
    "apertures.append(apertureF)\n"
   ]
  },
  {
   "cell_type": "code",
   "execution_count": 200,
   "id": "58d10c57-d3dc-486d-9a78-e3375a7bf50f",
   "metadata": {},
   "outputs": [
    {
     "data": {
      "application/vnd.plotly.v1+json": {
       "config": {
        "plotlyServerURL": "https://plot.ly"
       },
       "data": [
        {
         "hoverinfo": "text",
         "legendgroup": "2",
         "legendrank": 2,
         "line": {
          "color": "black",
          "width": 1
         },
         "marker": {
          "size": 0
         },
         "mode": "lines",
         "name": "Topology Edges",
         "showlegend": false,
         "text": "",
         "type": "scatter3d",
         "x": [
          6.5,
          0,
          null,
          6.5,
          6.5,
          null,
          0,
          6.5,
          null,
          0,
          0,
          null,
          6.5,
          6.5,
          null,
          6.5,
          0,
          null,
          0,
          0,
          null,
          6.5,
          6.5,
          null,
          6.5,
          6.5,
          null,
          0,
          0,
          null,
          0,
          6.5,
          null,
          0,
          0,
          null,
          6.5,
          6.5,
          null,
          0,
          6.5,
          null,
          0,
          0,
          null,
          6.5,
          6.5,
          null,
          6.5,
          6.5,
          null,
          0,
          0,
          null,
          0,
          6.5,
          null,
          0,
          0,
          null,
          1.5,
          0,
          null,
          1.5,
          1.5,
          null,
          0,
          1.5,
          null,
          0,
          0,
          null,
          1.5,
          1.5,
          null,
          1.5,
          0,
          null,
          0,
          0,
          null,
          1.5,
          1.5,
          null,
          1.5,
          1.5,
          null,
          0,
          0,
          null,
          0,
          1.5,
          null,
          0,
          0,
          null,
          2.5,
          1.5,
          null,
          2.5,
          2.5,
          null,
          1.5,
          2.5,
          null,
          2.5,
          2.5,
          null,
          2.5,
          1.5,
          null,
          1.5,
          1.5,
          null,
          2.5,
          2.5,
          null,
          2.5,
          2.5,
          null,
          1.5,
          1.5,
          null,
          1.5,
          2.5,
          null,
          1.5,
          1.5,
          null,
          1.5,
          1.5,
          null,
          0,
          1.5,
          null,
          0,
          0,
          null,
          1.5,
          0,
          null,
          0,
          0,
          null,
          1.5,
          1.5,
          null,
          1.5,
          1.5,
          null,
          0,
          0,
          null,
          0,
          1.5,
          null,
          0,
          0,
          null,
          1.5,
          1.5,
          null,
          0,
          1.5,
          null,
          0,
          0,
          null,
          1.5,
          1.5,
          null,
          1.5,
          1.5,
          null,
          0,
          0,
          null,
          0,
          1.5,
          null,
          0,
          0,
          null,
          1.5,
          1.5,
          null,
          0,
          1.5,
          null,
          0,
          0,
          null,
          1.5,
          1.5,
          null,
          1.5,
          1.5,
          null,
          0,
          0,
          null,
          0,
          1.5,
          null,
          0,
          0,
          null,
          6.5,
          2.5,
          null,
          6.5,
          6.5,
          null,
          2.5,
          6.5,
          null,
          6.5,
          6.5,
          null,
          6.5,
          2.5,
          null,
          2.5,
          2.5,
          null,
          6.5,
          6.5,
          null,
          6.5,
          6.5,
          null,
          2.5,
          2.5,
          null,
          2.5,
          6.5,
          null,
          2.5,
          2.5,
          null,
          6.5,
          1.5,
          null,
          6.5,
          6.5,
          null,
          1.5,
          6.5,
          null,
          1.5,
          1.5,
          null,
          6.5,
          6.5,
          null,
          6.5,
          1.5,
          null,
          6.5,
          6.5,
          null,
          6.5,
          6.5,
          null,
          1.5,
          6.5,
          null,
          1.5,
          1.5,
          null,
          6.5,
          4.7,
          null,
          4.7,
          6.5,
          null,
          4.7,
          4.7,
          null,
          6.5,
          4.7,
          null,
          4.7,
          4.7,
          null,
          4.7,
          4.7,
          null,
          4.7,
          6.5,
          null,
          4.7,
          4.7,
          null,
          2.5,
          2.5,
          null,
          2.5,
          1.5,
          null,
          1.5,
          1.5,
          null,
          2.5,
          2.5,
          null,
          1.5,
          1.5,
          null,
          1.5,
          2.5,
          null,
          6.5,
          0,
          null,
          6.5,
          6.5,
          null,
          0,
          0,
          null,
          6.5,
          6.5,
          null,
          6.5,
          0,
          null,
          0,
          0,
          null,
          6.5,
          6.5,
          null,
          6.5,
          6.5,
          null,
          0,
          0,
          null,
          0,
          6.5,
          null,
          0,
          0,
          null,
          6.5,
          6.5,
          null,
          0,
          0,
          null,
          6.5,
          6.5,
          null,
          6.5,
          0,
          null,
          0,
          0,
          null,
          6.5,
          6.5,
          null,
          0,
          0,
          null,
          3.25,
          0,
          null,
          0,
          0,
          null,
          0,
          3.25,
          null,
          3.25,
          3.25,
          null,
          0,
          1.5,
          null,
          0,
          3.25,
          null,
          3.25,
          3.25,
          null,
          3.25,
          0,
          null,
          0,
          0,
          null
         ],
         "y": [
          0,
          0,
          null,
          6,
          0,
          null,
          6,
          6,
          null,
          0,
          6,
          null,
          0,
          0,
          null,
          0,
          0,
          null,
          0,
          0,
          null,
          6,
          6,
          null,
          6,
          0,
          null,
          6,
          6,
          null,
          6,
          6,
          null,
          0,
          6,
          null,
          13,
          6,
          null,
          13,
          13,
          null,
          6,
          13,
          null,
          13,
          13,
          null,
          13,
          6,
          null,
          13,
          13,
          null,
          13,
          13,
          null,
          6,
          13,
          null,
          13,
          13,
          null,
          18.5,
          13,
          null,
          18.5,
          18.5,
          null,
          13,
          18.5,
          null,
          13,
          13,
          null,
          13,
          13,
          null,
          13,
          13,
          null,
          18.5,
          18.5,
          null,
          18.5,
          13,
          null,
          18.5,
          18.5,
          null,
          18.5,
          18.5,
          null,
          13,
          18.5,
          null,
          13,
          13,
          null,
          18.5,
          13,
          null,
          18.5,
          18.5,
          null,
          13,
          13,
          null,
          13,
          13,
          null,
          13,
          13,
          null,
          18.5,
          18.5,
          null,
          18.5,
          13,
          null,
          18.5,
          18.5,
          null,
          18.5,
          18.5,
          null,
          13,
          18.5,
          null,
          19.7,
          18.5,
          null,
          19.7,
          19.7,
          null,
          18.5,
          19.7,
          null,
          18.5,
          18.5,
          null,
          18.5,
          18.5,
          null,
          19.7,
          19.7,
          null,
          19.7,
          18.5,
          null,
          19.7,
          19.7,
          null,
          19.7,
          19.7,
          null,
          18.5,
          19.7,
          null,
          20.9,
          19.7,
          null,
          20.9,
          20.9,
          null,
          19.7,
          20.9,
          null,
          20.9,
          20.9,
          null,
          20.9,
          19.7,
          null,
          20.9,
          20.9,
          null,
          20.9,
          20.9,
          null,
          19.7,
          20.9,
          null,
          23.4,
          20.9,
          null,
          23.4,
          23.4,
          null,
          20.9,
          23.4,
          null,
          23.4,
          23.4,
          null,
          23.4,
          20.9,
          null,
          23.4,
          23.4,
          null,
          23.4,
          23.4,
          null,
          20.9,
          23.4,
          null,
          13,
          13,
          null,
          18.5,
          13,
          null,
          18.5,
          18.5,
          null,
          13,
          13,
          null,
          13,
          13,
          null,
          13,
          13,
          null,
          18.5,
          18.5,
          null,
          18.5,
          13,
          null,
          18.5,
          18.5,
          null,
          18.5,
          18.5,
          null,
          13,
          18.5,
          null,
          18.5,
          18.5,
          null,
          23.4,
          18.5,
          null,
          23.4,
          23.4,
          null,
          18.5,
          23.4,
          null,
          18.5,
          18.5,
          null,
          18.5,
          18.5,
          null,
          23.4,
          23.4,
          null,
          23.4,
          18.5,
          null,
          23.4,
          23.4,
          null,
          18.5,
          23.4,
          null,
          18.5,
          18.5,
          null,
          23.4,
          23.4,
          null,
          18.5,
          23.4,
          null,
          18.5,
          18.5,
          null,
          18.5,
          18.5,
          null,
          23.4,
          23.4,
          null,
          23.4,
          23.4,
          null,
          18.5,
          23.4,
          null,
          13,
          13,
          null,
          13,
          13,
          null,
          13,
          13,
          null,
          18.5,
          18.5,
          null,
          18.5,
          18.5,
          null,
          18.5,
          18.5,
          null,
          12,
          12,
          null,
          13,
          12,
          null,
          12,
          13,
          null,
          12,
          12,
          null,
          12,
          12,
          null,
          12,
          12,
          null,
          13,
          13,
          null,
          13,
          12,
          null,
          13,
          13,
          null,
          13,
          13,
          null,
          12,
          13,
          null,
          12,
          6,
          null,
          6,
          12,
          null,
          6,
          6,
          null,
          6,
          6,
          null,
          6,
          6,
          null,
          12,
          6,
          null,
          6,
          12,
          null,
          6,
          6,
          null,
          6,
          6,
          null,
          6,
          6,
          null,
          6,
          6,
          null,
          13,
          13,
          null,
          12,
          12,
          null,
          12,
          12,
          null,
          12,
          12,
          null,
          12,
          12,
          null
         ],
         "z": [
          0,
          0,
          null,
          0,
          0,
          null,
          0,
          0,
          null,
          0,
          0,
          null,
          0,
          3,
          null,
          3,
          3,
          null,
          3,
          0,
          null,
          0,
          3,
          null,
          3,
          3,
          null,
          0,
          3,
          null,
          3,
          3,
          null,
          3,
          3,
          null,
          0,
          0,
          null,
          0,
          0,
          null,
          0,
          0,
          null,
          0,
          3,
          null,
          3,
          3,
          null,
          0,
          3,
          null,
          3,
          3,
          null,
          3,
          3,
          null,
          0,
          0,
          null,
          0,
          0,
          null,
          0,
          0,
          null,
          0,
          0,
          null,
          0,
          6,
          null,
          6,
          6,
          null,
          6,
          0,
          null,
          0,
          6,
          null,
          6,
          6,
          null,
          0,
          6,
          null,
          6,
          6,
          null,
          6,
          6,
          null,
          0,
          0,
          null,
          0,
          0,
          null,
          0,
          0,
          null,
          0,
          3,
          null,
          3,
          3,
          null,
          3,
          0,
          null,
          0,
          3,
          null,
          3,
          3,
          null,
          0,
          3,
          null,
          3,
          3,
          null,
          3,
          3,
          null,
          0,
          0,
          null,
          0,
          0,
          null,
          0,
          0,
          null,
          3,
          3,
          null,
          3,
          0,
          null,
          0,
          3,
          null,
          3,
          3,
          null,
          0,
          3,
          null,
          3,
          3,
          null,
          3,
          3,
          null,
          0,
          0,
          null,
          0,
          0,
          null,
          0,
          0,
          null,
          0,
          3,
          null,
          3,
          3,
          null,
          0,
          3,
          null,
          3,
          3,
          null,
          3,
          3,
          null,
          0,
          0,
          null,
          0,
          0,
          null,
          0,
          0,
          null,
          0,
          3,
          null,
          3,
          3,
          null,
          0,
          3,
          null,
          3,
          3,
          null,
          3,
          3,
          null,
          0,
          0,
          null,
          0,
          0,
          null,
          0,
          0,
          null,
          0,
          6,
          null,
          6,
          6,
          null,
          6,
          0,
          null,
          0,
          6,
          null,
          6,
          6,
          null,
          0,
          6,
          null,
          6,
          6,
          null,
          6,
          6,
          null,
          0,
          0,
          null,
          0,
          0,
          null,
          0,
          0,
          null,
          0,
          0,
          null,
          0,
          3,
          null,
          3,
          3,
          null,
          0,
          3,
          null,
          3,
          3,
          null,
          3,
          3,
          null,
          3,
          3,
          null,
          0,
          0,
          null,
          0,
          0,
          null,
          0,
          0,
          null,
          3,
          3,
          null,
          3,
          0,
          null,
          0,
          3,
          null,
          3,
          3,
          null,
          3,
          3,
          null,
          3,
          6,
          null,
          6,
          6,
          null,
          6,
          3,
          null,
          3,
          6,
          null,
          3,
          6,
          null,
          6,
          6,
          null,
          3,
          3,
          null,
          3,
          3,
          null,
          3,
          3,
          null,
          3,
          6,
          null,
          6,
          6,
          null,
          6,
          3,
          null,
          3,
          6,
          null,
          6,
          6,
          null,
          3,
          6,
          null,
          6,
          6,
          null,
          6,
          6,
          null,
          3,
          3,
          null,
          3,
          3,
          null,
          3,
          6,
          null,
          6,
          6,
          null,
          6,
          3,
          null,
          6,
          6,
          null,
          6,
          6,
          null,
          0,
          0,
          null,
          0,
          2.4,
          null,
          2.4,
          2.4,
          null,
          2.4,
          0,
          null,
          3,
          3,
          null,
          2.4,
          2.4,
          null,
          2.4,
          4.8,
          null,
          4.8,
          4.8,
          null,
          4.8,
          2.4,
          null
         ]
        },
        {
         "cmax": 1,
         "cmin": 0,
         "color": "#FFFFFF",
         "colorscale": [
          [
           0,
           "#440154"
          ],
          [
           0.1111111111111111,
           "#482878"
          ],
          [
           0.2222222222222222,
           "#3e4989"
          ],
          [
           0.3333333333333333,
           "#31688e"
          ],
          [
           0.4444444444444444,
           "#26828e"
          ],
          [
           0.5555555555555556,
           "#1f9e89"
          ],
          [
           0.6666666666666666,
           "#35b779"
          ],
          [
           0.7777777777777778,
           "#6ece58"
          ],
          [
           0.8888888888888888,
           "#b5de2b"
          ],
          [
           1,
           "#fde725"
          ]
         ],
         "flatshading": true,
         "hoverinfo": "text",
         "hovertext": "",
         "i": [
          0,
          1,
          0,
          0,
          4,
          4,
          6,
          6,
          1,
          1,
          6,
          6,
          2,
          3,
          2,
          2,
          6,
          6,
          10,
          10,
          3,
          3,
          10,
          10,
          12,
          9,
          12,
          12,
          15,
          15,
          17,
          17,
          9,
          9,
          17,
          17,
          19,
          12,
          19,
          19,
          21,
          21,
          23,
          23,
          12,
          12,
          23,
          23,
          13,
          14,
          13,
          13,
          24,
          24,
          28,
          28,
          14,
          14,
          28,
          28,
          25,
          26,
          25,
          25,
          28,
          28,
          32,
          32,
          26,
          26,
          32,
          32,
          30,
          31,
          30,
          30,
          32,
          32,
          36,
          36,
          31,
          31,
          36,
          36,
          8,
          19,
          8,
          8,
          39,
          39,
          41,
          41,
          19,
          19,
          41,
          41,
          38,
          13,
          38,
          38,
          44,
          44,
          45,
          45,
          13,
          13,
          45,
          45,
          38,
          46,
          38,
          38,
          44,
          44,
          45,
          45,
          46,
          46,
          45,
          45,
          21,
          22,
          21,
          21,
          40,
          40,
          42,
          42,
          22,
          22,
          42,
          42,
          50,
          51,
          50,
          50,
          52,
          52,
          39,
          39,
          51,
          51,
          39,
          39,
          6,
          7,
          6,
          6,
          54,
          54,
          52,
          52,
          7,
          7,
          52,
          52,
          56,
          56,
          22,
          22,
          21,
          21,
          15,
          15,
          21,
          21,
          59,
          59
         ],
         "j": [
          1,
          3,
          4,
          5,
          0,
          2,
          2,
          3,
          5,
          7,
          5,
          7,
          3,
          9,
          6,
          7,
          2,
          8,
          8,
          9,
          7,
          11,
          7,
          11,
          9,
          14,
          15,
          16,
          12,
          13,
          13,
          14,
          16,
          18,
          16,
          18,
          12,
          13,
          21,
          22,
          19,
          20,
          20,
          13,
          22,
          24,
          22,
          24,
          14,
          26,
          24,
          27,
          13,
          25,
          25,
          26,
          27,
          29,
          27,
          29,
          26,
          31,
          28,
          29,
          25,
          30,
          30,
          31,
          29,
          33,
          29,
          33,
          31,
          35,
          32,
          33,
          30,
          34,
          34,
          35,
          33,
          37,
          33,
          37,
          19,
          20,
          39,
          40,
          8,
          38,
          38,
          20,
          40,
          42,
          40,
          42,
          13,
          34,
          44,
          24,
          38,
          43,
          43,
          34,
          24,
          36,
          24,
          36,
          46,
          47,
          44,
          48,
          38,
          43,
          43,
          47,
          48,
          49,
          48,
          49,
          22,
          24,
          40,
          15,
          21,
          23,
          23,
          24,
          15,
          17,
          15,
          17,
          51,
          11,
          52,
          53,
          50,
          10,
          10,
          11,
          53,
          16,
          53,
          16,
          7,
          51,
          54,
          55,
          6,
          50,
          50,
          51,
          55,
          53,
          55,
          53,
          57,
          3,
          12,
          9,
          19,
          12,
          22,
          24,
          40,
          15,
          60,
          61
         ],
         "k": [
          2,
          2,
          5,
          1,
          2,
          6,
          3,
          7,
          7,
          3,
          4,
          5,
          8,
          8,
          7,
          3,
          8,
          10,
          9,
          11,
          11,
          9,
          6,
          7,
          13,
          13,
          16,
          9,
          13,
          17,
          14,
          18,
          18,
          14,
          15,
          16,
          20,
          20,
          22,
          12,
          20,
          23,
          13,
          24,
          24,
          13,
          21,
          22,
          25,
          25,
          27,
          14,
          25,
          28,
          26,
          29,
          29,
          26,
          24,
          27,
          30,
          30,
          29,
          26,
          30,
          32,
          31,
          33,
          33,
          31,
          28,
          29,
          34,
          34,
          33,
          31,
          34,
          36,
          35,
          37,
          37,
          35,
          32,
          33,
          38,
          38,
          40,
          19,
          38,
          41,
          20,
          42,
          42,
          20,
          39,
          40,
          43,
          43,
          24,
          13,
          43,
          45,
          34,
          36,
          36,
          34,
          44,
          24,
          43,
          43,
          48,
          46,
          43,
          45,
          47,
          49,
          49,
          47,
          44,
          48,
          23,
          23,
          15,
          22,
          23,
          42,
          24,
          17,
          17,
          24,
          40,
          15,
          10,
          10,
          53,
          51,
          10,
          39,
          11,
          16,
          16,
          11,
          52,
          53,
          50,
          50,
          55,
          7,
          50,
          52,
          51,
          53,
          53,
          51,
          54,
          55,
          3,
          58,
          9,
          11,
          12,
          22,
          24,
          17,
          15,
          22,
          61,
          62
         ],
         "legendgroup": "3",
         "legendrank": 3,
         "lighting": {
          "facenormalsepsilon": 0
         },
         "name": "Topology Faces",
         "opacity": 0.5,
         "showlegend": false,
         "showscale": false,
         "text": "",
         "type": "mesh3d",
         "x": [
          6.5,
          0,
          6.5,
          0,
          6.5,
          0,
          6.5,
          0,
          6.5,
          0,
          6.5,
          0,
          1.5,
          1.5,
          0,
          1.5,
          0,
          1.5,
          0,
          2.5,
          2.5,
          2.5,
          1.5,
          2.5,
          1.5,
          1.5,
          0,
          0,
          1.5,
          0,
          1.5,
          0,
          1.5,
          0,
          1.5,
          0,
          1.5,
          0,
          6.5,
          6.5,
          2.5,
          6.5,
          2.5,
          6.5,
          6.5,
          6.5,
          4.7,
          4.7,
          4.7,
          4.7,
          6.5,
          0,
          6.5,
          0,
          6.5,
          0,
          3.25,
          3.25,
          0,
          3.25,
          3.25,
          0,
          0
         ],
         "y": [
          0,
          0,
          6,
          6,
          0,
          0,
          6,
          6,
          13,
          13,
          13,
          13,
          13,
          18.5,
          18.5,
          13,
          13,
          18.5,
          18.5,
          13,
          18.5,
          13,
          13,
          18.5,
          18.5,
          19.7,
          19.7,
          18.5,
          19.7,
          19.7,
          20.9,
          20.9,
          20.9,
          20.9,
          23.4,
          23.4,
          23.4,
          23.4,
          18.5,
          13,
          13,
          18.5,
          18.5,
          23.4,
          18.5,
          23.4,
          18.5,
          23.4,
          18.5,
          23.4,
          12,
          12,
          12,
          12,
          6,
          6,
          6,
          6,
          6,
          12,
          12,
          12,
          12
         ],
         "z": [
          0,
          0,
          0,
          0,
          3,
          3,
          3,
          3,
          0,
          0,
          3,
          3,
          0,
          0,
          0,
          6,
          6,
          6,
          6,
          0,
          0,
          3,
          3,
          3,
          3,
          0,
          0,
          3,
          3,
          3,
          0,
          0,
          3,
          3,
          0,
          0,
          3,
          3,
          0,
          6,
          6,
          6,
          6,
          0,
          3,
          3,
          0,
          0,
          3,
          3,
          3,
          3,
          6,
          6,
          6,
          6,
          2.4,
          0,
          2.4,
          2.4,
          4.8,
          4.8,
          2.4
         ]
        }
       ],
       "layout": {
        "height": 500,
        "margin": {
         "b": 0,
         "l": 0,
         "r": 0,
         "t": 20
        },
        "paper_bgcolor": "#777777",
        "plot_bgcolor": "#777777",
        "scene": {
         "aspectmode": "data",
         "aspectratio": {
          "x": 0.6701209597648431,
          "y": 2.4124354551534353,
          "z": 0.618573193629086
         },
         "camera": {
          "center": {
           "x": 0,
           "y": 0,
           "z": 0
          },
          "eye": {
           "x": -0.06264743623571413,
           "y": -0.06264743623571413,
           "z": 0.06264743623571413
          },
          "projection": {
           "type": "perspective"
          },
          "up": {
           "x": 0,
           "y": 0,
           "z": 1
          }
         },
         "xaxis": {
          "type": "linear",
          "visible": false
         },
         "yaxis": {
          "type": "linear",
          "visible": false
         },
         "zaxis": {
          "type": "linear",
          "visible": false
         }
        },
        "showlegend": true,
        "template": {
         "data": {
          "bar": [
           {
            "error_x": {
             "color": "#2a3f5f"
            },
            "error_y": {
             "color": "#2a3f5f"
            },
            "marker": {
             "line": {
              "color": "#E5ECF6",
              "width": 0.5
             },
             "pattern": {
              "fillmode": "overlay",
              "size": 10,
              "solidity": 0.2
             }
            },
            "type": "bar"
           }
          ],
          "barpolar": [
           {
            "marker": {
             "line": {
              "color": "#E5ECF6",
              "width": 0.5
             },
             "pattern": {
              "fillmode": "overlay",
              "size": 10,
              "solidity": 0.2
             }
            },
            "type": "barpolar"
           }
          ],
          "carpet": [
           {
            "aaxis": {
             "endlinecolor": "#2a3f5f",
             "gridcolor": "white",
             "linecolor": "white",
             "minorgridcolor": "white",
             "startlinecolor": "#2a3f5f"
            },
            "baxis": {
             "endlinecolor": "#2a3f5f",
             "gridcolor": "white",
             "linecolor": "white",
             "minorgridcolor": "white",
             "startlinecolor": "#2a3f5f"
            },
            "type": "carpet"
           }
          ],
          "choropleth": [
           {
            "colorbar": {
             "outlinewidth": 0,
             "ticks": ""
            },
            "type": "choropleth"
           }
          ],
          "contour": [
           {
            "colorbar": {
             "outlinewidth": 0,
             "ticks": ""
            },
            "colorscale": [
             [
              0,
              "#0d0887"
             ],
             [
              0.1111111111111111,
              "#46039f"
             ],
             [
              0.2222222222222222,
              "#7201a8"
             ],
             [
              0.3333333333333333,
              "#9c179e"
             ],
             [
              0.4444444444444444,
              "#bd3786"
             ],
             [
              0.5555555555555556,
              "#d8576b"
             ],
             [
              0.6666666666666666,
              "#ed7953"
             ],
             [
              0.7777777777777778,
              "#fb9f3a"
             ],
             [
              0.8888888888888888,
              "#fdca26"
             ],
             [
              1,
              "#f0f921"
             ]
            ],
            "type": "contour"
           }
          ],
          "contourcarpet": [
           {
            "colorbar": {
             "outlinewidth": 0,
             "ticks": ""
            },
            "type": "contourcarpet"
           }
          ],
          "heatmap": [
           {
            "colorbar": {
             "outlinewidth": 0,
             "ticks": ""
            },
            "colorscale": [
             [
              0,
              "#0d0887"
             ],
             [
              0.1111111111111111,
              "#46039f"
             ],
             [
              0.2222222222222222,
              "#7201a8"
             ],
             [
              0.3333333333333333,
              "#9c179e"
             ],
             [
              0.4444444444444444,
              "#bd3786"
             ],
             [
              0.5555555555555556,
              "#d8576b"
             ],
             [
              0.6666666666666666,
              "#ed7953"
             ],
             [
              0.7777777777777778,
              "#fb9f3a"
             ],
             [
              0.8888888888888888,
              "#fdca26"
             ],
             [
              1,
              "#f0f921"
             ]
            ],
            "type": "heatmap"
           }
          ],
          "heatmapgl": [
           {
            "colorbar": {
             "outlinewidth": 0,
             "ticks": ""
            },
            "colorscale": [
             [
              0,
              "#0d0887"
             ],
             [
              0.1111111111111111,
              "#46039f"
             ],
             [
              0.2222222222222222,
              "#7201a8"
             ],
             [
              0.3333333333333333,
              "#9c179e"
             ],
             [
              0.4444444444444444,
              "#bd3786"
             ],
             [
              0.5555555555555556,
              "#d8576b"
             ],
             [
              0.6666666666666666,
              "#ed7953"
             ],
             [
              0.7777777777777778,
              "#fb9f3a"
             ],
             [
              0.8888888888888888,
              "#fdca26"
             ],
             [
              1,
              "#f0f921"
             ]
            ],
            "type": "heatmapgl"
           }
          ],
          "histogram": [
           {
            "marker": {
             "pattern": {
              "fillmode": "overlay",
              "size": 10,
              "solidity": 0.2
             }
            },
            "type": "histogram"
           }
          ],
          "histogram2d": [
           {
            "colorbar": {
             "outlinewidth": 0,
             "ticks": ""
            },
            "colorscale": [
             [
              0,
              "#0d0887"
             ],
             [
              0.1111111111111111,
              "#46039f"
             ],
             [
              0.2222222222222222,
              "#7201a8"
             ],
             [
              0.3333333333333333,
              "#9c179e"
             ],
             [
              0.4444444444444444,
              "#bd3786"
             ],
             [
              0.5555555555555556,
              "#d8576b"
             ],
             [
              0.6666666666666666,
              "#ed7953"
             ],
             [
              0.7777777777777778,
              "#fb9f3a"
             ],
             [
              0.8888888888888888,
              "#fdca26"
             ],
             [
              1,
              "#f0f921"
             ]
            ],
            "type": "histogram2d"
           }
          ],
          "histogram2dcontour": [
           {
            "colorbar": {
             "outlinewidth": 0,
             "ticks": ""
            },
            "colorscale": [
             [
              0,
              "#0d0887"
             ],
             [
              0.1111111111111111,
              "#46039f"
             ],
             [
              0.2222222222222222,
              "#7201a8"
             ],
             [
              0.3333333333333333,
              "#9c179e"
             ],
             [
              0.4444444444444444,
              "#bd3786"
             ],
             [
              0.5555555555555556,
              "#d8576b"
             ],
             [
              0.6666666666666666,
              "#ed7953"
             ],
             [
              0.7777777777777778,
              "#fb9f3a"
             ],
             [
              0.8888888888888888,
              "#fdca26"
             ],
             [
              1,
              "#f0f921"
             ]
            ],
            "type": "histogram2dcontour"
           }
          ],
          "mesh3d": [
           {
            "colorbar": {
             "outlinewidth": 0,
             "ticks": ""
            },
            "type": "mesh3d"
           }
          ],
          "parcoords": [
           {
            "line": {
             "colorbar": {
              "outlinewidth": 0,
              "ticks": ""
             }
            },
            "type": "parcoords"
           }
          ],
          "pie": [
           {
            "automargin": true,
            "type": "pie"
           }
          ],
          "scatter": [
           {
            "fillpattern": {
             "fillmode": "overlay",
             "size": 10,
             "solidity": 0.2
            },
            "type": "scatter"
           }
          ],
          "scatter3d": [
           {
            "line": {
             "colorbar": {
              "outlinewidth": 0,
              "ticks": ""
             }
            },
            "marker": {
             "colorbar": {
              "outlinewidth": 0,
              "ticks": ""
             }
            },
            "type": "scatter3d"
           }
          ],
          "scattercarpet": [
           {
            "marker": {
             "colorbar": {
              "outlinewidth": 0,
              "ticks": ""
             }
            },
            "type": "scattercarpet"
           }
          ],
          "scattergeo": [
           {
            "marker": {
             "colorbar": {
              "outlinewidth": 0,
              "ticks": ""
             }
            },
            "type": "scattergeo"
           }
          ],
          "scattergl": [
           {
            "marker": {
             "colorbar": {
              "outlinewidth": 0,
              "ticks": ""
             }
            },
            "type": "scattergl"
           }
          ],
          "scattermapbox": [
           {
            "marker": {
             "colorbar": {
              "outlinewidth": 0,
              "ticks": ""
             }
            },
            "type": "scattermapbox"
           }
          ],
          "scatterpolar": [
           {
            "marker": {
             "colorbar": {
              "outlinewidth": 0,
              "ticks": ""
             }
            },
            "type": "scatterpolar"
           }
          ],
          "scatterpolargl": [
           {
            "marker": {
             "colorbar": {
              "outlinewidth": 0,
              "ticks": ""
             }
            },
            "type": "scatterpolargl"
           }
          ],
          "scatterternary": [
           {
            "marker": {
             "colorbar": {
              "outlinewidth": 0,
              "ticks": ""
             }
            },
            "type": "scatterternary"
           }
          ],
          "surface": [
           {
            "colorbar": {
             "outlinewidth": 0,
             "ticks": ""
            },
            "colorscale": [
             [
              0,
              "#0d0887"
             ],
             [
              0.1111111111111111,
              "#46039f"
             ],
             [
              0.2222222222222222,
              "#7201a8"
             ],
             [
              0.3333333333333333,
              "#9c179e"
             ],
             [
              0.4444444444444444,
              "#bd3786"
             ],
             [
              0.5555555555555556,
              "#d8576b"
             ],
             [
              0.6666666666666666,
              "#ed7953"
             ],
             [
              0.7777777777777778,
              "#fb9f3a"
             ],
             [
              0.8888888888888888,
              "#fdca26"
             ],
             [
              1,
              "#f0f921"
             ]
            ],
            "type": "surface"
           }
          ],
          "table": [
           {
            "cells": {
             "fill": {
              "color": "#EBF0F8"
             },
             "line": {
              "color": "white"
             }
            },
            "header": {
             "fill": {
              "color": "#C8D4E3"
             },
             "line": {
              "color": "white"
             }
            },
            "type": "table"
           }
          ]
         },
         "layout": {
          "annotationdefaults": {
           "arrowcolor": "#2a3f5f",
           "arrowhead": 0,
           "arrowwidth": 1
          },
          "autotypenumbers": "strict",
          "coloraxis": {
           "colorbar": {
            "outlinewidth": 0,
            "ticks": ""
           }
          },
          "colorscale": {
           "diverging": [
            [
             0,
             "#8e0152"
            ],
            [
             0.1,
             "#c51b7d"
            ],
            [
             0.2,
             "#de77ae"
            ],
            [
             0.3,
             "#f1b6da"
            ],
            [
             0.4,
             "#fde0ef"
            ],
            [
             0.5,
             "#f7f7f7"
            ],
            [
             0.6,
             "#e6f5d0"
            ],
            [
             0.7,
             "#b8e186"
            ],
            [
             0.8,
             "#7fbc41"
            ],
            [
             0.9,
             "#4d9221"
            ],
            [
             1,
             "#276419"
            ]
           ],
           "sequential": [
            [
             0,
             "#0d0887"
            ],
            [
             0.1111111111111111,
             "#46039f"
            ],
            [
             0.2222222222222222,
             "#7201a8"
            ],
            [
             0.3333333333333333,
             "#9c179e"
            ],
            [
             0.4444444444444444,
             "#bd3786"
            ],
            [
             0.5555555555555556,
             "#d8576b"
            ],
            [
             0.6666666666666666,
             "#ed7953"
            ],
            [
             0.7777777777777778,
             "#fb9f3a"
            ],
            [
             0.8888888888888888,
             "#fdca26"
            ],
            [
             1,
             "#f0f921"
            ]
           ],
           "sequentialminus": [
            [
             0,
             "#0d0887"
            ],
            [
             0.1111111111111111,
             "#46039f"
            ],
            [
             0.2222222222222222,
             "#7201a8"
            ],
            [
             0.3333333333333333,
             "#9c179e"
            ],
            [
             0.4444444444444444,
             "#bd3786"
            ],
            [
             0.5555555555555556,
             "#d8576b"
            ],
            [
             0.6666666666666666,
             "#ed7953"
            ],
            [
             0.7777777777777778,
             "#fb9f3a"
            ],
            [
             0.8888888888888888,
             "#fdca26"
            ],
            [
             1,
             "#f0f921"
            ]
           ]
          },
          "colorway": [
           "#636efa",
           "#EF553B",
           "#00cc96",
           "#ab63fa",
           "#FFA15A",
           "#19d3f3",
           "#FF6692",
           "#B6E880",
           "#FF97FF",
           "#FECB52"
          ],
          "font": {
           "color": "#2a3f5f"
          },
          "geo": {
           "bgcolor": "white",
           "lakecolor": "white",
           "landcolor": "#E5ECF6",
           "showlakes": true,
           "showland": true,
           "subunitcolor": "white"
          },
          "hoverlabel": {
           "align": "left"
          },
          "hovermode": "closest",
          "mapbox": {
           "style": "light"
          },
          "paper_bgcolor": "white",
          "plot_bgcolor": "#E5ECF6",
          "polar": {
           "angularaxis": {
            "gridcolor": "white",
            "linecolor": "white",
            "ticks": ""
           },
           "bgcolor": "#E5ECF6",
           "radialaxis": {
            "gridcolor": "white",
            "linecolor": "white",
            "ticks": ""
           }
          },
          "scene": {
           "xaxis": {
            "backgroundcolor": "#E5ECF6",
            "gridcolor": "white",
            "gridwidth": 2,
            "linecolor": "white",
            "showbackground": true,
            "ticks": "",
            "zerolinecolor": "white"
           },
           "yaxis": {
            "backgroundcolor": "#E5ECF6",
            "gridcolor": "white",
            "gridwidth": 2,
            "linecolor": "white",
            "showbackground": true,
            "ticks": "",
            "zerolinecolor": "white"
           },
           "zaxis": {
            "backgroundcolor": "#E5ECF6",
            "gridcolor": "white",
            "gridwidth": 2,
            "linecolor": "white",
            "showbackground": true,
            "ticks": "",
            "zerolinecolor": "white"
           }
          },
          "shapedefaults": {
           "line": {
            "color": "#2a3f5f"
           }
          },
          "ternary": {
           "aaxis": {
            "gridcolor": "white",
            "linecolor": "white",
            "ticks": ""
           },
           "baxis": {
            "gridcolor": "white",
            "linecolor": "white",
            "ticks": ""
           },
           "bgcolor": "#E5ECF6",
           "caxis": {
            "gridcolor": "white",
            "linecolor": "white",
            "ticks": ""
           }
          },
          "title": {
           "x": 0.05
          },
          "xaxis": {
           "automargin": true,
           "gridcolor": "white",
           "linecolor": "white",
           "ticks": "",
           "title": {
            "standoff": 15
           },
           "zerolinecolor": "white",
           "zerolinewidth": 2
          },
          "yaxis": {
           "automargin": true,
           "gridcolor": "white",
           "linecolor": "white",
           "ticks": "",
           "title": {
            "standoff": 15
           },
           "zerolinecolor": "white",
           "zerolinewidth": 2
          }
         }
        },
        "width": 950,
        "xaxis": {
         "showgrid": false,
         "visible": false,
         "zeroline": false
        },
        "yaxis": {
         "showgrid": false,
         "visible": false,
         "zeroline": false
        }
       }
      }
     },
     "metadata": {},
     "output_type": "display_data"
    }
   ],
   "source": [
    "Topology.Show(cells+apertures, renderer='jupyterlab', showVertices=False, faceColor=\"#FFFFFF\", backgroundColor=\"#777777\")"
   ]
  },
  {
   "cell_type": "code",
   "execution_count": 213,
   "id": "4bc52d31-7e30-4c60-b6a7-fc6471351ede",
   "metadata": {},
   "outputs": [
    {
     "data": {
      "text/plain": [
       "[]"
      ]
     },
     "execution_count": 213,
     "metadata": {},
     "output_type": "execute_result"
    }
   ],
   "source": [
    "apertures"
   ]
  },
  {
   "cell_type": "code",
   "execution_count": 217,
   "id": "d491b232-8439-4dd6-a1c8-e08e06d677f7",
   "metadata": {},
   "outputs": [],
   "source": [
    "selectors = Helper.Flatten(selectors)\n",
    "cells = Helper.Flatten(cells)\n",
    "house = CellComplex.ByCells(cells)\n",
    "house = Topology.TransferDictionariesBySelectors(house, selectors, tranCells=True)\n",
    "house = Topology.AddApertures(house, apertures, subTopologyType=\"face\", exclusive=True)\n"
   ]
  },
  {
   "cell_type": "code",
   "execution_count": 218,
   "id": "f39ee615-d7cc-47f3-bc7e-084c86f3d459",
   "metadata": {},
   "outputs": [
    {
     "data": {
      "application/vnd.plotly.v1+json": {
       "config": {
        "plotlyServerURL": "https://plot.ly"
       },
       "data": [
        {
         "hoverinfo": "text",
         "legendgroup": "4",
         "legendrank": 4,
         "marker": {
          "color": [
           7,
           9,
           3,
           2,
           0,
           3,
           4,
           5,
           4,
           1,
           3,
           6,
           8
          ],
          "colorscale": [
           [
            0,
            "#440154"
           ],
           [
            0.1111111111111111,
            "#482878"
           ],
           [
            0.2222222222222222,
            "#3e4989"
           ],
           [
            0.3333333333333333,
            "#31688e"
           ],
           [
            0.4444444444444444,
            "#26828e"
           ],
           [
            0.5555555555555556,
            "#1f9e89"
           ],
           [
            0.6666666666666666,
            "#35b779"
           ],
           [
            0.7777777777777778,
            "#6ece58"
           ],
           [
            0.8888888888888888,
            "#b5de2b"
           ],
           [
            1,
            "#fde725"
           ]
          ],
          "line": {
           "color": "black",
           "width": 0.5
          },
          "size": 4,
          "symbol": "circle"
         },
         "mode": "markers",
         "name": "Graph Vertices",
         "showlegend": false,
         "text": [
          "Dinning Room (7)",
          "Room 1 (9)",
          "Corridor 3 (3)",
          "Stairs (2)",
          "Parking (0)",
          "Corridor 2 (3)",
          "WC2 (4)",
          "Service (5)",
          "WC1 (4)",
          "Living Room (1)",
          "Corridor 1 (3)",
          "Patio (6)",
          "Kitche (8)"
         ],
         "type": "scatter3d",
         "x": [
          3.1,
          3.25,
          3.25,
          0.75,
          3.25,
          2,
          0.75,
          0.75,
          0.75,
          3.25,
          2,
          4.5,
          5.6
         ],
         "y": [
          20.95,
          9,
          12.5,
          15.75,
          3,
          15.75,
          20.3,
          22.15,
          19.1,
          9.5,
          15.75,
          15.75,
          20.95
         ],
         "z": [
          1.5,
          4.5,
          4.5,
          3,
          1.5,
          4.5,
          1.5,
          1.5,
          1.5,
          1.5,
          1.5,
          3,
          1.5
         ]
        },
        {
         "hoverinfo": "text",
         "legendgroup": "5",
         "legendrank": 5,
         "line": {
          "color": "black",
          "width": 1
         },
         "mode": "lines",
         "name": "Graph Edges",
         "showlegend": false,
         "text": "",
         "type": "scatter3d",
         "x": [
          3.25,
          3.25,
          null,
          3.25,
          2,
          null,
          3.25,
          0.75,
          null,
          0.75,
          2,
          null,
          3.25,
          3.25,
          null,
          3.25,
          2,
          null
         ],
         "y": [
          9,
          12.5,
          null,
          12.5,
          15.75,
          null,
          9.5,
          15.75,
          null,
          15.75,
          15.75,
          null,
          3,
          9.5,
          null,
          9.5,
          15.75,
          null
         ],
         "z": [
          4.5,
          4.5,
          null,
          4.5,
          4.5,
          null,
          1.5,
          3,
          null,
          3,
          4.5,
          null,
          1.5,
          1.5,
          null,
          1.5,
          1.5,
          null
         ]
        },
        {
         "hoverinfo": "text",
         "hovertext": "",
         "legendgroup": "1",
         "legendrank": 1,
         "marker": {
          "color": "lightgrey",
          "size": 1.1
         },
         "mode": "markers",
         "name": "Topology Vertices",
         "showlegend": false,
         "text": "",
         "type": "scatter3d",
         "x": [
          0,
          6.5,
          6.5,
          0,
          6.5,
          0,
          6.5,
          0,
          6.5,
          2.5,
          1.5,
          0,
          6.5,
          6.5,
          2.5,
          1.5,
          0,
          0,
          6.5,
          4.7,
          2.5,
          2.5,
          6.5,
          6.5,
          6.5,
          4.7,
          2.5,
          2.5,
          1.5,
          1.5,
          0,
          0,
          1.5,
          1.5,
          0,
          0,
          6.5,
          0,
          6.5,
          0,
          4.7,
          6.5,
          6.5,
          4.7,
          1.5,
          1.5,
          1.5,
          1.5,
          1.5,
          1.5,
          0,
          0,
          0,
          0,
          0,
          0
         ],
         "y": [
          0,
          0,
          6,
          6,
          0,
          0,
          6,
          6,
          13,
          13,
          13,
          13,
          13,
          12,
          13,
          13,
          13,
          12,
          18.5,
          18.5,
          18.5,
          13,
          13,
          18.5,
          18.5,
          18.5,
          18.5,
          18.5,
          18.5,
          18.5,
          18.5,
          13,
          13,
          18.5,
          18.5,
          18.5,
          6,
          6,
          12,
          12,
          23.4,
          23.4,
          23.4,
          23.4,
          19.7,
          20.9,
          23.4,
          19.7,
          20.9,
          23.4,
          19.7,
          19.7,
          20.9,
          20.9,
          23.4,
          23.4
         ],
         "z": [
          0,
          0,
          0,
          0,
          3,
          3,
          3,
          3,
          0,
          0,
          0,
          0,
          3,
          3,
          3,
          3,
          3,
          3,
          0,
          0,
          0,
          6,
          6,
          3,
          6,
          3,
          3,
          6,
          0,
          3,
          0,
          6,
          6,
          6,
          3,
          6,
          6,
          6,
          6,
          6,
          0,
          0,
          3,
          3,
          0,
          0,
          0,
          3,
          3,
          3,
          0,
          3,
          0,
          3,
          0,
          3
         ]
        },
        {
         "hoverinfo": "text",
         "legendgroup": "2",
         "legendrank": 2,
         "line": {
          "color": "lightgrey",
          "width": 1
         },
         "marker": {
          "size": 0
         },
         "mode": "lines",
         "name": "Topology Edges",
         "showlegend": false,
         "text": "",
         "type": "scatter3d",
         "x": [
          6.5,
          0,
          null,
          6.5,
          6.5,
          null,
          0,
          6.5,
          null,
          0,
          0,
          null,
          6.5,
          6.5,
          null,
          6.5,
          0,
          null,
          0,
          0,
          null,
          6.5,
          6.5,
          null,
          6.5,
          6.5,
          null,
          0,
          0,
          null,
          0,
          6.5,
          null,
          0,
          0,
          null,
          6.5,
          6.5,
          null,
          2.5,
          6.5,
          null,
          1.5,
          2.5,
          null,
          0,
          1.5,
          null,
          0,
          0,
          null,
          6.5,
          6.5,
          null,
          6.5,
          6.5,
          null,
          6.5,
          6.5,
          null,
          2.5,
          6.5,
          null,
          2.5,
          2.5,
          null,
          1.5,
          2.5,
          null,
          1.5,
          1.5,
          null,
          0,
          1.5,
          null,
          0,
          0,
          null,
          0,
          0,
          null,
          0,
          0,
          null,
          6.5,
          0,
          null,
          6.5,
          6.5,
          null,
          4.7,
          6.5,
          null,
          2.5,
          4.7,
          null,
          2.5,
          2.5,
          null,
          2.5,
          2.5,
          null,
          6.5,
          2.5,
          null,
          6.5,
          6.5,
          null,
          6.5,
          6.5,
          null,
          6.5,
          6.5,
          null,
          6.5,
          6.5,
          null,
          4.7,
          6.5,
          null,
          4.7,
          4.7,
          null,
          2.5,
          4.7,
          null,
          2.5,
          2.5,
          null,
          2.5,
          6.5,
          null,
          2.5,
          2.5,
          null,
          2.5,
          2.5,
          null,
          2.5,
          2.5,
          null,
          1.5,
          2.5,
          null,
          1.5,
          1.5,
          null,
          1.5,
          1.5,
          null,
          1.5,
          2.5,
          null,
          1.5,
          1.5,
          null,
          0,
          1.5,
          null,
          0,
          0,
          null,
          0,
          0,
          null,
          1.5,
          0,
          null,
          1.5,
          1.5,
          null,
          1.5,
          1.5,
          null,
          1.5,
          1.5,
          null,
          0,
          1.5,
          null,
          0,
          0,
          null,
          0,
          1.5,
          null,
          0,
          0,
          null,
          0,
          0,
          null,
          6.5,
          6.5,
          null,
          6.5,
          0,
          null,
          0,
          0,
          null,
          6.5,
          6.5,
          null,
          6.5,
          6.5,
          null,
          0,
          6.5,
          null,
          0,
          0,
          null,
          0,
          0,
          null,
          6.5,
          6.5,
          null,
          1.5,
          2.5,
          null,
          0,
          0,
          null,
          4.7,
          4.7,
          null,
          4.7,
          6.5,
          null,
          6.5,
          6.5,
          null,
          6.5,
          6.5,
          null,
          6.5,
          6.5,
          null,
          4.7,
          6.5,
          null,
          4.7,
          4.7,
          null,
          4.7,
          4.7,
          null,
          1.5,
          1.5,
          null,
          1.5,
          1.5,
          null,
          1.5,
          1.5,
          null,
          1.5,
          4.7,
          null,
          1.5,
          1.5,
          null,
          1.5,
          1.5,
          null,
          1.5,
          1.5,
          null,
          1.5,
          1.5,
          null,
          1.5,
          1.5,
          null,
          1.5,
          1.5,
          null,
          1.5,
          4.7,
          null,
          1.5,
          2.5,
          null,
          0,
          1.5,
          null,
          0,
          0,
          null,
          0,
          0,
          null,
          0,
          1.5,
          null,
          0,
          0,
          null,
          0,
          1.5,
          null,
          0,
          0,
          null,
          0,
          0,
          null,
          0,
          1.5,
          null,
          0,
          0,
          null,
          0,
          1.5,
          null,
          0,
          0,
          null,
          0,
          0,
          null,
          0,
          1.5,
          null,
          0,
          0,
          null
         ],
         "y": [
          0,
          0,
          null,
          6,
          0,
          null,
          6,
          6,
          null,
          0,
          6,
          null,
          0,
          0,
          null,
          0,
          0,
          null,
          0,
          0,
          null,
          6,
          6,
          null,
          6,
          0,
          null,
          6,
          6,
          null,
          6,
          6,
          null,
          0,
          6,
          null,
          13,
          6,
          null,
          13,
          13,
          null,
          13,
          13,
          null,
          13,
          13,
          null,
          6,
          13,
          null,
          13,
          13,
          null,
          12,
          6,
          null,
          13,
          12,
          null,
          13,
          13,
          null,
          13,
          13,
          null,
          13,
          13,
          null,
          13,
          13,
          null,
          13,
          13,
          null,
          13,
          13,
          null,
          12,
          13,
          null,
          6,
          12,
          null,
          12,
          12,
          null,
          18.5,
          13,
          null,
          18.5,
          18.5,
          null,
          18.5,
          18.5,
          null,
          13,
          18.5,
          null,
          13,
          13,
          null,
          13,
          13,
          null,
          13,
          13,
          null,
          18.5,
          18.5,
          null,
          18.5,
          18.5,
          null,
          18.5,
          13,
          null,
          18.5,
          18.5,
          null,
          18.5,
          18.5,
          null,
          18.5,
          18.5,
          null,
          18.5,
          18.5,
          null,
          18.5,
          18.5,
          null,
          18.5,
          18.5,
          null,
          13,
          18.5,
          null,
          13,
          18.5,
          null,
          18.5,
          18.5,
          null,
          13,
          18.5,
          null,
          18.5,
          18.5,
          null,
          18.5,
          18.5,
          null,
          13,
          18.5,
          null,
          18.5,
          18.5,
          null,
          13,
          18.5,
          null,
          13,
          13,
          null,
          13,
          13,
          null,
          13,
          13,
          null,
          18.5,
          13,
          null,
          18.5,
          18.5,
          null,
          18.5,
          18.5,
          null,
          18.5,
          18.5,
          null,
          18.5,
          18.5,
          null,
          18.5,
          18.5,
          null,
          13,
          18.5,
          null,
          6,
          6,
          null,
          6,
          6,
          null,
          6,
          6,
          null,
          12,
          12,
          null,
          12,
          6,
          null,
          12,
          12,
          null,
          12,
          12,
          null,
          6,
          12,
          null,
          13,
          12,
          null,
          13,
          13,
          null,
          12,
          13,
          null,
          18.5,
          23.4,
          null,
          23.4,
          23.4,
          null,
          23.4,
          18.5,
          null,
          23.4,
          23.4,
          null,
          23.4,
          18.5,
          null,
          23.4,
          23.4,
          null,
          23.4,
          23.4,
          null,
          18.5,
          23.4,
          null,
          18.5,
          19.7,
          null,
          19.7,
          20.9,
          null,
          20.9,
          23.4,
          null,
          23.4,
          23.4,
          null,
          19.7,
          19.7,
          null,
          18.5,
          19.7,
          null,
          20.9,
          20.9,
          null,
          19.7,
          20.9,
          null,
          23.4,
          23.4,
          null,
          20.9,
          23.4,
          null,
          23.4,
          23.4,
          null,
          18.5,
          18.5,
          null,
          19.7,
          19.7,
          null,
          18.5,
          19.7,
          null,
          19.7,
          19.7,
          null,
          19.7,
          19.7,
          null,
          18.5,
          19.7,
          null,
          20.9,
          20.9,
          null,
          19.7,
          20.9,
          null,
          20.9,
          20.9,
          null,
          20.9,
          20.9,
          null,
          19.7,
          20.9,
          null,
          23.4,
          23.4,
          null,
          20.9,
          23.4,
          null,
          23.4,
          23.4,
          null,
          23.4,
          23.4,
          null,
          20.9,
          23.4,
          null
         ],
         "z": [
          0,
          0,
          null,
          0,
          0,
          null,
          0,
          0,
          null,
          0,
          0,
          null,
          0,
          3,
          null,
          3,
          3,
          null,
          3,
          0,
          null,
          0,
          3,
          null,
          3,
          3,
          null,
          0,
          3,
          null,
          3,
          3,
          null,
          3,
          3,
          null,
          0,
          0,
          null,
          0,
          0,
          null,
          0,
          0,
          null,
          0,
          0,
          null,
          0,
          0,
          null,
          0,
          3,
          null,
          3,
          3,
          null,
          3,
          3,
          null,
          3,
          3,
          null,
          0,
          3,
          null,
          3,
          3,
          null,
          0,
          3,
          null,
          3,
          3,
          null,
          0,
          3,
          null,
          3,
          3,
          null,
          3,
          3,
          null,
          3,
          3,
          null,
          0,
          0,
          null,
          0,
          0,
          null,
          0,
          0,
          null,
          0,
          0,
          null,
          6,
          3,
          null,
          6,
          6,
          null,
          3,
          6,
          null,
          0,
          3,
          null,
          3,
          6,
          null,
          6,
          6,
          null,
          3,
          3,
          null,
          0,
          3,
          null,
          3,
          3,
          null,
          0,
          3,
          null,
          6,
          6,
          null,
          3,
          6,
          null,
          3,
          3,
          null,
          6,
          6,
          null,
          0,
          0,
          null,
          0,
          0,
          null,
          0,
          3,
          null,
          3,
          3,
          null,
          3,
          3,
          null,
          0,
          0,
          null,
          0,
          0,
          null,
          6,
          3,
          null,
          6,
          6,
          null,
          3,
          6,
          null,
          6,
          6,
          null,
          3,
          6,
          null,
          3,
          3,
          null,
          0,
          3,
          null,
          6,
          6,
          null,
          3,
          6,
          null,
          6,
          6,
          null,
          3,
          6,
          null,
          6,
          6,
          null,
          6,
          3,
          null,
          3,
          6,
          null,
          6,
          6,
          null,
          6,
          6,
          null,
          3,
          6,
          null,
          6,
          6,
          null,
          6,
          6,
          null,
          6,
          6,
          null,
          6,
          6,
          null,
          0,
          0,
          null,
          0,
          0,
          null,
          0,
          0,
          null,
          0,
          3,
          null,
          3,
          3,
          null,
          3,
          3,
          null,
          0,
          3,
          null,
          3,
          3,
          null,
          0,
          0,
          null,
          0,
          0,
          null,
          0,
          0,
          null,
          0,
          0,
          null,
          3,
          0,
          null,
          3,
          3,
          null,
          3,
          0,
          null,
          3,
          3,
          null,
          3,
          0,
          null,
          3,
          3,
          null,
          3,
          3,
          null,
          6,
          6,
          null,
          0,
          0,
          null,
          0,
          0,
          null,
          0,
          3,
          null,
          3,
          3,
          null,
          3,
          3,
          null,
          0,
          0,
          null,
          0,
          0,
          null,
          0,
          3,
          null,
          3,
          3,
          null,
          3,
          3,
          null,
          0,
          0,
          null,
          0,
          0,
          null,
          0,
          3,
          null,
          3,
          3,
          null,
          3,
          3,
          null
         ]
        },
        {
         "cmax": 1,
         "cmin": 0,
         "color": "#FAFAFA",
         "colorscale": [
          [
           0,
           "#440154"
          ],
          [
           0.1111111111111111,
           "#482878"
          ],
          [
           0.2222222222222222,
           "#3e4989"
          ],
          [
           0.3333333333333333,
           "#31688e"
          ],
          [
           0.4444444444444444,
           "#26828e"
          ],
          [
           0.5555555555555556,
           "#1f9e89"
          ],
          [
           0.6666666666666666,
           "#35b779"
          ],
          [
           0.7777777777777778,
           "#6ece58"
          ],
          [
           0.8888888888888888,
           "#b5de2b"
          ],
          [
           1,
           "#fde725"
          ]
         ],
         "flatshading": true,
         "hoverinfo": "text",
         "hovertext": "",
         "i": [
          0,
          1,
          0,
          0,
          4,
          4,
          6,
          6,
          1,
          1,
          6,
          6,
          3,
          2,
          3,
          2,
          12,
          2,
          6,
          13,
          13,
          14,
          14,
          15,
          15,
          8,
          3,
          3,
          12,
          12,
          15,
          14,
          12,
          13,
          11,
          10,
          11,
          13,
          13,
          13,
          13,
          21,
          21,
          23,
          23,
          25,
          25,
          27,
          24,
          24,
          19,
          26,
          14,
          14,
          24,
          24,
          10,
          9,
          26,
          26,
          28,
          29,
          26,
          26,
          9,
          8,
          15,
          15,
          31,
          31,
          29,
          29,
          33,
          33,
          16,
          16,
          8,
          8,
          33,
          33,
          6,
          6,
          36,
          36,
          39,
          17,
          7,
          7,
          38,
          38,
          38,
          38,
          31,
          15,
          17,
          17,
          31,
          22,
          38,
          21,
          18,
          20,
          20,
          23,
          42,
          42,
          18,
          18,
          42,
          42,
          19,
          19,
          19,
          45,
          18,
          44,
          47,
          45,
          48,
          46,
          49,
          43,
          43,
          47,
          48,
          25,
          43,
          43,
          27,
          27,
          27,
          27,
          28,
          30,
          47,
          47,
          30,
          30,
          47,
          47,
          44,
          50,
          48,
          48,
          50,
          50,
          48,
          48,
          45,
          52,
          49,
          49,
          52,
          52,
          49,
          49
         ],
         "j": [
          1,
          3,
          4,
          5,
          0,
          2,
          2,
          3,
          5,
          7,
          5,
          7,
          8,
          3,
          9,
          10,
          11,
          11,
          2,
          11,
          10,
          10,
          9,
          9,
          8,
          17,
          7,
          17,
          7,
          17,
          16,
          15,
          14,
          14,
          10,
          19,
          18,
          21,
          22,
          11,
          20,
          23,
          13,
          20,
          18,
          18,
          19,
          25,
          23,
          25,
          10,
          19,
          22,
          27,
          22,
          27,
          9,
          28,
          19,
          28,
          9,
          28,
          15,
          29,
          8,
          30,
          31,
          32,
          15,
          29,
          28,
          30,
          29,
          34,
          32,
          35,
          34,
          16,
          32,
          35,
          36,
          37,
          6,
          12,
          38,
          39,
          37,
          39,
          37,
          39,
          12,
          13,
          22,
          31,
          39,
          32,
          32,
          31,
          22,
          22,
          40,
          18,
          41,
          20,
          41,
          40,
          25,
          43,
          43,
          25,
          28,
          44,
          45,
          46,
          45,
          28,
          44,
          44,
          45,
          45,
          45,
          40,
          46,
          29,
          47,
          48,
          49,
          48,
          26,
          29,
          31,
          33,
          30,
          50,
          44,
          50,
          34,
          51,
          34,
          51,
          50,
          52,
          45,
          52,
          51,
          53,
          51,
          53,
          52,
          54,
          46,
          54,
          53,
          55,
          53,
          55
         ],
         "k": [
          2,
          2,
          5,
          1,
          2,
          6,
          3,
          7,
          7,
          3,
          4,
          5,
          9,
          10,
          10,
          11,
          13,
          12,
          12,
          10,
          14,
          9,
          15,
          8,
          16,
          16,
          17,
          8,
          6,
          7,
          17,
          17,
          17,
          12,
          18,
          18,
          20,
          22,
          14,
          20,
          23,
          24,
          23,
          18,
          25,
          19,
          26,
          26,
          25,
          27,
          14,
          14,
          27,
          26,
          21,
          22,
          19,
          19,
          28,
          29,
          15,
          15,
          14,
          15,
          28,
          28,
          32,
          16,
          29,
          33,
          30,
          34,
          34,
          35,
          35,
          34,
          30,
          34,
          31,
          32,
          37,
          7,
          12,
          38,
          12,
          12,
          39,
          17,
          36,
          37,
          13,
          21,
          14,
          14,
          32,
          16,
          39,
          39,
          39,
          38,
          41,
          41,
          42,
          42,
          40,
          43,
          43,
          40,
          25,
          23,
          44,
          45,
          18,
          40,
          40,
          29,
          29,
          47,
          47,
          49,
          48,
          46,
          49,
          26,
          26,
          26,
          48,
          25,
          29,
          33,
          22,
          31,
          44,
          44,
          50,
          51,
          51,
          50,
          29,
          34,
          45,
          45,
          52,
          53,
          53,
          52,
          47,
          51,
          46,
          46,
          54,
          55,
          55,
          54,
          48,
          53
         ],
         "legendgroup": "3",
         "legendrank": 3,
         "lighting": {
          "facenormalsepsilon": 0
         },
         "name": "Topology Faces",
         "opacity": 0.5,
         "showlegend": false,
         "showscale": false,
         "text": "",
         "type": "mesh3d",
         "x": [
          6.5,
          0,
          6.5,
          0,
          6.5,
          0,
          6.5,
          0,
          0,
          1.5,
          2.5,
          6.5,
          6.5,
          6.5,
          2.5,
          1.5,
          0,
          0,
          4.7,
          2.5,
          6.5,
          6.5,
          2.5,
          6.5,
          6.5,
          4.7,
          2.5,
          2.5,
          1.5,
          1.5,
          0,
          1.5,
          0,
          1.5,
          0,
          0,
          6.5,
          0,
          6.5,
          0,
          4.7,
          6.5,
          6.5,
          4.7,
          1.5,
          1.5,
          1.5,
          1.5,
          1.5,
          1.5,
          0,
          0,
          0,
          0,
          0,
          0
         ],
         "y": [
          0,
          0,
          6,
          6,
          0,
          0,
          6,
          6,
          13,
          13,
          13,
          13,
          12,
          13,
          13,
          13,
          13,
          12,
          18.5,
          18.5,
          18.5,
          13,
          13,
          18.5,
          18.5,
          18.5,
          18.5,
          18.5,
          18.5,
          18.5,
          18.5,
          13,
          13,
          18.5,
          18.5,
          18.5,
          6,
          6,
          12,
          12,
          23.4,
          23.4,
          23.4,
          23.4,
          19.7,
          20.9,
          23.4,
          19.7,
          20.9,
          23.4,
          19.7,
          19.7,
          20.9,
          20.9,
          23.4,
          23.4
         ],
         "z": [
          0,
          0,
          0,
          0,
          3,
          3,
          3,
          3,
          0,
          0,
          0,
          0,
          3,
          3,
          3,
          3,
          3,
          3,
          0,
          0,
          0,
          6,
          6,
          3,
          6,
          3,
          3,
          6,
          0,
          3,
          0,
          6,
          6,
          6,
          3,
          6,
          6,
          6,
          6,
          6,
          0,
          0,
          3,
          3,
          0,
          0,
          0,
          3,
          3,
          3,
          0,
          3,
          0,
          3,
          0,
          3
         ]
        }
       ],
       "layout": {
        "height": 500,
        "margin": {
         "b": 0,
         "l": 0,
         "r": 0,
         "t": 20
        },
        "paper_bgcolor": "rgba(0, 0, 0, 0)",
        "plot_bgcolor": "rgba(0, 0, 0, 0)",
        "scene": {
         "aspectmode": "data",
         "aspectratio": {
          "x": 0.6701209597648431,
          "y": 2.4124354551534353,
          "z": 0.618573193629086
         },
         "camera": {
          "center": {
           "x": 0,
           "y": 0,
           "z": 0
          },
          "eye": {
           "x": 1.4928025173107076,
           "y": -1.4690065733871744,
           "z": 0.5486896496710028
          },
          "projection": {
           "type": "perspective"
          },
          "up": {
           "x": 0,
           "y": 0,
           "z": 1
          }
         },
         "xaxis": {
          "type": "linear",
          "visible": false
         },
         "yaxis": {
          "type": "linear",
          "visible": false
         },
         "zaxis": {
          "type": "linear",
          "visible": false
         }
        },
        "showlegend": true,
        "template": {
         "data": {
          "bar": [
           {
            "error_x": {
             "color": "#2a3f5f"
            },
            "error_y": {
             "color": "#2a3f5f"
            },
            "marker": {
             "line": {
              "color": "#E5ECF6",
              "width": 0.5
             },
             "pattern": {
              "fillmode": "overlay",
              "size": 10,
              "solidity": 0.2
             }
            },
            "type": "bar"
           }
          ],
          "barpolar": [
           {
            "marker": {
             "line": {
              "color": "#E5ECF6",
              "width": 0.5
             },
             "pattern": {
              "fillmode": "overlay",
              "size": 10,
              "solidity": 0.2
             }
            },
            "type": "barpolar"
           }
          ],
          "carpet": [
           {
            "aaxis": {
             "endlinecolor": "#2a3f5f",
             "gridcolor": "white",
             "linecolor": "white",
             "minorgridcolor": "white",
             "startlinecolor": "#2a3f5f"
            },
            "baxis": {
             "endlinecolor": "#2a3f5f",
             "gridcolor": "white",
             "linecolor": "white",
             "minorgridcolor": "white",
             "startlinecolor": "#2a3f5f"
            },
            "type": "carpet"
           }
          ],
          "choropleth": [
           {
            "colorbar": {
             "outlinewidth": 0,
             "ticks": ""
            },
            "type": "choropleth"
           }
          ],
          "contour": [
           {
            "colorbar": {
             "outlinewidth": 0,
             "ticks": ""
            },
            "colorscale": [
             [
              0,
              "#0d0887"
             ],
             [
              0.1111111111111111,
              "#46039f"
             ],
             [
              0.2222222222222222,
              "#7201a8"
             ],
             [
              0.3333333333333333,
              "#9c179e"
             ],
             [
              0.4444444444444444,
              "#bd3786"
             ],
             [
              0.5555555555555556,
              "#d8576b"
             ],
             [
              0.6666666666666666,
              "#ed7953"
             ],
             [
              0.7777777777777778,
              "#fb9f3a"
             ],
             [
              0.8888888888888888,
              "#fdca26"
             ],
             [
              1,
              "#f0f921"
             ]
            ],
            "type": "contour"
           }
          ],
          "contourcarpet": [
           {
            "colorbar": {
             "outlinewidth": 0,
             "ticks": ""
            },
            "type": "contourcarpet"
           }
          ],
          "heatmap": [
           {
            "colorbar": {
             "outlinewidth": 0,
             "ticks": ""
            },
            "colorscale": [
             [
              0,
              "#0d0887"
             ],
             [
              0.1111111111111111,
              "#46039f"
             ],
             [
              0.2222222222222222,
              "#7201a8"
             ],
             [
              0.3333333333333333,
              "#9c179e"
             ],
             [
              0.4444444444444444,
              "#bd3786"
             ],
             [
              0.5555555555555556,
              "#d8576b"
             ],
             [
              0.6666666666666666,
              "#ed7953"
             ],
             [
              0.7777777777777778,
              "#fb9f3a"
             ],
             [
              0.8888888888888888,
              "#fdca26"
             ],
             [
              1,
              "#f0f921"
             ]
            ],
            "type": "heatmap"
           }
          ],
          "heatmapgl": [
           {
            "colorbar": {
             "outlinewidth": 0,
             "ticks": ""
            },
            "colorscale": [
             [
              0,
              "#0d0887"
             ],
             [
              0.1111111111111111,
              "#46039f"
             ],
             [
              0.2222222222222222,
              "#7201a8"
             ],
             [
              0.3333333333333333,
              "#9c179e"
             ],
             [
              0.4444444444444444,
              "#bd3786"
             ],
             [
              0.5555555555555556,
              "#d8576b"
             ],
             [
              0.6666666666666666,
              "#ed7953"
             ],
             [
              0.7777777777777778,
              "#fb9f3a"
             ],
             [
              0.8888888888888888,
              "#fdca26"
             ],
             [
              1,
              "#f0f921"
             ]
            ],
            "type": "heatmapgl"
           }
          ],
          "histogram": [
           {
            "marker": {
             "pattern": {
              "fillmode": "overlay",
              "size": 10,
              "solidity": 0.2
             }
            },
            "type": "histogram"
           }
          ],
          "histogram2d": [
           {
            "colorbar": {
             "outlinewidth": 0,
             "ticks": ""
            },
            "colorscale": [
             [
              0,
              "#0d0887"
             ],
             [
              0.1111111111111111,
              "#46039f"
             ],
             [
              0.2222222222222222,
              "#7201a8"
             ],
             [
              0.3333333333333333,
              "#9c179e"
             ],
             [
              0.4444444444444444,
              "#bd3786"
             ],
             [
              0.5555555555555556,
              "#d8576b"
             ],
             [
              0.6666666666666666,
              "#ed7953"
             ],
             [
              0.7777777777777778,
              "#fb9f3a"
             ],
             [
              0.8888888888888888,
              "#fdca26"
             ],
             [
              1,
              "#f0f921"
             ]
            ],
            "type": "histogram2d"
           }
          ],
          "histogram2dcontour": [
           {
            "colorbar": {
             "outlinewidth": 0,
             "ticks": ""
            },
            "colorscale": [
             [
              0,
              "#0d0887"
             ],
             [
              0.1111111111111111,
              "#46039f"
             ],
             [
              0.2222222222222222,
              "#7201a8"
             ],
             [
              0.3333333333333333,
              "#9c179e"
             ],
             [
              0.4444444444444444,
              "#bd3786"
             ],
             [
              0.5555555555555556,
              "#d8576b"
             ],
             [
              0.6666666666666666,
              "#ed7953"
             ],
             [
              0.7777777777777778,
              "#fb9f3a"
             ],
             [
              0.8888888888888888,
              "#fdca26"
             ],
             [
              1,
              "#f0f921"
             ]
            ],
            "type": "histogram2dcontour"
           }
          ],
          "mesh3d": [
           {
            "colorbar": {
             "outlinewidth": 0,
             "ticks": ""
            },
            "type": "mesh3d"
           }
          ],
          "parcoords": [
           {
            "line": {
             "colorbar": {
              "outlinewidth": 0,
              "ticks": ""
             }
            },
            "type": "parcoords"
           }
          ],
          "pie": [
           {
            "automargin": true,
            "type": "pie"
           }
          ],
          "scatter": [
           {
            "fillpattern": {
             "fillmode": "overlay",
             "size": 10,
             "solidity": 0.2
            },
            "type": "scatter"
           }
          ],
          "scatter3d": [
           {
            "line": {
             "colorbar": {
              "outlinewidth": 0,
              "ticks": ""
             }
            },
            "marker": {
             "colorbar": {
              "outlinewidth": 0,
              "ticks": ""
             }
            },
            "type": "scatter3d"
           }
          ],
          "scattercarpet": [
           {
            "marker": {
             "colorbar": {
              "outlinewidth": 0,
              "ticks": ""
             }
            },
            "type": "scattercarpet"
           }
          ],
          "scattergeo": [
           {
            "marker": {
             "colorbar": {
              "outlinewidth": 0,
              "ticks": ""
             }
            },
            "type": "scattergeo"
           }
          ],
          "scattergl": [
           {
            "marker": {
             "colorbar": {
              "outlinewidth": 0,
              "ticks": ""
             }
            },
            "type": "scattergl"
           }
          ],
          "scattermapbox": [
           {
            "marker": {
             "colorbar": {
              "outlinewidth": 0,
              "ticks": ""
             }
            },
            "type": "scattermapbox"
           }
          ],
          "scatterpolar": [
           {
            "marker": {
             "colorbar": {
              "outlinewidth": 0,
              "ticks": ""
             }
            },
            "type": "scatterpolar"
           }
          ],
          "scatterpolargl": [
           {
            "marker": {
             "colorbar": {
              "outlinewidth": 0,
              "ticks": ""
             }
            },
            "type": "scatterpolargl"
           }
          ],
          "scatterternary": [
           {
            "marker": {
             "colorbar": {
              "outlinewidth": 0,
              "ticks": ""
             }
            },
            "type": "scatterternary"
           }
          ],
          "surface": [
           {
            "colorbar": {
             "outlinewidth": 0,
             "ticks": ""
            },
            "colorscale": [
             [
              0,
              "#0d0887"
             ],
             [
              0.1111111111111111,
              "#46039f"
             ],
             [
              0.2222222222222222,
              "#7201a8"
             ],
             [
              0.3333333333333333,
              "#9c179e"
             ],
             [
              0.4444444444444444,
              "#bd3786"
             ],
             [
              0.5555555555555556,
              "#d8576b"
             ],
             [
              0.6666666666666666,
              "#ed7953"
             ],
             [
              0.7777777777777778,
              "#fb9f3a"
             ],
             [
              0.8888888888888888,
              "#fdca26"
             ],
             [
              1,
              "#f0f921"
             ]
            ],
            "type": "surface"
           }
          ],
          "table": [
           {
            "cells": {
             "fill": {
              "color": "#EBF0F8"
             },
             "line": {
              "color": "white"
             }
            },
            "header": {
             "fill": {
              "color": "#C8D4E3"
             },
             "line": {
              "color": "white"
             }
            },
            "type": "table"
           }
          ]
         },
         "layout": {
          "annotationdefaults": {
           "arrowcolor": "#2a3f5f",
           "arrowhead": 0,
           "arrowwidth": 1
          },
          "autotypenumbers": "strict",
          "coloraxis": {
           "colorbar": {
            "outlinewidth": 0,
            "ticks": ""
           }
          },
          "colorscale": {
           "diverging": [
            [
             0,
             "#8e0152"
            ],
            [
             0.1,
             "#c51b7d"
            ],
            [
             0.2,
             "#de77ae"
            ],
            [
             0.3,
             "#f1b6da"
            ],
            [
             0.4,
             "#fde0ef"
            ],
            [
             0.5,
             "#f7f7f7"
            ],
            [
             0.6,
             "#e6f5d0"
            ],
            [
             0.7,
             "#b8e186"
            ],
            [
             0.8,
             "#7fbc41"
            ],
            [
             0.9,
             "#4d9221"
            ],
            [
             1,
             "#276419"
            ]
           ],
           "sequential": [
            [
             0,
             "#0d0887"
            ],
            [
             0.1111111111111111,
             "#46039f"
            ],
            [
             0.2222222222222222,
             "#7201a8"
            ],
            [
             0.3333333333333333,
             "#9c179e"
            ],
            [
             0.4444444444444444,
             "#bd3786"
            ],
            [
             0.5555555555555556,
             "#d8576b"
            ],
            [
             0.6666666666666666,
             "#ed7953"
            ],
            [
             0.7777777777777778,
             "#fb9f3a"
            ],
            [
             0.8888888888888888,
             "#fdca26"
            ],
            [
             1,
             "#f0f921"
            ]
           ],
           "sequentialminus": [
            [
             0,
             "#0d0887"
            ],
            [
             0.1111111111111111,
             "#46039f"
            ],
            [
             0.2222222222222222,
             "#7201a8"
            ],
            [
             0.3333333333333333,
             "#9c179e"
            ],
            [
             0.4444444444444444,
             "#bd3786"
            ],
            [
             0.5555555555555556,
             "#d8576b"
            ],
            [
             0.6666666666666666,
             "#ed7953"
            ],
            [
             0.7777777777777778,
             "#fb9f3a"
            ],
            [
             0.8888888888888888,
             "#fdca26"
            ],
            [
             1,
             "#f0f921"
            ]
           ]
          },
          "colorway": [
           "#636efa",
           "#EF553B",
           "#00cc96",
           "#ab63fa",
           "#FFA15A",
           "#19d3f3",
           "#FF6692",
           "#B6E880",
           "#FF97FF",
           "#FECB52"
          ],
          "font": {
           "color": "#2a3f5f"
          },
          "geo": {
           "bgcolor": "white",
           "lakecolor": "white",
           "landcolor": "#E5ECF6",
           "showlakes": true,
           "showland": true,
           "subunitcolor": "white"
          },
          "hoverlabel": {
           "align": "left"
          },
          "hovermode": "closest",
          "mapbox": {
           "style": "light"
          },
          "paper_bgcolor": "white",
          "plot_bgcolor": "#E5ECF6",
          "polar": {
           "angularaxis": {
            "gridcolor": "white",
            "linecolor": "white",
            "ticks": ""
           },
           "bgcolor": "#E5ECF6",
           "radialaxis": {
            "gridcolor": "white",
            "linecolor": "white",
            "ticks": ""
           }
          },
          "scene": {
           "xaxis": {
            "backgroundcolor": "#E5ECF6",
            "gridcolor": "white",
            "gridwidth": 2,
            "linecolor": "white",
            "showbackground": true,
            "ticks": "",
            "zerolinecolor": "white"
           },
           "yaxis": {
            "backgroundcolor": "#E5ECF6",
            "gridcolor": "white",
            "gridwidth": 2,
            "linecolor": "white",
            "showbackground": true,
            "ticks": "",
            "zerolinecolor": "white"
           },
           "zaxis": {
            "backgroundcolor": "#E5ECF6",
            "gridcolor": "white",
            "gridwidth": 2,
            "linecolor": "white",
            "showbackground": true,
            "ticks": "",
            "zerolinecolor": "white"
           }
          },
          "shapedefaults": {
           "line": {
            "color": "#2a3f5f"
           }
          },
          "ternary": {
           "aaxis": {
            "gridcolor": "white",
            "linecolor": "white",
            "ticks": ""
           },
           "baxis": {
            "gridcolor": "white",
            "linecolor": "white",
            "ticks": ""
           },
           "bgcolor": "#E5ECF6",
           "caxis": {
            "gridcolor": "white",
            "linecolor": "white",
            "ticks": ""
           }
          },
          "title": {
           "x": 0.05
          },
          "xaxis": {
           "automargin": true,
           "gridcolor": "white",
           "linecolor": "white",
           "ticks": "",
           "title": {
            "standoff": 15
           },
           "zerolinecolor": "white",
           "zerolinewidth": 2
          },
          "yaxis": {
           "automargin": true,
           "gridcolor": "white",
           "linecolor": "white",
           "ticks": "",
           "title": {
            "standoff": 15
           },
           "zerolinecolor": "white",
           "zerolinewidth": 2
          }
         }
        },
        "width": 950,
        "xaxis": {
         "showgrid": false,
         "visible": false,
         "zeroline": false
        },
        "yaxis": {
         "showgrid": false,
         "visible": false,
         "zeroline": false
        }
       }
      },
      "image/png": "[encoded data removed]"
     },
     "metadata": {},
     "output_type": "display_data"
    }
   ],
   "source": [
    "g = Graph.ByTopology(house, direct=False, directApertures=True)\n",
    "graph_data = Plotly.DataByGraph(g, vertexSize=4, vertexGroupKey=\"label\", vertexLabelKey=\"title\", vertexGroups=[0,1,2,3,4,5,6,7,8,9])\n",
    "bldg_data = Plotly.DataByTopology(house, faceOpacity=0.5, edgeColor=\"lightgrey\", vertexColor=\"lightgrey\")\n",
    "fig = Plotly.FigureByData(graph_data+bldg_data)\n",
    "Plotly.Show(fig, renderer='jupyterlab')"
   ]
  },
  {
   "cell_type": "code",
   "execution_count": 35,
   "id": "93d6cbe9-852a-47d3-9df3-c960bc026419",
   "metadata": {},
   "outputs": [
    {
     "data": {
      "text/plain": [
       "True"
      ]
     },
     "execution_count": 35,
     "metadata": {},
     "output_type": "execute_result"
    }
   ],
   "source": [
    "Graph.ExportToCSV(g, \"./data\", 0, overwrite=True)"
   ]
  },
  {
   "cell_type": "code",
   "execution_count": 216,
   "id": "17febd76-0ab1-4055-8329-5a3e09d47e40",
   "metadata": {},
   "outputs": [
    {
     "data": {
      "application/vnd.plotly.v1+json": {
       "config": {
        "plotlyServerURL": "https://plot.ly"
       },
       "data": [
        {
         "hoverinfo": "text",
         "hovertext": "",
         "legendgroup": "1",
         "legendrank": 1,
         "marker": {
          "color": "lightgrey",
          "size": 1.1
         },
         "mode": "markers",
         "name": "Topology Vertices",
         "showlegend": false,
         "text": "",
         "type": "scatter3d",
         "x": [
          0,
          6.5,
          6.5,
          0,
          6.5,
          0,
          6.5,
          0,
          6.5,
          2.5,
          1.5,
          0,
          6.5,
          6.5,
          2.5,
          1.5,
          0,
          0,
          6.5,
          4.7,
          2.5,
          2.5,
          6.5,
          6.5,
          6.5,
          4.7,
          2.5,
          2.5,
          1.5,
          1.5,
          0,
          0,
          1.5,
          1.5,
          0,
          0,
          6.5,
          0,
          6.5,
          0,
          4.7,
          6.5,
          6.5,
          4.7,
          1.5,
          1.5,
          1.5,
          1.5,
          1.5,
          1.5,
          0,
          0,
          0,
          0,
          0,
          0
         ],
         "y": [
          0,
          0,
          6,
          6,
          0,
          0,
          6,
          6,
          13,
          13,
          13,
          13,
          13,
          12,
          13,
          13,
          13,
          12,
          18.5,
          18.5,
          18.5,
          13,
          13,
          18.5,
          18.5,
          18.5,
          18.5,
          18.5,
          18.5,
          18.5,
          18.5,
          13,
          13,
          18.5,
          18.5,
          18.5,
          6,
          6,
          12,
          12,
          23.4,
          23.4,
          23.4,
          23.4,
          19.7,
          20.9,
          23.4,
          19.7,
          20.9,
          23.4,
          19.7,
          19.7,
          20.9,
          20.9,
          23.4,
          23.4
         ],
         "z": [
          0,
          0,
          0,
          0,
          3,
          3,
          3,
          3,
          0,
          0,
          0,
          0,
          3,
          3,
          3,
          3,
          3,
          3,
          0,
          0,
          0,
          6,
          6,
          3,
          6,
          3,
          3,
          6,
          0,
          3,
          0,
          6,
          6,
          6,
          3,
          6,
          6,
          6,
          6,
          6,
          0,
          0,
          3,
          3,
          0,
          0,
          0,
          3,
          3,
          3,
          0,
          3,
          0,
          3,
          0,
          3
         ]
        },
        {
         "hoverinfo": "text",
         "legendgroup": "2",
         "legendrank": 2,
         "line": {
          "color": "lightgrey",
          "width": 1
         },
         "marker": {
          "size": 0
         },
         "mode": "lines",
         "name": "Topology Edges",
         "showlegend": false,
         "text": "",
         "type": "scatter3d",
         "x": [
          6.5,
          0,
          null,
          6.5,
          6.5,
          null,
          0,
          6.5,
          null,
          0,
          0,
          null,
          6.5,
          6.5,
          null,
          6.5,
          0,
          null,
          0,
          0,
          null,
          6.5,
          6.5,
          null,
          6.5,
          6.5,
          null,
          0,
          0,
          null,
          0,
          6.5,
          null,
          0,
          0,
          null,
          6.5,
          6.5,
          null,
          2.5,
          6.5,
          null,
          1.5,
          2.5,
          null,
          0,
          1.5,
          null,
          0,
          0,
          null,
          6.5,
          6.5,
          null,
          6.5,
          6.5,
          null,
          6.5,
          6.5,
          null,
          2.5,
          6.5,
          null,
          2.5,
          2.5,
          null,
          1.5,
          2.5,
          null,
          1.5,
          1.5,
          null,
          0,
          1.5,
          null,
          0,
          0,
          null,
          0,
          0,
          null,
          0,
          0,
          null,
          6.5,
          0,
          null,
          6.5,
          6.5,
          null,
          4.7,
          6.5,
          null,
          2.5,
          4.7,
          null,
          2.5,
          2.5,
          null,
          2.5,
          2.5,
          null,
          6.5,
          2.5,
          null,
          6.5,
          6.5,
          null,
          6.5,
          6.5,
          null,
          6.5,
          6.5,
          null,
          6.5,
          6.5,
          null,
          4.7,
          6.5,
          null,
          4.7,
          4.7,
          null,
          2.5,
          4.7,
          null,
          2.5,
          2.5,
          null,
          2.5,
          6.5,
          null,
          2.5,
          2.5,
          null,
          2.5,
          2.5,
          null,
          2.5,
          2.5,
          null,
          1.5,
          2.5,
          null,
          1.5,
          1.5,
          null,
          1.5,
          1.5,
          null,
          1.5,
          2.5,
          null,
          1.5,
          1.5,
          null,
          0,
          1.5,
          null,
          0,
          0,
          null,
          0,
          0,
          null,
          1.5,
          0,
          null,
          1.5,
          1.5,
          null,
          1.5,
          1.5,
          null,
          1.5,
          1.5,
          null,
          0,
          1.5,
          null,
          0,
          0,
          null,
          0,
          1.5,
          null,
          0,
          0,
          null,
          0,
          0,
          null,
          6.5,
          6.5,
          null,
          6.5,
          0,
          null,
          0,
          0,
          null,
          6.5,
          6.5,
          null,
          6.5,
          6.5,
          null,
          0,
          6.5,
          null,
          0,
          0,
          null,
          0,
          0,
          null,
          6.5,
          6.5,
          null,
          1.5,
          2.5,
          null,
          0,
          0,
          null,
          4.7,
          4.7,
          null,
          4.7,
          6.5,
          null,
          6.5,
          6.5,
          null,
          6.5,
          6.5,
          null,
          6.5,
          6.5,
          null,
          4.7,
          6.5,
          null,
          4.7,
          4.7,
          null,
          4.7,
          4.7,
          null,
          1.5,
          1.5,
          null,
          1.5,
          1.5,
          null,
          1.5,
          1.5,
          null,
          1.5,
          4.7,
          null,
          1.5,
          1.5,
          null,
          1.5,
          1.5,
          null,
          1.5,
          1.5,
          null,
          1.5,
          1.5,
          null,
          1.5,
          1.5,
          null,
          1.5,
          1.5,
          null,
          1.5,
          4.7,
          null,
          1.5,
          2.5,
          null,
          0,
          1.5,
          null,
          0,
          0,
          null,
          0,
          0,
          null,
          0,
          1.5,
          null,
          0,
          0,
          null,
          0,
          1.5,
          null,
          0,
          0,
          null,
          0,
          0,
          null,
          0,
          1.5,
          null,
          0,
          0,
          null,
          0,
          1.5,
          null,
          0,
          0,
          null,
          0,
          0,
          null,
          0,
          1.5,
          null,
          0,
          0,
          null
         ],
         "y": [
          0,
          0,
          null,
          6,
          0,
          null,
          6,
          6,
          null,
          0,
          6,
          null,
          0,
          0,
          null,
          0,
          0,
          null,
          0,
          0,
          null,
          6,
          6,
          null,
          6,
          0,
          null,
          6,
          6,
          null,
          6,
          6,
          null,
          0,
          6,
          null,
          13,
          6,
          null,
          13,
          13,
          null,
          13,
          13,
          null,
          13,
          13,
          null,
          6,
          13,
          null,
          13,
          13,
          null,
          12,
          6,
          null,
          13,
          12,
          null,
          13,
          13,
          null,
          13,
          13,
          null,
          13,
          13,
          null,
          13,
          13,
          null,
          13,
          13,
          null,
          13,
          13,
          null,
          12,
          13,
          null,
          6,
          12,
          null,
          12,
          12,
          null,
          18.5,
          13,
          null,
          18.5,
          18.5,
          null,
          18.5,
          18.5,
          null,
          13,
          18.5,
          null,
          13,
          13,
          null,
          13,
          13,
          null,
          13,
          13,
          null,
          18.5,
          18.5,
          null,
          18.5,
          18.5,
          null,
          18.5,
          13,
          null,
          18.5,
          18.5,
          null,
          18.5,
          18.5,
          null,
          18.5,
          18.5,
          null,
          18.5,
          18.5,
          null,
          18.5,
          18.5,
          null,
          18.5,
          18.5,
          null,
          13,
          18.5,
          null,
          13,
          18.5,
          null,
          18.5,
          18.5,
          null,
          13,
          18.5,
          null,
          18.5,
          18.5,
          null,
          18.5,
          18.5,
          null,
          13,
          18.5,
          null,
          18.5,
          18.5,
          null,
          13,
          18.5,
          null,
          13,
          13,
          null,
          13,
          13,
          null,
          13,
          13,
          null,
          18.5,
          13,
          null,
          18.5,
          18.5,
          null,
          18.5,
          18.5,
          null,
          18.5,
          18.5,
          null,
          18.5,
          18.5,
          null,
          18.5,
          18.5,
          null,
          13,
          18.5,
          null,
          6,
          6,
          null,
          6,
          6,
          null,
          6,
          6,
          null,
          12,
          12,
          null,
          12,
          6,
          null,
          12,
          12,
          null,
          12,
          12,
          null,
          6,
          12,
          null,
          13,
          12,
          null,
          13,
          13,
          null,
          12,
          13,
          null,
          18.5,
          23.4,
          null,
          23.4,
          23.4,
          null,
          23.4,
          18.5,
          null,
          23.4,
          23.4,
          null,
          23.4,
          18.5,
          null,
          23.4,
          23.4,
          null,
          23.4,
          23.4,
          null,
          18.5,
          23.4,
          null,
          18.5,
          19.7,
          null,
          19.7,
          20.9,
          null,
          20.9,
          23.4,
          null,
          23.4,
          23.4,
          null,
          19.7,
          19.7,
          null,
          18.5,
          19.7,
          null,
          20.9,
          20.9,
          null,
          19.7,
          20.9,
          null,
          23.4,
          23.4,
          null,
          20.9,
          23.4,
          null,
          23.4,
          23.4,
          null,
          18.5,
          18.5,
          null,
          19.7,
          19.7,
          null,
          18.5,
          19.7,
          null,
          19.7,
          19.7,
          null,
          19.7,
          19.7,
          null,
          18.5,
          19.7,
          null,
          20.9,
          20.9,
          null,
          19.7,
          20.9,
          null,
          20.9,
          20.9,
          null,
          20.9,
          20.9,
          null,
          19.7,
          20.9,
          null,
          23.4,
          23.4,
          null,
          20.9,
          23.4,
          null,
          23.4,
          23.4,
          null,
          23.4,
          23.4,
          null,
          20.9,
          23.4,
          null
         ],
         "z": [
          0,
          0,
          null,
          0,
          0,
          null,
          0,
          0,
          null,
          0,
          0,
          null,
          0,
          3,
          null,
          3,
          3,
          null,
          3,
          0,
          null,
          0,
          3,
          null,
          3,
          3,
          null,
          0,
          3,
          null,
          3,
          3,
          null,
          3,
          3,
          null,
          0,
          0,
          null,
          0,
          0,
          null,
          0,
          0,
          null,
          0,
          0,
          null,
          0,
          0,
          null,
          0,
          3,
          null,
          3,
          3,
          null,
          3,
          3,
          null,
          3,
          3,
          null,
          0,
          3,
          null,
          3,
          3,
          null,
          0,
          3,
          null,
          3,
          3,
          null,
          0,
          3,
          null,
          3,
          3,
          null,
          3,
          3,
          null,
          3,
          3,
          null,
          0,
          0,
          null,
          0,
          0,
          null,
          0,
          0,
          null,
          0,
          0,
          null,
          6,
          3,
          null,
          6,
          6,
          null,
          3,
          6,
          null,
          0,
          3,
          null,
          3,
          6,
          null,
          6,
          6,
          null,
          3,
          3,
          null,
          0,
          3,
          null,
          3,
          3,
          null,
          0,
          3,
          null,
          6,
          6,
          null,
          3,
          6,
          null,
          3,
          3,
          null,
          6,
          6,
          null,
          0,
          0,
          null,
          0,
          0,
          null,
          0,
          3,
          null,
          3,
          3,
          null,
          3,
          3,
          null,
          0,
          0,
          null,
          0,
          0,
          null,
          6,
          3,
          null,
          6,
          6,
          null,
          3,
          6,
          null,
          6,
          6,
          null,
          3,
          6,
          null,
          3,
          3,
          null,
          0,
          3,
          null,
          6,
          6,
          null,
          3,
          6,
          null,
          6,
          6,
          null,
          3,
          6,
          null,
          6,
          6,
          null,
          6,
          3,
          null,
          3,
          6,
          null,
          6,
          6,
          null,
          6,
          6,
          null,
          3,
          6,
          null,
          6,
          6,
          null,
          6,
          6,
          null,
          6,
          6,
          null,
          6,
          6,
          null,
          0,
          0,
          null,
          0,
          0,
          null,
          0,
          0,
          null,
          0,
          3,
          null,
          3,
          3,
          null,
          3,
          3,
          null,
          0,
          3,
          null,
          3,
          3,
          null,
          0,
          0,
          null,
          0,
          0,
          null,
          0,
          0,
          null,
          0,
          0,
          null,
          3,
          0,
          null,
          3,
          3,
          null,
          3,
          0,
          null,
          3,
          3,
          null,
          3,
          0,
          null,
          3,
          3,
          null,
          3,
          3,
          null,
          6,
          6,
          null,
          0,
          0,
          null,
          0,
          0,
          null,
          0,
          3,
          null,
          3,
          3,
          null,
          3,
          3,
          null,
          0,
          0,
          null,
          0,
          0,
          null,
          0,
          3,
          null,
          3,
          3,
          null,
          3,
          3,
          null,
          0,
          0,
          null,
          0,
          0,
          null,
          0,
          3,
          null,
          3,
          3,
          null,
          3,
          3,
          null
         ]
        },
        {
         "cmax": 1,
         "cmin": 0,
         "color": "#FAFAFA",
         "colorscale": [
          [
           0,
           "#440154"
          ],
          [
           0.1111111111111111,
           "#482878"
          ],
          [
           0.2222222222222222,
           "#3e4989"
          ],
          [
           0.3333333333333333,
           "#31688e"
          ],
          [
           0.4444444444444444,
           "#26828e"
          ],
          [
           0.5555555555555556,
           "#1f9e89"
          ],
          [
           0.6666666666666666,
           "#35b779"
          ],
          [
           0.7777777777777778,
           "#6ece58"
          ],
          [
           0.8888888888888888,
           "#b5de2b"
          ],
          [
           1,
           "#fde725"
          ]
         ],
         "flatshading": true,
         "hoverinfo": "text",
         "hovertext": "",
         "i": [
          0,
          1,
          0,
          0,
          4,
          4,
          6,
          6,
          1,
          1,
          6,
          6,
          3,
          2,
          3,
          2,
          12,
          2,
          6,
          13,
          13,
          14,
          14,
          15,
          15,
          8,
          3,
          3,
          12,
          12,
          15,
          14,
          12,
          13,
          11,
          10,
          11,
          13,
          13,
          13,
          13,
          21,
          21,
          23,
          23,
          25,
          25,
          27,
          24,
          24,
          19,
          26,
          14,
          14,
          24,
          24,
          10,
          9,
          26,
          26,
          28,
          29,
          26,
          26,
          9,
          8,
          15,
          15,
          31,
          31,
          29,
          29,
          33,
          33,
          16,
          16,
          8,
          8,
          33,
          33,
          6,
          6,
          36,
          36,
          39,
          17,
          7,
          7,
          38,
          38,
          38,
          38,
          31,
          15,
          17,
          17,
          31,
          22,
          38,
          21,
          18,
          20,
          20,
          23,
          42,
          42,
          18,
          18,
          42,
          42,
          19,
          19,
          19,
          45,
          18,
          44,
          47,
          45,
          48,
          46,
          49,
          43,
          43,
          47,
          48,
          25,
          43,
          43,
          27,
          27,
          27,
          27,
          28,
          30,
          47,
          47,
          30,
          30,
          47,
          47,
          44,
          50,
          48,
          48,
          50,
          50,
          48,
          48,
          45,
          52,
          49,
          49,
          52,
          52,
          49,
          49
         ],
         "j": [
          1,
          3,
          4,
          5,
          0,
          2,
          2,
          3,
          5,
          7,
          5,
          7,
          8,
          3,
          9,
          10,
          11,
          11,
          2,
          11,
          10,
          10,
          9,
          9,
          8,
          17,
          7,
          17,
          7,
          17,
          16,
          15,
          14,
          14,
          10,
          19,
          18,
          21,
          22,
          11,
          20,
          23,
          13,
          20,
          18,
          18,
          19,
          25,
          23,
          25,
          10,
          19,
          22,
          27,
          22,
          27,
          9,
          28,
          19,
          28,
          9,
          28,
          15,
          29,
          8,
          30,
          31,
          32,
          15,
          29,
          28,
          30,
          29,
          34,
          32,
          35,
          34,
          16,
          32,
          35,
          36,
          37,
          6,
          12,
          38,
          39,
          37,
          39,
          37,
          39,
          12,
          13,
          22,
          31,
          39,
          32,
          32,
          31,
          22,
          22,
          40,
          18,
          41,
          20,
          41,
          40,
          25,
          43,
          43,
          25,
          28,
          44,
          45,
          46,
          45,
          28,
          44,
          44,
          45,
          45,
          45,
          40,
          46,
          29,
          47,
          48,
          49,
          48,
          26,
          29,
          31,
          33,
          30,
          50,
          44,
          50,
          34,
          51,
          34,
          51,
          50,
          52,
          45,
          52,
          51,
          53,
          51,
          53,
          52,
          54,
          46,
          54,
          53,
          55,
          53,
          55
         ],
         "k": [
          2,
          2,
          5,
          1,
          2,
          6,
          3,
          7,
          7,
          3,
          4,
          5,
          9,
          10,
          10,
          11,
          13,
          12,
          12,
          10,
          14,
          9,
          15,
          8,
          16,
          16,
          17,
          8,
          6,
          7,
          17,
          17,
          17,
          12,
          18,
          18,
          20,
          22,
          14,
          20,
          23,
          24,
          23,
          18,
          25,
          19,
          26,
          26,
          25,
          27,
          14,
          14,
          27,
          26,
          21,
          22,
          19,
          19,
          28,
          29,
          15,
          15,
          14,
          15,
          28,
          28,
          32,
          16,
          29,
          33,
          30,
          34,
          34,
          35,
          35,
          34,
          30,
          34,
          31,
          32,
          37,
          7,
          12,
          38,
          12,
          12,
          39,
          17,
          36,
          37,
          13,
          21,
          14,
          14,
          32,
          16,
          39,
          39,
          39,
          38,
          41,
          41,
          42,
          42,
          40,
          43,
          43,
          40,
          25,
          23,
          44,
          45,
          18,
          40,
          40,
          29,
          29,
          47,
          47,
          49,
          48,
          46,
          49,
          26,
          26,
          26,
          48,
          25,
          29,
          33,
          22,
          31,
          44,
          44,
          50,
          51,
          51,
          50,
          29,
          34,
          45,
          45,
          52,
          53,
          53,
          52,
          47,
          51,
          46,
          46,
          54,
          55,
          55,
          54,
          48,
          53
         ],
         "legendgroup": "3",
         "legendrank": 3,
         "lighting": {
          "facenormalsepsilon": 0
         },
         "name": "Topology Faces",
         "opacity": 0.5,
         "showlegend": false,
         "showscale": false,
         "text": "",
         "type": "mesh3d",
         "x": [
          6.5,
          0,
          6.5,
          0,
          6.5,
          0,
          6.5,
          0,
          0,
          1.5,
          2.5,
          6.5,
          6.5,
          6.5,
          2.5,
          1.5,
          0,
          0,
          4.7,
          2.5,
          6.5,
          6.5,
          2.5,
          6.5,
          6.5,
          4.7,
          2.5,
          2.5,
          1.5,
          1.5,
          0,
          1.5,
          0,
          1.5,
          0,
          0,
          6.5,
          0,
          6.5,
          0,
          4.7,
          6.5,
          6.5,
          4.7,
          1.5,
          1.5,
          1.5,
          1.5,
          1.5,
          1.5,
          0,
          0,
          0,
          0,
          0,
          0
         ],
         "y": [
          0,
          0,
          6,
          6,
          0,
          0,
          6,
          6,
          13,
          13,
          13,
          13,
          12,
          13,
          13,
          13,
          13,
          12,
          18.5,
          18.5,
          18.5,
          13,
          13,
          18.5,
          18.5,
          18.5,
          18.5,
          18.5,
          18.5,
          18.5,
          18.5,
          13,
          13,
          18.5,
          18.5,
          18.5,
          6,
          6,
          12,
          12,
          23.4,
          23.4,
          23.4,
          23.4,
          19.7,
          20.9,
          23.4,
          19.7,
          20.9,
          23.4,
          19.7,
          19.7,
          20.9,
          20.9,
          23.4,
          23.4
         ],
         "z": [
          0,
          0,
          0,
          0,
          3,
          3,
          3,
          3,
          0,
          0,
          0,
          0,
          3,
          3,
          3,
          3,
          3,
          3,
          0,
          0,
          0,
          6,
          6,
          3,
          6,
          3,
          3,
          6,
          0,
          3,
          0,
          6,
          6,
          6,
          3,
          6,
          6,
          6,
          6,
          6,
          0,
          0,
          3,
          3,
          0,
          0,
          0,
          3,
          3,
          3,
          0,
          3,
          0,
          3,
          0,
          3
         ]
        },
        {
         "hoverinfo": "text",
         "hovertext": "",
         "legendgroup": "1",
         "legendrank": 1,
         "marker": {
          "color": "black",
          "size": 1.1
         },
         "mode": "markers",
         "name": "Topology Vertices",
         "showlegend": false,
         "text": "",
         "type": "scatter3d",
         "x": [
          2.5,
          1.5,
          2.5,
          1.5
         ],
         "y": [
          13,
          13,
          13,
          13
         ],
         "z": [
          3,
          3,
          6,
          6
         ]
        },
        {
         "hoverinfo": "text",
         "legendgroup": "2",
         "legendrank": 2,
         "line": {
          "color": "black",
          "width": 1
         },
         "marker": {
          "size": 0
         },
         "mode": "lines",
         "name": "Topology Edges",
         "showlegend": false,
         "text": "",
         "type": "scatter3d",
         "x": [
          1.5,
          2.5,
          null,
          2.5,
          2.5,
          null,
          2.5,
          1.5,
          null,
          1.5,
          1.5,
          null
         ],
         "y": [
          13,
          13,
          null,
          13,
          13,
          null,
          13,
          13,
          null,
          13,
          13,
          null
         ],
         "z": [
          3,
          3,
          null,
          3,
          6,
          null,
          6,
          6,
          null,
          6,
          3,
          null
         ]
        },
        {
         "cmax": 1,
         "cmin": 0,
         "color": "#000099",
         "colorscale": [
          [
           0,
           "#440154"
          ],
          [
           0.1111111111111111,
           "#482878"
          ],
          [
           0.2222222222222222,
           "#3e4989"
          ],
          [
           0.3333333333333333,
           "#31688e"
          ],
          [
           0.4444444444444444,
           "#26828e"
          ],
          [
           0.5555555555555556,
           "#1f9e89"
          ],
          [
           0.6666666666666666,
           "#35b779"
          ],
          [
           0.7777777777777778,
           "#6ece58"
          ],
          [
           0.8888888888888888,
           "#b5de2b"
          ],
          [
           1,
           "#fde725"
          ]
         ],
         "flatshading": true,
         "hoverinfo": "text",
         "hovertext": "",
         "i": [
          0,
          0
         ],
         "j": [
          1,
          2
         ],
         "k": [
          2,
          3
         ],
         "legendgroup": "3",
         "legendrank": 3,
         "lighting": {
          "facenormalsepsilon": 0
         },
         "name": "Topology Faces",
         "opacity": 0.5,
         "showlegend": false,
         "showscale": false,
         "text": "",
         "type": "mesh3d",
         "x": [
          2.5,
          2.5,
          1.5,
          1.5
         ],
         "y": [
          13,
          13,
          13,
          13
         ],
         "z": [
          3,
          6,
          6,
          3
         ]
        },
        {
         "hoverinfo": "text",
         "hovertext": "",
         "legendgroup": "1",
         "legendrank": 1,
         "marker": {
          "color": "black",
          "size": 1.1
         },
         "mode": "markers",
         "name": "Topology Vertices",
         "showlegend": false,
         "text": "",
         "type": "scatter3d",
         "x": [
          1.625,
          4.875,
          4.875,
          1.625
         ],
         "y": [
          12,
          12,
          12,
          12
         ],
         "z": [
          3,
          3,
          5.4,
          5.4
         ]
        },
        {
         "hoverinfo": "text",
         "legendgroup": "2",
         "legendrank": 2,
         "line": {
          "color": "black",
          "width": 1
         },
         "marker": {
          "size": 0
         },
         "mode": "lines",
         "name": "Topology Edges",
         "showlegend": false,
         "text": "",
         "type": "scatter3d",
         "x": [
          1.625,
          4.875,
          null,
          4.875,
          4.875,
          null,
          4.875,
          1.625,
          null,
          1.625,
          1.625,
          null
         ],
         "y": [
          12,
          12,
          null,
          12,
          12,
          null,
          12,
          12,
          null,
          12,
          12,
          null
         ],
         "z": [
          3,
          3,
          null,
          3,
          5.4,
          null,
          5.4,
          5.4,
          null,
          5.4,
          3,
          null
         ]
        },
        {
         "cmax": 1,
         "cmin": 0,
         "color": "#000099",
         "colorscale": [
          [
           0,
           "#440154"
          ],
          [
           0.1111111111111111,
           "#482878"
          ],
          [
           0.2222222222222222,
           "#3e4989"
          ],
          [
           0.3333333333333333,
           "#31688e"
          ],
          [
           0.4444444444444444,
           "#26828e"
          ],
          [
           0.5555555555555556,
           "#1f9e89"
          ],
          [
           0.6666666666666666,
           "#35b779"
          ],
          [
           0.7777777777777778,
           "#6ece58"
          ],
          [
           0.8888888888888888,
           "#b5de2b"
          ],
          [
           1,
           "#fde725"
          ]
         ],
         "flatshading": true,
         "hoverinfo": "text",
         "hovertext": "",
         "i": [
          0,
          0
         ],
         "j": [
          1,
          2
         ],
         "k": [
          2,
          3
         ],
         "legendgroup": "3",
         "legendrank": 3,
         "lighting": {
          "facenormalsepsilon": 0
         },
         "name": "Topology Faces",
         "opacity": 0.5,
         "showlegend": false,
         "showscale": false,
         "text": "",
         "type": "mesh3d",
         "x": [
          4.875,
          4.875,
          1.625,
          1.625
         ],
         "y": [
          12,
          12,
          12,
          12
         ],
         "z": [
          3,
          5.4,
          5.4,
          3
         ]
        }
       ],
       "layout": {
        "height": 500,
        "margin": {
         "b": 0,
         "l": 0,
         "r": 0,
         "t": 20
        },
        "paper_bgcolor": "rgba(0, 0, 0, 0)",
        "plot_bgcolor": "rgba(0, 0, 0, 0)",
        "scene": {
         "aspectmode": "data",
         "aspectratio": {
          "x": 0.6701209597648431,
          "y": 2.4124354551534353,
          "z": 0.618573193629086
         },
         "camera": {
          "center": {
           "x": 0,
           "y": 0,
           "z": 0
          },
          "eye": {
           "x": -0.8093724896679536,
           "y": 0.17466325519986448,
           "z": 1.2677761565293717
          },
          "projection": {
           "type": "perspective"
          },
          "up": {
           "x": 0,
           "y": 0,
           "z": 1
          }
         },
         "xaxis": {
          "type": "linear",
          "visible": false
         },
         "yaxis": {
          "type": "linear",
          "visible": false
         },
         "zaxis": {
          "type": "linear",
          "visible": false
         }
        },
        "showlegend": true,
        "template": {
         "data": {
          "bar": [
           {
            "error_x": {
             "color": "#2a3f5f"
            },
            "error_y": {
             "color": "#2a3f5f"
            },
            "marker": {
             "line": {
              "color": "#E5ECF6",
              "width": 0.5
             },
             "pattern": {
              "fillmode": "overlay",
              "size": 10,
              "solidity": 0.2
             }
            },
            "type": "bar"
           }
          ],
          "barpolar": [
           {
            "marker": {
             "line": {
              "color": "#E5ECF6",
              "width": 0.5
             },
             "pattern": {
              "fillmode": "overlay",
              "size": 10,
              "solidity": 0.2
             }
            },
            "type": "barpolar"
           }
          ],
          "carpet": [
           {
            "aaxis": {
             "endlinecolor": "#2a3f5f",
             "gridcolor": "white",
             "linecolor": "white",
             "minorgridcolor": "white",
             "startlinecolor": "#2a3f5f"
            },
            "baxis": {
             "endlinecolor": "#2a3f5f",
             "gridcolor": "white",
             "linecolor": "white",
             "minorgridcolor": "white",
             "startlinecolor": "#2a3f5f"
            },
            "type": "carpet"
           }
          ],
          "choropleth": [
           {
            "colorbar": {
             "outlinewidth": 0,
             "ticks": ""
            },
            "type": "choropleth"
           }
          ],
          "contour": [
           {
            "colorbar": {
             "outlinewidth": 0,
             "ticks": ""
            },
            "colorscale": [
             [
              0,
              "#0d0887"
             ],
             [
              0.1111111111111111,
              "#46039f"
             ],
             [
              0.2222222222222222,
              "#7201a8"
             ],
             [
              0.3333333333333333,
              "#9c179e"
             ],
             [
              0.4444444444444444,
              "#bd3786"
             ],
             [
              0.5555555555555556,
              "#d8576b"
             ],
             [
              0.6666666666666666,
              "#ed7953"
             ],
             [
              0.7777777777777778,
              "#fb9f3a"
             ],
             [
              0.8888888888888888,
              "#fdca26"
             ],
             [
              1,
              "#f0f921"
             ]
            ],
            "type": "contour"
           }
          ],
          "contourcarpet": [
           {
            "colorbar": {
             "outlinewidth": 0,
             "ticks": ""
            },
            "type": "contourcarpet"
           }
          ],
          "heatmap": [
           {
            "colorbar": {
             "outlinewidth": 0,
             "ticks": ""
            },
            "colorscale": [
             [
              0,
              "#0d0887"
             ],
             [
              0.1111111111111111,
              "#46039f"
             ],
             [
              0.2222222222222222,
              "#7201a8"
             ],
             [
              0.3333333333333333,
              "#9c179e"
             ],
             [
              0.4444444444444444,
              "#bd3786"
             ],
             [
              0.5555555555555556,
              "#d8576b"
             ],
             [
              0.6666666666666666,
              "#ed7953"
             ],
             [
              0.7777777777777778,
              "#fb9f3a"
             ],
             [
              0.8888888888888888,
              "#fdca26"
             ],
             [
              1,
              "#f0f921"
             ]
            ],
            "type": "heatmap"
           }
          ],
          "heatmapgl": [
           {
            "colorbar": {
             "outlinewidth": 0,
             "ticks": ""
            },
            "colorscale": [
             [
              0,
              "#0d0887"
             ],
             [
              0.1111111111111111,
              "#46039f"
             ],
             [
              0.2222222222222222,
              "#7201a8"
             ],
             [
              0.3333333333333333,
              "#9c179e"
             ],
             [
              0.4444444444444444,
              "#bd3786"
             ],
             [
              0.5555555555555556,
              "#d8576b"
             ],
             [
              0.6666666666666666,
              "#ed7953"
             ],
             [
              0.7777777777777778,
              "#fb9f3a"
             ],
             [
              0.8888888888888888,
              "#fdca26"
             ],
             [
              1,
              "#f0f921"
             ]
            ],
            "type": "heatmapgl"
           }
          ],
          "histogram": [
           {
            "marker": {
             "pattern": {
              "fillmode": "overlay",
              "size": 10,
              "solidity": 0.2
             }
            },
            "type": "histogram"
           }
          ],
          "histogram2d": [
           {
            "colorbar": {
             "outlinewidth": 0,
             "ticks": ""
            },
            "colorscale": [
             [
              0,
              "#0d0887"
             ],
             [
              0.1111111111111111,
              "#46039f"
             ],
             [
              0.2222222222222222,
              "#7201a8"
             ],
             [
              0.3333333333333333,
              "#9c179e"
             ],
             [
              0.4444444444444444,
              "#bd3786"
             ],
             [
              0.5555555555555556,
              "#d8576b"
             ],
             [
              0.6666666666666666,
              "#ed7953"
             ],
             [
              0.7777777777777778,
              "#fb9f3a"
             ],
             [
              0.8888888888888888,
              "#fdca26"
             ],
             [
              1,
              "#f0f921"
             ]
            ],
            "type": "histogram2d"
           }
          ],
          "histogram2dcontour": [
           {
            "colorbar": {
             "outlinewidth": 0,
             "ticks": ""
            },
            "colorscale": [
             [
              0,
              "#0d0887"
             ],
             [
              0.1111111111111111,
              "#46039f"
             ],
             [
              0.2222222222222222,
              "#7201a8"
             ],
             [
              0.3333333333333333,
              "#9c179e"
             ],
             [
              0.4444444444444444,
              "#bd3786"
             ],
             [
              0.5555555555555556,
              "#d8576b"
             ],
             [
              0.6666666666666666,
              "#ed7953"
             ],
             [
              0.7777777777777778,
              "#fb9f3a"
             ],
             [
              0.8888888888888888,
              "#fdca26"
             ],
             [
              1,
              "#f0f921"
             ]
            ],
            "type": "histogram2dcontour"
           }
          ],
          "mesh3d": [
           {
            "colorbar": {
             "outlinewidth": 0,
             "ticks": ""
            },
            "type": "mesh3d"
           }
          ],
          "parcoords": [
           {
            "line": {
             "colorbar": {
              "outlinewidth": 0,
              "ticks": ""
             }
            },
            "type": "parcoords"
           }
          ],
          "pie": [
           {
            "automargin": true,
            "type": "pie"
           }
          ],
          "scatter": [
           {
            "fillpattern": {
             "fillmode": "overlay",
             "size": 10,
             "solidity": 0.2
            },
            "type": "scatter"
           }
          ],
          "scatter3d": [
           {
            "line": {
             "colorbar": {
              "outlinewidth": 0,
              "ticks": ""
             }
            },
            "marker": {
             "colorbar": {
              "outlinewidth": 0,
              "ticks": ""
             }
            },
            "type": "scatter3d"
           }
          ],
          "scattercarpet": [
           {
            "marker": {
             "colorbar": {
              "outlinewidth": 0,
              "ticks": ""
             }
            },
            "type": "scattercarpet"
           }
          ],
          "scattergeo": [
           {
            "marker": {
             "colorbar": {
              "outlinewidth": 0,
              "ticks": ""
             }
            },
            "type": "scattergeo"
           }
          ],
          "scattergl": [
           {
            "marker": {
             "colorbar": {
              "outlinewidth": 0,
              "ticks": ""
             }
            },
            "type": "scattergl"
           }
          ],
          "scattermapbox": [
           {
            "marker": {
             "colorbar": {
              "outlinewidth": 0,
              "ticks": ""
             }
            },
            "type": "scattermapbox"
           }
          ],
          "scatterpolar": [
           {
            "marker": {
             "colorbar": {
              "outlinewidth": 0,
              "ticks": ""
             }
            },
            "type": "scatterpolar"
           }
          ],
          "scatterpolargl": [
           {
            "marker": {
             "colorbar": {
              "outlinewidth": 0,
              "ticks": ""
             }
            },
            "type": "scatterpolargl"
           }
          ],
          "scatterternary": [
           {
            "marker": {
             "colorbar": {
              "outlinewidth": 0,
              "ticks": ""
             }
            },
            "type": "scatterternary"
           }
          ],
          "surface": [
           {
            "colorbar": {
             "outlinewidth": 0,
             "ticks": ""
            },
            "colorscale": [
             [
              0,
              "#0d0887"
             ],
             [
              0.1111111111111111,
              "#46039f"
             ],
             [
              0.2222222222222222,
              "#7201a8"
             ],
             [
              0.3333333333333333,
              "#9c179e"
             ],
             [
              0.4444444444444444,
              "#bd3786"
             ],
             [
              0.5555555555555556,
              "#d8576b"
             ],
             [
              0.6666666666666666,
              "#ed7953"
             ],
             [
              0.7777777777777778,
              "#fb9f3a"
             ],
             [
              0.8888888888888888,
              "#fdca26"
             ],
             [
              1,
              "#f0f921"
             ]
            ],
            "type": "surface"
           }
          ],
          "table": [
           {
            "cells": {
             "fill": {
              "color": "#EBF0F8"
             },
             "line": {
              "color": "white"
             }
            },
            "header": {
             "fill": {
              "color": "#C8D4E3"
             },
             "line": {
              "color": "white"
             }
            },
            "type": "table"
           }
          ]
         },
         "layout": {
          "annotationdefaults": {
           "arrowcolor": "#2a3f5f",
           "arrowhead": 0,
           "arrowwidth": 1
          },
          "autotypenumbers": "strict",
          "coloraxis": {
           "colorbar": {
            "outlinewidth": 0,
            "ticks": ""
           }
          },
          "colorscale": {
           "diverging": [
            [
             0,
             "#8e0152"
            ],
            [
             0.1,
             "#c51b7d"
            ],
            [
             0.2,
             "#de77ae"
            ],
            [
             0.3,
             "#f1b6da"
            ],
            [
             0.4,
             "#fde0ef"
            ],
            [
             0.5,
             "#f7f7f7"
            ],
            [
             0.6,
             "#e6f5d0"
            ],
            [
             0.7,
             "#b8e186"
            ],
            [
             0.8,
             "#7fbc41"
            ],
            [
             0.9,
             "#4d9221"
            ],
            [
             1,
             "#276419"
            ]
           ],
           "sequential": [
            [
             0,
             "#0d0887"
            ],
            [
             0.1111111111111111,
             "#46039f"
            ],
            [
             0.2222222222222222,
             "#7201a8"
            ],
            [
             0.3333333333333333,
             "#9c179e"
            ],
            [
             0.4444444444444444,
             "#bd3786"
            ],
            [
             0.5555555555555556,
             "#d8576b"
            ],
            [
             0.6666666666666666,
             "#ed7953"
            ],
            [
             0.7777777777777778,
             "#fb9f3a"
            ],
            [
             0.8888888888888888,
             "#fdca26"
            ],
            [
             1,
             "#f0f921"
            ]
           ],
           "sequentialminus": [
            [
             0,
             "#0d0887"
            ],
            [
             0.1111111111111111,
             "#46039f"
            ],
            [
             0.2222222222222222,
             "#7201a8"
            ],
            [
             0.3333333333333333,
             "#9c179e"
            ],
            [
             0.4444444444444444,
             "#bd3786"
            ],
            [
             0.5555555555555556,
             "#d8576b"
            ],
            [
             0.6666666666666666,
             "#ed7953"
            ],
            [
             0.7777777777777778,
             "#fb9f3a"
            ],
            [
             0.8888888888888888,
             "#fdca26"
            ],
            [
             1,
             "#f0f921"
            ]
           ]
          },
          "colorway": [
           "#636efa",
           "#EF553B",
           "#00cc96",
           "#ab63fa",
           "#FFA15A",
           "#19d3f3",
           "#FF6692",
           "#B6E880",
           "#FF97FF",
           "#FECB52"
          ],
          "font": {
           "color": "#2a3f5f"
          },
          "geo": {
           "bgcolor": "white",
           "lakecolor": "white",
           "landcolor": "#E5ECF6",
           "showlakes": true,
           "showland": true,
           "subunitcolor": "white"
          },
          "hoverlabel": {
           "align": "left"
          },
          "hovermode": "closest",
          "mapbox": {
           "style": "light"
          },
          "paper_bgcolor": "white",
          "plot_bgcolor": "#E5ECF6",
          "polar": {
           "angularaxis": {
            "gridcolor": "white",
            "linecolor": "white",
            "ticks": ""
           },
           "bgcolor": "#E5ECF6",
           "radialaxis": {
            "gridcolor": "white",
            "linecolor": "white",
            "ticks": ""
           }
          },
          "scene": {
           "xaxis": {
            "backgroundcolor": "#E5ECF6",
            "gridcolor": "white",
            "gridwidth": 2,
            "linecolor": "white",
            "showbackground": true,
            "ticks": "",
            "zerolinecolor": "white"
           },
           "yaxis": {
            "backgroundcolor": "#E5ECF6",
            "gridcolor": "white",
            "gridwidth": 2,
            "linecolor": "white",
            "showbackground": true,
            "ticks": "",
            "zerolinecolor": "white"
           },
           "zaxis": {
            "backgroundcolor": "#E5ECF6",
            "gridcolor": "white",
            "gridwidth": 2,
            "linecolor": "white",
            "showbackground": true,
            "ticks": "",
            "zerolinecolor": "white"
           }
          },
          "shapedefaults": {
           "line": {
            "color": "#2a3f5f"
           }
          },
          "ternary": {
           "aaxis": {
            "gridcolor": "white",
            "linecolor": "white",
            "ticks": ""
           },
           "baxis": {
            "gridcolor": "white",
            "linecolor": "white",
            "ticks": ""
           },
           "bgcolor": "#E5ECF6",
           "caxis": {
            "gridcolor": "white",
            "linecolor": "white",
            "ticks": ""
           }
          },
          "title": {
           "x": 0.05
          },
          "xaxis": {
           "automargin": true,
           "gridcolor": "white",
           "linecolor": "white",
           "ticks": "",
           "title": {
            "standoff": 15
           },
           "zerolinecolor": "white",
           "zerolinewidth": 2
          },
          "yaxis": {
           "automargin": true,
           "gridcolor": "white",
           "linecolor": "white",
           "ticks": "",
           "title": {
            "standoff": 15
           },
           "zerolinecolor": "white",
           "zerolinewidth": 2
          }
         }
        },
        "width": 950,
        "xaxis": {
         "showgrid": false,
         "visible": false,
         "zeroline": false
        },
        "yaxis": {
         "showgrid": false,
         "visible": false,
         "zeroline": false
        }
       }
      },
      "image/png": "[encoded data removed]"
     },
     "metadata": {},
     "output_type": "display_data"
    }
   ],
   "source": [
    "shared_data= [Plotly.DataByTopology(aperture, faceColor=\"#000099\") for aperture in apertures]\n",
    "# shared_data.append(bldg_data)\n",
    "fig = Plotly.FigureByData(bldg_data+shared_data[-2]+shared_data[-1])\n",
    "Plotly.Show(fig, renderer='jupyterlab')\n",
    "# Topology.Show(adj, renderer='jupyterlab', showVertices=False, faceColor=\"#FFFFFF\", backgroundColor=\"#777777\")\n"
   ]
  },
  {
   "cell_type": "code",
   "execution_count": null,
   "id": "a6a3feb3-265a-4af1-acfd-9e9db2448ec4",
   "metadata": {},
   "outputs": [],
   "source": []
  }
 ],
 "metadata": {
  "kernelspec": {
   "display_name": "Python 3 (ipykernel)",
   "language": "python",
   "name": "python3"
  },
  "language_info": {
   "codemirror_mode": {
    "name": "ipython",
    "version": 3
   },
   "file_extension": ".py",
   "mimetype": "text/x-python",
   "name": "python",
   "nbconvert_exporter": "python",
   "pygments_lexer": "ipython3",
   "version": "3.11.8"
  }
 },
 "nbformat": 4,
 "nbformat_minor": 5
}
