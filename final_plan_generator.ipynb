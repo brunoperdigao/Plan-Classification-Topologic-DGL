{
 "cells": [
  {
   "cell_type": "markdown",
   "id": "3c47b6bf-8762-48ee-af1e-f1234a2db6e5",
   "metadata": {},
   "source": [
    "# Plan Generator"
   ]
  },
  {
   "cell_type": "markdown",
   "id": "d876b262-2ad7-4893-b047-5db8ba92ec2a",
   "metadata": {},
   "source": [
    "## Gerenal Configuration"
   ]
  },
  {
   "cell_type": "code",
   "execution_count": 2,
   "id": "09b35ac8-2110-4d8c-a137-52ae4e450efa",
   "metadata": {},
   "outputs": [],
   "source": [
    "from topologicpy.Vertex import Vertex\n",
    "from topologicpy.Face import Face\n",
    "from topologicpy.Cell import Cell\n",
    "from topologicpy.CellComplex import CellComplex\n",
    "from topologicpy.Cluster import Cluster\n",
    "from topologicpy.Topology import Topology\n",
    "from topologicpy.Dictionary import Dictionary\n",
    "from topologicpy.Color import Color\n",
    "from topologicpy.Plotly import Plotly\n",
    "from topologicpy.Graph import Graph\n",
    "from topologicpy.Vector import Vector\n",
    "from topologicpy.Helper import Helper\n",
    "\n",
    "import random"
   ]
  },
  {
   "cell_type": "code",
   "execution_count": 3,
   "id": "dc0be20d-0776-4ba5-a0bf-962e4ffc06b6",
   "metadata": {},
   "outputs": [],
   "source": [
    "def getSelectors(cell, keys, values):\n",
    "    if not cell:\n",
    "        return None\n",
    "    # selectors = []\n",
    "    s = Topology.InternalVertex(cell)\n",
    "    d = Dictionary.ByKeysValues(keys, values)\n",
    "    s = Topology.SetDictionary(s, d)\n",
    "    # selectors.append(s)\n",
    "    return s\n",
    "\n",
    "def createPrism(dimension, location):\n",
    "    w, l, h = dimension\n",
    "    x, y, z = location\n",
    "    prism = Cell.Prism(width=w, length=l, height=h, placement=\"lowerleft\")\n",
    "    prism = Topology.Translate(prism, x, y, z)\n",
    "    return prism\n",
    "\n",
    "def createWindows(is_linear=False):\n",
    "    windows = []\n",
    "    for face in CellComplex.ExternalFaces(house):\n",
    "        if Face.FacingToward(face, [0, 0, -1]):\n",
    "            continue\n",
    "        if Face.FacingToward(face, [0, 0, 1]):\n",
    "            continue\n",
    "        if is_linear and Face.FacingToward(face, [-1, 0, 0]):\n",
    "            continue\n",
    "        if is_linear and Face.FacingToward(face, [1, 0, 0]):\n",
    "            continue\n",
    "        \n",
    "        keys = [\"label\", \"title\", \"is_entrance\", \"is_external\", \"is_wet_area\", \"width\", \"length\", \"height\", \"area\", \"volume\"]\n",
    "        values = [11, \"Window\", False, True, False, 1, 0, 1, 0, 0]\n",
    "        window = Topology.Scale(face, x=0.5, y=0.5, z=0.5, origin=Topology.Centroid(face))\n",
    "        \n",
    "        d = Dictionary.ByKeysValues(keys, values)\n",
    "        window = Topology.SetDictionary(window, d)\n",
    "            \n",
    "        windows.append(window)\n",
    "    return windows\n",
    "\n",
    "def createAperture(room1, room2, is_door=True):\n",
    "    names = [room1, room2]\n",
    "    names_sel = []\n",
    "    for sel in selectors:\n",
    "        if sel.GetDictionary().ValueAtKey('title').StringValue() == room1:\n",
    "            names_sel.append(sel)\n",
    "    for sel in selectors:\n",
    "        if sel.GetDictionary().ValueAtKey('title').StringValue() == room2:\n",
    "            names_sel.append(sel)\n",
    "    names_sel\n",
    "\n",
    "    if not names_sel:\n",
    "        return\n",
    "\n",
    "    sub1 = Topology.SelectSubTopology(house, names_sel[0], subTopologyType=\"cell\")\n",
    "    sub2 = Topology.SelectSubTopology(house, names_sel[1], subTopologyType=\"cell\")\n",
    "    # print(f'{room1} has {len(Cell.Faces(sub1))} faces   |   {room2} has {len(Cell.Faces(sub2))} faces')\n",
    "    shared = Topology.SharedFaces(sub1, sub2)\n",
    "    aperture = Topology.Copy(shared[0])\n",
    "    aperture = shared[0]\n",
    "    # print(aperture)\n",
    "    \n",
    "    keys = [\"label\", \"title\", \"is_entrance\", \"is_external\", \"is_wet_area\", \"width\", \"length\", \"height\", \"area\", \"volume\"]\n",
    "    \n",
    "    if is_door:\n",
    "        width = 0.8\n",
    "        height = 2.1\n",
    "        area = 1.7        \n",
    "    else:\n",
    "        width = 3.0\n",
    "        height = 3.0\n",
    "        area = 9.0\n",
    "    length = 0\n",
    "    \n",
    "    \n",
    "    values = [12, \"Door\", False, False, False, width, length, height, area, 0]\n",
    "    d = Dictionary.ByKeysValues(keys, values)\n",
    "    aperture = Topology.SetDictionary(aperture, d)\n",
    "\n",
    "    if not is_door:\n",
    "        return aperture\n",
    "    else:\n",
    "        bottom_edge = Face.Edges(aperture)[0]\n",
    "        for edge in Face.Edges(aperture):\n",
    "            if Topology.Centroid(edge).Z() < Topology.Centroid(bottom_edge).Z():\n",
    "                bottom_edge = edge\n",
    "            \n",
    "        return Topology.Scale(aperture, x=0.5, z=0.8, origin=Topology.Centroid(bottom_edge))\n",
    "\n",
    "def getCellFloorArea(cell):\n",
    "    bottom_face = Cell.Faces(cell)[0]\n",
    "    for face in Topology.SubTopologies(cell, subTopologyType=\"face\"):\n",
    "        if Topology.Centroid(face).Z() < Topology.Centroid(bottom_face).Z():\n",
    "            bottom_face = face\n",
    "        return Face.Area(bottom_face)"
   ]
  },
  {
   "cell_type": "code",
   "execution_count": 4,
   "id": "e0d32f27-f1e8-4793-be26-6af18ebd3ebc",
   "metadata": {},
   "outputs": [],
   "source": [
    "labels = {\n",
    "    \"Stairs\": 0,\n",
    "    \"Parking\": 1,\n",
    "    \"Living\": 2,\n",
    "    \"Dining\": 3,\n",
    "    \"Kitchen\": 4,\n",
    "    \"Office\": 5,\n",
    "    \"Bedroom\": 5,\n",
    "    \"WC\": 6,\n",
    "    \"Service\": 7,\n",
    "    \"Yard\": 8,\n",
    "    \"Backyard\": 8,\n",
    "    \"Patio\": 8,\n",
    "    \"Garden\": 8,\n",
    "    \"Terrace\": 9,\n",
    "    \"Corridor\": 10,\n",
    "    \"Window\": 11,\n",
    "    \"Door\": 12,\n",
    "}"
   ]
  },
  {
   "cell_type": "code",
   "execution_count": 5,
   "id": "57f0b65c-318a-4b1c-9412-d138405ca2db",
   "metadata": {},
   "outputs": [],
   "source": [
    "class Space():\n",
    "    def __init__(self, name, is_entrance, is_external, is_wet_area, dimension, location):\n",
    "        self.name = name\n",
    "        self.is_entrance = is_entrance\n",
    "        self.is_external = is_external\n",
    "        self.is_wet_area = is_wet_area\n",
    "        self.label = labels[name.split(\" \")[0]]\n",
    "        self.dim = dimension\n",
    "        self.w = dimension[0]\n",
    "        self.l = dimension[1]\n",
    "        self.h = dimension[2]\n",
    "        self.loc = location\n",
    "        self.x = location[0]\n",
    "        self.y = location[1]\n",
    "        self.z = location[2]\n",
    "        self.topo = createPrism(dimension, location)\n",
    "        self.selector = getSelectors(\n",
    "            self.topo,\n",
    "            [\"label\", \"title\", \"is_entrance\", \"is_external\", \"is_wet_area\", \"width\", \"length\", \"height\", \"area\", \"volume\"], \n",
    "            [self.label, self.name, self.is_entrance, self.is_external, self.is_wet_area, self.w, self.l, self.h, getCellFloorArea(self.topo), Cell.Volume(self.topo)]\n",
    "        )\n",
    "        "
   ]
  },
  {
   "cell_type": "markdown",
   "id": "66b92df2-8f23-4fb5-83b4-21ed61a41b14",
   "metadata": {},
   "source": [
    "### Defining Houses List"
   ]
  },
  {
   "cell_type": "code",
   "execution_count": 6,
   "id": "0c286a16-c195-42b3-9c52-8d7b63873a56",
   "metadata": {},
   "outputs": [],
   "source": [
    "houses = []\n",
    "configs = []"
   ]
  },
  {
   "cell_type": "markdown",
   "id": "92d6e964-3e1f-468c-a753-db16415bad18",
   "metadata": {},
   "source": [
    "# House 1"
   ]
  },
  {
   "cell_type": "code",
   "execution_count": 7,
   "id": "85eb7cc0-7228-4656-92f5-28f43ec565f9",
   "metadata": {},
   "outputs": [],
   "source": [
    "def config_house_1():\n",
    "    config = {\n",
    "        \"general_width\": random.randint(60, 75) / 10,\n",
    "        \"general_height\": random.randint(28, 32) / 10,\n",
    "        \"corridor_width\": random.randint(9, 12) / 10,\n",
    "        \"has_patio\": random.choice([True, False]),\n",
    "        \"has_bedroom1\": random.choice([True, False]),\n",
    "        \"has_bedroom2\": random.choice([True, False])\n",
    "    }\n",
    "    if not config['has_bedroom1']:\n",
    "        config['has_bedroom2'] = True\n",
    "        \n",
    "    return config"
   ]
  },
  {
   "cell_type": "code",
   "execution_count": 8,
   "id": "00ff4e74-3b4b-4f42-9695-0ddc64d3bc23",
   "metadata": {},
   "outputs": [],
   "source": [
    "def topo_house_1(config):\n",
    "    general_width = config['general_width']\n",
    "    general_height = config['general_height']\n",
    "    corridor_width = config['corridor_width']\n",
    "    \n",
    "    has_patio = config['has_patio']\n",
    "    has_bedroom1 = config['has_bedroom1']\n",
    "    has_bedroom2 = config['has_bedroom2']\n",
    "\n",
    "\n",
    "    ####################\n",
    "\n",
    "    selectors = []\n",
    "    cells = []\n",
    "    keys = [\"label\", \"title\", \"area\", \"volume\"]\n",
    "    \n",
    "    parking = Space(\n",
    "        \"Parking\",\n",
    "        True,\n",
    "        True,\n",
    "        False,\n",
    "        [general_width, 5.0, general_height],\n",
    "        [0, 0, 0]\n",
    "    )\n",
    "    \n",
    "    living = Space(\n",
    "        \"Living Room\",\n",
    "        False,\n",
    "        False,\n",
    "        False,\n",
    "        [general_width, 4.5, general_height],\n",
    "        [0,parking.l,0]\n",
    "    )\n",
    "    \n",
    "    house = Topology.Boolean(parking.topo, living.topo, operation=\"merge\")\n",
    "    \n",
    "    stairs = Space(\n",
    "        \"Stairs\",\n",
    "        False,\n",
    "        False,\n",
    "        False,\n",
    "        [1.5, 5.0, general_height*2],\n",
    "        [0,(living.y + living.l),0]\n",
    "    )\n",
    "    \n",
    "    \n",
    "    \n",
    "    cells.extend([\n",
    "        parking.topo,\n",
    "        living.topo,\n",
    "        stairs.topo,  \n",
    "    ])\n",
    "    \n",
    "    selectors.extend([\n",
    "        parking.selector,\n",
    "        living.selector,\n",
    "        stairs.selector,\n",
    "    ])\n",
    "    \n",
    "    if has_patio:\n",
    "        corridor1 = Space(\n",
    "            \"Corridor 1\",\n",
    "            False,\n",
    "            False,\n",
    "            False,\n",
    "            [corridor_width, stairs.l, general_height],\n",
    "            [stairs.w,(living.y + living.l),0]\n",
    "        )\n",
    "        \n",
    "        wc1 = Space(\n",
    "            \"WC 1\",\n",
    "            False,\n",
    "            False,\n",
    "            True,\n",
    "            [stairs.w, 1.2, general_height],\n",
    "            [0, (stairs.y + stairs.l - 1.2),0]\n",
    "        )\n",
    "    \n",
    "        wc2 = Space(\n",
    "            \"WC 2\",\n",
    "            False,\n",
    "            False,\n",
    "            True,\n",
    "            [stairs.w, 1.2, general_height],\n",
    "            [0, (wc1.y + wc1.l),0]\n",
    "        )\n",
    "    \n",
    "        service = Space(\n",
    "            \"Service\",\n",
    "            False,\n",
    "            False,\n",
    "            True,\n",
    "            [stairs.w, 3.0, general_height],\n",
    "            [0, (wc2.y + wc2.l),0]\n",
    "        )\n",
    "    \n",
    "        patio = Space(\n",
    "            \"Patio\",\n",
    "            False,\n",
    "            True,\n",
    "            False,\n",
    "            [(general_width - stairs.w - corridor1.w), stairs.l, general_height*2],\n",
    "            [(corridor1.x + corridor1.w), (living.y + living.l),0]\n",
    "        )\n",
    "        \n",
    "        kitchen = Space(\n",
    "            \"Kitchen\",\n",
    "            False,\n",
    "            False,\n",
    "            True,\n",
    "            [1.8, (wc2.l + service.l), general_height],\n",
    "            [(general_width - 1.8), (patio.y + patio.l),0]\n",
    "        )\n",
    "    \n",
    "        dining = Space(\n",
    "            \"Dining Room\",\n",
    "            False,\n",
    "            False,\n",
    "            False,\n",
    "            [(general_width - wc1.w - kitchen.w), kitchen.l, general_height],\n",
    "            [(wc1.x + wc1.w), (patio.y + patio.l),0]\n",
    "        )\n",
    "    \n",
    "        backyard = Space(\n",
    "            \"Backyard\",\n",
    "            False,\n",
    "            True,\n",
    "            False,\n",
    "            [general_width, 3.6, general_height],\n",
    "            [0, (kitchen.y + kitchen.l),0]\n",
    "        )    \n",
    "    \n",
    "        cells.extend([\n",
    "            corridor1.topo,\n",
    "            wc1.topo,\n",
    "            wc2.topo,\n",
    "            service.topo,\n",
    "            patio.topo,\n",
    "            kitchen.topo,\n",
    "            dining.topo,\n",
    "            backyard.topo,\n",
    "        ])\n",
    "    \n",
    "        selectors.extend([\n",
    "            corridor1.selector,\n",
    "            wc1.selector,\n",
    "            wc2.selector,\n",
    "            service.selector,\n",
    "            patio.selector,\n",
    "            kitchen.selector,\n",
    "            dining.selector,\n",
    "            backyard.selector\n",
    "        ])\n",
    "    \n",
    "    else:\n",
    "        wc1 = Space(\n",
    "            \"WC 1\",\n",
    "            False,\n",
    "            False,\n",
    "            True,\n",
    "            [stairs.w, 1.2, general_height],\n",
    "            [0, (stairs.y + stairs.l - 1.2),0]\n",
    "        )\n",
    "    \n",
    "        service = Space(\n",
    "            \"Service\",\n",
    "            False,\n",
    "            False,\n",
    "            True,\n",
    "            [stairs.w, 3.0, general_height],\n",
    "            [0, (wc1.y + wc1.l),0]\n",
    "        )\n",
    "        \n",
    "        kitchen = Space(\n",
    "            \"Kitchen\",\n",
    "            False,\n",
    "            False,\n",
    "            True,\n",
    "            [1.8, stairs.l, general_height],\n",
    "            [(general_width - 1.8), (living.y + living.l),0]\n",
    "        )\n",
    "    \n",
    "        dining = Space(\n",
    "            \"Dining Room\",\n",
    "            False,\n",
    "            False,\n",
    "            False,\n",
    "            [(general_width - wc1.w - kitchen.w), kitchen.l, general_height],\n",
    "            [(wc1.x + wc1.w), (living.y + living.l),0]\n",
    "        )\n",
    "    \n",
    "        backyard = Space(\n",
    "            \"Backyard\",\n",
    "            False,\n",
    "            False,\n",
    "            True,\n",
    "            [general_width, service.l, general_height],\n",
    "            [0, (kitchen.y + kitchen.l),0]\n",
    "        )    \n",
    "    \n",
    "        cells.extend([\n",
    "            wc1.topo,\n",
    "            service.topo,\n",
    "            kitchen.topo,\n",
    "            dining.topo,\n",
    "            backyard.topo,\n",
    "        ])\n",
    "    \n",
    "        selectors.extend([\n",
    "            wc1.selector,\n",
    "            service.selector,\n",
    "            kitchen.selector,\n",
    "            dining.selector,\n",
    "            backyard.selector\n",
    "        ])\n",
    "    \n",
    "    corridor2 = Space(\n",
    "        \"Corridor 2\",\n",
    "        False,\n",
    "        False,\n",
    "        False,\n",
    "        [corridor_width, stairs.l, general_height],\n",
    "        [stairs.w, (living.y + living.l), general_height]\n",
    "    )\n",
    "    \n",
    "    cells.extend([corridor2.topo])\n",
    "    selectors.extend([corridor2.selector])\n",
    "    \n",
    "    if has_bedroom1:\n",
    "        wc3 = Space(\n",
    "            \"WC 3\",\n",
    "            False,\n",
    "            False,\n",
    "            True,\n",
    "            [stairs.w, living.l, general_height],\n",
    "            [0, (parking.y + parking.l), general_height]\n",
    "        )\n",
    "        \n",
    "        bedroom1 = Space(\n",
    "            \"Bedroom 1\",\n",
    "            False,\n",
    "            False,\n",
    "            False,\n",
    "            [(general_width - wc3.w), living.l, general_height],\n",
    "            [wc3.w, (parking.y + parking.l), general_height]\n",
    "        )\n",
    "    \n",
    "        cells.extend([\n",
    "            wc3.topo,\n",
    "            bedroom1.topo,\n",
    "        ])\n",
    "    \n",
    "        selectors.extend([\n",
    "            wc3.selector,\n",
    "            bedroom1.selector,\n",
    "        ])\n",
    "        \n",
    "    if has_bedroom2:\n",
    "        if has_patio:\n",
    "            wc4 = Space(\n",
    "                \"WC 4\",\n",
    "                False,\n",
    "                False,\n",
    "                True,\n",
    "                [stairs.w, dining.l, general_height],\n",
    "                [0, (stairs.y + stairs.l), general_height]\n",
    "            )\n",
    "            \n",
    "            bedroom2 = Space(\n",
    "                \"Bedroom 2\",\n",
    "                False,\n",
    "                False,\n",
    "                False,\n",
    "                [general_width - wc4.w, dining.l, general_height],\n",
    "                [wc4.w, (patio.y + patio.l), general_height]\n",
    "            )\n",
    "    \n",
    "            cells.extend([\n",
    "                wc4.topo,\n",
    "                bedroom2.topo,\n",
    "            ])\n",
    "        \n",
    "            selectors.extend([\n",
    "                wc4.selector,\n",
    "                bedroom2.selector,\n",
    "            ])\n",
    "    \n",
    "        else:\n",
    "            bedroom2 = Space(\n",
    "                \"Bedroom 2\",\n",
    "                False,\n",
    "                False,\n",
    "                False,\n",
    "                [(general_width - stairs.w - corridor2.w), dining.l, general_height],\n",
    "                [(corridor2.x + corridor2.w), (living.y + living.l), general_height]\n",
    "            )\n",
    "    \n",
    "            cells.extend([\n",
    "                bedroom2.topo,\n",
    "            ])\n",
    "        \n",
    "            selectors.extend([\n",
    "                bedroom2.selector,\n",
    "            ])\n",
    "            \n",
    "        \n",
    "    \n",
    "    for cell in cells:\n",
    "        house = Topology.Boolean(house, cell, operation=\"merge\")\n",
    "\n",
    "    return cells, selectors, house\n",
    "    "
   ]
  },
  {
   "cell_type": "code",
   "execution_count": 9,
   "id": "cc924ce5-82ed-4e95-879f-a63b350ae293",
   "metadata": {},
   "outputs": [],
   "source": [
    "def aperture_house_1(config, selectors):\n",
    "    \n",
    "    \n",
    "    has_patio = config['has_patio']\n",
    "    has_bedroom1 = config['has_bedroom1']\n",
    "    has_bedroom2 = config['has_bedroom2']\n",
    "\n",
    "    apertures = []\n",
    "\n",
    "    #####\n",
    "\n",
    "    aperture = createWindows(is_linear=True)\n",
    "    apertures.extend(aperture)\n",
    "    \n",
    "    aperture = createAperture(\"Parking\", \"Living Room\", False)\n",
    "    apertures.append(aperture)\n",
    "    \n",
    "    aperture = createAperture(\"Living Room\", \"Stairs\", True)\n",
    "    apertures.append(aperture)\n",
    "    \n",
    "    if has_patio:\n",
    "        aperture = createAperture(\"Living Room\", \"Corridor 1\", True)\n",
    "        apertures.append(aperture)\n",
    "        \n",
    "        aperture = createAperture(\"Living Room\", \"Patio\", False)\n",
    "        apertures.append(aperture)\n",
    "    \n",
    "        aperture = createAperture(\"Patio\", \"Dining Room\", False)\n",
    "        apertures.append(aperture)\n",
    "    \n",
    "        aperture = createAperture(\"Patio\", \"Kitchen\", False)\n",
    "        apertures.append(aperture)\n",
    "    \n",
    "        aperture = createAperture(\"Dining Room\", \"Kitchen\", True)\n",
    "        apertures.append(aperture)\n",
    "    \n",
    "        aperture = createAperture(\"Corridor 1\", \"WC 1\", False)\n",
    "        apertures.append(aperture)\n",
    "        \n",
    "        aperture = createAperture(\"Corridor 1\", \"Dining Room\", True)\n",
    "        apertures.append(aperture)\n",
    "    \n",
    "        aperture = createAperture(\"WC 2\", \"Service\", False)\n",
    "        apertures.append(aperture)\n",
    "    \n",
    "        aperture = createAperture(\"Service\", \"Backyard\", False)\n",
    "        apertures.append(aperture)\n",
    "    \n",
    "        aperture = createAperture(\"Kitchen\", \"Backyard\", False)\n",
    "        apertures.append(aperture)\n",
    "    \n",
    "        aperture = createAperture(\"Dining Room\", \"Backyard\", False)\n",
    "        apertures.append(aperture)\n",
    "    \n",
    "    else:\n",
    "        aperture = createAperture(\"Living Room\", \"Dining Room\", False)\n",
    "        apertures.append(aperture)\n",
    "    \n",
    "        aperture = createAperture(\"Living Room\", \"Kitchen\", False)\n",
    "        apertures.append(aperture)\n",
    "    \n",
    "        aperture = createAperture(\"Dining Room\", \"Kitchen\", True)\n",
    "        apertures.append(aperture)\n",
    "    \n",
    "        aperture = createAperture(\"Dining Room\", \"WC 1\", False)\n",
    "        apertures.append(aperture)\n",
    "    \n",
    "        aperture = createAperture(\"Service\", \"Backyard\", False)\n",
    "        apertures.append(aperture)\n",
    "    \n",
    "        aperture = createAperture(\"Kitchen\", \"Backyard\", False)\n",
    "        apertures.append(aperture)\n",
    "    \n",
    "        aperture = createAperture(\"Dining Room\", \"Backyard\", False)\n",
    "        apertures.append(aperture)\n",
    "    \n",
    "    aperture = createAperture(\"Stairs\", \"Corridor 2\", False)\n",
    "    apertures.append(aperture)\n",
    "    \n",
    "    if has_bedroom1:\n",
    "        aperture = createAperture(\"Corridor 2\", \"Bedroom 1\", False)\n",
    "        apertures.append(aperture)\n",
    "    \n",
    "        aperture = createAperture(\"Bedroom 1\", \"WC 3\", False)\n",
    "        apertures.append(aperture)\n",
    "    \n",
    "    if has_bedroom2:\n",
    "        aperture = createAperture(\"Corridor 2\", \"Bedroom 2\", False)\n",
    "        apertures.append(aperture)\n",
    "        if has_patio:        \n",
    "            aperture = createAperture(\"Bedroom 2\", \"WC 4\", False)\n",
    "            apertures.append(aperture)\n",
    "    return apertures\n"
   ]
  },
  {
   "cell_type": "code",
   "execution_count": 10,
   "id": "5df15d96-afa8-43e1-aa2d-d1756b3054c1",
   "metadata": {},
   "outputs": [],
   "source": [
    "def final_house_1(cells, selectors, apertures):\n",
    "    selectors = Helper.Flatten(selectors)\n",
    "    cells = Helper.Flatten(cells)\n",
    "    house = CellComplex.ByCells(cells)\n",
    "    house = Topology.TransferDictionariesBySelectors(house, selectors, tranCells=True)\n",
    "    house = Topology.AddApertures(house, apertures, subTopologyType=\"face\", exclusive=True)\n",
    "    return house"
   ]
  },
  {
   "cell_type": "code",
   "execution_count": 11,
   "id": "07a731a0-3925-4691-9261-583afe33d50d",
   "metadata": {},
   "outputs": [],
   "source": [
    "for i in range(40):\n",
    "    cells = []\n",
    "    selectors = []\n",
    "    apertures = []\n",
    "    config = config_house_1()\n",
    "    cells, selectors, house = topo_house_1(config)\n",
    "    apertures = aperture_house_1(config, selectors)\n",
    "    house = final_house_1(cells, selectors, apertures)\n",
    "    houses.append(house)\n",
    "    configs.append(config)  "
   ]
  },
  {
   "cell_type": "code",
   "execution_count": 12,
   "id": "fe484420-accb-4e47-a4b9-b1f0df27ba33",
   "metadata": {},
   "outputs": [
    {
     "data": {
      "application/vnd.plotly.v1+json": {
       "config": {
        "plotlyServerURL": "https://plot.ly"
       },
       "data": [
        {
         "hoverinfo": "text",
         "legendgroup": "4",
         "legendrank": 4,
         "marker": {
          "cmax": 1,
          "cmin": 0,
          "color": [
           0.9230769230769231,
           0.8461538461538461,
           0.5384615384615384,
           0.23076923076923078,
           1,
           0.9230769230769231,
           0.15384615384615385,
           0.8461538461538461,
           1,
           1,
           1,
           0.9230769230769231,
           1,
           1,
           0.46153846153846156,
           1,
           1,
           0.9230769230769231,
           0.07692307692307693,
           0.9230769230769231,
           1,
           1,
           1,
           0.6923076923076923,
           0.9230769230769231,
           1,
           1,
           1,
           0.6923076923076923,
           0.3076923076923077,
           0.9230769230769231,
           0,
           0.5384615384615384,
           1,
           1,
           0.5384615384615384,
           0.6153846153846154
          ],
          "colorscale": [
           [
            0,
            "#440154"
           ],
           [
            0.1111111111111111,
            "#482878"
           ],
           [
            0.2222222222222222,
            "#3e4989"
           ],
           [
            0.3333333333333333,
            "#31688e"
           ],
           [
            0.4444444444444444,
            "#26828e"
           ],
           [
            0.5555555555555556,
            "#1f9e89"
           ],
           [
            0.6666666666666666,
            "#35b779"
           ],
           [
            0.7777777777777778,
            "#6ece58"
           ],
           [
            0.8888888888888888,
            "#b5de2b"
           ],
           [
            1,
            "#fde725"
           ]
          ],
          "line": {
           "color": "black",
           "width": 0.5
          },
          "size": 4,
          "symbol": "circle"
         },
         "mode": "markers",
         "name": "Graph Vertices",
         "showlegend": false,
         "text": [
          "Window",
          "Corridor 2",
          "WC 1",
          "Dining Room",
          "Door",
          "Window",
          "Living Room",
          "Corridor 1",
          "Door",
          "Door",
          "Door",
          "Window",
          "Door",
          "Door",
          "Bedroom 2",
          "Door",
          "Door",
          "Window",
          "Parking",
          "Window",
          "Door",
          "Door",
          "Door",
          "Backyard",
          "Window",
          "Door",
          "Door",
          "Door",
          "Patio",
          "Kitchen",
          "Window",
          "Stairs",
          "WC 4",
          "Door",
          "Door",
          "WC 2",
          "Service"
         ],
         "type": "scatter3d",
         "x": [
          0.76,
          2,
          0.75,
          3.45,
          6.31,
          4.57,
          3.6,
          2,
          6.31,
          3.61,
          1.51,
          4.86,
          0.76,
          2.01,
          4.35,
          5.41,
          1.51,
          3.61,
          3.6,
          0.76,
          3.46,
          2.01,
          3.96,
          3.6,
          2.01,
          1.51,
          0.76,
          4.86,
          4.85,
          6.3,
          3.61,
          0.75,
          0.75,
          2.01,
          0.76,
          0.75,
          0.75
         ],
         "y": [
          9.51,
          12,
          13.9,
          16.6,
          18.71,
          18.71,
          7.25,
          12,
          14.51,
          5.01,
          13.91,
          9.51,
          15.71,
          14.51,
          16.6,
          16.61,
          16.43,
          0.01,
          2.5,
          18.71,
          18.71,
          14.51,
          14.51,
          20.5,
          9.51,
          12.27,
          18.71,
          9.51,
          12,
          16.6,
          22.31,
          11.740909,
          16.6,
          9.51,
          9.51,
          15.1,
          17.2
         ],
         "z": [
          4.51,
          4.5,
          1.5,
          1.5,
          1.51,
          4.21,
          1.5,
          1.5,
          1.51,
          1.51,
          1.51,
          4.51,
          1.51,
          1.21,
          4.5,
          1.21,
          4.21,
          1.51,
          1.5,
          4.51,
          1.51,
          4.51,
          1.51,
          1.5,
          4.51,
          4.21,
          1.51,
          1.51,
          3,
          1.5,
          1.51,
          3.204545,
          4.5,
          1.21,
          1.21,
          1.5,
          1.5
         ]
        },
        {
         "hoverinfo": "text",
         "legendgroup": "5",
         "legendrank": 5,
         "line": {
          "color": "black",
          "width": 1
         },
         "mode": "lines",
         "name": "Graph Edges",
         "showlegend": false,
         "text": "",
         "type": "scatter3d",
         "x": [
          0.75,
          0.76,
          null,
          2,
          1.51,
          null,
          2,
          2.01,
          null,
          2,
          2.01,
          null,
          0.75,
          1.51,
          null,
          3.45,
          2.01,
          null,
          3.45,
          3.46,
          null,
          3.45,
          3.96,
          null,
          3.45,
          5.41,
          null,
          3.6,
          6.31,
          null,
          6.3,
          6.31,
          null,
          4.35,
          4.57,
          null,
          3.6,
          3.61,
          null,
          3.6,
          0.76,
          null,
          3.6,
          2.01,
          null,
          3.6,
          4.86,
          null,
          2,
          2.01,
          null,
          2,
          2.01,
          null,
          2,
          1.51,
          null,
          4.85,
          6.31,
          null,
          6.3,
          6.31,
          null,
          3.6,
          3.61,
          null,
          4.85,
          4.86,
          null,
          0.75,
          0.76,
          null,
          0.75,
          0.76,
          null,
          4.35,
          1.51,
          null,
          4.35,
          2.01,
          null,
          6.3,
          5.41,
          null,
          0.75,
          1.51,
          null,
          3.6,
          3.61,
          null,
          0.75,
          0.76,
          null,
          3.6,
          3.46,
          null,
          4.85,
          3.96,
          null,
          3.6,
          0.76,
          null,
          3.6,
          3.61,
          null,
          0.75,
          1.51,
          null,
          0.75,
          0.76,
          null,
          4.85,
          4.86,
          null,
          0.75,
          0.76,
          null
         ],
         "y": [
          11.740909,
          9.51,
          null,
          12,
          12.27,
          null,
          12,
          9.51,
          null,
          12,
          14.51,
          null,
          13.9,
          13.91,
          null,
          16.6,
          14.51,
          null,
          16.6,
          18.71,
          null,
          16.6,
          14.51,
          null,
          16.6,
          16.61,
          null,
          20.5,
          18.71,
          null,
          16.6,
          18.71,
          null,
          16.6,
          18.71,
          null,
          7.25,
          5.01,
          null,
          7.25,
          9.51,
          null,
          7.25,
          9.51,
          null,
          7.25,
          9.51,
          null,
          12,
          14.51,
          null,
          12,
          9.51,
          null,
          12,
          13.91,
          null,
          12,
          14.51,
          null,
          16.6,
          14.51,
          null,
          2.5,
          5.01,
          null,
          12,
          9.51,
          null,
          17.2,
          15.71,
          null,
          15.1,
          15.71,
          null,
          16.6,
          16.43,
          null,
          16.6,
          14.51,
          null,
          16.6,
          16.61,
          null,
          16.6,
          16.43,
          null,
          2.5,
          0.01,
          null,
          16.6,
          18.71,
          null,
          20.5,
          18.71,
          null,
          12,
          14.51,
          null,
          20.5,
          18.71,
          null,
          20.5,
          22.31,
          null,
          11.740909,
          12.27,
          null,
          17.2,
          18.71,
          null,
          12,
          9.51,
          null,
          11.740909,
          9.51,
          null
         ],
         "z": [
          3.204545,
          4.51,
          null,
          4.5,
          4.21,
          null,
          4.5,
          4.51,
          null,
          4.5,
          4.51,
          null,
          1.5,
          1.51,
          null,
          1.5,
          1.21,
          null,
          1.5,
          1.51,
          null,
          1.5,
          1.51,
          null,
          1.5,
          1.21,
          null,
          1.5,
          1.51,
          null,
          1.5,
          1.51,
          null,
          4.5,
          4.21,
          null,
          1.5,
          1.51,
          null,
          1.5,
          1.21,
          null,
          1.5,
          1.21,
          null,
          1.5,
          1.51,
          null,
          1.5,
          1.21,
          null,
          1.5,
          1.21,
          null,
          1.5,
          1.51,
          null,
          3,
          1.51,
          null,
          1.5,
          1.51,
          null,
          1.5,
          1.51,
          null,
          3,
          4.51,
          null,
          1.5,
          1.51,
          null,
          1.5,
          1.51,
          null,
          4.5,
          4.21,
          null,
          4.5,
          4.51,
          null,
          1.5,
          1.21,
          null,
          4.5,
          4.21,
          null,
          1.5,
          1.51,
          null,
          4.5,
          4.51,
          null,
          1.5,
          1.51,
          null,
          3,
          1.51,
          null,
          1.5,
          1.51,
          null,
          1.5,
          1.51,
          null,
          3.204545,
          4.21,
          null,
          1.5,
          1.51,
          null,
          3,
          1.51,
          null,
          3.204545,
          1.21,
          null
         ]
        }
       ],
       "layout": {
        "autosize": true,
        "height": 500,
        "margin": {
         "b": 40,
         "l": 40,
         "r": 40,
         "t": 40
        },
        "paper_bgcolor": "rgba(0, 0, 0, 0)",
        "plot_bgcolor": "rgba(0, 0, 0, 0)",
        "scene": {
         "aspectmode": "data",
         "aspectratio": {
          "x": 0.7489340799109898,
          "y": 3.003818342089042,
          "z": 0.4445112344795444
         },
         "camera": {
          "center": {
           "x": 0,
           "y": 0,
           "z": 0
          },
          "eye": {
           "x": -1.2500000000000002,
           "y": -1.25,
           "z": 1.25
          },
          "projection": {
           "type": "perspective"
          },
          "up": {
           "x": 0,
           "y": 0,
           "z": 1
          }
         },
         "xaxis": {
          "type": "linear",
          "visible": false
         },
         "yaxis": {
          "type": "linear",
          "visible": false
         },
         "zaxis": {
          "type": "linear",
          "visible": false
         }
        },
        "showlegend": true,
        "template": {
         "data": {
          "bar": [
           {
            "error_x": {
             "color": "#2a3f5f"
            },
            "error_y": {
             "color": "#2a3f5f"
            },
            "marker": {
             "line": {
              "color": "#E5ECF6",
              "width": 0.5
             },
             "pattern": {
              "fillmode": "overlay",
              "size": 10,
              "solidity": 0.2
             }
            },
            "type": "bar"
           }
          ],
          "barpolar": [
           {
            "marker": {
             "line": {
              "color": "#E5ECF6",
              "width": 0.5
             },
             "pattern": {
              "fillmode": "overlay",
              "size": 10,
              "solidity": 0.2
             }
            },
            "type": "barpolar"
           }
          ],
          "carpet": [
           {
            "aaxis": {
             "endlinecolor": "#2a3f5f",
             "gridcolor": "white",
             "linecolor": "white",
             "minorgridcolor": "white",
             "startlinecolor": "#2a3f5f"
            },
            "baxis": {
             "endlinecolor": "#2a3f5f",
             "gridcolor": "white",
             "linecolor": "white",
             "minorgridcolor": "white",
             "startlinecolor": "#2a3f5f"
            },
            "type": "carpet"
           }
          ],
          "choropleth": [
           {
            "colorbar": {
             "outlinewidth": 0,
             "ticks": ""
            },
            "type": "choropleth"
           }
          ],
          "contour": [
           {
            "colorbar": {
             "outlinewidth": 0,
             "ticks": ""
            },
            "colorscale": [
             [
              0,
              "#0d0887"
             ],
             [
              0.1111111111111111,
              "#46039f"
             ],
             [
              0.2222222222222222,
              "#7201a8"
             ],
             [
              0.3333333333333333,
              "#9c179e"
             ],
             [
              0.4444444444444444,
              "#bd3786"
             ],
             [
              0.5555555555555556,
              "#d8576b"
             ],
             [
              0.6666666666666666,
              "#ed7953"
             ],
             [
              0.7777777777777778,
              "#fb9f3a"
             ],
             [
              0.8888888888888888,
              "#fdca26"
             ],
             [
              1,
              "#f0f921"
             ]
            ],
            "type": "contour"
           }
          ],
          "contourcarpet": [
           {
            "colorbar": {
             "outlinewidth": 0,
             "ticks": ""
            },
            "type": "contourcarpet"
           }
          ],
          "heatmap": [
           {
            "colorbar": {
             "outlinewidth": 0,
             "ticks": ""
            },
            "colorscale": [
             [
              0,
              "#0d0887"
             ],
             [
              0.1111111111111111,
              "#46039f"
             ],
             [
              0.2222222222222222,
              "#7201a8"
             ],
             [
              0.3333333333333333,
              "#9c179e"
             ],
             [
              0.4444444444444444,
              "#bd3786"
             ],
             [
              0.5555555555555556,
              "#d8576b"
             ],
             [
              0.6666666666666666,
              "#ed7953"
             ],
             [
              0.7777777777777778,
              "#fb9f3a"
             ],
             [
              0.8888888888888888,
              "#fdca26"
             ],
             [
              1,
              "#f0f921"
             ]
            ],
            "type": "heatmap"
           }
          ],
          "heatmapgl": [
           {
            "colorbar": {
             "outlinewidth": 0,
             "ticks": ""
            },
            "colorscale": [
             [
              0,
              "#0d0887"
             ],
             [
              0.1111111111111111,
              "#46039f"
             ],
             [
              0.2222222222222222,
              "#7201a8"
             ],
             [
              0.3333333333333333,
              "#9c179e"
             ],
             [
              0.4444444444444444,
              "#bd3786"
             ],
             [
              0.5555555555555556,
              "#d8576b"
             ],
             [
              0.6666666666666666,
              "#ed7953"
             ],
             [
              0.7777777777777778,
              "#fb9f3a"
             ],
             [
              0.8888888888888888,
              "#fdca26"
             ],
             [
              1,
              "#f0f921"
             ]
            ],
            "type": "heatmapgl"
           }
          ],
          "histogram": [
           {
            "marker": {
             "pattern": {
              "fillmode": "overlay",
              "size": 10,
              "solidity": 0.2
             }
            },
            "type": "histogram"
           }
          ],
          "histogram2d": [
           {
            "colorbar": {
             "outlinewidth": 0,
             "ticks": ""
            },
            "colorscale": [
             [
              0,
              "#0d0887"
             ],
             [
              0.1111111111111111,
              "#46039f"
             ],
             [
              0.2222222222222222,
              "#7201a8"
             ],
             [
              0.3333333333333333,
              "#9c179e"
             ],
             [
              0.4444444444444444,
              "#bd3786"
             ],
             [
              0.5555555555555556,
              "#d8576b"
             ],
             [
              0.6666666666666666,
              "#ed7953"
             ],
             [
              0.7777777777777778,
              "#fb9f3a"
             ],
             [
              0.8888888888888888,
              "#fdca26"
             ],
             [
              1,
              "#f0f921"
             ]
            ],
            "type": "histogram2d"
           }
          ],
          "histogram2dcontour": [
           {
            "colorbar": {
             "outlinewidth": 0,
             "ticks": ""
            },
            "colorscale": [
             [
              0,
              "#0d0887"
             ],
             [
              0.1111111111111111,
              "#46039f"
             ],
             [
              0.2222222222222222,
              "#7201a8"
             ],
             [
              0.3333333333333333,
              "#9c179e"
             ],
             [
              0.4444444444444444,
              "#bd3786"
             ],
             [
              0.5555555555555556,
              "#d8576b"
             ],
             [
              0.6666666666666666,
              "#ed7953"
             ],
             [
              0.7777777777777778,
              "#fb9f3a"
             ],
             [
              0.8888888888888888,
              "#fdca26"
             ],
             [
              1,
              "#f0f921"
             ]
            ],
            "type": "histogram2dcontour"
           }
          ],
          "mesh3d": [
           {
            "colorbar": {
             "outlinewidth": 0,
             "ticks": ""
            },
            "type": "mesh3d"
           }
          ],
          "parcoords": [
           {
            "line": {
             "colorbar": {
              "outlinewidth": 0,
              "ticks": ""
             }
            },
            "type": "parcoords"
           }
          ],
          "pie": [
           {
            "automargin": true,
            "type": "pie"
           }
          ],
          "scatter": [
           {
            "fillpattern": {
             "fillmode": "overlay",
             "size": 10,
             "solidity": 0.2
            },
            "type": "scatter"
           }
          ],
          "scatter3d": [
           {
            "line": {
             "colorbar": {
              "outlinewidth": 0,
              "ticks": ""
             }
            },
            "marker": {
             "colorbar": {
              "outlinewidth": 0,
              "ticks": ""
             }
            },
            "type": "scatter3d"
           }
          ],
          "scattercarpet": [
           {
            "marker": {
             "colorbar": {
              "outlinewidth": 0,
              "ticks": ""
             }
            },
            "type": "scattercarpet"
           }
          ],
          "scattergeo": [
           {
            "marker": {
             "colorbar": {
              "outlinewidth": 0,
              "ticks": ""
             }
            },
            "type": "scattergeo"
           }
          ],
          "scattergl": [
           {
            "marker": {
             "colorbar": {
              "outlinewidth": 0,
              "ticks": ""
             }
            },
            "type": "scattergl"
           }
          ],
          "scattermapbox": [
           {
            "marker": {
             "colorbar": {
              "outlinewidth": 0,
              "ticks": ""
             }
            },
            "type": "scattermapbox"
           }
          ],
          "scatterpolar": [
           {
            "marker": {
             "colorbar": {
              "outlinewidth": 0,
              "ticks": ""
             }
            },
            "type": "scatterpolar"
           }
          ],
          "scatterpolargl": [
           {
            "marker": {
             "colorbar": {
              "outlinewidth": 0,
              "ticks": ""
             }
            },
            "type": "scatterpolargl"
           }
          ],
          "scatterternary": [
           {
            "marker": {
             "colorbar": {
              "outlinewidth": 0,
              "ticks": ""
             }
            },
            "type": "scatterternary"
           }
          ],
          "surface": [
           {
            "colorbar": {
             "outlinewidth": 0,
             "ticks": ""
            },
            "colorscale": [
             [
              0,
              "#0d0887"
             ],
             [
              0.1111111111111111,
              "#46039f"
             ],
             [
              0.2222222222222222,
              "#7201a8"
             ],
             [
              0.3333333333333333,
              "#9c179e"
             ],
             [
              0.4444444444444444,
              "#bd3786"
             ],
             [
              0.5555555555555556,
              "#d8576b"
             ],
             [
              0.6666666666666666,
              "#ed7953"
             ],
             [
              0.7777777777777778,
              "#fb9f3a"
             ],
             [
              0.8888888888888888,
              "#fdca26"
             ],
             [
              1,
              "#f0f921"
             ]
            ],
            "type": "surface"
           }
          ],
          "table": [
           {
            "cells": {
             "fill": {
              "color": "#EBF0F8"
             },
             "line": {
              "color": "white"
             }
            },
            "header": {
             "fill": {
              "color": "#C8D4E3"
             },
             "line": {
              "color": "white"
             }
            },
            "type": "table"
           }
          ]
         },
         "layout": {
          "annotationdefaults": {
           "arrowcolor": "#2a3f5f",
           "arrowhead": 0,
           "arrowwidth": 1
          },
          "autotypenumbers": "strict",
          "coloraxis": {
           "colorbar": {
            "outlinewidth": 0,
            "ticks": ""
           }
          },
          "colorscale": {
           "diverging": [
            [
             0,
             "#8e0152"
            ],
            [
             0.1,
             "#c51b7d"
            ],
            [
             0.2,
             "#de77ae"
            ],
            [
             0.3,
             "#f1b6da"
            ],
            [
             0.4,
             "#fde0ef"
            ],
            [
             0.5,
             "#f7f7f7"
            ],
            [
             0.6,
             "#e6f5d0"
            ],
            [
             0.7,
             "#b8e186"
            ],
            [
             0.8,
             "#7fbc41"
            ],
            [
             0.9,
             "#4d9221"
            ],
            [
             1,
             "#276419"
            ]
           ],
           "sequential": [
            [
             0,
             "#0d0887"
            ],
            [
             0.1111111111111111,
             "#46039f"
            ],
            [
             0.2222222222222222,
             "#7201a8"
            ],
            [
             0.3333333333333333,
             "#9c179e"
            ],
            [
             0.4444444444444444,
             "#bd3786"
            ],
            [
             0.5555555555555556,
             "#d8576b"
            ],
            [
             0.6666666666666666,
             "#ed7953"
            ],
            [
             0.7777777777777778,
             "#fb9f3a"
            ],
            [
             0.8888888888888888,
             "#fdca26"
            ],
            [
             1,
             "#f0f921"
            ]
           ],
           "sequentialminus": [
            [
             0,
             "#0d0887"
            ],
            [
             0.1111111111111111,
             "#46039f"
            ],
            [
             0.2222222222222222,
             "#7201a8"
            ],
            [
             0.3333333333333333,
             "#9c179e"
            ],
            [
             0.4444444444444444,
             "#bd3786"
            ],
            [
             0.5555555555555556,
             "#d8576b"
            ],
            [
             0.6666666666666666,
             "#ed7953"
            ],
            [
             0.7777777777777778,
             "#fb9f3a"
            ],
            [
             0.8888888888888888,
             "#fdca26"
            ],
            [
             1,
             "#f0f921"
            ]
           ]
          },
          "colorway": [
           "#636efa",
           "#EF553B",
           "#00cc96",
           "#ab63fa",
           "#FFA15A",
           "#19d3f3",
           "#FF6692",
           "#B6E880",
           "#FF97FF",
           "#FECB52"
          ],
          "font": {
           "color": "#2a3f5f"
          },
          "geo": {
           "bgcolor": "white",
           "lakecolor": "white",
           "landcolor": "#E5ECF6",
           "showlakes": true,
           "showland": true,
           "subunitcolor": "white"
          },
          "hoverlabel": {
           "align": "left"
          },
          "hovermode": "closest",
          "mapbox": {
           "style": "light"
          },
          "paper_bgcolor": "white",
          "plot_bgcolor": "#E5ECF6",
          "polar": {
           "angularaxis": {
            "gridcolor": "white",
            "linecolor": "white",
            "ticks": ""
           },
           "bgcolor": "#E5ECF6",
           "radialaxis": {
            "gridcolor": "white",
            "linecolor": "white",
            "ticks": ""
           }
          },
          "scene": {
           "xaxis": {
            "backgroundcolor": "#E5ECF6",
            "gridcolor": "white",
            "gridwidth": 2,
            "linecolor": "white",
            "showbackground": true,
            "ticks": "",
            "zerolinecolor": "white"
           },
           "yaxis": {
            "backgroundcolor": "#E5ECF6",
            "gridcolor": "white",
            "gridwidth": 2,
            "linecolor": "white",
            "showbackground": true,
            "ticks": "",
            "zerolinecolor": "white"
           },
           "zaxis": {
            "backgroundcolor": "#E5ECF6",
            "gridcolor": "white",
            "gridwidth": 2,
            "linecolor": "white",
            "showbackground": true,
            "ticks": "",
            "zerolinecolor": "white"
           }
          },
          "shapedefaults": {
           "line": {
            "color": "#2a3f5f"
           }
          },
          "ternary": {
           "aaxis": {
            "gridcolor": "white",
            "linecolor": "white",
            "ticks": ""
           },
           "baxis": {
            "gridcolor": "white",
            "linecolor": "white",
            "ticks": ""
           },
           "bgcolor": "#E5ECF6",
           "caxis": {
            "gridcolor": "white",
            "linecolor": "white",
            "ticks": ""
           }
          },
          "title": {
           "x": 0.05
          },
          "xaxis": {
           "automargin": true,
           "gridcolor": "white",
           "linecolor": "white",
           "ticks": "",
           "title": {
            "standoff": 15
           },
           "zerolinecolor": "white",
           "zerolinewidth": 2
          },
          "yaxis": {
           "automargin": true,
           "gridcolor": "white",
           "linecolor": "white",
           "ticks": "",
           "title": {
            "standoff": 15
           },
           "zerolinecolor": "white",
           "zerolinewidth": 2
          }
         }
        },
        "width": 950,
        "xaxis": {
         "showgrid": false,
         "visible": false,
         "zeroline": false
        },
        "yaxis": {
         "showgrid": false,
         "visible": false,
         "zeroline": false
        }
       }
      },
      "image/png": "[encoded data removed]"
     },
     "metadata": {},
     "output_type": "display_data"
    }
   ],
   "source": [
    "house = houses[0]\n",
    "\n",
    "g = Graph.ByTopology(house, direct=False, viaSharedApertures=True, toExteriorApertures=True)\n",
    "graph_data = Plotly.DataByGraph(g, vertexSize=4, vertexGroupKey=\"label\", vertexLabelKey=\"title\", vertexGroups=[0,1,2,3,4,5,6,7,8,9,10,11,12])\n",
    "bldg_data = Plotly.DataByTopology(house, faceOpacity=0.1, edgeColor=\"darkgrey\", vertexColor=\"lightgrey\")\n",
    "bldg_data = []\n",
    "# graph_data = []\n",
    "fig = Plotly.FigureByData(graph_data+bldg_data)\n",
    "Plotly.Show(fig, renderer='jupyterlab')"
   ]
  },
  {
   "cell_type": "markdown",
   "id": "f14aad76-451e-4e02-b38f-680104b39851",
   "metadata": {},
   "source": [
    "# House 2"
   ]
  },
  {
   "cell_type": "code",
   "execution_count": 13,
   "id": "b851092a-b0f9-455b-8ccd-eb91cd5e3a6c",
   "metadata": {},
   "outputs": [],
   "source": [
    "def config_house_2():\n",
    "    config = {\n",
    "        \"general_width\": random.randint(60, 75) / 10,\n",
    "        \"general_height\": random.randint(28, 32) / 10,\n",
    "        \"corridor_width\": random.randint(9, 12) / 10,\n",
    "        \"three_bedrooms\": random.choice([True, False]),\n",
    "    }\n",
    "        \n",
    "    return config"
   ]
  },
  {
   "cell_type": "code",
   "execution_count": 14,
   "id": "c3361cf1-3f71-4745-b4ff-d30192fd1fcb",
   "metadata": {},
   "outputs": [],
   "source": [
    "def topo_house_2(config):\n",
    "    general_width = config['general_width']\n",
    "    general_height = config['general_height']\n",
    "    corridor_width = config['corridor_width']\n",
    "    \n",
    "    three_bedrooms = config['three_bedrooms']\n",
    "\n",
    "    selectors = []\n",
    "    cells = []\n",
    "    apertures = []\n",
    "    keys = [\"label\", \"title\", \"area\", \"volume\"]\n",
    "    \n",
    "    parking = Space(\n",
    "        \"Parking\",\n",
    "        True,\n",
    "        True,\n",
    "        False,\n",
    "        [general_width, 5.0, general_height],\n",
    "        [0, 0, 0]\n",
    "    )\n",
    "    \n",
    "    living = Space(\n",
    "        \"Living Room\",\n",
    "        False,\n",
    "        False,\n",
    "        False,\n",
    "        [general_width-corridor_width*2, 4.5, general_height],\n",
    "        [corridor_width, parking.l, 0]\n",
    "    )\n",
    "    \n",
    "    house = Topology.Boolean(parking.topo, living.topo, operation=\"merge\")\n",
    "    \n",
    "    dining = Space(\n",
    "        \"Dining Room\",\n",
    "        False,\n",
    "        False,\n",
    "        False,\n",
    "        [living.w, 3.5, general_height],\n",
    "        [corridor_width, living.y + living.l, 0]\n",
    "    )\n",
    "    \n",
    "    kitchen = Space(\n",
    "        \"Kitchen\",\n",
    "        False,\n",
    "        False,\n",
    "        True,\n",
    "        [living.w, 1.5, general_height],\n",
    "        [corridor_width, dining.y +  dining.l,0]\n",
    "    )\n",
    "    \n",
    "    \n",
    "    \n",
    "    cells.extend([\n",
    "        parking.topo,\n",
    "        living.topo,\n",
    "        dining.topo,\n",
    "        kitchen.topo,\n",
    "    ])\n",
    "    \n",
    "    selectors.extend([\n",
    "        parking.selector,\n",
    "        living.selector,\n",
    "        dining.selector,\n",
    "        kitchen.selector,\n",
    "    ])\n",
    "    \n",
    "    \n",
    "    if three_bedrooms:\n",
    "        bedroom3 = Space(\n",
    "            \"Bedroom 3\",\n",
    "            False,\n",
    "            False,\n",
    "            False,\n",
    "            [(living.w), 3.5, general_height],\n",
    "            [corridor_width, (kitchen.y + kitchen.l), 0]\n",
    "        )\n",
    "    \n",
    "        bedroom2 = Space(\n",
    "            \"Bedroom 2\",\n",
    "            False,\n",
    "            False,\n",
    "            False,\n",
    "            [(living.w), 3.5, general_height],\n",
    "            [corridor_width, (bedroom3.y + bedroom3.l), 0]\n",
    "        )\n",
    "    \n",
    "        cells.extend([\n",
    "            bedroom3.topo,\n",
    "            bedroom2.topo,\n",
    "        ])\n",
    "    \n",
    "        selectors.extend([\n",
    "            bedroom3.selector,\n",
    "            bedroom2.selector,\n",
    "        ])\n",
    "    \n",
    "    else:\n",
    "        bedroom2 = Space(\n",
    "            \"Bedroom 2\",\n",
    "            False,\n",
    "            False,\n",
    "            False,\n",
    "            [living.w, 3.5, general_height],\n",
    "            [corridor_width, kitchen.y + kitchen.l, 0]\n",
    "        )\n",
    "        \n",
    "        cells.extend([\n",
    "            bedroom2.topo,\n",
    "        ])\n",
    "    \n",
    "        selectors.extend([\n",
    "            bedroom2.selector,\n",
    "        ])\n",
    "    \n",
    "    wc1 = Space(\n",
    "        \"WC 1\",\n",
    "        False,\n",
    "        False,\n",
    "        True,\n",
    "        [living.w /2, 1.6, general_height],\n",
    "        [corridor_width, bedroom2.y + bedroom2.l, 0]\n",
    "    )\n",
    "    \n",
    "    wc2 = Space(\n",
    "        \"WC 2\",\n",
    "        False,\n",
    "        False,\n",
    "        True,\n",
    "        [living.w /2, 1.6, general_height],\n",
    "        [corridor_width + (living.w / 2), bedroom2.y + bedroom2.l, 0]\n",
    "    )\n",
    "    \n",
    "    bedroom1 = Space(\n",
    "        \"Bedroom 1\",\n",
    "        False,\n",
    "        False,\n",
    "        False,\n",
    "        [living.w, 3.5, general_height],\n",
    "        [corridor_width, wc1.y + wc1.l, 0]\n",
    "    )\n",
    "    \n",
    "    corridor1 = Space(\n",
    "        \"Corridor 1\",\n",
    "        False,\n",
    "        False,\n",
    "        False,\n",
    "        [corridor_width, (bedroom1.y + bedroom1.l - parking.l), general_height],\n",
    "        [0, living.y, 0]\n",
    "    )\n",
    "    \n",
    "    garden = Space(\n",
    "        \"Garden\",\n",
    "        False,\n",
    "        True,\n",
    "        False,\n",
    "        [corridor_width, (bedroom1.y + (bedroom1.l/2) - parking.l), general_height],\n",
    "        [general_width - corridor_width, living.y, 0]\n",
    "    )\n",
    "    \n",
    "    service = Space(\n",
    "        \"Service\",\n",
    "        False,\n",
    "        False,\n",
    "        True,\n",
    "        [corridor_width, bedroom1.l/2, general_height],\n",
    "        [general_width - corridor_width, bedroom1.y + bedroom1.l/2, 0]\n",
    "    )\n",
    "    \n",
    "    backyard = Space(\n",
    "        \"Backyard\",\n",
    "        False,\n",
    "        True,\n",
    "        False,\n",
    "        [general_width, 2.5, general_height],\n",
    "        [0, bedroom1.y + bedroom1.l, 0]\n",
    "    )\n",
    "    \n",
    "    cells.extend([\n",
    "        wc1.topo,\n",
    "        wc2.topo,\n",
    "        bedroom1.topo,\n",
    "        corridor1.topo,\n",
    "        garden.topo,\n",
    "        service.topo,\n",
    "        backyard.topo,\n",
    "    ])\n",
    "    \n",
    "    selectors.extend([\n",
    "        wc1.selector,\n",
    "        wc2.selector,\n",
    "        bedroom1.selector,\n",
    "        corridor1.selector,\n",
    "        garden.selector,\n",
    "        service.selector,\n",
    "        backyard.selector,\n",
    "    ])\n",
    "    \n",
    "    \n",
    "    \n",
    "    \n",
    "    \n",
    "    \n",
    "    \n",
    "    for cell in cells:    \n",
    "        house = Topology.Boolean(house, cell, operation=\"merge\")\n",
    "\n",
    "    return cells, selectors, house"
   ]
  },
  {
   "cell_type": "code",
   "execution_count": 15,
   "id": "db5cfe38-25b7-4247-876d-fd91e982600f",
   "metadata": {},
   "outputs": [],
   "source": [
    "def aperture_house_2(config, selectors):\n",
    "    three_bedrooms = config['three_bedrooms']\n",
    "\n",
    "    aperture = createWindows(is_linear=True)\n",
    "    apertures.extend(aperture)\n",
    "    \n",
    "    aperture = createAperture(\"Parking\", \"Living Room\", False)\n",
    "    apertures.append(aperture)\n",
    "    \n",
    "    aperture = createAperture(\"Living Room\", \"Dining Room\", True)\n",
    "    apertures.append(aperture)\n",
    "    \n",
    "    aperture = createAperture(\"Living Room\", \"Corridor 1\", True)\n",
    "    apertures.append(aperture)\n",
    "    \n",
    "    aperture = createAperture(\"Dining Room\", \"Kitchen\", True)\n",
    "    apertures.append(aperture)\n",
    "    \n",
    "    aperture = createAperture(\"Dining Room\", \"Corridor 1\", True)\n",
    "    apertures.append(aperture)\n",
    "    \n",
    "    aperture = createAperture(\"Kitchen\", \"Corridor 1\", True)\n",
    "    apertures.append(aperture)\n",
    "    \n",
    "    if three_bedrooms:\n",
    "        aperture = createAperture(\"Bedroom 3\", \"Corridor 1\", True)\n",
    "        apertures.append(aperture)\n",
    "    \n",
    "    aperture = createAperture(\"Bedroom 2\", \"Corridor 1\", True)\n",
    "    apertures.append(aperture)\n",
    "    \n",
    "    aperture = createAperture(\"Bedroom 2\", \"WC 2\", True)\n",
    "    apertures.append(aperture)\n",
    "    \n",
    "    aperture = createAperture(\"Bedroom 1\", \"Corridor 1\", True)\n",
    "    apertures.append(aperture)\n",
    "    \n",
    "    aperture = createAperture(\"Bedroom 1\", \"WC 1\", True)\n",
    "    apertures.append(aperture)\n",
    "    \n",
    "    aperture = createAperture(\"Backyard\", \"Corridor 1\", True)\n",
    "    apertures.append(aperture)\n",
    "    \n",
    "    aperture = createAperture(\"Backyard\", \"Service\", True)\n",
    "    apertures.append(aperture)\n",
    "\n",
    "    return apertures"
   ]
  },
  {
   "cell_type": "code",
   "execution_count": 16,
   "id": "cb0fd0e8-fee3-4164-a7df-6db42d78c58f",
   "metadata": {},
   "outputs": [],
   "source": [
    "def final_house_2(cells, selectors, apertures):\n",
    "    selectors = Helper.Flatten(selectors)\n",
    "    cells = Helper.Flatten(cells)\n",
    "    house = CellComplex.ByCells(cells)\n",
    "    house = Topology.TransferDictionariesBySelectors(house, selectors, tranCells=True)\n",
    "    house = Topology.AddApertures(house, apertures, subTopologyType=\"face\", exclusive=True)\n",
    "    return house"
   ]
  },
  {
   "cell_type": "code",
   "execution_count": 17,
   "id": "47a41559-062b-48a7-9da8-c8474689dc6d",
   "metadata": {},
   "outputs": [],
   "source": [
    "for i in range(40):\n",
    "    cells = []\n",
    "    selectors = []\n",
    "    apertures = []\n",
    "    config = config_house_2()\n",
    "    cells, selectors, house = topo_house_2(config)\n",
    "    apertures = aperture_house_2(config, selectors)\n",
    "    house = final_house_2(cells, selectors, apertures)\n",
    "    houses.append(house)\n",
    "    configs.append(config)\n"
   ]
  },
  {
   "cell_type": "markdown",
   "id": "1429cba9-70ce-472e-9280-9b3138069bd2",
   "metadata": {},
   "source": [
    "# House 3"
   ]
  },
  {
   "cell_type": "code",
   "execution_count": 18,
   "id": "b5dbc17f-57ec-44f0-9c75-22ef08eb375a",
   "metadata": {},
   "outputs": [],
   "source": [
    "def config_house_3():\n",
    "    config = {\n",
    "        \"general_width\": random.randint(60, 75) / 10,\n",
    "        \"general_height\": random.randint(28, 32) / 10,\n",
    "        \"corridor_width\": random.randint(9, 12) / 10,\n",
    "        \"three_bedrooms\": random.choice([True, False]),\n",
    "        \n",
    "    }        \n",
    "    return config"
   ]
  },
  {
   "cell_type": "code",
   "execution_count": 19,
   "id": "5d170f1e-b1e6-4784-b2cc-d1f0d40b903f",
   "metadata": {},
   "outputs": [],
   "source": [
    "def topo_house_3(config):\n",
    "    general_width = config['general_width']\n",
    "    general_height = config['general_height']\n",
    "    corridor_width = config['corridor_width']\n",
    "    \n",
    "    three_bedrooms = config['three_bedrooms']\n",
    "\n",
    "    selectors = []\n",
    "    cells = []\n",
    "    apertures = []\n",
    "    keys = [\"label\", \"title\", \"area\", \"volume\"]\n",
    "    \n",
    "    parking = Space(\n",
    "        \"Parking\",\n",
    "        True,\n",
    "        True,\n",
    "        False,\n",
    "        [general_width - corridor_width, 5.0, general_height],\n",
    "        [corridor_width, 0, 0]\n",
    "    )\n",
    "    \n",
    "    stairs = Space(\n",
    "        \"Stairs\",\n",
    "        False,\n",
    "        False,\n",
    "        False,\n",
    "        [2.0, 2.0, 2 * general_height ],\n",
    "        [corridor_width, parking.l, 0]\n",
    "    )\n",
    "    \n",
    "    terrace1 = Space(\n",
    "        \"Terrace 1\",\n",
    "        True,\n",
    "        True,\n",
    "        False,\n",
    "        [corridor_width, (parking.l + stairs.l), general_height],\n",
    "        [0, 0, 0]\n",
    "    )\n",
    "    \n",
    "    wc1 = Space(\n",
    "        \"WC 1\",\n",
    "        False,\n",
    "        False,\n",
    "        True,\n",
    "        [1.4, 2.0, general_height ],\n",
    "        [(stairs.x + stairs.w), parking.l, 0]\n",
    "    )\n",
    "    \n",
    "    service = Space(\n",
    "        \"Service\",\n",
    "        False,\n",
    "        False,\n",
    "        True,\n",
    "        [(parking.w - stairs.w - wc1.w), 2.0, general_height ],\n",
    "        [(wc1.x + wc1.w), parking.l, 0]\n",
    "    )\n",
    "    \n",
    "    dining = Space(\n",
    "        \"Dining Room\",\n",
    "        False,\n",
    "        False,\n",
    "        False,\n",
    "        [(stairs.w + corridor_width), 4.5, general_height],\n",
    "        [0, (stairs.w + stairs.y), 0]\n",
    "    )\n",
    "    \n",
    "    living = Space(\n",
    "        \"Living Room\",\n",
    "        False,\n",
    "        False,\n",
    "        False,\n",
    "        [dining.w, 3.5, general_height],\n",
    "        [0, dining.y + dining.l, 0]\n",
    "    )\n",
    "    \n",
    "    terrace2 = Space(\n",
    "        \"Terrace 2\",\n",
    "        False,\n",
    "        True,\n",
    "        False,\n",
    "        [living.w, 1.5, general_height],\n",
    "        [0, living.y + living.l, 0]\n",
    "    )\n",
    "    \n",
    "    kitchen = Space(\n",
    "        \"Kitchen\",\n",
    "        False,\n",
    "        False,\n",
    "        True,\n",
    "        [(wc1.w + service.w), dining.l, general_height],\n",
    "        [wc1.x, (stairs.w + stairs.y), 0]\n",
    "    )\n",
    "    \n",
    "    bedroom1 = Space(\n",
    "        \"Bedroom 1\",\n",
    "        False,\n",
    "        False,\n",
    "        False,\n",
    "        [kitchen.w, living.l, general_height],\n",
    "        [wc1.x, kitchen.y + kitchen.l, 0]\n",
    "    )\n",
    "    \n",
    "    wc2 = Space(\n",
    "        \"WC 2\",\n",
    "        False,\n",
    "        False,\n",
    "        True,\n",
    "        [bedroom1.w, terrace2.l, general_height],\n",
    "        [wc1.x, bedroom1.y + bedroom1.l, 0]\n",
    "    )\n",
    "    \n",
    "    # SECOND FLOOR\n",
    "    \n",
    "    corridor1 = Space(\n",
    "        \"Corridor 1\",\n",
    "        False,\n",
    "        False,\n",
    "        False,\n",
    "        [corridor_width, stairs.l, general_height ],\n",
    "        [0, stairs.y, general_height]\n",
    "    )\n",
    "    \n",
    "    living2 = Space(\n",
    "        \"Living Room 2\",\n",
    "        False,\n",
    "        False,\n",
    "        False,\n",
    "        [(dining.w + kitchen.w), dining.l, general_height],\n",
    "        [0, dining.y, general_height]\n",
    "    )\n",
    "    \n",
    "    office = Space(\n",
    "        \"Office\",\n",
    "        False,\n",
    "        False,\n",
    "        False,\n",
    "        [dining.w, 3.5, general_height],\n",
    "        [0, dining.y + dining.l, general_height]\n",
    "    )\n",
    "    \n",
    "    terrace3 = Space(\n",
    "        \"Terrace 3\",\n",
    "        False,\n",
    "        True,\n",
    "        False,\n",
    "        [living.w, 1.5, general_height],\n",
    "        [0, living.y + living.l, general_height]\n",
    "    )\n",
    "    \n",
    "    bedroom2 = Space(\n",
    "        \"Bedroom 2\",\n",
    "        False,\n",
    "        False,\n",
    "        False,\n",
    "        [kitchen.w, living.l, general_height],\n",
    "        [wc1.x, kitchen.y + kitchen.l, general_height]\n",
    "    )\n",
    "    \n",
    "    wc3 = Space(\n",
    "        \"WC 3\",\n",
    "        False,\n",
    "        False,\n",
    "        True,\n",
    "        [bedroom1.w, terrace2.l, general_height],\n",
    "        [wc1.x, bedroom1.y + bedroom1.l, general_height]\n",
    "    )\n",
    "    \n",
    "    \n",
    "    house = Topology.Boolean(parking.topo, stairs.topo, operation=\"merge\")\n",
    "    \n",
    "    cells.extend([\n",
    "        parking.topo,\n",
    "        terrace1.topo,\n",
    "        stairs.topo,\n",
    "        wc1.topo,\n",
    "        service.topo,\n",
    "        dining.topo,\n",
    "        living.topo,    \n",
    "        terrace2.topo,\n",
    "        kitchen.topo,\n",
    "        bedroom1.topo,    \n",
    "        wc2.topo,\n",
    "        living2.topo,\n",
    "        office.topo,\n",
    "        terrace3.topo,\n",
    "        bedroom2.topo,\n",
    "        wc3.topo,\n",
    "        corridor1.topo,\n",
    "    ])\n",
    "    selectors.extend([\n",
    "        parking.selector,\n",
    "        terrace1.selector,\n",
    "        stairs.selector,\n",
    "        wc1.selector,\n",
    "        service.selector,\n",
    "        dining.selector,\n",
    "        living.selector,\n",
    "        terrace2.selector,\n",
    "        kitchen.selector,\n",
    "        bedroom1.selector,    \n",
    "        wc2.selector,\n",
    "        living2.selector,\n",
    "        office.selector,\n",
    "        terrace3.selector,\n",
    "        bedroom2.selector,\n",
    "        wc3.selector,\n",
    "        corridor1.selector,\n",
    "    ])\n",
    "    \n",
    "    \n",
    "    if three_bedrooms:\n",
    "    \n",
    "        \n",
    "        bedroom3 = Space(\n",
    "            \"Bedroom 3\",\n",
    "            False,\n",
    "            False,\n",
    "            False,\n",
    "            [general_width, 5.0, general_height],\n",
    "            [0, 0, general_height]\n",
    "        )\n",
    "    \n",
    "        wc4 = Space(\n",
    "            \"WC 4\",\n",
    "            False,\n",
    "            False,\n",
    "            True,\n",
    "            [(wc1.w + service.w), stairs.l, general_height ],\n",
    "            [(stairs.x + stairs.w), parking.l, general_height]\n",
    "        )\n",
    "    \n",
    "        cells.extend([\n",
    "            bedroom3.topo,\n",
    "            wc4.topo,\n",
    "        ])\n",
    "    \n",
    "        selectors.extend([\n",
    "            bedroom3.selector,\n",
    "            wc4.selector,\n",
    "        ])   \n",
    "    \n",
    "    \n",
    "    \n",
    "    for cell in cells:    \n",
    "        house = Topology.Boolean(house, cell, operation=\"merge\")\n",
    "    \n",
    "    return cells, selectors, house"
   ]
  },
  {
   "cell_type": "code",
   "execution_count": 20,
   "id": "055377f9-2201-4b16-90d7-0dc5504d7e11",
   "metadata": {},
   "outputs": [],
   "source": [
    "def aperture_house_3(config, selectors):\n",
    "    three_bedrooms = config['three_bedrooms']\n",
    "\n",
    "    aperture = createWindows(is_linear=False)\n",
    "    apertures.extend(aperture)\n",
    "\n",
    "    aperture = createAperture(\"Parking\", \"Terrace 1\", False)\n",
    "    apertures.append(aperture)\n",
    "    \n",
    "    aperture = createAperture(\"Terrace 1\", \"Stairs\",  True)\n",
    "    apertures.append(aperture)\n",
    "    \n",
    "    aperture = createAperture(\"Terrace 1\", \"Dining Room\",  True)\n",
    "    apertures.append(aperture)\n",
    "    \n",
    "    aperture = createAperture(\"Dining Room\", \"Kitchen\", True)\n",
    "    apertures.append(aperture)\n",
    "    \n",
    "    aperture = createAperture(\"Kitchen\", \"Service\", False)\n",
    "    apertures.append(aperture)\n",
    "    \n",
    "    aperture = createAperture(\"Service\", \"WC 1\",  False)\n",
    "    apertures.append(aperture)\n",
    "    \n",
    "    aperture = createAperture(\"Dining Room\", \"Living Room\", True)\n",
    "    apertures.append(aperture)\n",
    "    \n",
    "    aperture = createAperture(\"Living Room\", \"Terrace 2\", False)\n",
    "    apertures.append(aperture)\n",
    "    \n",
    "    aperture = createAperture(\"Living Room\", \"Bedroom 1\", False)\n",
    "    apertures.append(aperture)\n",
    "    \n",
    "    aperture = createAperture(\"Bedroom 1\", \"WC 2\", False)\n",
    "    apertures.append(aperture)\n",
    "    \n",
    "    aperture = createAperture(\"Corridor 1\", \"Stairs\", True)\n",
    "    apertures.append(aperture)\n",
    "    \n",
    "    aperture = createAperture(\"Corridor 1\", \"Living Room 2\", True)\n",
    "    apertures.append(aperture)\n",
    "    \n",
    "    aperture = createAperture(\"Living Room 2\", \"Office\", False)\n",
    "    apertures.append(aperture)\n",
    "    \n",
    "    aperture = createAperture(\"Living Room 2\", \"Bedroom 2\", False)\n",
    "    apertures.append(aperture)\n",
    "    \n",
    "    aperture = createAperture(\"Bedroom 2\", \"WC 3\", False)\n",
    "    apertures.append(aperture)\n",
    "    \n",
    "    aperture = createAperture(\"Office\", \"Terrace 3\", False)\n",
    "    apertures.append(aperture)\n",
    "    \n",
    "    \n",
    "    \n",
    "    if three_bedrooms:\n",
    "        aperture = createAperture(\"Bedroom 3\", \"Corridor 1\", True)\n",
    "        apertures.append(aperture)\n",
    "    \n",
    "        aperture = createAperture(\"Bedroom 3\", \"WC 4\", True)\n",
    "        apertures.append(aperture)\n",
    "\n",
    "    return apertures"
   ]
  },
  {
   "cell_type": "code",
   "execution_count": 21,
   "id": "f14dd117-e98c-4954-9494-069eb1afc1f1",
   "metadata": {},
   "outputs": [],
   "source": [
    "def final_house_3(cells, selectors, apertures):\n",
    "    selectors = Helper.Flatten(selectors)\n",
    "    cells = Helper.Flatten(cells)\n",
    "    house = CellComplex.ByCells(cells)\n",
    "    house = Topology.TransferDictionariesBySelectors(house, selectors, tranCells=True)\n",
    "    house = Topology.AddApertures(house, apertures, subTopologyType=\"face\", exclusive=True)\n",
    "    return house"
   ]
  },
  {
   "cell_type": "code",
   "execution_count": 22,
   "id": "5f589c7c-6ae1-4ede-bff8-b6c63fd05ce0",
   "metadata": {},
   "outputs": [],
   "source": [
    "for i in range(40):\n",
    "    cells = []\n",
    "    selectors = []\n",
    "    apertures = []\n",
    "    config = config_house_3()\n",
    "    cells, selectors, house = topo_house_3(config)\n",
    "    apertures = aperture_house_3(config, selectors)\n",
    "    house = final_house_3(cells, selectors, apertures)\n",
    "    houses.append(house)\n",
    "    configs.append(config)\n"
   ]
  },
  {
   "cell_type": "markdown",
   "id": "a5cb9e3e-e2b5-4392-9e30-bccadbe1d6ba",
   "metadata": {},
   "source": [
    "# House 4"
   ]
  },
  {
   "cell_type": "code",
   "execution_count": 23,
   "id": "85df6979-2310-434e-8765-633ea6a548b4",
   "metadata": {},
   "outputs": [],
   "source": [
    "def config_house_4():\n",
    "    config = {\n",
    "        \"general_height\": random.randint(28, 32) / 10,\n",
    "        \"wc_length\": random.randint(12, 15) / 10,\n",
    "        \"corridor_width\": random.randint(9 ,12) / 10,\n",
    "        \"stairs_length\": 1.4,\n",
    "        \"x1\": 0,\n",
    "        \"x2\": random.randint(60, 80) / 10,\n",
    "        \"x3\": random.randint(40, 50) / 10,\n",
    "        \"y1\": 0,\n",
    "        \"y2\": random.randint(40, 50) / 10,\n",
    "        \"y3\": random.randint(40, 50) / 10,\n",
    "        \"y4\": random.randint(30, 40) / 10,\n",
    "        \"floor1\": 0,\n",
    "        \"floor2\": 0,\n",
    "        \"floor3\": 0,   \n",
    "    }\n",
    "    config['floor2'] = config[\"general_height\"] / 2\n",
    "    config['floor3'] = config[\"general_height\"]    \n",
    "        \n",
    "    return config"
   ]
  },
  {
   "cell_type": "code",
   "execution_count": 24,
   "id": "7607c789-31b7-45b0-8a08-72433b23fad7",
   "metadata": {},
   "outputs": [],
   "source": [
    "def topo_house_4(config):\n",
    "    general_height = config['general_height']\n",
    "    wc_length = config['wc_length']\n",
    "    corridor_width = config['corridor_width']\n",
    "    stairs_length = config['stairs_length']\n",
    "    x1 = config['x1']\n",
    "    x2 = config['x2']\n",
    "    x3 = config['x3']\n",
    "    y1 = config['y1']\n",
    "    y2 = config['y2']\n",
    "    y3 = config['y3']\n",
    "    y4 = config['y4']\n",
    "    floor1 = config['floor1']\n",
    "    floor2 = config['floor2']\n",
    "    floor3 = config['floor3']\n",
    "\n",
    "    #######\n",
    "    selectors = []\n",
    "    cells = []\n",
    "    apertures = []\n",
    "    keys = [\"label\", \"title\", \"area\", \"volume\"]\n",
    "    \n",
    "    terrace = Space(\n",
    "        \"Terrace\",\n",
    "        True,\n",
    "        True,\n",
    "        False,\n",
    "        [x3, y2, general_height],\n",
    "        [x2, y1, floor1]\n",
    "    )\n",
    "    \n",
    "    office = Space(\n",
    "        \"Office\",\n",
    "        False,\n",
    "        False,\n",
    "        False,\n",
    "        [x3, y3, general_height],\n",
    "        [x2 + corridor_width, y2, floor1] \n",
    "    )\n",
    "    \n",
    "    stairs1 = Space(\n",
    "        \"Stairs 1\",\n",
    "        False,\n",
    "        False,\n",
    "        False,\n",
    "        [corridor_width, stairs_length, general_height + floor2], # TODO CHECK HEIGHT\n",
    "        [x2, y2, floor1]\n",
    "    )\n",
    "    \n",
    "    corridor1 = Space(\n",
    "        \"Corridor 1\",\n",
    "        False,\n",
    "        False,\n",
    "        False,\n",
    "        [corridor_width, y3 - stairs1.l + wc_length, general_height],\n",
    "        [x2, y2 + stairs1.l, floor2]\n",
    "    )\n",
    "    \n",
    "    living = Space(\n",
    "        \"Living Room\",\n",
    "        False,\n",
    "        False,\n",
    "        False,\n",
    "        [x2, y3, general_height],\n",
    "        [x1, y2, floor2]\n",
    "    )\n",
    "    \n",
    "    dining = Space(\n",
    "        \"Dining Room\",\n",
    "        False,\n",
    "        False,\n",
    "        False,\n",
    "        [3, y4, general_height],\n",
    "        [x1 + 0.5, y2+y3, floor2]\n",
    "    )\n",
    "    \n",
    "    wc1 = Space(\n",
    "        \"WC 1\",\n",
    "        False,\n",
    "        False,\n",
    "        True,\n",
    "        [x2 - dining.w - 0.5, wc_length, general_height ],\n",
    "        [dining.x + dining.w, y2+y3, floor2]\n",
    "    )\n",
    "    \n",
    "    kitchen = Space(\n",
    "        \"Kitchen\",\n",
    "        False,\n",
    "        False,\n",
    "        True,\n",
    "        [x2 - dining.w - 0.5 + corridor_width, 3.0, general_height ],\n",
    "        [dining.x + dining.w, y2+y3+wc1.l, floor2]\n",
    "    )\n",
    "    \n",
    "    bedroom1 = Space(\n",
    "        \"Bedroom 1\",\n",
    "        False,\n",
    "        False,\n",
    "        False,\n",
    "        [x3, y3, general_height],\n",
    "        [x2 + corridor_width, y2, floor3] \n",
    "    )\n",
    "    \n",
    "    stairs2 = Space(\n",
    "        \"Stairs 2\",\n",
    "        False,\n",
    "        False,\n",
    "        False,\n",
    "        [stairs_length, wc1.l, general_height + floor2], \n",
    "        [x2 + corridor_width, y2+y3, floor2] \n",
    "    )\n",
    "    \n",
    "    service = Space(\n",
    "        \"Service\",\n",
    "        False,\n",
    "        False,\n",
    "        False,\n",
    "        [corridor1.w, kitchen.l, general_height],\n",
    "        [corridor1.x + corridor_width, kitchen.y, floor2]\n",
    "    )\n",
    "    \n",
    "    house = Topology.Boolean(terrace.topo, office.topo, operation=\"merge\")\n",
    "    \n",
    "    cells.extend([\n",
    "        terrace.topo,\n",
    "        office.topo,\n",
    "        stairs1.topo,\n",
    "        corridor1.topo,\n",
    "        living.topo,\n",
    "        dining.topo,   \n",
    "        wc1.topo,\n",
    "        kitchen.topo,\n",
    "        bedroom1.topo,  \n",
    "        stairs2.topo,\n",
    "        service.topo,\n",
    "    ])\n",
    "    \n",
    "    selectors.extend([\n",
    "        terrace.selector,\n",
    "        office.selector,\n",
    "        stairs1.selector,\n",
    "        corridor1.selector,\n",
    "        living.selector,\n",
    "        dining.selector,\n",
    "        wc1.selector,\n",
    "        kitchen.selector,\n",
    "        bedroom1.selector,    \n",
    "        stairs2.selector,\n",
    "        service.selector,\n",
    "    ])\n",
    "    \n",
    "    \n",
    "    for cell in cells: \n",
    "        house = Topology.Boolean(house, cell, operation=\"merge\")\n",
    "\n",
    "\n",
    "    return cells, selectors, house\n",
    "    \n"
   ]
  },
  {
   "cell_type": "code",
   "execution_count": 25,
   "id": "89ff893b-6227-4928-9de6-b6a61a6b65b5",
   "metadata": {},
   "outputs": [],
   "source": [
    "def aperture_house_4(config, selectors):\n",
    "    aperture = createWindows(is_linear=False)\n",
    "    apertures.extend(aperture)\n",
    "    \n",
    "    aperture = createAperture(\"Terrace\", \"Office\", False)\n",
    "    apertures.append(aperture)\n",
    "    \n",
    "    aperture = createAperture(\"Terrace\", \"Stairs 1\", True)\n",
    "    apertures.append(aperture)\n",
    "    \n",
    "    aperture = createAperture(\"Stairs 1\", \"Corridor 1\", True)\n",
    "    apertures.append(aperture)\n",
    "    \n",
    "    aperture = createAperture(\"Corridor 1\", \"Living Room\", True)\n",
    "    apertures.append(aperture)\n",
    "    \n",
    "    aperture = createAperture(\"Corridor 1\", \"WC 1\", False)\n",
    "    apertures.append(aperture)\n",
    "    \n",
    "    aperture = createAperture(\"Corridor 1\", \"Kitchen\", True)\n",
    "    apertures.append(aperture)\n",
    "    \n",
    "    aperture = createAperture(\"Living Room\", \"Dining Room\", True)\n",
    "    apertures.append(aperture)\n",
    "    \n",
    "    aperture = createAperture(\"Dining Room\", \"Kitchen\", True)\n",
    "    apertures.append(aperture)\n",
    "    \n",
    "    aperture = createAperture(\"Kitchen\", \"Service\",  False)\n",
    "    apertures.append(aperture)\n",
    "    \n",
    "    aperture = createAperture(\"Corridor 1\", \"Stairs 2\", True)\n",
    "    apertures.append(aperture)\n",
    "    \n",
    "    aperture = createAperture(\"Stairs 2\", \"Bedroom 1\",  True)\n",
    "    apertures.append(aperture)\n",
    "\n",
    "    return apertures"
   ]
  },
  {
   "cell_type": "code",
   "execution_count": 26,
   "id": "0608c3bc-1024-4cb8-90da-1ccf98bcdf38",
   "metadata": {},
   "outputs": [],
   "source": [
    "def final_house_4(cells, selectors, apertures):\n",
    "    selectors = Helper.Flatten(selectors)\n",
    "    cells = Helper.Flatten(cells)\n",
    "    house = CellComplex.ByCells(cells)\n",
    "    house = Topology.TransferDictionariesBySelectors(house, selectors, tranCells=True)\n",
    "    house = Topology.AddApertures(house, apertures, subTopologyType=\"face\", exclusive=True)\n",
    "    return house"
   ]
  },
  {
   "cell_type": "code",
   "execution_count": 27,
   "id": "891fb9c0-ba41-46fc-be8b-178d1efcc6af",
   "metadata": {},
   "outputs": [],
   "source": [
    "for i in range(40):\n",
    "    cells = []\n",
    "    selectors = []\n",
    "    apertures = []\n",
    "    config = config_house_4()\n",
    "    cells, selectors, house = topo_house_4(config)\n",
    "    apertures = aperture_house_4(config, selectors)\n",
    "    house = final_house_4(cells, selectors, apertures)\n",
    "    houses.append(house)\n",
    "    configs.append(config)\n"
   ]
  },
  {
   "cell_type": "markdown",
   "id": "3a81d89e-21f6-4f23-ab0a-2f6b0f0d0dca",
   "metadata": {},
   "source": [
    "# House 5"
   ]
  },
  {
   "cell_type": "code",
   "execution_count": 28,
   "id": "37327cb9-a5f4-4946-8a24-6c6300b0deb0",
   "metadata": {},
   "outputs": [],
   "source": [
    "def config_house_5():\n",
    "    config = {\n",
    "        \"general_width\": random.randint(30, 45) / 10,\n",
    "        \"general_height\": random.randint(28, 32) / 10,\n",
    "        \"terrace_width\": random.randint(15, 20) / 10,\n",
    "        \"corridor_width\": random.randint(9, 12) / 10,\n",
    "        \"three_bedrooms\": random.choice([True, False]),\n",
    "    }        \n",
    "    return config"
   ]
  },
  {
   "cell_type": "code",
   "execution_count": 29,
   "id": "a0ea76ef-165f-4f8c-85e1-e99d55ddb0f3",
   "metadata": {},
   "outputs": [],
   "source": [
    "def topo_house_5(config):\n",
    "    general_width = config['general_width']\n",
    "    general_height = config['general_height']\n",
    "    terrace_width = config['terrace_width']\n",
    "    corridor_width = config['corridor_width']\n",
    "    three_bedrooms = config['three_bedrooms']\n",
    "\n",
    "    selectors = []\n",
    "    cells = []\n",
    "    apertures = []\n",
    "    keys = [\"label\", \"title\", \"area\", \"volume\"]\n",
    "    \n",
    "    living = Space(\n",
    "        \"Living Room\",\n",
    "        True,\n",
    "        False,\n",
    "        False,\n",
    "        [general_width, 5, general_height],\n",
    "        [0, 0, 0]\n",
    "    )\n",
    "    \n",
    "    dining = Space(\n",
    "        \"Dining Room\",\n",
    "        False,\n",
    "        False,\n",
    "        False,\n",
    "        [general_width, 5, general_height],\n",
    "        [0, living.l, 0] \n",
    "    )\n",
    "    \n",
    "    kitchen = Space(\n",
    "        \"Kitchen\",\n",
    "        True,\n",
    "        False,\n",
    "        True,\n",
    "        [general_width, 6, general_height],\n",
    "        [0, living.l + dining.l, 0] \n",
    "    )\n",
    "    \n",
    "    service = Space(\n",
    "        \"Service\",\n",
    "        False,\n",
    "        False,\n",
    "        True,\n",
    "        [general_width, 2.5, general_height],\n",
    "        [0, living.l + dining.l + kitchen.l, 0] \n",
    "    )\n",
    "    \n",
    "    \n",
    "    \n",
    "    bedroom1_position = [dining.w, living.l + dining.l - general_width, 0]\n",
    "    corridor_length = 0\n",
    "    if three_bedrooms:\n",
    "        bedroom3 = Space(\n",
    "            \"Bedroom 3\",\n",
    "            False,\n",
    "            False,\n",
    "            False,\n",
    "            [3.5, general_width, general_height],\n",
    "            [dining.w, living.l + dining.l - general_width, 0]\n",
    "        )\n",
    "        \n",
    "        bedroom1_position = [bedroom3.x + bedroom3.w, living.l + dining.l - general_width, 0]\n",
    "        corridor_length += bedroom3.w\n",
    "        \n",
    "        cells.extend([\n",
    "            bedroom3.topo,\n",
    "        ])\n",
    "        selectors.extend([\n",
    "            bedroom3.selector,\n",
    "        ])\n",
    "        \n",
    "        \n",
    "    \n",
    "    bedroom1 = Space(\n",
    "        \"Bedroom 1\",\n",
    "        False,\n",
    "        False,\n",
    "        False,\n",
    "        [3.5, general_width, general_height],\n",
    "        bedroom1_position\n",
    "    )\n",
    "    \n",
    "    bedroom2 = Space(\n",
    "        \"Bedroom 2\",\n",
    "        False,\n",
    "        False,\n",
    "        False,\n",
    "        [3.5, general_width + corridor_width, general_height],\n",
    "        [bedroom1.x + bedroom1.w, bedroom1.y, 0]\n",
    "    )\n",
    "    \n",
    "    corridor_length += bedroom1.w\n",
    "    \n",
    "    corridor = Space(\n",
    "        \"Corridor\",\n",
    "        False,\n",
    "        False,\n",
    "        False,\n",
    "        [corridor_length, corridor_width, general_height], # Mudar o primeiro valor\n",
    "        [dining.w, living.l + dining.l, 0]\n",
    "    )\n",
    "    \n",
    "    wc1 = Space(\n",
    "        \"WC 1\",\n",
    "        False,\n",
    "        False,\n",
    "        True,\n",
    "        [2.4, 2.4, general_height],\n",
    "        [bedroom2.x - 2.4, corridor.y + corridor_width, 0] # Make 2.4 parametric\n",
    "    )\n",
    "    \n",
    "    wc2 = Space(\n",
    "        \"WC 2\",\n",
    "        False,\n",
    "        False,\n",
    "        True,\n",
    "        [2.4, 2.4, general_height],\n",
    "        [bedroom2.x, corridor.y + corridor_width, 0] # Make 2.4 parametric\n",
    "    )\n",
    "    \n",
    "    \n",
    "    terrace1 = Space(\n",
    "        \"Terrace 1\",\n",
    "        True,\n",
    "        True,\n",
    "        False,\n",
    "        [terrace_width, kitchen.y - bedroom1.l, general_height],\n",
    "        [general_width, 0, 0]\n",
    "    )\n",
    "    \n",
    "    terrace2 = Space(\n",
    "        \"Terrace 2\",\n",
    "        True,\n",
    "        True,\n",
    "        False,\n",
    "        [bedroom2.x + bedroom2.w - general_width, terrace_width, general_height],\n",
    "        [general_width + terrace_width, bedroom1.y - terrace_width, 0]\n",
    "    )\n",
    "    \n",
    "    \n",
    "    house = Topology.Boolean(living.topo, dining.topo, operation=\"merge\")\n",
    "    \n",
    "    cells.extend([\n",
    "        living.topo,\n",
    "        dining.topo,\n",
    "        kitchen.topo,\n",
    "        service.topo,\n",
    "        corridor.topo,\n",
    "        bedroom1.topo,\n",
    "        bedroom2.topo,\n",
    "        wc1.topo,\n",
    "        wc2.topo,\n",
    "        terrace1.topo,\n",
    "        terrace2.topo,\n",
    "    ])\n",
    "    selectors.extend([\n",
    "        living.selector,\n",
    "        dining.selector,\n",
    "        kitchen.selector,\n",
    "        service.selector,\n",
    "        corridor.selector,\n",
    "        bedroom1.selector,\n",
    "        bedroom2.selector,\n",
    "        wc1.selector,\n",
    "        wc2.selector,\n",
    "        terrace1.selector,\n",
    "        terrace2.selector,\n",
    "    ])\n",
    "    \n",
    "    \n",
    "    for cell in cells:    \n",
    "        house = Topology.Boolean(house, cell, operation=\"merge\")\n",
    "\n",
    "    return cells, selectors, house"
   ]
  },
  {
   "cell_type": "code",
   "execution_count": 30,
   "id": "8494d31a-3b86-4584-825c-dabe23d25a39",
   "metadata": {},
   "outputs": [],
   "source": [
    "def aperture_house_5(config, selectors):\n",
    "    three_bedrooms = config['three_bedrooms']\n",
    "\n",
    "    aperture = createWindows(is_linear=False)\n",
    "    apertures.extend(aperture)\n",
    "\n",
    "    aperture = createAperture(\"Living Room\", \"Dining Room\", True)\n",
    "    apertures.append(aperture)\n",
    "    \n",
    "    aperture = createAperture(\"Living Room\", \"Terrace 1\", False)\n",
    "    apertures.append(aperture)\n",
    "    \n",
    "    aperture = createAperture(\"Dining Room\", \"Terrace 1\", False)\n",
    "    apertures.append(aperture)\n",
    "    \n",
    "    aperture = createAperture(\"Dining Room\", \"Kitchen\", True)\n",
    "    apertures.append(aperture)\n",
    "    \n",
    "    aperture = createAperture(\"Kitchen\", \"Service\", False)\n",
    "    apertures.append(aperture)\n",
    "    \n",
    "    aperture = createAperture(\"Kitchen\", \"Corridor\", True)\n",
    "    apertures.append(aperture)\n",
    "    \n",
    "    aperture = createAperture(\"Corridor\", \"Bedroom 1\", False)\n",
    "    apertures.append(aperture)\n",
    "    \n",
    "    aperture = createAperture(\"Corridor\", \"WC 1\", False)\n",
    "    apertures.append(aperture)\n",
    "    \n",
    "    aperture = createAperture(\"Corridor\", \"Bedroom 2\", False)\n",
    "    apertures.append(aperture)\n",
    "    \n",
    "    aperture = createAperture(\"Bedroom 2\", \"WC 2\", False)\n",
    "    apertures.append(aperture)\n",
    "    \n",
    "    aperture = createAperture(\"Bedroom 1\", \"Terrace 2\", False)\n",
    "    apertures.append(aperture)\n",
    "    \n",
    "    aperture = createAperture(\"Bedroom 2\", \"Terrace 2\", False)\n",
    "    apertures.append(aperture)\n",
    "    \n",
    "    if three_bedrooms:\n",
    "        aperture = createAperture(\"Corridor\", \"Bedroom 3\", False)\n",
    "        apertures.append(aperture)\n",
    "    \n",
    "        aperture = createAperture(\"Bedroom 3\", \"Terrace 2\", False)\n",
    "        apertures.append(aperture)\n",
    "    \n",
    "    aperture = createAperture(\"Terrace 1\", \"Terrace 2\", True)\n",
    "    apertures.append(aperture)\n",
    "    \n",
    "\n",
    "\n",
    "\n",
    "\n",
    "    return apertures"
   ]
  },
  {
   "cell_type": "code",
   "execution_count": 31,
   "id": "e2fc3c84-8462-40a2-b42b-aa3234588a28",
   "metadata": {},
   "outputs": [],
   "source": [
    "def final_house_5(cells, selectors, apertures):\n",
    "    selectors = Helper.Flatten(selectors)\n",
    "    cells = Helper.Flatten(cells)\n",
    "    house = CellComplex.ByCells(cells)\n",
    "    house = Topology.TransferDictionariesBySelectors(house, selectors, tranCells=True)\n",
    "    house = Topology.AddApertures(house, apertures, subTopologyType=\"face\", exclusive=True)\n",
    "    return house"
   ]
  },
  {
   "cell_type": "code",
   "execution_count": 32,
   "id": "f6b9290a-63bf-4ede-97bb-f50d71088554",
   "metadata": {},
   "outputs": [],
   "source": [
    "for i in range(40):\n",
    "    cells = []\n",
    "    selectors = []\n",
    "    apertures = []\n",
    "    config = config_house_5()\n",
    "    cells, selectors, house = topo_house_5(config)\n",
    "    apertures = aperture_house_5(config, selectors)\n",
    "    house = final_house_5(cells, selectors, apertures)\n",
    "    houses.append(house)\n",
    "    configs.append(config)\n"
   ]
  },
  {
   "cell_type": "markdown",
   "id": "2980f1cd-a524-43b3-b8b3-347859d1da8a",
   "metadata": {},
   "source": [
    "# Joining all houses and exporting"
   ]
  },
  {
   "cell_type": "code",
   "execution_count": 33,
   "id": "bb996cb8-7fb5-44e2-833a-bf3607200d7e",
   "metadata": {},
   "outputs": [],
   "source": [
    "graphs = []\n",
    "for house in houses:\n",
    "    g = Graph.ByTopology(house, direct=False, viaSharedApertures=True, toExteriorApertures=True)\n",
    "    graphs.append(g)\n",
    "    \n",
    "    "
   ]
  },
  {
   "cell_type": "code",
   "execution_count": 34,
   "id": "ebfef6b4-df56-47b4-badd-490b4c9746fa",
   "metadata": {},
   "outputs": [],
   "source": [
    "# for g in graphs:\n",
    "#     print(s.GetDictionary().ValueAtKey(\"title\").StringValue())"
   ]
  },
  {
   "cell_type": "code",
   "execution_count": 35,
   "id": "2160679c-4b49-4d63-acc7-a9f05fc200ac",
   "metadata": {},
   "outputs": [],
   "source": [
    "for i, g in enumerate(graphs):\n",
    "    overwrite = False\n",
    "    if i == 0:\n",
    "        overwrite=True\n",
    "    Graph.ExportToCSV(g, \"./data4\", 0, overwrite=overwrite, nodeFeaturesKeys=[\"is_entrance\", \"is_external\", \"is_wet_area\", \"width\", \"length\", \"height\", \"area\", \"volume\"])"
   ]
  },
  {
   "cell_type": "code",
   "execution_count": null,
   "id": "6657daaa-7efd-4a93-a226-0be66b0046e7",
   "metadata": {},
   "outputs": [],
   "source": []
  }
 ],
 "metadata": {
  "kernelspec": {
   "display_name": "Python 3 (ipykernel)",
   "language": "python",
   "name": "python3"
  },
  "language_info": {
   "codemirror_mode": {
    "name": "ipython",
    "version": 3
   },
   "file_extension": ".py",
   "mimetype": "text/x-python",
   "name": "python",
   "nbconvert_exporter": "python",
   "pygments_lexer": "ipython3",
   "version": "3.12.4"
  }
 },
 "nbformat": 4,
 "nbformat_minor": 5
}
