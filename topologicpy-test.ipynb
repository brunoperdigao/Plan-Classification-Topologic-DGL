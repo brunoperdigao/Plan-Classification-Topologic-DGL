{
 "cells": [
  {
   "cell_type": "code",
   "execution_count": 1,
   "id": "348f5043-6d1c-440c-a92b-d8f59dfcf6fc",
   "metadata": {
    "scrolled": true
   },
   "outputs": [],
   "source": [
    "from topologicpy.Vertex import Vertex\n",
    "from topologicpy.Face import Face\n",
    "from topologicpy.Cell import Cell\n",
    "from topologicpy.CellComplex import CellComplex\n",
    "from topologicpy.Cluster import Cluster\n",
    "from topologicpy.Topology import Topology\n",
    "from topologicpy.Dictionary import Dictionary\n",
    "from topologicpy.Color import Color\n",
    "from topologicpy.Plotly import Plotly\n",
    "from topologicpy.DGL import DGL\n",
    "\n",
    "import plotly.io as pio\n",
    "pio.renderers.default = 'jupyterlab'\n"
   ]
  },
  {
   "cell_type": "code",
   "execution_count": 2,
   "id": "c1740ba3-154f-4b2c-b2ce-df0bfefe2a6a",
   "metadata": {},
   "outputs": [],
   "source": [
    "# Create a building\n",
    "building = Cell.Prism(width=20, length=10, height=6, placement=\"bottom\")\n",
    "hole = Cell.Prism(width=5, length=4, height=5, placement=\"bottom\")\n",
    "hole = Topology.Translate(hole, 1, 0, 4)\n",
    "building = Topology.Boolean(building, hole, operation=\"difference\")\n",
    "hole = Topology.Translate(hole, -7, 0, 0)\n",
    "building = Topology.Boolean(building, hole, operation=\"difference\")\n"
   ]
  },
  {
   "cell_type": "code",
   "execution_count": 3,
   "id": "7f94a400-b0be-4a01-b5c3-1488e1cf2589",
   "metadata": {},
   "outputs": [
    {
     "data": {
      "application/vnd.plotly.v1+json": {
       "config": {
        "plotlyServerURL": "https://plot.ly"
       },
       "data": [
        {
         "hoverinfo": "text",
         "legendgroup": "2",
         "legendrank": 2,
         "line": {
          "color": "black",
          "width": 1
         },
         "marker": {
          "size": 0
         },
         "mode": "lines",
         "name": "Topology Edges",
         "showlegend": false,
         "text": "",
         "type": "scatter3d",
         "x": [
          10,
          -10,
          null,
          10,
          10,
          null,
          -10,
          10,
          null,
          -10,
          -10,
          null,
          10,
          10,
          null,
          10,
          -10,
          null,
          -10,
          -10,
          null,
          10,
          10,
          null,
          10,
          10,
          null,
          -10,
          -10,
          null,
          -10,
          10,
          null,
          -10,
          -10,
          null,
          -3.5,
          -8.5,
          null,
          -3.5,
          -3.5,
          null,
          -8.5,
          -3.5,
          null,
          -8.5,
          -8.5,
          null,
          3.5,
          -1.5,
          null,
          -1.5,
          -1.5,
          null,
          3.5,
          3.5,
          null,
          -1.5,
          3.5,
          null,
          -8.5,
          -8.5,
          null,
          -3.5,
          -3.5,
          null,
          -3.5,
          -8.5,
          null,
          -3.5,
          -3.5,
          null,
          -3.5,
          -3.5,
          null,
          -8.5,
          -8.5,
          null,
          -8.5,
          -3.5,
          null,
          -8.5,
          -8.5,
          null,
          -1.5,
          -1.5,
          null,
          3.5,
          3.5,
          null,
          3.5,
          -1.5,
          null,
          -1.5,
          -1.5,
          null,
          -1.5,
          -1.5,
          null,
          3.5,
          3.5,
          null,
          3.5,
          3.5,
          null,
          -1.5,
          3.5,
          null
         ],
         "y": [
          -5,
          -5,
          null,
          5,
          -5,
          null,
          5,
          5,
          null,
          -5,
          5,
          null,
          -5,
          -5,
          null,
          -5,
          -5,
          null,
          -5,
          -5,
          null,
          5,
          5,
          null,
          5,
          -5,
          null,
          5,
          5,
          null,
          5,
          5,
          null,
          -5,
          5,
          null,
          -2,
          -2,
          null,
          2,
          -2,
          null,
          2,
          2,
          null,
          -2,
          2,
          null,
          -2,
          -2,
          null,
          -2,
          2,
          null,
          2,
          -2,
          null,
          2,
          2,
          null,
          -2,
          -2,
          null,
          -2,
          -2,
          null,
          -2,
          -2,
          null,
          2,
          2,
          null,
          2,
          -2,
          null,
          2,
          2,
          null,
          2,
          2,
          null,
          -2,
          2,
          null,
          -2,
          -2,
          null,
          -2,
          -2,
          null,
          -2,
          -2,
          null,
          2,
          2,
          null,
          -2,
          2,
          null,
          2,
          2,
          null,
          2,
          -2,
          null,
          2,
          2,
          null
         ],
         "z": [
          0,
          0,
          null,
          0,
          0,
          null,
          0,
          0,
          null,
          0,
          0,
          null,
          0,
          6,
          null,
          6,
          6,
          null,
          6,
          0,
          null,
          0,
          6,
          null,
          6,
          6,
          null,
          0,
          6,
          null,
          6,
          6,
          null,
          6,
          6,
          null,
          6,
          6,
          null,
          6,
          6,
          null,
          6,
          6,
          null,
          6,
          6,
          null,
          6,
          6,
          null,
          6,
          6,
          null,
          6,
          6,
          null,
          6,
          6,
          null,
          4,
          6,
          null,
          6,
          4,
          null,
          4,
          4,
          null,
          6,
          4,
          null,
          4,
          4,
          null,
          6,
          4,
          null,
          4,
          4,
          null,
          4,
          4,
          null,
          4,
          6,
          null,
          6,
          4,
          null,
          4,
          4,
          null,
          4,
          6,
          null,
          4,
          4,
          null,
          6,
          4,
          null,
          4,
          4,
          null,
          4,
          4,
          null
         ]
        },
        {
         "cmax": 1,
         "cmin": 0,
         "color": "#FAFAFA",
         "colorscale": [
          [
           0,
           "#440154"
          ],
          [
           0.1111111111111111,
           "#482878"
          ],
          [
           0.2222222222222222,
           "#3e4989"
          ],
          [
           0.3333333333333333,
           "#31688e"
          ],
          [
           0.4444444444444444,
           "#26828e"
          ],
          [
           0.5555555555555556,
           "#1f9e89"
          ],
          [
           0.6666666666666666,
           "#35b779"
          ],
          [
           0.7777777777777778,
           "#6ece58"
          ],
          [
           0.8888888888888888,
           "#b5de2b"
          ],
          [
           1,
           "#fde725"
          ]
         ],
         "flatshading": true,
         "hoverinfo": "text",
         "hovertext": "",
         "i": [
          0,
          1,
          0,
          0,
          2,
          2,
          3,
          3,
          1,
          1,
          8,
          7,
          7,
          11,
          12,
          13,
          13,
          13,
          4,
          4,
          6,
          6,
          6,
          6,
          16,
          8,
          18,
          12,
          19,
          10,
          17,
          9,
          20,
          14,
          21,
          11,
          23,
          15,
          22,
          13,
          18,
          18,
          23,
          23
         ],
         "j": [
          1,
          3,
          4,
          5,
          6,
          4,
          7,
          6,
          5,
          7,
          9,
          9,
          5,
          8,
          7,
          12,
          7,
          8,
          14,
          11,
          15,
          14,
          7,
          13,
          17,
          16,
          16,
          18,
          18,
          19,
          19,
          17,
          21,
          20,
          22,
          21,
          20,
          23,
          23,
          22,
          17,
          19,
          21,
          22
         ],
         "k": [
          2,
          2,
          5,
          1,
          4,
          0,
          6,
          2,
          7,
          3,
          5,
          10,
          9,
          5,
          10,
          8,
          12,
          11,
          11,
          5,
          14,
          4,
          13,
          15,
          9,
          9,
          8,
          8,
          12,
          12,
          10,
          10,
          11,
          11,
          13,
          13,
          14,
          14,
          15,
          15,
          16,
          17,
          20,
          21
         ],
         "legendgroup": "3",
         "legendrank": 3,
         "lighting": {
          "facenormalsepsilon": 0
         },
         "name": "Topology Faces",
         "opacity": 0.5,
         "showlegend": false,
         "showscale": false,
         "text": "",
         "type": "mesh3d",
         "x": [
          10,
          -10,
          10,
          -10,
          10,
          -10,
          10,
          -10,
          -3.5,
          -8.5,
          -8.5,
          -1.5,
          -3.5,
          -1.5,
          3.5,
          3.5,
          -3.5,
          -8.5,
          -3.5,
          -8.5,
          3.5,
          -1.5,
          -1.5,
          3.5
         ],
         "y": [
          -5,
          -5,
          5,
          5,
          -5,
          -5,
          5,
          5,
          -2,
          -2,
          2,
          -2,
          2,
          2,
          -2,
          2,
          -2,
          -2,
          2,
          2,
          -2,
          -2,
          2,
          2
         ],
         "z": [
          0,
          0,
          0,
          0,
          6,
          6,
          6,
          6,
          6,
          6,
          6,
          6,
          6,
          6,
          6,
          6,
          4,
          4,
          4,
          4,
          4,
          4,
          4,
          4
         ]
        }
       ],
       "layout": {
        "height": 500,
        "margin": {
         "b": 0,
         "l": 0,
         "r": 0,
         "t": 20
        },
        "paper_bgcolor": "rgba(0, 0, 0, 0)",
        "plot_bgcolor": "rgba(0, 0, 0, 0)",
        "scene": {
         "aspectmode": "data",
         "aspectratio": {
          "x": 1.882072057762057,
          "y": 0.9410360288810286,
          "z": 0.5646216173286173
         },
         "camera": {
          "center": {
           "x": 0,
           "y": 0,
           "z": 0
          },
          "eye": {
           "x": -2.2004417187286505,
           "y": -2.2004417187286505,
           "z": 2.2004417187286505
          },
          "projection": {
           "type": "perspective"
          },
          "up": {
           "x": 0,
           "y": 0,
           "z": 1
          }
         },
         "xaxis": {
          "type": "linear",
          "visible": false
         },
         "yaxis": {
          "type": "linear",
          "visible": false
         },
         "zaxis": {
          "type": "linear",
          "visible": false
         }
        },
        "showlegend": true,
        "template": {
         "data": {
          "bar": [
           {
            "error_x": {
             "color": "#2a3f5f"
            },
            "error_y": {
             "color": "#2a3f5f"
            },
            "marker": {
             "line": {
              "color": "#E5ECF6",
              "width": 0.5
             },
             "pattern": {
              "fillmode": "overlay",
              "size": 10,
              "solidity": 0.2
             }
            },
            "type": "bar"
           }
          ],
          "barpolar": [
           {
            "marker": {
             "line": {
              "color": "#E5ECF6",
              "width": 0.5
             },
             "pattern": {
              "fillmode": "overlay",
              "size": 10,
              "solidity": 0.2
             }
            },
            "type": "barpolar"
           }
          ],
          "carpet": [
           {
            "aaxis": {
             "endlinecolor": "#2a3f5f",
             "gridcolor": "white",
             "linecolor": "white",
             "minorgridcolor": "white",
             "startlinecolor": "#2a3f5f"
            },
            "baxis": {
             "endlinecolor": "#2a3f5f",
             "gridcolor": "white",
             "linecolor": "white",
             "minorgridcolor": "white",
             "startlinecolor": "#2a3f5f"
            },
            "type": "carpet"
           }
          ],
          "choropleth": [
           {
            "colorbar": {
             "outlinewidth": 0,
             "ticks": ""
            },
            "type": "choropleth"
           }
          ],
          "contour": [
           {
            "colorbar": {
             "outlinewidth": 0,
             "ticks": ""
            },
            "colorscale": [
             [
              0,
              "#0d0887"
             ],
             [
              0.1111111111111111,
              "#46039f"
             ],
             [
              0.2222222222222222,
              "#7201a8"
             ],
             [
              0.3333333333333333,
              "#9c179e"
             ],
             [
              0.4444444444444444,
              "#bd3786"
             ],
             [
              0.5555555555555556,
              "#d8576b"
             ],
             [
              0.6666666666666666,
              "#ed7953"
             ],
             [
              0.7777777777777778,
              "#fb9f3a"
             ],
             [
              0.8888888888888888,
              "#fdca26"
             ],
             [
              1,
              "#f0f921"
             ]
            ],
            "type": "contour"
           }
          ],
          "contourcarpet": [
           {
            "colorbar": {
             "outlinewidth": 0,
             "ticks": ""
            },
            "type": "contourcarpet"
           }
          ],
          "heatmap": [
           {
            "colorbar": {
             "outlinewidth": 0,
             "ticks": ""
            },
            "colorscale": [
             [
              0,
              "#0d0887"
             ],
             [
              0.1111111111111111,
              "#46039f"
             ],
             [
              0.2222222222222222,
              "#7201a8"
             ],
             [
              0.3333333333333333,
              "#9c179e"
             ],
             [
              0.4444444444444444,
              "#bd3786"
             ],
             [
              0.5555555555555556,
              "#d8576b"
             ],
             [
              0.6666666666666666,
              "#ed7953"
             ],
             [
              0.7777777777777778,
              "#fb9f3a"
             ],
             [
              0.8888888888888888,
              "#fdca26"
             ],
             [
              1,
              "#f0f921"
             ]
            ],
            "type": "heatmap"
           }
          ],
          "heatmapgl": [
           {
            "colorbar": {
             "outlinewidth": 0,
             "ticks": ""
            },
            "colorscale": [
             [
              0,
              "#0d0887"
             ],
             [
              0.1111111111111111,
              "#46039f"
             ],
             [
              0.2222222222222222,
              "#7201a8"
             ],
             [
              0.3333333333333333,
              "#9c179e"
             ],
             [
              0.4444444444444444,
              "#bd3786"
             ],
             [
              0.5555555555555556,
              "#d8576b"
             ],
             [
              0.6666666666666666,
              "#ed7953"
             ],
             [
              0.7777777777777778,
              "#fb9f3a"
             ],
             [
              0.8888888888888888,
              "#fdca26"
             ],
             [
              1,
              "#f0f921"
             ]
            ],
            "type": "heatmapgl"
           }
          ],
          "histogram": [
           {
            "marker": {
             "pattern": {
              "fillmode": "overlay",
              "size": 10,
              "solidity": 0.2
             }
            },
            "type": "histogram"
           }
          ],
          "histogram2d": [
           {
            "colorbar": {
             "outlinewidth": 0,
             "ticks": ""
            },
            "colorscale": [
             [
              0,
              "#0d0887"
             ],
             [
              0.1111111111111111,
              "#46039f"
             ],
             [
              0.2222222222222222,
              "#7201a8"
             ],
             [
              0.3333333333333333,
              "#9c179e"
             ],
             [
              0.4444444444444444,
              "#bd3786"
             ],
             [
              0.5555555555555556,
              "#d8576b"
             ],
             [
              0.6666666666666666,
              "#ed7953"
             ],
             [
              0.7777777777777778,
              "#fb9f3a"
             ],
             [
              0.8888888888888888,
              "#fdca26"
             ],
             [
              1,
              "#f0f921"
             ]
            ],
            "type": "histogram2d"
           }
          ],
          "histogram2dcontour": [
           {
            "colorbar": {
             "outlinewidth": 0,
             "ticks": ""
            },
            "colorscale": [
             [
              0,
              "#0d0887"
             ],
             [
              0.1111111111111111,
              "#46039f"
             ],
             [
              0.2222222222222222,
              "#7201a8"
             ],
             [
              0.3333333333333333,
              "#9c179e"
             ],
             [
              0.4444444444444444,
              "#bd3786"
             ],
             [
              0.5555555555555556,
              "#d8576b"
             ],
             [
              0.6666666666666666,
              "#ed7953"
             ],
             [
              0.7777777777777778,
              "#fb9f3a"
             ],
             [
              0.8888888888888888,
              "#fdca26"
             ],
             [
              1,
              "#f0f921"
             ]
            ],
            "type": "histogram2dcontour"
           }
          ],
          "mesh3d": [
           {
            "colorbar": {
             "outlinewidth": 0,
             "ticks": ""
            },
            "type": "mesh3d"
           }
          ],
          "parcoords": [
           {
            "line": {
             "colorbar": {
              "outlinewidth": 0,
              "ticks": ""
             }
            },
            "type": "parcoords"
           }
          ],
          "pie": [
           {
            "automargin": true,
            "type": "pie"
           }
          ],
          "scatter": [
           {
            "fillpattern": {
             "fillmode": "overlay",
             "size": 10,
             "solidity": 0.2
            },
            "type": "scatter"
           }
          ],
          "scatter3d": [
           {
            "line": {
             "colorbar": {
              "outlinewidth": 0,
              "ticks": ""
             }
            },
            "marker": {
             "colorbar": {
              "outlinewidth": 0,
              "ticks": ""
             }
            },
            "type": "scatter3d"
           }
          ],
          "scattercarpet": [
           {
            "marker": {
             "colorbar": {
              "outlinewidth": 0,
              "ticks": ""
             }
            },
            "type": "scattercarpet"
           }
          ],
          "scattergeo": [
           {
            "marker": {
             "colorbar": {
              "outlinewidth": 0,
              "ticks": ""
             }
            },
            "type": "scattergeo"
           }
          ],
          "scattergl": [
           {
            "marker": {
             "colorbar": {
              "outlinewidth": 0,
              "ticks": ""
             }
            },
            "type": "scattergl"
           }
          ],
          "scattermapbox": [
           {
            "marker": {
             "colorbar": {
              "outlinewidth": 0,
              "ticks": ""
             }
            },
            "type": "scattermapbox"
           }
          ],
          "scatterpolar": [
           {
            "marker": {
             "colorbar": {
              "outlinewidth": 0,
              "ticks": ""
             }
            },
            "type": "scatterpolar"
           }
          ],
          "scatterpolargl": [
           {
            "marker": {
             "colorbar": {
              "outlinewidth": 0,
              "ticks": ""
             }
            },
            "type": "scatterpolargl"
           }
          ],
          "scatterternary": [
           {
            "marker": {
             "colorbar": {
              "outlinewidth": 0,
              "ticks": ""
             }
            },
            "type": "scatterternary"
           }
          ],
          "surface": [
           {
            "colorbar": {
             "outlinewidth": 0,
             "ticks": ""
            },
            "colorscale": [
             [
              0,
              "#0d0887"
             ],
             [
              0.1111111111111111,
              "#46039f"
             ],
             [
              0.2222222222222222,
              "#7201a8"
             ],
             [
              0.3333333333333333,
              "#9c179e"
             ],
             [
              0.4444444444444444,
              "#bd3786"
             ],
             [
              0.5555555555555556,
              "#d8576b"
             ],
             [
              0.6666666666666666,
              "#ed7953"
             ],
             [
              0.7777777777777778,
              "#fb9f3a"
             ],
             [
              0.8888888888888888,
              "#fdca26"
             ],
             [
              1,
              "#f0f921"
             ]
            ],
            "type": "surface"
           }
          ],
          "table": [
           {
            "cells": {
             "fill": {
              "color": "#EBF0F8"
             },
             "line": {
              "color": "white"
             }
            },
            "header": {
             "fill": {
              "color": "#C8D4E3"
             },
             "line": {
              "color": "white"
             }
            },
            "type": "table"
           }
          ]
         },
         "layout": {
          "annotationdefaults": {
           "arrowcolor": "#2a3f5f",
           "arrowhead": 0,
           "arrowwidth": 1
          },
          "autotypenumbers": "strict",
          "coloraxis": {
           "colorbar": {
            "outlinewidth": 0,
            "ticks": ""
           }
          },
          "colorscale": {
           "diverging": [
            [
             0,
             "#8e0152"
            ],
            [
             0.1,
             "#c51b7d"
            ],
            [
             0.2,
             "#de77ae"
            ],
            [
             0.3,
             "#f1b6da"
            ],
            [
             0.4,
             "#fde0ef"
            ],
            [
             0.5,
             "#f7f7f7"
            ],
            [
             0.6,
             "#e6f5d0"
            ],
            [
             0.7,
             "#b8e186"
            ],
            [
             0.8,
             "#7fbc41"
            ],
            [
             0.9,
             "#4d9221"
            ],
            [
             1,
             "#276419"
            ]
           ],
           "sequential": [
            [
             0,
             "#0d0887"
            ],
            [
             0.1111111111111111,
             "#46039f"
            ],
            [
             0.2222222222222222,
             "#7201a8"
            ],
            [
             0.3333333333333333,
             "#9c179e"
            ],
            [
             0.4444444444444444,
             "#bd3786"
            ],
            [
             0.5555555555555556,
             "#d8576b"
            ],
            [
             0.6666666666666666,
             "#ed7953"
            ],
            [
             0.7777777777777778,
             "#fb9f3a"
            ],
            [
             0.8888888888888888,
             "#fdca26"
            ],
            [
             1,
             "#f0f921"
            ]
           ],
           "sequentialminus": [
            [
             0,
             "#0d0887"
            ],
            [
             0.1111111111111111,
             "#46039f"
            ],
            [
             0.2222222222222222,
             "#7201a8"
            ],
            [
             0.3333333333333333,
             "#9c179e"
            ],
            [
             0.4444444444444444,
             "#bd3786"
            ],
            [
             0.5555555555555556,
             "#d8576b"
            ],
            [
             0.6666666666666666,
             "#ed7953"
            ],
            [
             0.7777777777777778,
             "#fb9f3a"
            ],
            [
             0.8888888888888888,
             "#fdca26"
            ],
            [
             1,
             "#f0f921"
            ]
           ]
          },
          "colorway": [
           "#636efa",
           "#EF553B",
           "#00cc96",
           "#ab63fa",
           "#FFA15A",
           "#19d3f3",
           "#FF6692",
           "#B6E880",
           "#FF97FF",
           "#FECB52"
          ],
          "font": {
           "color": "#2a3f5f"
          },
          "geo": {
           "bgcolor": "white",
           "lakecolor": "white",
           "landcolor": "#E5ECF6",
           "showlakes": true,
           "showland": true,
           "subunitcolor": "white"
          },
          "hoverlabel": {
           "align": "left"
          },
          "hovermode": "closest",
          "mapbox": {
           "style": "light"
          },
          "paper_bgcolor": "white",
          "plot_bgcolor": "#E5ECF6",
          "polar": {
           "angularaxis": {
            "gridcolor": "white",
            "linecolor": "white",
            "ticks": ""
           },
           "bgcolor": "#E5ECF6",
           "radialaxis": {
            "gridcolor": "white",
            "linecolor": "white",
            "ticks": ""
           }
          },
          "scene": {
           "xaxis": {
            "backgroundcolor": "#E5ECF6",
            "gridcolor": "white",
            "gridwidth": 2,
            "linecolor": "white",
            "showbackground": true,
            "ticks": "",
            "zerolinecolor": "white"
           },
           "yaxis": {
            "backgroundcolor": "#E5ECF6",
            "gridcolor": "white",
            "gridwidth": 2,
            "linecolor": "white",
            "showbackground": true,
            "ticks": "",
            "zerolinecolor": "white"
           },
           "zaxis": {
            "backgroundcolor": "#E5ECF6",
            "gridcolor": "white",
            "gridwidth": 2,
            "linecolor": "white",
            "showbackground": true,
            "ticks": "",
            "zerolinecolor": "white"
           }
          },
          "shapedefaults": {
           "line": {
            "color": "#2a3f5f"
           }
          },
          "ternary": {
           "aaxis": {
            "gridcolor": "white",
            "linecolor": "white",
            "ticks": ""
           },
           "baxis": {
            "gridcolor": "white",
            "linecolor": "white",
            "ticks": ""
           },
           "bgcolor": "#E5ECF6",
           "caxis": {
            "gridcolor": "white",
            "linecolor": "white",
            "ticks": ""
           }
          },
          "title": {
           "x": 0.05
          },
          "xaxis": {
           "automargin": true,
           "gridcolor": "white",
           "linecolor": "white",
           "ticks": "",
           "title": {
            "standoff": 15
           },
           "zerolinecolor": "white",
           "zerolinewidth": 2
          },
          "yaxis": {
           "automargin": true,
           "gridcolor": "white",
           "linecolor": "white",
           "ticks": "",
           "title": {
            "standoff": 15
           },
           "zerolinecolor": "white",
           "zerolinewidth": 2
          }
         }
        },
        "width": 950,
        "xaxis": {
         "showgrid": false,
         "visible": false,
         "zeroline": false
        },
        "yaxis": {
         "showgrid": false,
         "visible": false,
         "zeroline": false
        }
       }
      },
      "image/png": "[encoded data removed]"
     },
     "metadata": {},
     "output_type": "display_data"
    }
   ],
   "source": [
    "\n",
    "Topology.Show(building, renderer='jupyterlab', showVertices=False)"
   ]
  },
  {
   "cell_type": "code",
   "execution_count": 4,
   "id": "0b7dad79-31dd-43ca-9ebe-b2937fb4429c",
   "metadata": {},
   "outputs": [
    {
     "data": {
      "text/plain": [
       "<topologic.CellComplex at 0x7fb144515df0>"
      ]
     },
     "execution_count": 4,
     "metadata": {},
     "output_type": "execute_result"
    }
   ],
   "source": [
    "room1 = Cell.Prism(width=20, length=10, height=6, placement=\"bottom\")\n",
    "room2 = Cell.Prism(width=20, length=10, height=6, placement=\"top\")\n",
    "CellComplex().Box()"
   ]
  },
  {
   "cell_type": "code",
   "execution_count": 5,
   "id": "7b472571-aecf-43a7-8240-7a954f10d47b",
   "metadata": {},
   "outputs": [
    {
     "data": {
      "application/vnd.plotly.v1+json": {
       "config": {
        "plotlyServerURL": "https://plot.ly"
       },
       "data": [
        {
         "hoverinfo": "text",
         "legendgroup": "2",
         "legendrank": 2,
         "line": {
          "color": "black",
          "width": 1
         },
         "marker": {
          "size": 0
         },
         "mode": "lines",
         "name": "Topology Edges",
         "showlegend": false,
         "text": "",
         "type": "scatter3d",
         "x": [
          -0.5,
          -0.5,
          null,
          -0.5,
          0,
          null,
          0,
          0,
          null,
          0,
          -0.5,
          null,
          -0.5,
          -0.5,
          null,
          -0.5,
          -0.5,
          null,
          -0.5,
          -0.5,
          null,
          -0.5,
          0,
          null,
          0,
          0,
          null,
          0,
          0,
          null,
          0,
          0,
          null,
          0,
          -0.5,
          null,
          -0.5,
          -0.5,
          null,
          -0.5,
          0,
          null,
          0,
          0,
          null,
          -0.5,
          -0.5,
          null,
          -0.5,
          -0.5,
          null,
          0,
          0,
          null,
          -0.5,
          0,
          null,
          0,
          0,
          null,
          0,
          0.5,
          null,
          0.5,
          0.5,
          null,
          0.5,
          0,
          null,
          0,
          0.5,
          null,
          0.5,
          0.5,
          null,
          0.5,
          0.5,
          null,
          0.5,
          0.5,
          null,
          0.5,
          0,
          null,
          -0.5,
          -0.5,
          null,
          -0.5,
          -0.5,
          null,
          -0.5,
          -0.5,
          null,
          -0.5,
          0,
          null,
          0,
          0,
          null,
          0,
          0,
          null,
          -0.5,
          0,
          null,
          0,
          0,
          null,
          0,
          0.5,
          null,
          0.5,
          0.5,
          null,
          0.5,
          0.5,
          null,
          0,
          0.5,
          null,
          0.5,
          0.5,
          null,
          -0.5,
          -0.5,
          null,
          0,
          -0.5,
          null,
          0,
          0,
          null,
          -0.5,
          -0.5,
          null,
          0,
          0,
          null,
          0.5,
          0,
          null,
          0.5,
          0.5,
          null,
          0.5,
          0,
          null,
          0.5,
          0.5,
          null,
          0.5,
          0.5,
          null,
          0.5,
          0,
          null,
          0.5,
          0.5,
          null,
          0.5,
          0.5,
          null
         ],
         "y": [
          -0.5,
          0,
          null,
          0,
          0,
          null,
          0,
          -0.5,
          null,
          -0.5,
          -0.5,
          null,
          0,
          0,
          null,
          -0.5,
          0,
          null,
          -0.5,
          -0.5,
          null,
          0,
          0,
          null,
          0,
          0,
          null,
          0,
          -0.5,
          null,
          -0.5,
          -0.5,
          null,
          -0.5,
          -0.5,
          null,
          0,
          0.5,
          null,
          0.5,
          0.5,
          null,
          0.5,
          0,
          null,
          0.5,
          0.5,
          null,
          0,
          0.5,
          null,
          0.5,
          0.5,
          null,
          0.5,
          0.5,
          null,
          0.5,
          0,
          null,
          0,
          0,
          null,
          0,
          -0.5,
          null,
          -0.5,
          -0.5,
          null,
          0,
          0,
          null,
          0,
          0,
          null,
          -0.5,
          -0.5,
          null,
          0,
          -0.5,
          null,
          -0.5,
          -0.5,
          null,
          0,
          0,
          null,
          -0.5,
          0,
          null,
          -0.5,
          -0.5,
          null,
          0,
          0,
          null,
          0,
          0,
          null,
          -0.5,
          0,
          null,
          -0.5,
          -0.5,
          null,
          -0.5,
          -0.5,
          null,
          0.5,
          0.5,
          null,
          0.5,
          0,
          null,
          0.5,
          0.5,
          null,
          0.5,
          0.5,
          null,
          0.5,
          0,
          null,
          0.5,
          0,
          null,
          0.5,
          0.5,
          null,
          0,
          0.5,
          null,
          0.5,
          0.5,
          null,
          0.5,
          0.5,
          null,
          -0.5,
          -0.5,
          null,
          -0.5,
          -0.5,
          null,
          0,
          0,
          null,
          -0.5,
          0,
          null,
          0,
          0,
          null,
          0.5,
          0.5,
          null,
          0,
          0.5,
          null,
          0.5,
          0.5,
          null
         ],
         "z": [
          -0.5,
          -0.5,
          null,
          -0.5,
          -0.5,
          null,
          -0.5,
          -0.5,
          null,
          -0.5,
          -0.5,
          null,
          0,
          -0.5,
          null,
          0,
          0,
          null,
          -0.5,
          0,
          null,
          0,
          0,
          null,
          0,
          -0.5,
          null,
          0,
          0,
          null,
          0,
          -0.5,
          null,
          0,
          0,
          null,
          -0.5,
          -0.5,
          null,
          -0.5,
          -0.5,
          null,
          -0.5,
          -0.5,
          null,
          0,
          -0.5,
          null,
          0,
          0,
          null,
          0,
          -0.5,
          null,
          0,
          0,
          null,
          0,
          0,
          null,
          -0.5,
          -0.5,
          null,
          -0.5,
          -0.5,
          null,
          -0.5,
          -0.5,
          null,
          0,
          0,
          null,
          0,
          -0.5,
          null,
          0,
          -0.5,
          null,
          0,
          0,
          null,
          0,
          0,
          null,
          0.5,
          0,
          null,
          0.5,
          0.5,
          null,
          0,
          0.5,
          null,
          0.5,
          0.5,
          null,
          0.5,
          0,
          null,
          0.5,
          0.5,
          null,
          0.5,
          0.5,
          null,
          0,
          0.5,
          null,
          -0.5,
          -0.5,
          null,
          -0.5,
          -0.5,
          null,
          0,
          -0.5,
          null,
          0,
          0,
          null,
          0,
          0,
          null,
          0.5,
          0.5,
          null,
          0.5,
          0.5,
          null,
          0.5,
          0.5,
          null,
          0.5,
          0,
          null,
          0,
          0.5,
          null,
          0.5,
          0.5,
          null,
          0,
          0.5,
          null,
          0.5,
          0.5,
          null,
          0.5,
          0.5,
          null,
          0.5,
          0,
          null,
          0.5,
          0.5,
          null,
          0.5,
          0.5,
          null,
          0.5,
          0,
          null
         ]
        },
        {
         "cmax": 1,
         "cmin": 0,
         "color": "#FAFAFA",
         "colorscale": [
          [
           0,
           "#440154"
          ],
          [
           0.1111111111111111,
           "#482878"
          ],
          [
           0.2222222222222222,
           "#3e4989"
          ],
          [
           0.3333333333333333,
           "#31688e"
          ],
          [
           0.4444444444444444,
           "#26828e"
          ],
          [
           0.5555555555555556,
           "#1f9e89"
          ],
          [
           0.6666666666666666,
           "#35b779"
          ],
          [
           0.7777777777777778,
           "#6ece58"
          ],
          [
           0.8888888888888888,
           "#b5de2b"
          ],
          [
           1,
           "#fde725"
          ]
         ],
         "flatshading": true,
         "hoverinfo": "text",
         "hovertext": "",
         "i": [
          0,
          3,
          0,
          0,
          1,
          1,
          2,
          2,
          3,
          3,
          6,
          6,
          1,
          2,
          1,
          1,
          8,
          8,
          9,
          9,
          11,
          11,
          12,
          3,
          2,
          2,
          13,
          13,
          12,
          12,
          14,
          14,
          5,
          5,
          4,
          4,
          18,
          18,
          7,
          7,
          6,
          6,
          13,
          2,
          9,
          9,
          20,
          20,
          21,
          21,
          22,
          22,
          4,
          4,
          11,
          11,
          10,
          10,
          15,
          15,
          25,
          25,
          6,
          6,
          14,
          14,
          26,
          26,
          11,
          11,
          21,
          21
         ],
         "j": [
          1,
          0,
          4,
          5,
          4,
          6,
          6,
          7,
          7,
          5,
          4,
          5,
          8,
          1,
          4,
          10,
          11,
          10,
          11,
          6,
          4,
          10,
          3,
          2,
          6,
          14,
          14,
          15,
          15,
          7,
          6,
          7,
          16,
          17,
          18,
          16,
          16,
          17,
          19,
          17,
          18,
          19,
          2,
          9,
          11,
          21,
          21,
          14,
          11,
          6,
          23,
          16,
          16,
          23,
          18,
          22,
          22,
          23,
          24,
          19,
          19,
          18,
          18,
          25,
          25,
          24,
          18,
          22,
          22,
          26,
          26,
          25
         ],
         "k": [
          2,
          2,
          1,
          4,
          6,
          2,
          7,
          3,
          5,
          0,
          5,
          7,
          9,
          9,
          10,
          8,
          9,
          11,
          6,
          2,
          6,
          4,
          13,
          13,
          14,
          13,
          15,
          12,
          7,
          3,
          7,
          15,
          4,
          16,
          6,
          18,
          17,
          19,
          17,
          5,
          19,
          7,
          20,
          20,
          21,
          20,
          14,
          13,
          6,
          14,
          16,
          18,
          23,
          10,
          6,
          18,
          11,
          22,
          19,
          7,
          24,
          19,
          25,
          14,
          24,
          15,
          25,
          18,
          26,
          21,
          25,
          14
         ],
         "legendgroup": "3",
         "legendrank": 3,
         "lighting": {
          "facenormalsepsilon": 0
         },
         "name": "Topology Faces",
         "opacity": 0.5,
         "showlegend": false,
         "showscale": false,
         "text": "",
         "type": "mesh3d",
         "x": [
          -0.5,
          -0.5,
          0,
          0,
          -0.5,
          -0.5,
          0,
          0,
          -0.5,
          0,
          -0.5,
          0,
          0.5,
          0.5,
          0.5,
          0.5,
          -0.5,
          -0.5,
          0,
          0,
          0.5,
          0.5,
          0,
          -0.5,
          0.5,
          0.5,
          0.5
         ],
         "y": [
          -0.5,
          0,
          0,
          -0.5,
          0,
          -0.5,
          0,
          -0.5,
          0.5,
          0.5,
          0.5,
          0.5,
          -0.5,
          0,
          0,
          -0.5,
          0,
          -0.5,
          0,
          -0.5,
          0.5,
          0.5,
          0.5,
          0.5,
          -0.5,
          0,
          0.5
         ],
         "z": [
          -0.5,
          -0.5,
          -0.5,
          -0.5,
          0,
          0,
          0,
          0,
          -0.5,
          -0.5,
          0,
          0,
          -0.5,
          -0.5,
          0,
          0,
          0.5,
          0.5,
          0.5,
          0.5,
          -0.5,
          0,
          0.5,
          0.5,
          0.5,
          0.5,
          0.5
         ]
        }
       ],
       "layout": {
        "height": 500,
        "margin": {
         "b": 0,
         "l": 0,
         "r": 0,
         "t": 20
        },
        "paper_bgcolor": "rgba(0, 0, 0, 0)",
        "plot_bgcolor": "rgba(0, 0, 0, 0)",
        "scene": {
         "aspectmode": "data",
         "aspectratio": {
          "x": 1,
          "y": 1,
          "z": 1
         },
         "camera": {
          "center": {
           "x": 0,
           "y": 0,
           "z": 0
          },
          "eye": {
           "x": -0.7918367818648523,
           "y": -0.7918367818648521,
           "z": 0.7918367818648521
          },
          "projection": {
           "type": "perspective"
          },
          "up": {
           "x": 0,
           "y": 0,
           "z": 1
          }
         },
         "xaxis": {
          "type": "linear",
          "visible": false
         },
         "yaxis": {
          "type": "linear",
          "visible": false
         },
         "zaxis": {
          "type": "linear",
          "visible": false
         }
        },
        "showlegend": true,
        "template": {
         "data": {
          "bar": [
           {
            "error_x": {
             "color": "#2a3f5f"
            },
            "error_y": {
             "color": "#2a3f5f"
            },
            "marker": {
             "line": {
              "color": "#E5ECF6",
              "width": 0.5
             },
             "pattern": {
              "fillmode": "overlay",
              "size": 10,
              "solidity": 0.2
             }
            },
            "type": "bar"
           }
          ],
          "barpolar": [
           {
            "marker": {
             "line": {
              "color": "#E5ECF6",
              "width": 0.5
             },
             "pattern": {
              "fillmode": "overlay",
              "size": 10,
              "solidity": 0.2
             }
            },
            "type": "barpolar"
           }
          ],
          "carpet": [
           {
            "aaxis": {
             "endlinecolor": "#2a3f5f",
             "gridcolor": "white",
             "linecolor": "white",
             "minorgridcolor": "white",
             "startlinecolor": "#2a3f5f"
            },
            "baxis": {
             "endlinecolor": "#2a3f5f",
             "gridcolor": "white",
             "linecolor": "white",
             "minorgridcolor": "white",
             "startlinecolor": "#2a3f5f"
            },
            "type": "carpet"
           }
          ],
          "choropleth": [
           {
            "colorbar": {
             "outlinewidth": 0,
             "ticks": ""
            },
            "type": "choropleth"
           }
          ],
          "contour": [
           {
            "colorbar": {
             "outlinewidth": 0,
             "ticks": ""
            },
            "colorscale": [
             [
              0,
              "#0d0887"
             ],
             [
              0.1111111111111111,
              "#46039f"
             ],
             [
              0.2222222222222222,
              "#7201a8"
             ],
             [
              0.3333333333333333,
              "#9c179e"
             ],
             [
              0.4444444444444444,
              "#bd3786"
             ],
             [
              0.5555555555555556,
              "#d8576b"
             ],
             [
              0.6666666666666666,
              "#ed7953"
             ],
             [
              0.7777777777777778,
              "#fb9f3a"
             ],
             [
              0.8888888888888888,
              "#fdca26"
             ],
             [
              1,
              "#f0f921"
             ]
            ],
            "type": "contour"
           }
          ],
          "contourcarpet": [
           {
            "colorbar": {
             "outlinewidth": 0,
             "ticks": ""
            },
            "type": "contourcarpet"
           }
          ],
          "heatmap": [
           {
            "colorbar": {
             "outlinewidth": 0,
             "ticks": ""
            },
            "colorscale": [
             [
              0,
              "#0d0887"
             ],
             [
              0.1111111111111111,
              "#46039f"
             ],
             [
              0.2222222222222222,
              "#7201a8"
             ],
             [
              0.3333333333333333,
              "#9c179e"
             ],
             [
              0.4444444444444444,
              "#bd3786"
             ],
             [
              0.5555555555555556,
              "#d8576b"
             ],
             [
              0.6666666666666666,
              "#ed7953"
             ],
             [
              0.7777777777777778,
              "#fb9f3a"
             ],
             [
              0.8888888888888888,
              "#fdca26"
             ],
             [
              1,
              "#f0f921"
             ]
            ],
            "type": "heatmap"
           }
          ],
          "heatmapgl": [
           {
            "colorbar": {
             "outlinewidth": 0,
             "ticks": ""
            },
            "colorscale": [
             [
              0,
              "#0d0887"
             ],
             [
              0.1111111111111111,
              "#46039f"
             ],
             [
              0.2222222222222222,
              "#7201a8"
             ],
             [
              0.3333333333333333,
              "#9c179e"
             ],
             [
              0.4444444444444444,
              "#bd3786"
             ],
             [
              0.5555555555555556,
              "#d8576b"
             ],
             [
              0.6666666666666666,
              "#ed7953"
             ],
             [
              0.7777777777777778,
              "#fb9f3a"
             ],
             [
              0.8888888888888888,
              "#fdca26"
             ],
             [
              1,
              "#f0f921"
             ]
            ],
            "type": "heatmapgl"
           }
          ],
          "histogram": [
           {
            "marker": {
             "pattern": {
              "fillmode": "overlay",
              "size": 10,
              "solidity": 0.2
             }
            },
            "type": "histogram"
           }
          ],
          "histogram2d": [
           {
            "colorbar": {
             "outlinewidth": 0,
             "ticks": ""
            },
            "colorscale": [
             [
              0,
              "#0d0887"
             ],
             [
              0.1111111111111111,
              "#46039f"
             ],
             [
              0.2222222222222222,
              "#7201a8"
             ],
             [
              0.3333333333333333,
              "#9c179e"
             ],
             [
              0.4444444444444444,
              "#bd3786"
             ],
             [
              0.5555555555555556,
              "#d8576b"
             ],
             [
              0.6666666666666666,
              "#ed7953"
             ],
             [
              0.7777777777777778,
              "#fb9f3a"
             ],
             [
              0.8888888888888888,
              "#fdca26"
             ],
             [
              1,
              "#f0f921"
             ]
            ],
            "type": "histogram2d"
           }
          ],
          "histogram2dcontour": [
           {
            "colorbar": {
             "outlinewidth": 0,
             "ticks": ""
            },
            "colorscale": [
             [
              0,
              "#0d0887"
             ],
             [
              0.1111111111111111,
              "#46039f"
             ],
             [
              0.2222222222222222,
              "#7201a8"
             ],
             [
              0.3333333333333333,
              "#9c179e"
             ],
             [
              0.4444444444444444,
              "#bd3786"
             ],
             [
              0.5555555555555556,
              "#d8576b"
             ],
             [
              0.6666666666666666,
              "#ed7953"
             ],
             [
              0.7777777777777778,
              "#fb9f3a"
             ],
             [
              0.8888888888888888,
              "#fdca26"
             ],
             [
              1,
              "#f0f921"
             ]
            ],
            "type": "histogram2dcontour"
           }
          ],
          "mesh3d": [
           {
            "colorbar": {
             "outlinewidth": 0,
             "ticks": ""
            },
            "type": "mesh3d"
           }
          ],
          "parcoords": [
           {
            "line": {
             "colorbar": {
              "outlinewidth": 0,
              "ticks": ""
             }
            },
            "type": "parcoords"
           }
          ],
          "pie": [
           {
            "automargin": true,
            "type": "pie"
           }
          ],
          "scatter": [
           {
            "fillpattern": {
             "fillmode": "overlay",
             "size": 10,
             "solidity": 0.2
            },
            "type": "scatter"
           }
          ],
          "scatter3d": [
           {
            "line": {
             "colorbar": {
              "outlinewidth": 0,
              "ticks": ""
             }
            },
            "marker": {
             "colorbar": {
              "outlinewidth": 0,
              "ticks": ""
             }
            },
            "type": "scatter3d"
           }
          ],
          "scattercarpet": [
           {
            "marker": {
             "colorbar": {
              "outlinewidth": 0,
              "ticks": ""
             }
            },
            "type": "scattercarpet"
           }
          ],
          "scattergeo": [
           {
            "marker": {
             "colorbar": {
              "outlinewidth": 0,
              "ticks": ""
             }
            },
            "type": "scattergeo"
           }
          ],
          "scattergl": [
           {
            "marker": {
             "colorbar": {
              "outlinewidth": 0,
              "ticks": ""
             }
            },
            "type": "scattergl"
           }
          ],
          "scattermapbox": [
           {
            "marker": {
             "colorbar": {
              "outlinewidth": 0,
              "ticks": ""
             }
            },
            "type": "scattermapbox"
           }
          ],
          "scatterpolar": [
           {
            "marker": {
             "colorbar": {
              "outlinewidth": 0,
              "ticks": ""
             }
            },
            "type": "scatterpolar"
           }
          ],
          "scatterpolargl": [
           {
            "marker": {
             "colorbar": {
              "outlinewidth": 0,
              "ticks": ""
             }
            },
            "type": "scatterpolargl"
           }
          ],
          "scatterternary": [
           {
            "marker": {
             "colorbar": {
              "outlinewidth": 0,
              "ticks": ""
             }
            },
            "type": "scatterternary"
           }
          ],
          "surface": [
           {
            "colorbar": {
             "outlinewidth": 0,
             "ticks": ""
            },
            "colorscale": [
             [
              0,
              "#0d0887"
             ],
             [
              0.1111111111111111,
              "#46039f"
             ],
             [
              0.2222222222222222,
              "#7201a8"
             ],
             [
              0.3333333333333333,
              "#9c179e"
             ],
             [
              0.4444444444444444,
              "#bd3786"
             ],
             [
              0.5555555555555556,
              "#d8576b"
             ],
             [
              0.6666666666666666,
              "#ed7953"
             ],
             [
              0.7777777777777778,
              "#fb9f3a"
             ],
             [
              0.8888888888888888,
              "#fdca26"
             ],
             [
              1,
              "#f0f921"
             ]
            ],
            "type": "surface"
           }
          ],
          "table": [
           {
            "cells": {
             "fill": {
              "color": "#EBF0F8"
             },
             "line": {
              "color": "white"
             }
            },
            "header": {
             "fill": {
              "color": "#C8D4E3"
             },
             "line": {
              "color": "white"
             }
            },
            "type": "table"
           }
          ]
         },
         "layout": {
          "annotationdefaults": {
           "arrowcolor": "#2a3f5f",
           "arrowhead": 0,
           "arrowwidth": 1
          },
          "autotypenumbers": "strict",
          "coloraxis": {
           "colorbar": {
            "outlinewidth": 0,
            "ticks": ""
           }
          },
          "colorscale": {
           "diverging": [
            [
             0,
             "#8e0152"
            ],
            [
             0.1,
             "#c51b7d"
            ],
            [
             0.2,
             "#de77ae"
            ],
            [
             0.3,
             "#f1b6da"
            ],
            [
             0.4,
             "#fde0ef"
            ],
            [
             0.5,
             "#f7f7f7"
            ],
            [
             0.6,
             "#e6f5d0"
            ],
            [
             0.7,
             "#b8e186"
            ],
            [
             0.8,
             "#7fbc41"
            ],
            [
             0.9,
             "#4d9221"
            ],
            [
             1,
             "#276419"
            ]
           ],
           "sequential": [
            [
             0,
             "#0d0887"
            ],
            [
             0.1111111111111111,
             "#46039f"
            ],
            [
             0.2222222222222222,
             "#7201a8"
            ],
            [
             0.3333333333333333,
             "#9c179e"
            ],
            [
             0.4444444444444444,
             "#bd3786"
            ],
            [
             0.5555555555555556,
             "#d8576b"
            ],
            [
             0.6666666666666666,
             "#ed7953"
            ],
            [
             0.7777777777777778,
             "#fb9f3a"
            ],
            [
             0.8888888888888888,
             "#fdca26"
            ],
            [
             1,
             "#f0f921"
            ]
           ],
           "sequentialminus": [
            [
             0,
             "#0d0887"
            ],
            [
             0.1111111111111111,
             "#46039f"
            ],
            [
             0.2222222222222222,
             "#7201a8"
            ],
            [
             0.3333333333333333,
             "#9c179e"
            ],
            [
             0.4444444444444444,
             "#bd3786"
            ],
            [
             0.5555555555555556,
             "#d8576b"
            ],
            [
             0.6666666666666666,
             "#ed7953"
            ],
            [
             0.7777777777777778,
             "#fb9f3a"
            ],
            [
             0.8888888888888888,
             "#fdca26"
            ],
            [
             1,
             "#f0f921"
            ]
           ]
          },
          "colorway": [
           "#636efa",
           "#EF553B",
           "#00cc96",
           "#ab63fa",
           "#FFA15A",
           "#19d3f3",
           "#FF6692",
           "#B6E880",
           "#FF97FF",
           "#FECB52"
          ],
          "font": {
           "color": "#2a3f5f"
          },
          "geo": {
           "bgcolor": "white",
           "lakecolor": "white",
           "landcolor": "#E5ECF6",
           "showlakes": true,
           "showland": true,
           "subunitcolor": "white"
          },
          "hoverlabel": {
           "align": "left"
          },
          "hovermode": "closest",
          "mapbox": {
           "style": "light"
          },
          "paper_bgcolor": "white",
          "plot_bgcolor": "#E5ECF6",
          "polar": {
           "angularaxis": {
            "gridcolor": "white",
            "linecolor": "white",
            "ticks": ""
           },
           "bgcolor": "#E5ECF6",
           "radialaxis": {
            "gridcolor": "white",
            "linecolor": "white",
            "ticks": ""
           }
          },
          "scene": {
           "xaxis": {
            "backgroundcolor": "#E5ECF6",
            "gridcolor": "white",
            "gridwidth": 2,
            "linecolor": "white",
            "showbackground": true,
            "ticks": "",
            "zerolinecolor": "white"
           },
           "yaxis": {
            "backgroundcolor": "#E5ECF6",
            "gridcolor": "white",
            "gridwidth": 2,
            "linecolor": "white",
            "showbackground": true,
            "ticks": "",
            "zerolinecolor": "white"
           },
           "zaxis": {
            "backgroundcolor": "#E5ECF6",
            "gridcolor": "white",
            "gridwidth": 2,
            "linecolor": "white",
            "showbackground": true,
            "ticks": "",
            "zerolinecolor": "white"
           }
          },
          "shapedefaults": {
           "line": {
            "color": "#2a3f5f"
           }
          },
          "ternary": {
           "aaxis": {
            "gridcolor": "white",
            "linecolor": "white",
            "ticks": ""
           },
           "baxis": {
            "gridcolor": "white",
            "linecolor": "white",
            "ticks": ""
           },
           "bgcolor": "#E5ECF6",
           "caxis": {
            "gridcolor": "white",
            "linecolor": "white",
            "ticks": ""
           }
          },
          "title": {
           "x": 0.05
          },
          "xaxis": {
           "automargin": true,
           "gridcolor": "white",
           "linecolor": "white",
           "ticks": "",
           "title": {
            "standoff": 15
           },
           "zerolinecolor": "white",
           "zerolinewidth": 2
          },
          "yaxis": {
           "automargin": true,
           "gridcolor": "white",
           "linecolor": "white",
           "ticks": "",
           "title": {
            "standoff": 15
           },
           "zerolinecolor": "white",
           "zerolinewidth": 2
          }
         }
        },
        "width": 950,
        "xaxis": {
         "showgrid": false,
         "visible": false,
         "zeroline": false
        },
        "yaxis": {
         "showgrid": false,
         "visible": false,
         "zeroline": false
        }
       }
      },
      "image/png": "[encoded data removed]"
     },
     "metadata": {},
     "output_type": "display_data"
    }
   ],
   "source": [
    "ap = Topology.Show(CellComplex().Box(), renderer='jupyterlab', showVertices=False)"
   ]
  },
  {
   "cell_type": "code",
   "execution_count": null,
   "id": "3097b10f-e666-474c-9b30-0d601457f62d",
   "metadata": {},
   "outputs": [],
   "source": [
    "# dgl_graph = DGL.GraphByTopologicGraph(ap, bidirectional=True, key=\"label\", categories=[0,1,2,3,4], node_attr_key='node_attr', tolerance=0.0001)\n",
    "# dataset = DGL.DatasetByGraphs({\"graphs\":[dgl_graph], \"labels\":[0]})"
   ]
  }
 ],
 "metadata": {
  "kernelspec": {
   "display_name": "Python 3 (ipykernel)",
   "language": "python",
   "name": "python3"
  },
  "language_info": {
   "codemirror_mode": {
    "name": "ipython",
    "version": 3
   },
   "file_extension": ".py",
   "mimetype": "text/x-python",
   "name": "python",
   "nbconvert_exporter": "python",
   "pygments_lexer": "ipython3",
   "version": "3.12.4"
  }
 },
 "nbformat": 4,
 "nbformat_minor": 5
}
