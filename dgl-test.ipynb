{
 "cells": [
  {
   "cell_type": "code",
   "execution_count": 11,
   "id": "999d413e-7177-4ab5-a81d-883993f9647b",
   "metadata": {},
   "outputs": [],
   "source": [
    "import sys\n",
    "sys.path.append(\"/home/brunoperdigao/repos/Plan-Classification-Topologic-DGL\")"
   ]
  },
  {
   "cell_type": "code",
   "execution_count": 12,
   "id": "c3936cc9-d0d7-456f-814e-04a29cd96e07",
   "metadata": {},
   "outputs": [],
   "source": [
    "# Import Libraries\n",
    "from topologicpy.DGL import DGL\n",
    "from topologicpy.Dictionary import Dictionary\n",
    "from topologicpy.Topology import Topology\n",
    "from topologicpy.Vertex import Vertex\n",
    "from topologicpy.Graph import Graph\n",
    "from topologicpy.Plotly import Plotly\n",
    "from dgl import save_graphs, load_graphs"
   ]
  },
  {
   "cell_type": "code",
   "execution_count": 15,
   "id": "192d64e0-827f-4047-9d9a-3d5a35d65624",
   "metadata": {},
   "outputs": [
    {
     "name": "stdout",
     "output_type": "stream",
     "text": [
      "Done saving data into cached files.\n",
      "Dataset(\"GraphDGL\", num_graphs=6, save_path=/home/brunoperdigao/.dgl/GraphDGL)\n"
     ]
    }
   ],
   "source": [
    "path = \"/home/brunoperdigao/repos/Plan-Classification-Topologic-DGL/data\"\n",
    "dataset = DGL.DatasetByCSVPath(path, numberOfGraphClasses=0,\n",
    "                           nodeATTRKey='feat', edgeATTRKey='feat',\n",
    "                           nodeOneHotEncode=False, nodeFeaturesCategories=[],\n",
    "                           edgeOneHotEncode=False, edgeFeaturesCategories=[], addSelfLoop=False)\n",
    "print(dataset)"
   ]
  },
  {
   "cell_type": "code",
   "execution_count": 16,
   "id": "bbb8c017-d098-44cc-81fe-5eabea460164",
   "metadata": {},
   "outputs": [
    {
     "ename": "AttributeError",
     "evalue": "'int' object has no attribute 'shape'",
     "output_type": "error",
     "traceback": [
      "\u001b[0;31m---------------------------------------------------------------------------\u001b[0m",
      "\u001b[0;31mAttributeError\u001b[0m                            Traceback (most recent call last)",
      "Cell \u001b[0;32mIn[16], line 1\u001b[0m\n\u001b[0;32m----> 1\u001b[0m dataset \u001b[38;5;241m=\u001b[39m \u001b[43mDGL\u001b[49m\u001b[38;5;241;43m.\u001b[39;49m\u001b[43mDatasetSplit\u001b[49m\u001b[43m(\u001b[49m\u001b[43mdataset\u001b[49m\u001b[43m,\u001b[49m\u001b[43m \u001b[49m\u001b[43msplit\u001b[49m\u001b[38;5;241;43m=\u001b[39;49m\u001b[43m[\u001b[49m\u001b[38;5;241;43m0.8\u001b[39;49m\u001b[43m,\u001b[49m\u001b[43m \u001b[49m\u001b[38;5;241;43m0.1\u001b[39;49m\u001b[43m,\u001b[49m\u001b[43m \u001b[49m\u001b[38;5;241;43m0.1\u001b[39;49m\u001b[43m]\u001b[49m\u001b[43m)\u001b[49m\n\u001b[1;32m      2\u001b[0m \u001b[38;5;28mprint\u001b[39m(dataset)\n",
      "File \u001b[0;32m~/venvs/topologicpy/lib/python3.11/site-packages/topologicpy/DGL.py:2354\u001b[0m, in \u001b[0;36mDGL.DatasetSplit\u001b[0;34m(dataset, split, shuffle, randomState, graphLabelHeader, nodeATTRKey, edgeATTRKey)\u001b[0m\n\u001b[1;32m   2352\u001b[0m     test_ds \u001b[38;5;241m=\u001b[39m DGL\u001b[38;5;241m.\u001b[39mDatasetByGraphs({\u001b[38;5;124m'\u001b[39m\u001b[38;5;124mgraphs\u001b[39m\u001b[38;5;124m'\u001b[39m: graph_sublists[\u001b[38;5;241m2\u001b[39m], \u001b[38;5;124m'\u001b[39m\u001b[38;5;124mlabels\u001b[39m\u001b[38;5;124m'\u001b[39m :labels_sublists[\u001b[38;5;241m2\u001b[39m]})\n\u001b[1;32m   2353\u001b[0m \u001b[38;5;66;03m# Print label shapes for debugging\u001b[39;00m\n\u001b[0;32m-> 2354\u001b[0m \u001b[38;5;28mprint\u001b[39m(\u001b[38;5;124m\"\u001b[39m\u001b[38;5;124mTrain Labels Shapes:\u001b[39m\u001b[38;5;124m\"\u001b[39m, \u001b[43m[\u001b[49m\u001b[43mlabels\u001b[49m\u001b[38;5;241;43m.\u001b[39;49m\u001b[43mshape\u001b[49m\u001b[43m \u001b[49m\u001b[38;5;28;43;01mfor\u001b[39;49;00m\u001b[43m \u001b[49m\u001b[43mlabels\u001b[49m\u001b[43m \u001b[49m\u001b[38;5;129;43;01min\u001b[39;49;00m\u001b[43m \u001b[49m\u001b[43mlabels_sublists\u001b[49m\u001b[43m[\u001b[49m\u001b[38;5;241;43m0\u001b[39;49m\u001b[43m]\u001b[49m\u001b[43m]\u001b[49m)\n\u001b[1;32m   2355\u001b[0m \u001b[38;5;28mprint\u001b[39m(\u001b[38;5;124m\"\u001b[39m\u001b[38;5;124mValidate Labels Shapes:\u001b[39m\u001b[38;5;124m\"\u001b[39m, [labels\u001b[38;5;241m.\u001b[39mshape \u001b[38;5;28;01mfor\u001b[39;00m labels \u001b[38;5;129;01min\u001b[39;00m labels_sublists[\u001b[38;5;241m1\u001b[39m]])\n\u001b[1;32m   2356\u001b[0m \u001b[38;5;28mprint\u001b[39m(\u001b[38;5;124m\"\u001b[39m\u001b[38;5;124mTest Labels Shapes:\u001b[39m\u001b[38;5;124m\"\u001b[39m, [labels\u001b[38;5;241m.\u001b[39mshape \u001b[38;5;28;01mfor\u001b[39;00m labels \u001b[38;5;129;01min\u001b[39;00m labels_sublists[\u001b[38;5;241m2\u001b[39m]])\n",
      "File \u001b[0;32m~/venvs/topologicpy/lib/python3.11/site-packages/topologicpy/DGL.py:2354\u001b[0m, in \u001b[0;36m<listcomp>\u001b[0;34m(.0)\u001b[0m\n\u001b[1;32m   2352\u001b[0m     test_ds \u001b[38;5;241m=\u001b[39m DGL\u001b[38;5;241m.\u001b[39mDatasetByGraphs({\u001b[38;5;124m'\u001b[39m\u001b[38;5;124mgraphs\u001b[39m\u001b[38;5;124m'\u001b[39m: graph_sublists[\u001b[38;5;241m2\u001b[39m], \u001b[38;5;124m'\u001b[39m\u001b[38;5;124mlabels\u001b[39m\u001b[38;5;124m'\u001b[39m :labels_sublists[\u001b[38;5;241m2\u001b[39m]})\n\u001b[1;32m   2353\u001b[0m \u001b[38;5;66;03m# Print label shapes for debugging\u001b[39;00m\n\u001b[0;32m-> 2354\u001b[0m \u001b[38;5;28mprint\u001b[39m(\u001b[38;5;124m\"\u001b[39m\u001b[38;5;124mTrain Labels Shapes:\u001b[39m\u001b[38;5;124m\"\u001b[39m, [\u001b[43mlabels\u001b[49m\u001b[38;5;241;43m.\u001b[39;49m\u001b[43mshape\u001b[49m \u001b[38;5;28;01mfor\u001b[39;00m labels \u001b[38;5;129;01min\u001b[39;00m labels_sublists[\u001b[38;5;241m0\u001b[39m]])\n\u001b[1;32m   2355\u001b[0m \u001b[38;5;28mprint\u001b[39m(\u001b[38;5;124m\"\u001b[39m\u001b[38;5;124mValidate Labels Shapes:\u001b[39m\u001b[38;5;124m\"\u001b[39m, [labels\u001b[38;5;241m.\u001b[39mshape \u001b[38;5;28;01mfor\u001b[39;00m labels \u001b[38;5;129;01min\u001b[39;00m labels_sublists[\u001b[38;5;241m1\u001b[39m]])\n\u001b[1;32m   2356\u001b[0m \u001b[38;5;28mprint\u001b[39m(\u001b[38;5;124m\"\u001b[39m\u001b[38;5;124mTest Labels Shapes:\u001b[39m\u001b[38;5;124m\"\u001b[39m, [labels\u001b[38;5;241m.\u001b[39mshape \u001b[38;5;28;01mfor\u001b[39;00m labels \u001b[38;5;129;01min\u001b[39;00m labels_sublists[\u001b[38;5;241m2\u001b[39m]])\n",
      "\u001b[0;31mAttributeError\u001b[0m: 'int' object has no attribute 'shape'"
     ]
    }
   ],
   "source": [
    "dataset = DGL.DatasetSplit(dataset, split=[0.8, 0.1, 0.1])\n",
    "print(dataset)"
   ]
  },
  {
   "cell_type": "code",
   "execution_count": 7,
   "id": "042108ba-5813-405a-80ff-7ee5b51e8fd9",
   "metadata": {},
   "outputs": [],
   "source": [
    "# Define the Hyper-parameters\n",
    "# Define the Hyper-parameters\n",
    "optimizer = DGL.Optimizer(lr=0.0001)\n",
    "hparams_class = DGL.Hyperparameters(optimizer=optimizer,\n",
    "                              model_type=\"Classifier\",\n",
    "                              cv_type=\"Holdout\",\n",
    "                              k_folds=5, #not used in Holdout\n",
    "                              split=[0.8,0.1,0.1], #ignored in K-Folds or if separate datasets are provided\n",
    "                              hl_widths=[32,32,32],\n",
    "                              conv_layer_type=\"SAGEConv\",\n",
    "                              epochs=4,\n",
    "                              pooling=\"MaxPooling\",\n",
    "                              loss_function=\"Cross Entropy\",\n",
    "                              batch_size=1\n",
    "                              )"
   ]
  },
  {
   "cell_type": "code",
   "execution_count": 8,
   "id": "60c39089-2525-400b-a6f1-3dc0bee4fa6e",
   "metadata": {},
   "outputs": [
    {
     "ename": "NameError",
     "evalue": "name 'train_dataset' is not defined",
     "output_type": "error",
     "traceback": [
      "\u001b[0;31m---------------------------------------------------------------------------\u001b[0m",
      "\u001b[0;31mNameError\u001b[0m                                 Traceback (most recent call last)",
      "Cell \u001b[0;32mIn[8], line 2\u001b[0m\n\u001b[1;32m      1\u001b[0m \u001b[38;5;66;03m# Train/Validate/Test your data\u001b[39;00m\n\u001b[0;32m----> 2\u001b[0m model \u001b[38;5;241m=\u001b[39m DGL\u001b[38;5;241m.\u001b[39mModel(hparams\u001b[38;5;241m=\u001b[39mhparams_class, trainingDataset\u001b[38;5;241m=\u001b[39m\u001b[43mtrain_dataset\u001b[49m, validationDataset\u001b[38;5;241m=\u001b[39m\u001b[38;5;28;01mNone\u001b[39;00m)\n\u001b[1;32m      3\u001b[0m model \u001b[38;5;241m=\u001b[39m DGL\u001b[38;5;241m.\u001b[39mModelTrain(model)\n",
      "\u001b[0;31mNameError\u001b[0m: name 'train_dataset' is not defined"
     ]
    }
   ],
   "source": [
    "# Train/Validate/Test your data\n",
    "model = DGL.Model(hparams=hparams_class, trainingDataset=train_dataset, validationDataset=None)\n",
    "model = DGL.ModelTrain(model)"
   ]
  },
  {
   "cell_type": "code",
   "execution_count": null,
   "id": "63608847-c419-4c1f-81b0-51763167d857",
   "metadata": {},
   "outputs": [],
   "source": []
  }
 ],
 "metadata": {
  "kernelspec": {
   "display_name": "Python 3 (ipykernel)",
   "language": "python",
   "name": "python3"
  },
  "language_info": {
   "codemirror_mode": {
    "name": "ipython",
    "version": 3
   },
   "file_extension": ".py",
   "mimetype": "text/x-python",
   "name": "python",
   "nbconvert_exporter": "python",
   "pygments_lexer": "ipython3",
   "version": "3.11.8"
  }
 },
 "nbformat": 4,
 "nbformat_minor": 5
}
