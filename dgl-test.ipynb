{
 "cells": [
  {
   "cell_type": "code",
   "execution_count": 1,
   "id": "999d413e-7177-4ab5-a81d-883993f9647b",
   "metadata": {},
   "outputs": [],
   "source": [
    "import sys\n",
    "sys.path.append(\"/home/brunoperdigao/repos/Plan-Classification-Topologic-DGL\")"
   ]
  },
  {
   "cell_type": "code",
   "execution_count": 2,
   "id": "c3936cc9-d0d7-456f-814e-04a29cd96e07",
   "metadata": {},
   "outputs": [
    {
     "name": "stderr",
     "output_type": "stream",
     "text": [
      "/home/bruno_perdigao/repos/Plan-Classification-Topologic-DGL/.venv/lib/python3.12/site-packages/torchdata/datapipes/__init__.py:18: UserWarning: \n",
      "################################################################################\n",
      "WARNING!\n",
      "The 'datapipes', 'dataloader2' modules are deprecated and will be removed in a\n",
      "future torchdata release! Please see https://github.com/pytorch/data/issues/1196\n",
      "to learn more and leave feedback.\n",
      "################################################################################\n",
      "\n",
      "  deprecation_warning()\n"
     ]
    }
   ],
   "source": [
    "# Import Libraries\n",
    "from topologicpy.DGL import DGL\n",
    "from topologicpy.Dictionary import Dictionary\n",
    "from topologicpy.Topology import Topology\n",
    "from topologicpy.Vertex import Vertex\n",
    "from topologicpy.Graph import Graph\n",
    "from topologicpy.Plotly import Plotly\n",
    "import dgl\n",
    "import torch\n",
    "import random\n",
    "from dgl import save_graphs, load_graphs"
   ]
  },
  {
   "cell_type": "code",
   "execution_count": 3,
   "id": "65fa906b-b606-4746-a023-6d93015a599a",
   "metadata": {},
   "outputs": [],
   "source": [
    "import dgl"
   ]
  },
  {
   "cell_type": "code",
   "execution_count": 6,
   "id": "22f6a4d1-d488-45ea-9ff6-19734d5a0982",
   "metadata": {},
   "outputs": [
    {
     "data": {
      "text/plain": [
       "'/home/bruno_perdigao/repos/Plan-Classification-Topologic-DGL'"
      ]
     },
     "execution_count": 6,
     "metadata": {},
     "output_type": "execute_result"
    }
   ],
   "source": [
    "pwd"
   ]
  },
  {
   "cell_type": "code",
   "execution_count": 9,
   "id": "192d64e0-827f-4047-9d9a-3d5a35d65624",
   "metadata": {},
   "outputs": [
    {
     "name": "stdout",
     "output_type": "stream",
     "text": [
      "Done saving data into cached files.\n",
      "Dataset(\"GraphDGL\", num_graphs=5, save_path=/home/bruno_perdigao/.dgl/GraphDGL)\n"
     ]
    }
   ],
   "source": [
    "path = \"./data\"\n",
    "dataset = DGL.DatasetByCSVPath(path, numberOfGraphClasses=0,\n",
    "                           nodeATTRKey='feat', edgeATTRKey='feat',\n",
    "                           nodeOneHotEncode=False, nodeFeaturesCategories=[],\n",
    "                           edgeOneHotEncode=False, edgeFeaturesCategories=[], addSelfLoop=False)\n",
    "print(dataset)"
   ]
  },
  {
   "cell_type": "code",
   "execution_count": 10,
   "id": "847cf7ab-8a98-4a2f-8424-c30b49643260",
   "metadata": {},
   "outputs": [],
   "source": [
    "train_data, val_data, test_data = dgl.data.utils.split_dataset(dataset, [0.7, 0.1, 0.2])"
   ]
  },
  {
   "cell_type": "code",
   "execution_count": 11,
   "id": "c17fc4c8-7fc2-4c26-bf00-80bf67916fff",
   "metadata": {},
   "outputs": [
    {
     "data": {
      "text/plain": [
       "Dataset(\"GraphDGL\", num_graphs=5, save_path=/home/bruno_perdigao/.dgl/GraphDGL)"
      ]
     },
     "execution_count": 11,
     "metadata": {},
     "output_type": "execute_result"
    }
   ],
   "source": [
    "train_data.dataset"
   ]
  },
  {
   "cell_type": "markdown",
   "id": "2a3d880f-9d40-41fe-94f6-fe48645343d2",
   "metadata": {},
   "source": [
    "---"
   ]
  },
  {
   "cell_type": "code",
   "execution_count": 12,
   "id": "a248d8dc-cb2b-4814-9f06-3b06742b8d10",
   "metadata": {},
   "outputs": [],
   "source": [
    "# Contruct a two-layer GNN model\n",
    "import dgl.nn as dglnn\n",
    "import torch.nn as nn\n",
    "import torch.nn.functional as F\n",
    "class SAGE(nn.Module):\n",
    "    def __init__(self, in_feats, hid_feats, out_feats):\n",
    "        super().__init__()\n",
    "        self.conv1 = dglnn.SAGEConv(\n",
    "            in_feats=in_feats, out_feats=hid_feats, aggregator_type='mean')\n",
    "        self.conv2 = dglnn.SAGEConv(\n",
    "            in_feats=hid_feats, out_feats=out_feats, aggregator_type='mean')\n",
    "\n",
    "    def forward(self, graph, inputs):\n",
    "        # inputs are features of nodes\n",
    "        h = self.conv1(graph, inputs)\n",
    "        h = F.relu(h)\n",
    "        h = self.conv2(graph, h)\n",
    "        return h"
   ]
  },
  {
   "cell_type": "code",
   "execution_count": 13,
   "id": "e24c9c9a-3b84-470b-b272-092837f8524b",
   "metadata": {},
   "outputs": [],
   "source": [
    "def evaluate(model, graph, features, labels, mask):\n",
    "    model.eval()\n",
    "    with torch.no_grad():\n",
    "        logits = model(graph, features)\n",
    "        logits = logits[mask]\n",
    "        labels = labels[mask]\n",
    "        _, indices = torch.max(logits, dim=1)\n",
    "        correct = torch.sum(indices == labels)\n",
    "        return correct.item() * 1.0 / len(labels)"
   ]
  },
  {
   "cell_type": "code",
   "execution_count": 14,
   "id": "b70000f9-3fb5-4eda-adec-9197707aebae",
   "metadata": {},
   "outputs": [],
   "source": [
    "# # print(len(dataset.graphs))\n",
    "# for i, graph in enumerate(dataset.graphs):\n",
    "#     # print(i)\n",
    "#     node_features = graph.ndata['feat']\n",
    "#     # print(node_features)\n",
    "#     node_labels = graph.ndata['label']\n",
    "#     # print(node_labels)\n",
    "#     train_mask = graph.ndata['train_mask']\n",
    "#     valid_mask = graph.ndata['val_mask']\n",
    "#     test_mask = graph.ndata['test_mask']\n",
    "#     n_features = node_features.shape[1]\n",
    "#     # print(n_features)\n",
    "#     n_labels = int(node_labels.max().item() + 1)\n",
    "#     # print(n_features)"
   ]
  },
  {
   "cell_type": "code",
   "execution_count": 15,
   "id": "945c6d45-03b9-421c-9168-21c30072b3c0",
   "metadata": {},
   "outputs": [
    {
     "name": "stdout",
     "output_type": "stream",
     "text": [
      "44.228824615478516\n",
      "50.97963333129883\n",
      "49.24543380737305\n",
      "39.38355255126953\n",
      "49.81715774536133\n",
      "32.593204498291016\n",
      "39.81265640258789\n",
      "39.666358947753906\n",
      "30.78075408935547\n",
      "41.43587112426758\n",
      "25.37822914123535\n",
      "32.75198745727539\n",
      "33.35314178466797\n",
      "25.2568302154541\n",
      "35.020511627197266\n",
      "20.193214416503906\n",
      "27.74497413635254\n",
      "28.59733772277832\n",
      "21.143543243408203\n",
      "29.63538360595703\n",
      "16.521961212158203\n",
      "23.626705169677734\n",
      "24.38750648498535\n",
      "18.018014907836914\n",
      "25.54187774658203\n",
      "14.184329986572266\n",
      "19.81690788269043\n",
      "20.1954402923584\n",
      "14.772269248962402\n",
      "21.095888137817383\n",
      "12.06137752532959\n",
      "16.4330997467041\n",
      "16.258766174316406\n",
      "12.102020263671875\n",
      "16.905454635620117\n",
      "9.994129180908203\n",
      "13.413629531860352\n",
      "13.031983375549316\n",
      "10.060772895812988\n",
      "13.20270824432373\n",
      "7.827132701873779\n",
      "10.378826141357422\n",
      "9.761575698852539\n",
      "8.270450592041016\n",
      "9.794621467590332\n",
      "5.8198747634887695\n",
      "7.79997444152832\n",
      "6.743044376373291\n",
      "6.6092939376831055\n",
      "7.004265308380127\n",
      "3.8502144813537598\n",
      "5.447595119476318\n",
      "3.7866101264953613\n",
      "5.470849990844727\n",
      "5.005245685577393\n",
      "3.036489963531494\n",
      "4.103584289550781\n",
      "2.2015671730041504\n",
      "4.935908794403076\n",
      "3.9308624267578125\n",
      "2.619816303253174\n",
      "3.3171873092651367\n",
      "1.5488693714141846\n",
      "3.9319489002227783\n",
      "2.6561334133148193\n",
      "2.0676541328430176\n",
      "2.8883721828460693\n",
      "1.336660385131836\n",
      "3.3318369388580322\n",
      "2.370983600616455\n",
      "1.651759386062622\n",
      "2.8095312118530273\n",
      "1.1659564971923828\n",
      "2.866372585296631\n",
      "2.0561819076538086\n",
      "1.4134812355041504\n",
      "2.741925001144409\n",
      "0.9653430581092834\n",
      "2.5062549114227295\n",
      "1.7441420555114746\n",
      "1.2804515361785889\n",
      "2.5428123474121094\n",
      "0.891717791557312\n",
      "2.2292230129241943\n",
      "1.5461052656173706\n",
      "1.2138186693191528\n",
      "2.286839008331299\n",
      "0.8011611104011536\n",
      "1.993031620979309\n",
      "1.3904948234558105\n",
      "1.1763880252838135\n",
      "2.036712408065796\n",
      "0.7072483897209167\n",
      "1.7615993022918701\n",
      "1.252137541770935\n",
      "1.1146928071975708\n",
      "1.86794912815094\n",
      "0.6664033532142639\n",
      "1.5036922693252563\n",
      "1.0825101137161255\n",
      "1.036476492881775\n",
      "1.7336734533309937\n",
      "0.6418265104293823\n",
      "1.2699040174484253\n",
      "0.9227468371391296\n",
      "0.9840774536132812\n",
      "1.5826048851013184\n",
      "0.6018080115318298\n",
      "1.085155963897705\n",
      "0.8025028705596924\n",
      "0.9461484551429749\n",
      "1.3954397439956665\n",
      "0.5604072213172913\n",
      "0.924024224281311\n",
      "0.7057827115058899\n",
      "0.9194220900535583\n",
      "1.20107901096344\n",
      "0.5361360907554626\n",
      "0.7823377251625061\n",
      "0.6223265528678894\n",
      "0.8966066241264343\n",
      "1.034555196762085\n",
      "0.5110581517219543\n",
      "0.6846763491630554\n",
      "0.5616656541824341\n",
      "0.8693122863769531\n",
      "0.9160122871398926\n",
      "0.46730852127075195\n",
      "0.623430073261261\n",
      "0.5209463834762573\n",
      "0.8433223366737366\n",
      "0.8571611642837524\n",
      "0.4185165762901306\n",
      "0.5775783658027649\n",
      "0.4927733838558197\n",
      "0.8078487515449524\n",
      "0.8386461734771729\n",
      "0.38292914628982544\n",
      "0.5383958220481873\n",
      "0.46892407536506653\n",
      "0.7730713486671448\n",
      "0.8252120018005371\n",
      "0.36142128705978394\n",
      "0.5035012364387512\n",
      "0.4462380111217499\n",
      "0.7408899068832397\n",
      "0.8029571771621704\n",
      "0.3449629247188568\n",
      "0.4766470193862915\n",
      "0.4291621744632721\n",
      "0.7086063027381897\n",
      "0.7794957160949707\n",
      "0.3306112587451935\n",
      "0.45323002338409424\n",
      "0.4165782928466797\n",
      "0.6715171337127686\n",
      "0.7607568502426147\n",
      "0.32001760601997375\n",
      "0.4322398006916046\n",
      "0.4045329988002777\n",
      "0.6393646001815796\n",
      "0.7391914129257202\n",
      "0.312896728515625\n",
      "0.4150269627571106\n",
      "0.3921337425708771\n",
      "0.6139165759086609\n",
      "0.7125320434570312\n",
      "0.3056080639362335\n",
      "0.39990317821502686\n",
      "0.3827434480190277\n",
      "0.5887621641159058\n",
      "0.6891507506370544\n",
      "0.29848432540893555\n",
      "0.3844755291938782\n",
      "0.37543797492980957\n",
      "0.5672132968902588\n",
      "0.6682267189025879\n",
      "0.2918280065059662\n",
      "0.37022656202316284\n",
      "0.3679673969745636\n",
      "0.5497410297393799\n",
      "0.6461371183395386\n",
      "0.2864112854003906\n",
      "0.3596363365650177\n",
      "0.3613283932209015\n",
      "0.5326797366142273\n",
      "0.625298798084259\n",
      "0.2821078300476074\n",
      "0.3479873538017273\n",
      "0.3553589880466461\n",
      "0.516591489315033\n",
      "0.605490505695343\n",
      "0.27789318561553955\n",
      "0.33738067746162415\n",
      "0.3490659296512604\n",
      "0.5041226148605347\n",
      "0.5888052582740784\n",
      "0.2750605344772339\n",
      "0.32806771993637085\n",
      "0.34262239933013916\n",
      "0.4936749339103699\n",
      "0.5701586604118347\n",
      "0.27247941493988037\n",
      "0.32018133997917175\n",
      "0.3370532989501953\n",
      "0.4828985035419464\n",
      "0.5529789924621582\n",
      "0.26958519220352173\n",
      "0.3119824230670929\n",
      "0.3330639898777008\n",
      "0.47098204493522644\n",
      "0.5374371409416199\n",
      "0.26690974831581116\n",
      "0.3041268587112427\n",
      "0.3289060890674591\n",
      "0.4602853059768677\n",
      "0.5211069583892822\n",
      "0.2645241320133209\n",
      "0.29688337445259094\n",
      "0.32465341687202454\n",
      "0.44989463686943054\n",
      "0.5049645900726318\n",
      "0.2625764310359955\n",
      "0.29047486186027527\n",
      "0.32083871960639954\n",
      "0.4391062557697296\n",
      "0.4906449317932129\n",
      "0.2604685127735138\n",
      "0.28395169973373413\n",
      "0.3171325623989105\n",
      "0.4290763735771179\n",
      "0.476376473903656\n",
      "0.2584715485572815\n",
      "0.278533399105072\n",
      "0.3128384053707123\n",
      "0.42042645812034607\n",
      "0.46085137128829956\n",
      "0.25695186853408813\n",
      "0.2729850709438324\n",
      "0.3088739216327667\n",
      "0.41136810183525085\n",
      "0.4495444893836975\n",
      "0.25532791018486023\n",
      "0.2673191726207733\n",
      "0.30536800622940063\n",
      "0.40390321612358093\n",
      "0.4355242848396301\n",
      "0.2542645335197449\n",
      "0.2630869150161743\n",
      "0.3018895387649536\n"
     ]
    }
   ],
   "source": [
    "n_features = 2\n",
    "model = SAGE(in_feats=n_features, hid_feats=100, out_feats=11)\n",
    "opt = torch.optim.Adam(model.parameters())\n",
    "\n",
    "for epoch in range(50):\n",
    "    for i, graph in enumerate(dataset.graphs):\n",
    "        node_features = graph.ndata['feat']\n",
    "        node_labels = graph.ndata['label']\n",
    "        train_mask = graph.ndata['train_mask']\n",
    "        valid_mask = graph.ndata['val_mask']\n",
    "        test_mask = graph.ndata['test_mask']\n",
    "        n_features = node_features.shape[1]\n",
    "        n_labels = int(node_labels.max().item() + 1)\n",
    "        \n",
    "        model.train()\n",
    "        # forward propagation by using all nodes\n",
    "        logits = model(graph, node_features)\n",
    "        # compute loss\n",
    "        loss = F.cross_entropy(logits[train_mask], node_labels[train_mask])\n",
    "        # compute validation accuracy\n",
    "        acc = evaluate(model, graph, node_features, node_labels, valid_mask)\n",
    "        # backward propagation\n",
    "        opt.zero_grad()\n",
    "        loss.backward()\n",
    "        opt.step()\n",
    "        print(loss.item())\n",
    "    \n",
    "        # Save model if necessary.  Omitted in this example."
   ]
  },
  {
   "cell_type": "code",
   "execution_count": 16,
   "id": "d06adfef-5c36-4059-9f0f-853bc235e032",
   "metadata": {},
   "outputs": [
    {
     "data": {
      "text/plain": [
       "{'alllabels': [[3, 4, 7, 4, 2, 3, 10, 1, 5, 8, 6, 0, 9, 4],\n",
       "  [4, 5, 4, 10, 2, 7, 1, 8, 3, 0, 9],\n",
       "  [0, 8, 9, 1, 4, 10, 2, 10, 7, 4, 5, 3],\n",
       "  [3, 0, 5, 8, 4, 4, 3, 2, 4, 9, 6, 10, 7, 1],\n",
       "  [8, 1, 9, 4, 3, 4, 0, 10, 3, 4, 6, 4, 2, 7, 5, 10]],\n",
       " 'allpredictions': [[4, 4, 7, 4, 2, 3, 10, 1, 5, 8, 6, 0, 9, 4],\n",
       "  [3, 5, 4, 10, 2, 7, 1, 8, 4, 0, 9],\n",
       "  [0, 8, 9, 1, 4, 10, 2, 10, 7, 3, 5, 4],\n",
       "  [3, 0, 5, 8, 4, 4, 3, 2, 4, 9, 6, 10, 7, 1],\n",
       "  [8, 1, 9, 4, 3, 4, 10, 10, 3, 4, 6, 4, 2, 7, 5, 10]],\n",
       " 'trainlabels': [[3, 4, 7, 4, 2, 3, 10, 1, 5, 8, 6],\n",
       "  [4, 5, 4, 10, 2, 7, 1, 8],\n",
       "  [0, 8, 9, 1, 4, 10, 2, 10, 7],\n",
       "  [3, 0, 5, 8, 4, 4, 3, 2, 4, 9, 6],\n",
       "  [8, 1, 9, 4, 3, 4, 0, 10, 3, 4, 6, 4]],\n",
       " 'trainpredictions': [[4, 4, 7, 4, 2, 3, 10, 1, 5, 8, 6],\n",
       "  [3, 5, 4, 10, 2, 7, 1, 8],\n",
       "  [0, 8, 9, 1, 4, 10, 2, 10, 7],\n",
       "  [3, 0, 5, 8, 4, 4, 3, 2, 4, 9, 6],\n",
       "  [8, 1, 9, 4, 3, 4, 10, 10, 3, 4, 6, 4]],\n",
       " 'validationlabels': [[0], [3], [4], [10], [2]],\n",
       " 'validationpredictions': [[0], [4], [3], [10], [2]],\n",
       " 'testlabels': [[9, 4], [0, 9], [5, 3], [7, 1], [7, 5, 10]],\n",
       " 'testpredictions': [[9, 4], [0, 9], [5, 4], [7, 1], [7, 5, 10]]}"
      ]
     },
     "execution_count": 16,
     "metadata": {},
     "output_type": "execute_result"
    }
   ],
   "source": [
    "DGL.ModelClassifyNodes(model, test_data.dataset)"
   ]
  },
  {
   "cell_type": "code",
   "execution_count": 17,
   "id": "644eaa22-0069-4873-99ad-5ec2523196ac",
   "metadata": {},
   "outputs": [
    {
     "name": "stdout",
     "output_type": "stream",
     "text": [
      "[3, 4, 7, 4, 2, 3, 10, 1, 5, 8, 6, 0, 9, 4, 4, 5, 4, 10, 2, 7, 1, 8, 3, 0, 9, 0, 8, 9, 1, 4, 10, 2, 10, 7, 4, 5, 3, 3, 0, 5, 8, 4, 4, 3, 2, 4, 9, 6, 10, 7, 1, 8, 1, 9, 4, 3, 4, 0, 10, 3, 4, 6, 4, 2, 7, 5, 10]\n",
      "[4, 4, 7, 4, 2, 3, 10, 1, 5, 8, 6, 0, 9, 4, 3, 5, 4, 10, 2, 7, 1, 8, 4, 0, 9, 0, 8, 9, 1, 4, 10, 2, 10, 7, 3, 5, 4, 3, 0, 5, 8, 4, 4, 3, 2, 4, 9, 6, 10, 7, 1, 8, 1, 9, 4, 3, 4, 10, 10, 3, 4, 6, 4, 2, 7, 5, 10]\n",
      "{'accuracy': 0.910448, 'correct': 61, 'mask': [False, True, True, True, True, True, True, True, True, True, True, True, True, True, False, True, True, True, True, True, True, True, False, True, True, True, True, True, True, True, True, True, True, True, False, True, False, True, True, True, True, True, True, True, True, True, True, True, True, True, True, True, True, True, True, True, True, False, True, True, True, True, True, True, True, True, True], 'size': 67, 'wrong': 6}\n",
      "Accuracy: 0.910448\n"
     ]
    }
   ],
   "source": [
    "dictionary = DGL.ModelClassifyNodes(model, test_data.dataset)\n",
    "# actual = dictionary['alllabels']\n",
    "actual = []\n",
    "for l in dictionary['alllabels']:\n",
    "    actual.extend(l)\n",
    "    \n",
    "print(actual)\n",
    "# predicted = dictionary['allpredictions']\n",
    "predicted = []\n",
    "for l in dictionary['allpredictions']:\n",
    "    predicted.extend(l)\n",
    "print(predicted)\n",
    "result = DGL.Accuracy(actual=actual, predicted=predicted)\n",
    "print(result)\n",
    "print(\"Accuracy:\", result['accuracy'])"
   ]
  },
  {
   "cell_type": "code",
   "execution_count": 18,
   "id": "fce08163-1c23-4e8a-bacf-71cc14212575",
   "metadata": {},
   "outputs": [
    {
     "name": "stdout",
     "output_type": "stream",
     "text": [
      "[[ 4  0  0  0  0  0  0  0  0  0  0]\n",
      " [ 0  5  0  0  0  0  0  0  0  0  0]\n",
      " [ 0  0  5  0  0  0  0  0  0  0  0]\n",
      " [ 0  0  0  5  2  0  0  0  0  0  0]\n",
      " [ 0  0  0  3 12  0  0  0  0  0  0]\n",
      " [ 0  0  0  0  0  5  0  0  0  0  0]\n",
      " [ 0  0  0  0  0  0  3  0  0  0  0]\n",
      " [ 0  0  0  0  0  0  0  5  0  0  0]\n",
      " [ 0  0  0  0  0  0  0  0  5  0  0]\n",
      " [ 0  0  0  0  0  0  0  0  0  5  0]\n",
      " [ 1  0  0  0  0  0  0  0  0  0  7]]\n"
     ]
    },
    {
     "data": {
      "text/html": [
       "<iframe\n",
       "    scrolling=\"no\"\n",
       "    width=\"970px\"\n",
       "    height=\"520\"\n",
       "    src=\"iframe_figures/figure_18.html\"\n",
       "    frameborder=\"0\"\n",
       "    allowfullscreen\n",
       "></iframe>\n"
      ]
     },
     "metadata": {},
     "output_type": "display_data"
    }
   ],
   "source": [
    "cf = DGL.ConfusionMatrix(actual = actual, predicted = predicted)\n",
    "print(cf)\n",
    "fig = Plotly.FigureByConfusionMatrix(cf)\n",
    "Plotly.Show(fig)"
   ]
  },
  {
   "cell_type": "code",
   "execution_count": null,
   "id": "81533b70-fb8c-429c-8f48-e9a3b7e7007a",
   "metadata": {},
   "outputs": [],
   "source": []
  }
 ],
 "metadata": {
  "kernelspec": {
   "display_name": "Python 3 (ipykernel)",
   "language": "python",
   "name": "python3"
  },
  "language_info": {
   "codemirror_mode": {
    "name": "ipython",
    "version": 3
   },
   "file_extension": ".py",
   "mimetype": "text/x-python",
   "name": "python",
   "nbconvert_exporter": "python",
   "pygments_lexer": "ipython3",
   "version": "3.12.4"
  }
 },
 "nbformat": 4,
 "nbformat_minor": 5
}
